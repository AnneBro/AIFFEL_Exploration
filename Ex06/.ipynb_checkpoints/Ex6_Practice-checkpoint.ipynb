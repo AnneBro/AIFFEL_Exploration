{
 "cells": [
  {
   "cell_type": "code",
   "execution_count": 2,
   "id": "ca590fd0",
   "metadata": {},
   "outputs": [
    {
     "name": "stdout",
     "output_type": "stream",
     "text": [
      "Source 문장 : <start>나는 밥을 먹었다.\n",
      "Target 문장 : 나는 밥을 먹었다.<end>\n"
     ]
    }
   ],
   "source": [
    "sentence = '나는 밥을 먹었다.'\n",
    "\n",
    "source_sentence = '<start>'+sentence\n",
    "target_sentence = sentence +'<end>'\n",
    "\n",
    "print('Source 문장 :', source_sentence)\n",
    "print('Target 문장 :', target_sentence)"
   ]
  },
  {
   "cell_type": "markdown",
   "id": "02acf984",
   "metadata": {},
   "source": [
    "<br>**n-1개의 단어 시퀀스(w1, w2, ..., w(n-1))이 주어졌을 때, n번째 단어 w(n)으로 무엇이 올지 예측하는 확률모델을 `언어모델(Language Model`이라고 부른다.**<br><br>\n",
    "\n",
    "> 어떤 텍스트도 언어모델의 학습데이터가 될 수 있다.<br>\n",
    "> n-1 번째까지의 단어 시퀀스가 x_train이 되고, n번째 단어가 y_train이 되는 데이터셋은 무궁무진하게 만들 수 있다.<br>\n",
    "\n",
    "<br>**`GPT-2`와 같은 문장 생성기도 언어 모델의 한 종류에 불과하다.<br>딥러닝 구조나 파라미터 사이즈, 학습데이터의 양 등이 특별할 뿐...**<br><br>"
   ]
  },
  {
   "cell_type": "markdown",
   "id": "91902fea",
   "metadata": {},
   "source": [
    "<br>\n",
    "\n",
    "### 실습 : 연극 대사를 학습해서 스스로 연극 대사 문장을 생성하는 언어모델 인공지능\n",
    "\n",
    "---\n",
    "<br>\n",
    "\n",
    "### (1) 데이터 다듬기"
   ]
  },
  {
   "cell_type": "markdown",
   "id": "e3e90141",
   "metadata": {},
   "source": [
    "<br>**✅ 데이터 다운로드**<br>"
   ]
  },
  {
   "cell_type": "code",
   "execution_count": 3,
   "id": "1e1b413a",
   "metadata": {},
   "outputs": [
    {
     "name": "stdout",
     "output_type": "stream",
     "text": [
      "['First Citizen:', 'Before we proceed any further, hear me speak.', '', 'All:', 'Speak, speak.', '', 'First Citizen:', 'You are all resolved rather to die than to famish?', '']\n"
     ]
    }
   ],
   "source": [
    "# 실습에 사용할 라이브러리를 불어오자\n",
    "\n",
    "import os, re \n",
    "import numpy as np\n",
    "import tensorflow as tf\n",
    "\n",
    "# 파일을 읽기모드로 열고\n",
    "# 라인 단위로 끊어서 list 형태로 읽어옵니다.\n",
    "file_path = os.getenv('HOME') + '/aiffel/lyricist/data/shakespeare.txt'\n",
    "with open(file_path, \"r\") as f:\n",
    "    raw_corpus = f.read().splitlines()\n",
    "\n",
    "# 앞에서부터 10라인만 화면에 출력해 볼까요?\n",
    "print(raw_corpus[:9])"
   ]
  },
  {
   "cell_type": "markdown",
   "id": "fa300421",
   "metadata": {},
   "source": [
    "<br>△ 완벽한 연극대본이지만 화자 이름이나, 공백 데이터는 필요없음 >> 1차 필터링<br><br>\n",
    "- 화자가 표기된 문장(0, 3, 6) / 공백인 문장(2, 5, 9)"
   ]
  },
  {
   "cell_type": "code",
   "execution_count": 4,
   "id": "2d438593",
   "metadata": {},
   "outputs": [
    {
     "name": "stdout",
     "output_type": "stream",
     "text": [
      "Before we proceed any further, hear me speak.\n",
      "Speak, speak.\n",
      "You are all resolved rather to die than to famish?\n"
     ]
    }
   ],
   "source": [
    "for idx, sentence in enumerate(raw_corpus):\n",
    "    if len(sentence) == 0: continue  # 길이가 0인 문장은 건너 뜁니다.\n",
    "    if sentence[-1] == ':': continue # 문장의 끝이 :인 문장은 건너뜁니다.\n",
    "    \n",
    "    if idx > 9: break # 일단 문장 10개만 확인해보자\n",
    "    \n",
    "    print(sentence)"
   ]
  },
  {
   "cell_type": "markdown",
   "id": "cd606112",
   "metadata": {},
   "source": [
    "<br>텍스트 생성모델에서도(텍스트분류모델처럼) 단어사전을 만들어야 함.<br>문장을 일정한 기준으로 쪼개야 하는데 이를 **`토큰화(Tokenize)`** 라고 함.<br><br>\n",
    "- 가장 심플한 방법인 띄어쓰기를 기준으로 토큰화 진행해보자<br>"
   ]
  },
  {
   "cell_type": "markdown",
   "id": "f0149af6",
   "metadata": {},
   "source": [
    "**<토근화 과정 중 발생하는 문제>**\n",
    "<br>정규 표현식(Regex)를 사용해서 필터링해보자\n",
    "\n",
    "<img src='https://user-images.githubusercontent.com/103712369/167988613-8eae6d89-b7a9-4c0b-b797-307c33b1d4ff.png' width='700' height='50'/>"
   ]
  },
  {
   "cell_type": "markdown",
   "id": "ba931ef8",
   "metadata": {},
   "source": [
    "<br>**입력된 문장을**<br>\n",
    "- 1) 소문자로 바꾸고, 양쪽 공백을 지운다.\n",
    "- 2) 특수문자 양쪽에 공백을 넣고\n",
    "- 3) 여러개의 공백은 하나의 공백으로 바꾼다\n",
    "- 4) a-zA-Z?.!,¿가 아닌 모든 문자를 하나의 공백으로 바꾼다.\n",
    "- 5) 다시 양쪽 공백을 지운다.\n",
    "- 6) 문장 시작에는 <strart>, 끝에는 <end>를 추가한다.<br><br>"
   ]
  },
  {
   "cell_type": "code",
   "execution_count": 11,
   "id": "96f465ec",
   "metadata": {},
   "outputs": [],
   "source": [
    "def preprocess_sentence(sentence):\n",
    "    sentence = sentence.lower().strip() # 1\n",
    "    sentence = re.sub(r\"([?.!,¿])\", r\" \\1 \", sentence) # 2\n",
    "    sentence = re.sub(r'[\" \"]+', ' ', sentence)  #3\n",
    "    sentence = re.sub(r\"[^a-zA-Z?.!,¿]+\", \" \", sentence) # 4\n",
    "    sentence = sentence.strip() # 5\n",
    "    sentence = '<start> ' + sentence + ' <end>'  #6\n",
    "    return sentence"
   ]
  },
  {
   "cell_type": "code",
   "execution_count": 12,
   "id": "dc4a53e7",
   "metadata": {},
   "outputs": [
    {
     "name": "stdout",
     "output_type": "stream",
     "text": [
      "<start> this is sample sentence . <end>\n"
     ]
    }
   ],
   "source": [
    "# 이 문장이 어떻게 필터링 되는지 확인해보자\n",
    "\n",
    "print(preprocess_sentence('This @_is ;;; sample     sentence.'))"
   ]
  },
  {
   "cell_type": "markdown",
   "id": "0d6d2158",
   "metadata": {},
   "source": [
    "<br>자연어처리 분야에서 모델의 입력이 되는 문장을 *`소스문장(Source Sentence)`*, <br>정답 역할을 하게 될 모델의 출력 문장을 *`타겟문장(Target Sentence)`*라고 관례적으로 부른다.<br> 각각 X_train, y_train에 해당한다고 볼 수 있다.<br><br>\n",
    "위에서 만든 정제 함수를 통해 만든 데이터셋에서 토큰화를 진행한 후 끝 단어 `<end>`를 없애면 소스문장,<br>첫 단어 `<start>`를 없애면 타겟 문장이 된다.<br><br>"
   ]
  },
  {
   "cell_type": "code",
   "execution_count": 13,
   "id": "cf1e0fbc",
   "metadata": {},
   "outputs": [
    {
     "data": {
      "text/plain": [
       "['<start> before we proceed any further , hear me speak . <end>',\n",
       " '<start> speak , speak . <end>',\n",
       " '<start> you are all resolved rather to die than to famish ? <end>',\n",
       " '<start> resolved . resolved . <end>',\n",
       " '<start> first , you know caius marcius is chief enemy to the people . <end>',\n",
       " '<start> we know t , we know t . <end>',\n",
       " '<start> let us kill him , and we ll have corn at our own price . <end>',\n",
       " '<start> is t a verdict ? <end>',\n",
       " '<start> no more talking on t let it be done away , away ! <end>',\n",
       " '<start> one word , good citizens . <end>']"
      ]
     },
     "execution_count": 13,
     "metadata": {},
     "output_type": "execute_result"
    }
   ],
   "source": [
    "# 여기에 정제된 문장을 모을겁니다\n",
    "corpus = []\n",
    "\n",
    "for sentence in raw_corpus:\n",
    "    # 우리가 원하지 않는 문장은 건너뜁니다\n",
    "    if len(sentence) == 0: continue\n",
    "    if sentence[-1] == \":\": continue\n",
    "    \n",
    "    # 정제를 하고 담아주세요\n",
    "    preprocessed_sentence = preprocess_sentence(sentence)\n",
    "    corpus.append(preprocessed_sentence)\n",
    "        \n",
    "# 정제된 결과를 10개만 확인해보죠\n",
    "corpus[:10]"
   ]
  },
  {
   "cell_type": "markdown",
   "id": "cd53aad3",
   "metadata": {},
   "source": [
    "<br>데이터는 이제 완전하게 준비가 되었다.<br>우리가 가르칠 언어(data)를 인공지능의 모국어인 숫자로 변환해보자<br><br>텐서플로우는 자연어 처리를 위한 여러가지 모듈을 제공하는데 `tf.keras.preprocessing.text.Tokenizer` 패키지는 <U>1) 정제된 데이터를 토큰화</U>하고,<br><U>2) 단어사전(vocabulary 또는 dictionary라고 칭함)을 만들</U>어주며, <U>3) 데이터를 숫자로 변환</U>까지 한방에 해준다.<br><br>이 과정을 **벡터화(vectorize)**라고 하며, 숫자로 변환된 데이터를 **텐서(tensor)**라고 칭한다.<br><br>"
   ]
  },
  {
   "cell_type": "code",
   "execution_count": 24,
   "id": "505d07b2",
   "metadata": {},
   "outputs": [],
   "source": [
    "# 토큰화 할 때 텐서플로우의 Tokenizer와 pad_sequences를 사용합니다\n",
    "# 더 잘 알기 위해 아래 문서들을 참고하면 좋습니다\n",
    "# https://www.tensorflow.org/api_docs/python/tf/keras/preprocessing/text/Tokenizer\n",
    "# https://www.tensorflow.org/api_docs/python/tf/keras/preprocessing/sequence/pad_sequences\n",
    "def tokenize(corpus):\n",
    "    # 7000단어를 기억할 수 있는 tokenizer를 만들겁니다\n",
    "    # 우리는 이미 문장을 정제했으니 filters가 필요없어요\n",
    "    # 7000단어에 포함되지 못한 단어는 '<unk>'로 바꿀거에요\n",
    "    tokenizer = tf.keras.preprocessing.text.Tokenizer(\n",
    "        num_words=7000, \n",
    "        filters=' ',\n",
    "        oov_token=\"<unk>\"\n",
    "    )\n",
    "    # corpus를 이용해 tokenizer 내부의 단어장을 완성합니다\n",
    "    tokenizer.fit_on_texts(corpus)\n",
    "    # 준비한 tokenizer를 이용해 corpus를 Tensor로 변환합니다\n",
    "    tensor = tokenizer.texts_to_sequences(corpus)   \n",
    "    # 입력 데이터의 시퀀스 길이를 일정하게 맞춰줍니다\n",
    "    # 만약 시퀀스가 짧다면 문장 뒤에 패딩을 붙여 길이를 맞춰줍니다.\n",
    "    # 문장 앞에 패딩을 붙여 길이를 맞추고 싶다면 padding='pre'를 사용합니다\n",
    "    tensor = tf.keras.preprocessing.sequence.pad_sequences(tensor, padding='post')  \n",
    "    \n",
    "    print(tensor,tokenizer)\n",
    "    return tensor, tokenizer"
   ]
  },
  {
   "cell_type": "code",
   "execution_count": 25,
   "id": "0c063ae0",
   "metadata": {},
   "outputs": [
    {
     "name": "stdout",
     "output_type": "stream",
     "text": [
      "[[   2  143   40 ...    0    0    0]\n",
      " [   2  110    4 ...    0    0    0]\n",
      " [   2   11   50 ...    0    0    0]\n",
      " ...\n",
      " [   2  149 4553 ...    0    0    0]\n",
      " [   2   34   71 ...    0    0    0]\n",
      " [   2  945   34 ...    0    0    0]] <keras_preprocessing.text.Tokenizer object at 0x7f663a888730>\n"
     ]
    }
   ],
   "source": [
    "tensor, tokenizer = tokenize(corpus)"
   ]
  },
  {
   "cell_type": "code",
   "execution_count": 38,
   "id": "e4a4ded7",
   "metadata": {},
   "outputs": [
    {
     "name": "stdout",
     "output_type": "stream",
     "text": [
      "[[   2  143   40  933  140  591    4  124   24  110]\n",
      " [   2  110    4  110    5    3    0    0    0    0]\n",
      " [   2   11   50   43 1201  316    9  201   74    9]]\n",
      "24015\n"
     ]
    }
   ],
   "source": [
    "# 생성된 텐서 데이터를 3번째 행, 10번째 열까지만 출력해 보자\n",
    "\n",
    "print(tensor[:3, :10])\n",
    "print(len(tensor))"
   ]
  },
  {
   "cell_type": "markdown",
   "id": "9f81500c",
   "metadata": {},
   "source": [
    "<br>텐서 데이터는 모두 정수로 이루어져 있으며 이 숫자는 tokenizer에 구축된 단어사전의 인덱스이다.<br><br>"
   ]
  },
  {
   "cell_type": "code",
   "execution_count": 30,
   "id": "e5c14f87",
   "metadata": {},
   "outputs": [
    {
     "name": "stdout",
     "output_type": "stream",
     "text": [
      "1 : <unk>\n",
      "2 : <start>\n",
      "3 : <end>\n",
      "4 : ,\n",
      "5 : .\n",
      "6 : the\n",
      "7 : and\n",
      "8 : i\n",
      "9 : to\n",
      "10 : of\n"
     ]
    }
   ],
   "source": [
    "# 단어사전이 어떻게 구축되어 있는지 살펴보면...\n",
    "\n",
    "for idx in tokenizer.index_word:\n",
    "    print(idx, ':', tokenizer.index_word[idx])\n",
    "    \n",
    "    if idx >= 10: break"
   ]
  },
  {
   "cell_type": "markdown",
   "id": "a9eef3f5",
   "metadata": {},
   "source": [
    "<br>이제 생성된 텐서를 소스와 타겟으로 분리하여 모델이 학습할 수 있도록 한다.<br><br>텐서 출력부에서 행 뒤쪽에 0이 많이 나온 부분은 정해진 입력 시쿼스 길이보다 문장이 짧을 경우 0으로 패딩(padding)을 채워 넣은 것이다.<br><br>사전에는 없지만 0은 바로 패딩 문자 `<pad>`가 된다."
   ]
  },
  {
   "cell_type": "code",
   "execution_count": 40,
   "id": "f6ff99a2",
   "metadata": {},
   "outputs": [
    {
     "name": "stdout",
     "output_type": "stream",
     "text": [
      "(24015, 20)\n",
      "(24015, 20)\n",
      "[  2 143  40 933 140 591   4 124  24 110   5   3   0   0   0   0   0   0\n",
      "   0   0]\n",
      "[143  40 933 140 591   4 124  24 110   5   3   0   0   0   0   0   0   0\n",
      "   0   0]\n"
     ]
    }
   ],
   "source": [
    "# tensor에서 마지막 토큰을 잘라내서 소스 문장을 생성합니다\n",
    "# 마지막 토큰은 <end>가 아니라 <pad>일 가능성이 높습니다.\n",
    "src_input = tensor[:, :-1]  \n",
    "# tensor에서 <start>를 잘라내서 타겟 문장을 생성합니다.\n",
    "tgt_input = tensor[:, 1:]    \n",
    "\n",
    "print(src_input.shape)\n",
    "print(tgt_input.shape)\n",
    "\n",
    "print(src_input[0])\n",
    "print(tgt_input[0])"
   ]
  },
  {
   "cell_type": "code",
   "execution_count": 41,
   "id": "05bba021",
   "metadata": {},
   "outputs": [
    {
     "data": {
      "text/plain": [
       "<BatchDataset shapes: ((256, 20), (256, 20)), types: (tf.int32, tf.int32)>"
      ]
     },
     "execution_count": 41,
     "metadata": {},
     "output_type": "execute_result"
    }
   ],
   "source": [
    "# 데이터셋 객체 생성\n",
    "\n",
    "BUFFER_SIZE = len(src_input)\n",
    "BATCH_SIZE = 256\n",
    "steps_per_epoch = len(src_input) // BATCH_SIZE\n",
    "\n",
    " # tokenizer가 구축한 단어사전 내 7000개와, 여기 포함되지 않은 0:<pad>를 포함하여 7001개\n",
    "VOCAB_SIZE = tokenizer.num_words + 1   \n",
    "\n",
    "# 준비한 데이터 소스로부터 데이터셋을 만듭니다\n",
    "# 데이터셋에 대해서는 아래 문서를 참고하세요\n",
    "# 자세히 알아둘수록 도움이 많이 되는 중요한 문서입니다\n",
    "# https://www.tensorflow.org/api_docs/python/tf/data/Dataset\n",
    "dataset = tf.data.Dataset.from_tensor_slices((src_input, tgt_input))\n",
    "dataset = dataset.shuffle(BUFFER_SIZE)\n",
    "dataset = dataset.batch(BATCH_SIZE, drop_remainder=True)\n",
    "dataset"
   ]
  },
  {
   "cell_type": "markdown",
   "id": "857ef8bc",
   "metadata": {},
   "source": [
    "### (2) 인공지능 학습시키기"
   ]
  },
  {
   "cell_type": "markdown",
   "id": "6cb8fd02",
   "metadata": {},
   "source": [
    "<img src = 'https://user-images.githubusercontent.com/103712369/168005994-ca087f67-4703-4b3e-b9b0-efc083c326da.png' width ='500' height='50'/>\n"
   ]
  },
  {
   "cell_type": "markdown",
   "id": "cc9ea619",
   "metadata": {},
   "source": [
    "<br>우리가 만들 모델은 tf.keras.Model을 Subclassing 하는 방식으로 만든다.<br>우리 모델에는 1개의 Embedding 레이어, 2개의 LSTM 레이어, 1개의 Dense 레이어로 구성됨."
   ]
  },
  {
   "cell_type": "code",
   "execution_count": 42,
   "id": "ae5499de",
   "metadata": {},
   "outputs": [],
   "source": [
    "class TextGenerator(tf.keras.Model):\n",
    "    def __init__(self, vocab_size, embedding_size, hidden_size):\n",
    "        super().__init__()\n",
    "        \n",
    "        self.embedding = tf.keras.layers.Embedding(vocab_size, embedding_size)\n",
    "        self.rnn_1 = tf.keras.layers.LSTM(hidden_size, return_sequences=True)\n",
    "        self.rnn_2 = tf.keras.layers.LSTM(hidden_size, return_sequences=True)\n",
    "        self.linear = tf.keras.layers.Dense(vocab_size)\n",
    "        \n",
    "    def call(self, x):\n",
    "        out = self.embedding(x)\n",
    "        out = self.rnn_1(out)\n",
    "        out = self.rnn_2(out)\n",
    "        out = self.linear(out)\n",
    "        \n",
    "        return out\n",
    "    \n",
    "embedding_size = 256\n",
    "hidden_size = 1024\n",
    "model = TextGenerator(tokenizer.num_words + 1, embedding_size , hidden_size)"
   ]
  },
  {
   "cell_type": "code",
   "execution_count": 44,
   "id": "7d4a0bcf",
   "metadata": {},
   "outputs": [
    {
     "data": {
      "text/plain": [
       "<tf.Tensor: shape=(256, 20, 7001), dtype=float32, numpy=\n",
       "array([[[-9.1461552e-05, -2.8963911e-04,  1.9415286e-04, ...,\n",
       "         -3.6786695e-04,  2.6139119e-04, -2.9142640e-05],\n",
       "        [-1.5974244e-04, -2.4801897e-04,  3.6559204e-04, ...,\n",
       "         -4.1302154e-04,  6.5954274e-04,  2.9286995e-04],\n",
       "        [-1.7933494e-04,  4.2589902e-05,  2.1466528e-04, ...,\n",
       "         -5.9320591e-04,  9.1745448e-04,  3.9299487e-04],\n",
       "        ...,\n",
       "        [-1.3407130e-03,  1.0068663e-03, -2.6017455e-03, ...,\n",
       "         -8.2127255e-04,  1.4184852e-03,  1.4667985e-03],\n",
       "        [-1.4264531e-03,  1.1428505e-03, -2.7681470e-03, ...,\n",
       "         -9.9744543e-04,  1.5649270e-03,  1.5220705e-03],\n",
       "        [-1.4896280e-03,  1.2627470e-03, -2.8791372e-03, ...,\n",
       "         -1.1631899e-03,  1.7196485e-03,  1.5478770e-03]],\n",
       "\n",
       "       [[-9.1461552e-05, -2.8963911e-04,  1.9415286e-04, ...,\n",
       "         -3.6786695e-04,  2.6139119e-04, -2.9142640e-05],\n",
       "        [-3.6211990e-04, -5.6057092e-04,  1.5100303e-04, ...,\n",
       "         -3.8480104e-04,  2.6944405e-04, -4.3990327e-05],\n",
       "        [-1.1719839e-04, -1.0265983e-03,  2.4130911e-04, ...,\n",
       "         -3.4215634e-06,  1.8909662e-04, -8.5759675e-05],\n",
       "        ...,\n",
       "        [-1.7111187e-03,  7.6838199e-04, -2.8492063e-03, ...,\n",
       "         -4.5192512e-04,  2.1564304e-03,  1.4565357e-03],\n",
       "        [-1.8395773e-03,  9.5475174e-04, -2.9898218e-03, ...,\n",
       "         -6.6905294e-04,  2.2589939e-03,  1.5317651e-03],\n",
       "        [-1.9179571e-03,  1.1110147e-03, -3.0810754e-03, ...,\n",
       "         -8.7801414e-04,  2.3478917e-03,  1.5753127e-03]],\n",
       "\n",
       "       [[-9.1461552e-05, -2.8963911e-04,  1.9415286e-04, ...,\n",
       "         -3.6786695e-04,  2.6139119e-04, -2.9142640e-05],\n",
       "        [-3.1025393e-04, -2.4406443e-04,  3.7599483e-04, ...,\n",
       "         -4.9595756e-04, -1.0417741e-05, -4.9223694e-05],\n",
       "        [-2.0889103e-04, -2.8693251e-04,  4.2375585e-04, ...,\n",
       "         -5.0587219e-04, -7.3490330e-05, -7.6001643e-06],\n",
       "        ...,\n",
       "        [-2.6199871e-03,  9.3668140e-04, -2.2918179e-03, ...,\n",
       "          5.8525469e-04,  1.4218346e-03,  8.8897190e-04],\n",
       "        [-2.6988776e-03,  1.0883943e-03, -2.5481284e-03, ...,\n",
       "          2.6394354e-04,  1.7170843e-03,  1.0870738e-03],\n",
       "        [-2.7163948e-03,  1.2289986e-03, -2.7463099e-03, ...,\n",
       "         -5.3740459e-05,  1.9736562e-03,  1.2260594e-03]],\n",
       "\n",
       "       ...,\n",
       "\n",
       "       [[-9.1461552e-05, -2.8963911e-04,  1.9415286e-04, ...,\n",
       "         -3.6786695e-04,  2.6139119e-04, -2.9142640e-05],\n",
       "        [-1.2538656e-04, -4.7329813e-04,  3.1725570e-04, ...,\n",
       "         -5.4843264e-04,  5.8226445e-04,  9.5407202e-05],\n",
       "        [-9.0770191e-05, -2.8609869e-04,  8.3441431e-05, ...,\n",
       "         -4.8670551e-04,  4.4195680e-04,  4.7647106e-04],\n",
       "        ...,\n",
       "        [-1.7641434e-03,  1.0669739e-03, -2.8426324e-03, ...,\n",
       "         -4.3658176e-04,  1.5087059e-03,  1.6277808e-03],\n",
       "        [-1.7913157e-03,  1.2270786e-03, -2.9641385e-03, ...,\n",
       "         -6.4280845e-04,  1.7103942e-03,  1.6253045e-03],\n",
       "        [-1.8013475e-03,  1.3532561e-03, -3.0320266e-03, ...,\n",
       "         -8.4182533e-04,  1.8995024e-03,  1.6095262e-03]],\n",
       "\n",
       "       [[-9.1461552e-05, -2.8963911e-04,  1.9415286e-04, ...,\n",
       "         -3.6786695e-04,  2.6139119e-04, -2.9142640e-05],\n",
       "        [-1.2238251e-04, -4.2348765e-04,  2.0762681e-04, ...,\n",
       "         -5.9929141e-04,  4.1311726e-04,  1.4372893e-04],\n",
       "        [-3.5202526e-04, -2.2834555e-04,  1.9706339e-04, ...,\n",
       "         -3.5321424e-04,  1.3224634e-04,  2.2562293e-04],\n",
       "        ...,\n",
       "        [-2.2478369e-03,  1.3224004e-03, -3.0655134e-03, ...,\n",
       "         -1.2075417e-03,  2.1217559e-03,  1.3874376e-03],\n",
       "        [-2.1852730e-03,  1.4075862e-03, -3.1045938e-03, ...,\n",
       "         -1.3649241e-03,  2.2531697e-03,  1.3794400e-03],\n",
       "        [-2.1150294e-03,  1.4699998e-03, -3.1184223e-03, ...,\n",
       "         -1.5041408e-03,  2.3755070e-03,  1.3706387e-03]],\n",
       "\n",
       "       [[-9.1461552e-05, -2.8963911e-04,  1.9415286e-04, ...,\n",
       "         -3.6786695e-04,  2.6139119e-04, -2.9142640e-05],\n",
       "        [ 1.1381691e-04, -6.8287173e-04,  1.2222816e-04, ...,\n",
       "         -6.4388337e-04,  4.4221207e-04,  3.9974315e-04],\n",
       "        [ 6.1193592e-04, -8.7710837e-04,  1.8587118e-04, ...,\n",
       "         -6.1585271e-04,  4.5105250e-04,  6.6033419e-04],\n",
       "        ...,\n",
       "        [-1.4950038e-03,  6.3216093e-04, -2.0621940e-03, ...,\n",
       "         -4.2039735e-04,  1.8432667e-03,  1.5419238e-03],\n",
       "        [-1.5397506e-03,  8.0617238e-04, -2.2496048e-03, ...,\n",
       "         -6.5606355e-04,  2.0283884e-03,  1.5362694e-03],\n",
       "        [-1.5607628e-03,  9.5785107e-04, -2.3897537e-03, ...,\n",
       "         -8.7980297e-04,  2.1930514e-03,  1.5265890e-03]]], dtype=float32)>"
      ]
     },
     "execution_count": 44,
     "metadata": {},
     "output_type": "execute_result"
    }
   ],
   "source": [
    "# 데이터셋에서 데이터 한 배치만 불러오는 방법입니다.\n",
    "# 지금은 동작 원리에 너무 빠져들지 마세요~\n",
    "for src_sample, tgt_sample in dataset.take(1): break\n",
    "\n",
    "# 한 배치만 불러온 데이터를 모델에 넣어봅니다\n",
    "model(src_sample)"
   ]
  },
  {
   "cell_type": "code",
   "execution_count": 45,
   "id": "5c6c3bb7",
   "metadata": {},
   "outputs": [
    {
     "name": "stdout",
     "output_type": "stream",
     "text": [
      "Model: \"text_generator\"\n",
      "_________________________________________________________________\n",
      "Layer (type)                 Output Shape              Param #   \n",
      "=================================================================\n",
      "embedding (Embedding)        multiple                  1792256   \n",
      "_________________________________________________________________\n",
      "lstm (LSTM)                  multiple                  5246976   \n",
      "_________________________________________________________________\n",
      "lstm_1 (LSTM)                multiple                  8392704   \n",
      "_________________________________________________________________\n",
      "dense (Dense)                multiple                  7176025   \n",
      "=================================================================\n",
      "Total params: 22,607,961\n",
      "Trainable params: 22,607,961\n",
      "Non-trainable params: 0\n",
      "_________________________________________________________________\n"
     ]
    }
   ],
   "source": [
    "model.summary()"
   ]
  },
  {
   "cell_type": "code",
   "execution_count": 46,
   "id": "93b08034",
   "metadata": {},
   "outputs": [
    {
     "name": "stdout",
     "output_type": "stream",
     "text": [
      "WARNING:tensorflow:From /tmp/ipykernel_635/337460670.py:1: is_gpu_available (from tensorflow.python.framework.test_util) is deprecated and will be removed in a future version.\n",
      "Instructions for updating:\n",
      "Use `tf.config.list_physical_devices('GPU')` instead.\n"
     ]
    },
    {
     "data": {
      "text/plain": [
       "True"
      ]
     },
     "execution_count": 46,
     "metadata": {},
     "output_type": "execute_result"
    }
   ],
   "source": [
    "tf.test.is_gpu_available()"
   ]
  },
  {
   "cell_type": "code",
   "execution_count": 47,
   "id": "2fa1f96c",
   "metadata": {},
   "outputs": [
    {
     "data": {
      "text/plain": [
       "[PhysicalDevice(name='/physical_device:GPU:0', device_type='GPU')]"
      ]
     },
     "execution_count": 47,
     "metadata": {},
     "output_type": "execute_result"
    }
   ],
   "source": [
    "tf.config.list_physical_devices('GPU')"
   ]
  },
  {
   "cell_type": "code",
   "execution_count": 48,
   "id": "af27c48e",
   "metadata": {},
   "outputs": [
    {
     "name": "stdout",
     "output_type": "stream",
     "text": [
      "Epoch 1/30\n",
      "93/93 [==============================] - 42s 401ms/step - loss: 3.5120\n",
      "Epoch 2/30\n",
      "93/93 [==============================] - 38s 410ms/step - loss: 2.8158\n",
      "Epoch 3/30\n",
      "93/93 [==============================] - 24s 259ms/step - loss: 2.7302\n",
      "Epoch 4/30\n",
      "93/93 [==============================] - 19s 202ms/step - loss: 2.6366\n",
      "Epoch 5/30\n",
      "93/93 [==============================] - 18s 198ms/step - loss: 2.5648\n",
      "Epoch 6/30\n",
      "93/93 [==============================] - 18s 198ms/step - loss: 2.5141\n",
      "Epoch 7/30\n",
      "93/93 [==============================] - 19s 200ms/step - loss: 2.4673\n",
      "Epoch 8/30\n",
      "93/93 [==============================] - 19s 202ms/step - loss: 2.4167\n",
      "Epoch 9/30\n",
      "93/93 [==============================] - 19s 201ms/step - loss: 2.3692\n",
      "Epoch 10/30\n",
      "93/93 [==============================] - 19s 200ms/step - loss: 2.3244\n",
      "Epoch 11/30\n",
      "93/93 [==============================] - 19s 200ms/step - loss: 2.2808\n",
      "Epoch 12/30\n",
      "93/93 [==============================] - 19s 199ms/step - loss: 2.23741s - lo\n",
      "Epoch 13/30\n",
      "93/93 [==============================] - 19s 199ms/step - loss: 2.1953\n",
      "Epoch 14/30\n",
      "93/93 [==============================] - 19s 200ms/step - loss: 2.1556\n",
      "Epoch 15/30\n",
      "93/93 [==============================] - 19s 200ms/step - loss: 2.1178\n",
      "Epoch 16/30\n",
      "93/93 [==============================] - 19s 201ms/step - loss: 2.0777\n",
      "Epoch 17/30\n",
      "93/93 [==============================] - 19s 202ms/step - loss: 2.0399\n",
      "Epoch 18/30\n",
      "93/93 [==============================] - 19s 201ms/step - loss: 2.0008\n",
      "Epoch 19/30\n",
      "93/93 [==============================] - 19s 201ms/step - loss: 1.9625\n",
      "Epoch 20/30\n",
      "93/93 [==============================] - 19s 201ms/step - loss: 1.9247\n",
      "Epoch 21/30\n",
      "93/93 [==============================] - 19s 200ms/step - loss: 1.8850\n",
      "Epoch 22/30\n",
      "93/93 [==============================] - 19s 200ms/step - loss: 1.8455\n",
      "Epoch 23/30\n",
      "93/93 [==============================] - 19s 200ms/step - loss: 1.8082\n",
      "Epoch 24/30\n",
      "93/93 [==============================] - 19s 200ms/step - loss: 1.7698\n",
      "Epoch 25/30\n",
      "93/93 [==============================] - 19s 200ms/step - loss: 1.7309\n",
      "Epoch 26/30\n",
      "93/93 [==============================] - 19s 200ms/step - loss: 1.6942\n",
      "Epoch 27/30\n",
      "93/93 [==============================] - 19s 200ms/step - loss: 1.6561\n",
      "Epoch 28/30\n",
      "93/93 [==============================] - 19s 200ms/step - loss: 1.6199\n",
      "Epoch 29/30\n",
      "93/93 [==============================] - 19s 200ms/step - loss: 1.5820\n",
      "Epoch 30/30\n",
      "93/93 [==============================] - 19s 200ms/step - loss: 1.5433\n"
     ]
    },
    {
     "data": {
      "text/plain": [
       "<keras.callbacks.History at 0x7f6638987c10>"
      ]
     },
     "execution_count": 48,
     "metadata": {},
     "output_type": "execute_result"
    }
   ],
   "source": [
    "# optimizer와 loss등은 차차 배웁니다\n",
    "# 혹시 미리 알고 싶다면 아래 문서를 참고하세요\n",
    "# https://www.tensorflow.org/api_docs/python/tf/keras/optimizers\n",
    "# https://www.tensorflow.org/api_docs/python/tf/keras/losses\n",
    "# 양이 상당히 많은 편이니 지금 보는 것은 추천하지 않습니다\n",
    "optimizer = tf.keras.optimizers.Adam()\n",
    "loss = tf.keras.losses.SparseCategoricalCrossentropy(\n",
    "    from_logits=True,\n",
    "    reduction='none'\n",
    ")\n",
    "\n",
    "model.compile(loss=loss, optimizer=optimizer)\n",
    "model.fit(dataset, epochs=30)   ### validation_data 데이터셋을 넣어서 \n",
    "# validation loss 그래프 그려보자 history 적용해보기"
   ]
  },
  {
   "cell_type": "markdown",
   "id": "bd082eee",
   "metadata": {},
   "source": [
    "### (3) 잘 만들어졌는지 평가하기\n",
    "**`BLEU` , `ROUGE`**<br><br>"
   ]
  },
  {
   "cell_type": "code",
   "execution_count": 49,
   "id": "be8d1f0a",
   "metadata": {},
   "outputs": [],
   "source": [
    "def generate_text(model, tokenizer, init_sentence=\"<start>\", max_len=20):\n",
    "    # 테스트를 위해서 입력받은 init_sentence도 텐서로 변환합니다\n",
    "    test_input = tokenizer.texts_to_sequences([init_sentence])\n",
    "    test_tensor = tf.convert_to_tensor(test_input, dtype=tf.int64)\n",
    "    end_token = tokenizer.word_index[\"<end>\"]\n",
    "\n",
    "    # 단어 하나씩 예측해 문장을 만듭니다\n",
    "    #    1. 입력받은 문장의 텐서를 입력합니다\n",
    "    #    2. 예측된 값 중 가장 높은 확률인 word index를 뽑아냅니다\n",
    "    #    3. 2에서 예측된 word index를 문장 뒤에 붙입니다\n",
    "    #    4. 모델이 <end>를 예측했거나, max_len에 도달했다면 문장 생성을 마칩니다\n",
    "    while True:\n",
    "        # 1\n",
    "        predict = model(test_tensor) \n",
    "        # 2\n",
    "        predict_word = tf.argmax(tf.nn.softmax(predict, axis=-1), axis=-1)[:, -1] \n",
    "        # 3 \n",
    "        test_tensor = tf.concat([test_tensor, tf.expand_dims(predict_word, axis=0)], axis=-1)\n",
    "        # 4\n",
    "        if predict_word.numpy()[0] == end_token: break\n",
    "        if test_tensor.shape[1] >= max_len: break\n",
    "\n",
    "    generated = \"\"\n",
    "    # tokenizer를 이용해 word index를 단어로 하나씩 변환합니다 \n",
    "    for word_index in test_tensor[0].numpy():\n",
    "        generated += tokenizer.index_word[word_index] + \" \"\n",
    "\n",
    "    return generated"
   ]
  },
  {
   "cell_type": "code",
   "execution_count": 75,
   "id": "3aeb12d3",
   "metadata": {},
   "outputs": [
    {
     "data": {
      "text/plain": [
       "'<start> bad , my lord . <end> '"
      ]
     },
     "execution_count": 75,
     "metadata": {},
     "output_type": "execute_result"
    }
   ],
   "source": [
    "generate_text(model, tokenizer, init_sentence=\"<start> bad\")"
   ]
  },
  {
   "cell_type": "code",
   "execution_count": null,
   "id": "402c99de",
   "metadata": {},
   "outputs": [],
   "source": []
  },
  {
   "cell_type": "code",
   "execution_count": null,
   "id": "e5f4788a",
   "metadata": {},
   "outputs": [],
   "source": []
  },
  {
   "cell_type": "code",
   "execution_count": null,
   "id": "855d6f58",
   "metadata": {},
   "outputs": [],
   "source": []
  },
  {
   "cell_type": "code",
   "execution_count": null,
   "id": "cbd79419",
   "metadata": {},
   "outputs": [],
   "source": []
  },
  {
   "cell_type": "code",
   "execution_count": null,
   "id": "71b0d7de",
   "metadata": {},
   "outputs": [],
   "source": []
  },
  {
   "cell_type": "code",
   "execution_count": null,
   "id": "ccc732c7",
   "metadata": {},
   "outputs": [],
   "source": []
  },
  {
   "cell_type": "code",
   "execution_count": null,
   "id": "20bce3bb",
   "metadata": {},
   "outputs": [],
   "source": []
  },
  {
   "cell_type": "code",
   "execution_count": null,
   "id": "4b989f8f",
   "metadata": {},
   "outputs": [],
   "source": []
  },
  {
   "cell_type": "code",
   "execution_count": null,
   "id": "342402c1",
   "metadata": {},
   "outputs": [],
   "source": []
  }
 ],
 "metadata": {
  "kernelspec": {
   "display_name": "Python 3 (ipykernel)",
   "language": "python",
   "name": "python3"
  },
  "language_info": {
   "codemirror_mode": {
    "name": "ipython",
    "version": 3
   },
   "file_extension": ".py",
   "mimetype": "text/x-python",
   "name": "python",
   "nbconvert_exporter": "python",
   "pygments_lexer": "ipython3",
   "version": "3.9.7"
  }
 },
 "nbformat": 4,
 "nbformat_minor": 5
}
