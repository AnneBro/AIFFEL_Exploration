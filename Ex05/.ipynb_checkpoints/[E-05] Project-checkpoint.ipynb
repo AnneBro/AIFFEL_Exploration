{
 "cells": [
  {
   "cell_type": "markdown",
   "id": "80183e78",
   "metadata": {},
   "source": [
    "# [E-05] 미니 프로젝트 : 가위바위보 분류기를 만들자"
   ]
  },
  {
   "cell_type": "markdown",
   "id": "9820590e",
   "metadata": {},
   "source": [
    "<br>\n",
    "\n",
    "## 1. Load and Prepare Data\n",
    "\n",
    "---\n",
    "\n",
    "<br> \n",
    "\n",
    "### 🔶 데이터 만들기<br>"
   ]
  },
  {
   "cell_type": "markdown",
   "id": "1caa54d8",
   "metadata": {},
   "source": [
    "\n",
    "- 구글의 `teachable machine`을 사용하여 `rock`, `scissor`, `paper` 각각 150장씩의 사진을 찍어서 저장한다.<br><br>\n",
    "<img src = 'https://user-images.githubusercontent.com/103712369/168634043-7c2d3ab3-4f84-4470-9cc3-ffd37a8086e6.png' width='500' height='100'>\n",
    "\n",
    "\n"
   ]
  },
  {
   "cell_type": "markdown",
   "id": "6d3e4111",
   "metadata": {},
   "source": [
    "### 🔶 디렉토리 만들기"
   ]
  },
  {
   "cell_type": "markdown",
   "id": "b5c26fc1",
   "metadata": {},
   "source": [
    "- **디렉토리 만들기**<br><br>\n",
    "> mkdir -p ~/aiffel/rock_scissor_paper/scissor<br>\n",
    "> mkdir -p ~/aiffel/rock_scissor_paper/rock<br>\n",
    "> mkdir -p ~/aiffel/rock_scissor_paper/paper<br><br>\n",
    "> ls -l ~/aiffel/rock_scissor_paper<br><br>\n",
    "\n",
    "- zip 파일을 각각의 파일명과 일치하는 폴더에 각각 업로드 한다.\n",
    "\n",
    "---\n",
    "\n",
    "#### 클라우드 이미지 압축 해제\n",
    "    - cd  ~/aiffel/rock_scissor_paper/rock (원하는 디렉토리로 이동)\n",
    "    - unzip rock.zip (압축 해제 명령어 : unzip <파일명>.zip)\n"
   ]
  },
  {
   "cell_type": "code",
   "execution_count": 1,
   "id": "92a87028",
   "metadata": {},
   "outputs": [],
   "source": [
    "# 이미지가 잘 들어왔는지, 사이즈는 어떻게 되는지 확인해보자\n",
    "\n",
    "import os\n",
    "import numpy as np\n",
    "import matplotlib.pyplot as plt\n",
    "from PIL import Image\n",
    "\n",
    "rock_path = os.getenv('HOME') + '/aiffel/rock_scissor_paper/rock'\n",
    "scissor_path = os.getenv('HOME') + '/aiffel/rock_scissor_paper/scissor'\n",
    "paper_path = os.getenv('HOME') + '/aiffel/rock_scissor_paper/paper'\n",
    "\n",
    "a_0 = os.path.join(paper_path, 'a_0.jpg')  # 웹캠이 없는 사람들이 사용할 예시 데이터를 prefix 'a_'를 붙여서 추가 저장\n",
    "o_0 = os.path.join(paper_path, '0.jpg')   # google teachable 머신으로 직접 촬영한 사진 'o'"
   ]
  },
  {
   "cell_type": "code",
   "execution_count": 2,
   "id": "bcb129c6",
   "metadata": {},
   "outputs": [
    {
     "name": "stdout",
     "output_type": "stream",
     "text": [
      "(28, 28, 3)\n",
      "(28, 28, 3)\n"
     ]
    }
   ],
   "source": [
    "image_pil_a0 = Image.open(a_0)\n",
    "image_pil_o0 = Image.open(o_0)\n",
    "image_a0 = np.array(image_pil_a0)\n",
    "image_o0 = np.array(image_pil_o0)\n",
    "\n",
    "print(image_a0.shape); print(image_o0.shape)"
   ]
  },
  {
   "cell_type": "code",
   "execution_count": 3,
   "id": "d237e364",
   "metadata": {},
   "outputs": [
    {
     "data": {
      "text/plain": [
       "750"
      ]
     },
     "execution_count": 3,
     "metadata": {},
     "output_type": "execute_result"
    }
   ],
   "source": [
    "# len(os.listdir(os.path.join(rock_scissors_paper_path, '*.jpg')))\n",
    "\n",
    "file_list = os.listdir(paper_path)\n",
    "file_list_jpg = [file for file in file_list if file.endswith('.jpg')]\n",
    "\n",
    "len(file_list_jpg)"
   ]
  },
  {
   "cell_type": "markdown",
   "id": "06bcae3d",
   "metadata": {},
   "source": [
    "<br>△ 이미지의 크기는 224x224x3이며, rgb 3개의 채널을 가지고 있다. 또한 각각의 폴더 내 파일의 갯수(*.jpg)는 250로 셋팅하였다.<br><br>"
   ]
  },
  {
   "cell_type": "markdown",
   "id": "a69f74d1",
   "metadata": {},
   "source": [
    "### 🔶 데이터 불러오기 + Resize 하기\n",
    "\n",
    "<br>\n",
    "\n",
    "- 앞선, 노드 예제에서 사용했던 MNIST 숫자 손글씨의 경우 이미지의 크기가 28x28이었기 때문에, 우리의 가위바위보 이미지도 28x28로 만들어야 함."
   ]
  },
  {
   "cell_type": "code",
   "execution_count": 4,
   "id": "bfa189ae",
   "metadata": {},
   "outputs": [
    {
     "name": "stdout",
     "output_type": "stream",
     "text": [
      "PIL 라이브러리 import 완료!\n"
     ]
    }
   ],
   "source": [
    "from PIL import Image\n",
    "import glob\n",
    "\n",
    "print('PIL 라이브러리 import 완료!')"
   ]
  },
  {
   "cell_type": "code",
   "execution_count": 5,
   "id": "4ca075aa",
   "metadata": {},
   "outputs": [
    {
     "name": "stdout",
     "output_type": "stream",
     "text": [
      "750 images to be resized.\n",
      "750  images resized.\n",
      "750 images to be resized.\n",
      "750  images resized.\n",
      "750 images to be resized.\n",
      "750  images resized.\n",
      "가위 이미지 resize 완료!\n",
      "바위 이미지 resize 완료!\n",
      "보 이미지 resize 완료!\n"
     ]
    }
   ],
   "source": [
    "def resize_images(img_path):\n",
    "    images = glob.glob(img_path+'/*.jpg')\n",
    "    \n",
    "    print(len(images), 'images to be resized.')\n",
    "    \n",
    "    # 파일마다 모두 28x28 사이즈로 바꾸어 저장함.\n",
    "    target_size=(28, 28)\n",
    "    for img in images:\n",
    "        old_img=Image.open(img)\n",
    "        new_img=old_img.resize(target_size, Image.ANTIALIAS)\n",
    "        new_img.save(img, 'JPEG')\n",
    "        \n",
    "    print(len(images), ' images resized.')\n",
    "    \n",
    "# 가위 이미지가 저장된 디렉토리 아래의 모든 jpg 파일을 읽어들여서\n",
    "image_dir_path = os.getenv(\"HOME\") + \"/aiffel/rock_scissor_paper/scissor\"\n",
    "resize_images(image_dir_path)\n",
    "\n",
    "# 바위 이미지가 저장된 디렉토리 아래의 모든 jpg 파일을 읽어들여서\n",
    "image_dir_path = os.getenv(\"HOME\") + \"/aiffel/rock_scissor_paper/rock\"\n",
    "resize_images(image_dir_path)\n",
    "\n",
    "# 보 이미지가 저장된 디렉토리 아래의 모든 jpg 파일을 읽어들여서\n",
    "image_dir_path = os.getenv(\"HOME\") + \"/aiffel/rock_scissor_paper/paper\"\n",
    "resize_images(image_dir_path)\n",
    "\n",
    "print(\"가위 이미지 resize 완료!\")\n",
    "print(\"바위 이미지 resize 완료!\")\n",
    "print(\"보 이미지 resize 완료!\")"
   ]
  },
  {
   "cell_type": "markdown",
   "id": "57759071",
   "metadata": {},
   "source": [
    "- 숫자 손글씨 인식기는 `mnist.load_data()`라는 함수로 데이터를 읽는다.<br>우리의 프로젝트 가위바위보 데이터를 읽을 수 있는 load_data()함수를 만들어보자.<br><br>\n",
    "- `load_data()`는 함수의 입력으로 이미지가 있는 폴더 위치를 받는다.<br>여기서, `rock_scissor_paper`의 폴더 위치를 적어주면 된다.<br>\n",
    "가위바위보의 경우 3개의 클래스 즉, **가위:0, 바위:1, 보:2**로 라벨링한다."
   ]
  },
  {
   "cell_type": "code",
   "execution_count": 6,
   "id": "297e561f",
   "metadata": {},
   "outputs": [],
   "source": [
    "def load_data(img_path, number_of_data=300): # 가위 바위 보 이미지 갯수 총합에 주의\n",
    "    # 가위 : 0, 바위 : 1, 보 : 2\n",
    "    img_size=28\n",
    "    color=3\n",
    "    \n",
    "    #이미지 데이터와 라벨(가위 : 0, 바위 : 1, 보 : 2) 데이터를 담을 행렬(matrix) 영역을 생성합니다.\n",
    "    imgs=np.zeros(number_of_data*img_size*img_size*color,dtype=np.int32).reshape(number_of_data,img_size,img_size,color)\n",
    "    labels=np.zeros(number_of_data,dtype=np.int32)\n",
    "    \n",
    "    idx=0\n",
    "    for file in glob.iglob(img_path+'/scissor/*.jpg'):\n",
    "        img = np.array(Image.open(file), dtype=np.int32)\n",
    "        imgs[idx,:,:,:]=img   # 데이터 영역에 이미지 행렬을 복사\n",
    "        labels[idx]=0   # 가위 : 0\n",
    "        idx += 1\n",
    "        \n",
    "    for file in glob.iglob(img_path+'/rock/*.jpg'):\n",
    "        img = np.array(Image.open(file), dtype=np.int32)\n",
    "        imgs[idx,:,:,:]=img   # 데이터 영역에 이미지 행렬을 복사\n",
    "        labels[idx]=1   # 바위 : 1\n",
    "        idx += 1\n",
    "        \n",
    "    for file in glob.iglob(img_path+'/paper/*.jpg'):\n",
    "        img = np.array(Image.open(file), dtype=np.int32)\n",
    "        imgs[idx,:,:,:]=img   # 데이터 영역에 이미지 행렬을 복사\n",
    "        labels[idx]=2   # 보 : 2\n",
    "        idx += 1\n",
    "        \n",
    "    print('학습데이터(x_train)의 이미지 개수는', idx, '입니다.')\n",
    "    return imgs, labels"
   ]
  },
  {
   "cell_type": "code",
   "execution_count": 7,
   "id": "bc77db95",
   "metadata": {},
   "outputs": [
    {
     "name": "stdout",
     "output_type": "stream",
     "text": [
      "학습데이터(x_train)의 이미지 개수는 2250 입니다.\n"
     ]
    }
   ],
   "source": [
    "img_dir_path = os.getenv('HOME')+'/aiffel/rock_scissor_paper'\n",
    "(X, y)=load_data(img_dir_path, number_of_data=2250)"
   ]
  },
  {
   "cell_type": "markdown",
   "id": "44801457",
   "metadata": {},
   "source": [
    "<br><br>\n",
    "\n",
    "## 2. Scale Data\n",
    "\n",
    "---"
   ]
  },
  {
   "cell_type": "code",
   "execution_count": 8,
   "id": "57a63d4d",
   "metadata": {},
   "outputs": [
    {
     "name": "stdout",
     "output_type": "stream",
     "text": [
      "255\n",
      "0\n"
     ]
    }
   ],
   "source": [
    "print(X.max())   # 학습데이터 x_train의 min max는 0 255\n",
    "print(X.min())"
   ]
  },
  {
   "cell_type": "code",
   "execution_count": 9,
   "id": "562b5b52",
   "metadata": {},
   "outputs": [],
   "source": [
    "# 입력을 0 ~ 1 사이의 값으로 정규화 해야함.\n",
    "\n",
    "X_norm = X/255.0"
   ]
  },
  {
   "cell_type": "code",
   "execution_count": 10,
   "id": "fa20a733",
   "metadata": {
    "scrolled": false
   },
   "outputs": [
    {
     "data": {
      "text/plain": [
       "array([[[[0.10588235, 0.10980392, 0.09019608],\n",
       "         [0.10588235, 0.10980392, 0.09019608],\n",
       "         [0.10588235, 0.11372549, 0.10196078],\n",
       "         ...,\n",
       "         [0.47058824, 0.7372549 , 0.8745098 ],\n",
       "         [0.39607843, 0.68235294, 0.81960784],\n",
       "         [0.2       , 0.48627451, 0.62352941]],\n",
       "\n",
       "        [[0.07843137, 0.08235294, 0.0627451 ],\n",
       "         [0.08235294, 0.08627451, 0.06666667],\n",
       "         [0.08235294, 0.09019608, 0.07843137],\n",
       "         ...,\n",
       "         [0.28235294, 0.53333333, 0.63921569],\n",
       "         [0.05490196, 0.32941176, 0.43137255],\n",
       "         [0.        , 0.18823529, 0.29411765]],\n",
       "\n",
       "        [[0.10980392, 0.11372549, 0.09411765],\n",
       "         [0.10980392, 0.11372549, 0.09411765],\n",
       "         [0.10196078, 0.10980392, 0.09803922],\n",
       "         ...,\n",
       "         [0.09803922, 0.31764706, 0.36862745],\n",
       "         [0.        , 0.21568627, 0.26666667],\n",
       "         [0.        , 0.21568627, 0.26666667]],\n",
       "\n",
       "        ...,\n",
       "\n",
       "        [[0.10588235, 0.08627451, 0.0627451 ],\n",
       "         [0.1254902 , 0.11372549, 0.08627451],\n",
       "         [0.13333333, 0.14509804, 0.10980392],\n",
       "         ...,\n",
       "         [1.        , 0.97647059, 0.9372549 ],\n",
       "         [1.        , 0.99607843, 0.95294118],\n",
       "         [0.95294118, 0.92941176, 0.8745098 ]],\n",
       "\n",
       "        [[0.07843137, 0.05882353, 0.03529412],\n",
       "         [0.12156863, 0.10980392, 0.08235294],\n",
       "         [0.14117647, 0.15294118, 0.1254902 ],\n",
       "         ...,\n",
       "         [1.        , 0.97647059, 0.9372549 ],\n",
       "         [1.        , 0.98823529, 0.94509804],\n",
       "         [0.9372549 , 0.91372549, 0.85882353]],\n",
       "\n",
       "        [[0.12156863, 0.10196078, 0.07843137],\n",
       "         [0.16862745, 0.15686275, 0.12941176],\n",
       "         [0.18039216, 0.19215686, 0.16470588],\n",
       "         ...,\n",
       "         [0.99607843, 0.94509804, 0.90980392],\n",
       "         [0.98431373, 0.95294118, 0.90980392],\n",
       "         [0.89803922, 0.8745098 , 0.81960784]]],\n",
       "\n",
       "\n",
       "       [[[0.64313725, 0.67843137, 0.7372549 ],\n",
       "         [0.60784314, 0.64705882, 0.69411765],\n",
       "         [0.52156863, 0.55294118, 0.59607843],\n",
       "         ...,\n",
       "         [0.57647059, 0.49019608, 0.49803922],\n",
       "         [0.58431373, 0.49019608, 0.49019608],\n",
       "         [0.58431373, 0.49019608, 0.49019608]],\n",
       "\n",
       "        [[0.65098039, 0.67843137, 0.74117647],\n",
       "         [0.61176471, 0.65098039, 0.69803922],\n",
       "         [0.5254902 , 0.55686275, 0.6       ],\n",
       "         ...,\n",
       "         [0.56862745, 0.49019608, 0.49411765],\n",
       "         [0.56862745, 0.49019608, 0.48627451],\n",
       "         [0.56862745, 0.49019608, 0.48627451]],\n",
       "\n",
       "        [[0.67058824, 0.67843137, 0.7372549 ],\n",
       "         [0.61960784, 0.64313725, 0.69803922],\n",
       "         [0.52941176, 0.56078431, 0.60392157],\n",
       "         ...,\n",
       "         [0.54117647, 0.48627451, 0.4745098 ],\n",
       "         [0.54117647, 0.48627451, 0.4745098 ],\n",
       "         [0.54509804, 0.48627451, 0.4745098 ]],\n",
       "\n",
       "        ...,\n",
       "\n",
       "        [[0.29803922, 0.28235294, 0.34117647],\n",
       "         [0.36470588, 0.36470588, 0.40392157],\n",
       "         [0.35686275, 0.38039216, 0.38039216],\n",
       "         ...,\n",
       "         [0.6627451 , 0.30588235, 0.09803922],\n",
       "         [0.6745098 , 0.30588235, 0.09411765],\n",
       "         [0.68235294, 0.31764706, 0.09411765]],\n",
       "\n",
       "        [[0.25490196, 0.24313725, 0.31764706],\n",
       "         [0.33333333, 0.33333333, 0.38039216],\n",
       "         [0.34117647, 0.35686275, 0.35294118],\n",
       "         ...,\n",
       "         [0.65490196, 0.30196078, 0.09411765],\n",
       "         [0.6627451 , 0.30588235, 0.09019608],\n",
       "         [0.6745098 , 0.30588235, 0.09411765]],\n",
       "\n",
       "        [[0.23137255, 0.21960784, 0.29411765],\n",
       "         [0.30980392, 0.31764706, 0.36470588],\n",
       "         [0.33333333, 0.34901961, 0.34509804],\n",
       "         ...,\n",
       "         [0.64705882, 0.29411765, 0.09019608],\n",
       "         [0.65490196, 0.29803922, 0.09019608],\n",
       "         [0.67058824, 0.30196078, 0.09019608]]],\n",
       "\n",
       "\n",
       "       [[[0.07843137, 0.08235294, 0.02745098],\n",
       "         [0.08235294, 0.08627451, 0.03137255],\n",
       "         [0.08235294, 0.09019608, 0.03921569],\n",
       "         ...,\n",
       "         [0.50196078, 0.74117647, 0.67058824],\n",
       "         [0.44705882, 0.70196078, 0.60784314],\n",
       "         [0.23921569, 0.48235294, 0.38431373]],\n",
       "\n",
       "        [[0.05098039, 0.05490196, 0.        ],\n",
       "         [0.05490196, 0.05882353, 0.00392157],\n",
       "         [0.05490196, 0.0627451 , 0.01176471],\n",
       "         ...,\n",
       "         [0.28627451, 0.50980392, 0.43529412],\n",
       "         [0.08627451, 0.31764706, 0.23137255],\n",
       "         [0.        , 0.17254902, 0.0745098 ]],\n",
       "\n",
       "        [[0.08235294, 0.08627451, 0.03137255],\n",
       "         [0.08235294, 0.08235294, 0.03529412],\n",
       "         [0.0745098 , 0.08235294, 0.03137255],\n",
       "         ...,\n",
       "         [0.08627451, 0.27058824, 0.20784314],\n",
       "         [0.        , 0.17647059, 0.10196078],\n",
       "         [0.        , 0.17647059, 0.10196078]],\n",
       "\n",
       "        ...,\n",
       "\n",
       "        [[0.09803922, 0.10980392, 0.03529412],\n",
       "         [0.05098039, 0.06666667, 0.00784314],\n",
       "         [0.04313725, 0.0745098 , 0.02352941],\n",
       "         ...,\n",
       "         [0.98431373, 0.99607843, 0.95294118],\n",
       "         [0.96470588, 0.98823529, 0.94901961],\n",
       "         [0.98823529, 1.        , 0.98039216]],\n",
       "\n",
       "        [[0.05490196, 0.06666667, 0.        ],\n",
       "         [0.01176471, 0.03921569, 0.        ],\n",
       "         [0.01960784, 0.0627451 , 0.00784314],\n",
       "         ...,\n",
       "         [0.98431373, 1.        , 0.94509804],\n",
       "         [0.96470588, 0.98823529, 0.94901961],\n",
       "         [0.98823529, 1.        , 0.98039216]],\n",
       "\n",
       "        [[0.09411765, 0.10980392, 0.04313725],\n",
       "         [0.0627451 , 0.09019608, 0.02745098],\n",
       "         [0.05882353, 0.10588235, 0.05882353],\n",
       "         ...,\n",
       "         [0.98431373, 1.        , 0.94509804],\n",
       "         [0.96470588, 0.98823529, 0.94901961],\n",
       "         [0.98823529, 1.        , 0.98039216]]],\n",
       "\n",
       "\n",
       "       ...,\n",
       "\n",
       "\n",
       "       [[[0.59607843, 0.58431373, 0.54901961],\n",
       "         [0.58823529, 0.57647059, 0.54117647],\n",
       "         [0.57647059, 0.56470588, 0.5372549 ],\n",
       "         ...,\n",
       "         [0.12156863, 0.09803922, 0.10588235],\n",
       "         [0.04313725, 0.        , 0.01568627],\n",
       "         [0.1254902 , 0.08235294, 0.09803922]],\n",
       "\n",
       "        [[0.53333333, 0.52156863, 0.48627451],\n",
       "         [0.52941176, 0.51764706, 0.48235294],\n",
       "         [0.51764706, 0.50588235, 0.47843137],\n",
       "         ...,\n",
       "         [0.11372549, 0.09019608, 0.09803922],\n",
       "         [0.03921569, 0.00392157, 0.01568627],\n",
       "         [0.1372549 , 0.09411765, 0.10980392]],\n",
       "\n",
       "        [[0.37254902, 0.36078431, 0.3254902 ],\n",
       "         [0.36862745, 0.35686275, 0.32941176],\n",
       "         [0.36470588, 0.35294118, 0.3254902 ],\n",
       "         ...,\n",
       "         [0.09019608, 0.0745098 , 0.07843137],\n",
       "         [0.03529412, 0.        , 0.01176471],\n",
       "         [0.15686275, 0.11372549, 0.12941176]],\n",
       "\n",
       "        ...,\n",
       "\n",
       "        [[0.01176471, 0.        , 0.02745098],\n",
       "         [0.01176471, 0.00784314, 0.03137255],\n",
       "         [0.03529412, 0.03137255, 0.05490196],\n",
       "         ...,\n",
       "         [0.16862745, 0.09019608, 0.09803922],\n",
       "         [0.23529412, 0.1372549 , 0.15294118],\n",
       "         [0.45490196, 0.35294118, 0.36470588]],\n",
       "\n",
       "        [[0.01568627, 0.00392157, 0.03137255],\n",
       "         [0.00784314, 0.00392157, 0.02745098],\n",
       "         [0.02352941, 0.01960784, 0.04313725],\n",
       "         ...,\n",
       "         [0.13333333, 0.05490196, 0.0627451 ],\n",
       "         [0.22745098, 0.12941176, 0.14509804],\n",
       "         [0.4745098 , 0.37254902, 0.38431373]],\n",
       "\n",
       "        [[0.01960784, 0.01176471, 0.03137255],\n",
       "         [0.00784314, 0.00392157, 0.02352941],\n",
       "         [0.01568627, 0.01176471, 0.03137255],\n",
       "         ...,\n",
       "         [0.1372549 , 0.05882353, 0.06666667],\n",
       "         [0.25098039, 0.15294118, 0.16862745],\n",
       "         [0.50980392, 0.40784314, 0.41960784]]],\n",
       "\n",
       "\n",
       "       [[[0.40392157, 0.38431373, 0.37254902],\n",
       "         [0.33333333, 0.35686275, 0.41960784],\n",
       "         [0.26666667, 0.32156863, 0.46666667],\n",
       "         ...,\n",
       "         [0.63529412, 0.50980392, 0.51372549],\n",
       "         [0.52941176, 0.54117647, 0.50588235],\n",
       "         [0.37254902, 0.58431373, 0.49411765]],\n",
       "\n",
       "        [[0.39215686, 0.39607843, 0.37647059],\n",
       "         [0.3254902 , 0.36470588, 0.41176471],\n",
       "         [0.2627451 , 0.3254902 , 0.45882353],\n",
       "         ...,\n",
       "         [0.59215686, 0.52156863, 0.50588235],\n",
       "         [0.51764706, 0.54901961, 0.50588235],\n",
       "         [0.41960784, 0.56470588, 0.49411765]],\n",
       "\n",
       "        [[0.37647059, 0.41568627, 0.38431373],\n",
       "         [0.30588235, 0.37254902, 0.40392157],\n",
       "         [0.23921569, 0.32941176, 0.45098039],\n",
       "         ...,\n",
       "         [0.50588235, 0.51372549, 0.47058824],\n",
       "         [0.48235294, 0.52156863, 0.47843137],\n",
       "         [0.47058824, 0.49803922, 0.46666667]],\n",
       "\n",
       "        ...,\n",
       "\n",
       "        [[0.43529412, 0.35294118, 0.34901961],\n",
       "         [0.30196078, 0.2       , 0.20392157],\n",
       "         [0.43137255, 0.29019608, 0.29019608],\n",
       "         ...,\n",
       "         [0.39607843, 0.40784314, 0.42745098],\n",
       "         [0.40784314, 0.40392157, 0.42745098],\n",
       "         [0.41176471, 0.4       , 0.42745098]],\n",
       "\n",
       "        [[0.42745098, 0.35686275, 0.35686275],\n",
       "         [0.2745098 , 0.19215686, 0.18823529],\n",
       "         [0.27843137, 0.15294118, 0.15686275],\n",
       "         ...,\n",
       "         [0.37254902, 0.37647059, 0.39607843],\n",
       "         [0.38039216, 0.37254902, 0.39215686],\n",
       "         [0.39215686, 0.36862745, 0.38431373]],\n",
       "\n",
       "        [[0.4       , 0.34509804, 0.34509804],\n",
       "         [0.27058824, 0.19215686, 0.19607843],\n",
       "         [0.21568627, 0.09803922, 0.10588235],\n",
       "         ...,\n",
       "         [0.34117647, 0.34509804, 0.36470588],\n",
       "         [0.35686275, 0.3372549 , 0.36078431],\n",
       "         [0.36862745, 0.33333333, 0.35294118]]],\n",
       "\n",
       "\n",
       "       [[[0.05490196, 0.08627451, 0.09411765],\n",
       "         [0.0627451 , 0.08235294, 0.09411765],\n",
       "         [0.0627451 , 0.07843137, 0.08235294],\n",
       "         ...,\n",
       "         [0.1372549 , 0.21176471, 0.20392157],\n",
       "         [0.14901961, 0.20784314, 0.19607843],\n",
       "         [0.16862745, 0.20392157, 0.19215686]],\n",
       "\n",
       "        [[0.02745098, 0.05098039, 0.05098039],\n",
       "         [0.03529412, 0.05098039, 0.05490196],\n",
       "         [0.05098039, 0.05490196, 0.0627451 ],\n",
       "         ...,\n",
       "         [0.08627451, 0.14901961, 0.14509804],\n",
       "         [0.11764706, 0.16470588, 0.16470588],\n",
       "         [0.14901961, 0.17254902, 0.17254902]],\n",
       "\n",
       "        [[0.05098039, 0.05882353, 0.05490196],\n",
       "         [0.05490196, 0.0627451 , 0.05882353],\n",
       "         [0.05882353, 0.05882353, 0.05882353],\n",
       "         ...,\n",
       "         [0.0745098 , 0.12156863, 0.12156863],\n",
       "         [0.09803922, 0.1372549 , 0.14117647],\n",
       "         [0.11764706, 0.14117647, 0.14117647]],\n",
       "\n",
       "        ...,\n",
       "\n",
       "        [[0.08627451, 0.05098039, 0.02352941],\n",
       "         [0.12156863, 0.08627451, 0.05882353],\n",
       "         [0.14509804, 0.11764706, 0.08627451],\n",
       "         ...,\n",
       "         [0.82745098, 0.86666667, 0.8745098 ],\n",
       "         [0.94509804, 0.97647059, 0.98823529],\n",
       "         [0.83529412, 0.85490196, 0.87058824]],\n",
       "\n",
       "        [[0.03137255, 0.        , 0.        ],\n",
       "         [0.07058824, 0.03529412, 0.00784314],\n",
       "         [0.1254902 , 0.09803922, 0.06666667],\n",
       "         ...,\n",
       "         [0.66666667, 0.70980392, 0.71764706],\n",
       "         [0.95294118, 0.99215686, 1.        ],\n",
       "         [0.92941176, 0.96078431, 0.97254902]],\n",
       "\n",
       "        [[0.0627451 , 0.02745098, 0.        ],\n",
       "         [0.05098039, 0.01568627, 0.        ],\n",
       "         [0.10980392, 0.08235294, 0.05098039],\n",
       "         ...,\n",
       "         [0.50980392, 0.56470588, 0.56862745],\n",
       "         [0.96078431, 1.        , 1.        ],\n",
       "         [0.97647059, 1.        , 1.        ]]]])"
      ]
     },
     "execution_count": 10,
     "metadata": {},
     "output_type": "execute_result"
    }
   ],
   "source": [
    "X_norm"
   ]
  },
  {
   "cell_type": "code",
   "execution_count": 11,
   "id": "09c9922c",
   "metadata": {
    "scrolled": true
   },
   "outputs": [
    {
     "name": "stdout",
     "output_type": "stream",
     "text": [
      "X shape: (2250, 28, 28, 3)\n",
      "y shape: (2250,)\n"
     ]
    }
   ],
   "source": [
    "print(\"X shape: {}\".format(X.shape))\n",
    "print(\"y shape: {}\".format(y.shape))"
   ]
  },
  {
   "cell_type": "markdown",
   "id": "aace0dc3",
   "metadata": {},
   "source": [
    "<br>**이미지를 한번 불러와보자**<br><br>"
   ]
  },
  {
   "cell_type": "code",
   "execution_count": 12,
   "id": "b70c6b90",
   "metadata": {},
   "outputs": [
    {
     "name": "stdout",
     "output_type": "stream",
     "text": [
      "라벨 : 0\n"
     ]
    },
    {
     "data": {
      "image/png": "[encoded data removed]",
      "text/plain": [
       "<Figure size 432x288 with 1 Axes>"
      ]
     },
     "metadata": {
      "needs_background": "light"
     },
     "output_type": "display_data"
    }
   ],
   "source": [
    "plt.imshow(X[0])\n",
    "print('라벨 :', y[0])"
   ]
  },
  {
   "cell_type": "markdown",
   "id": "9ba54ef7",
   "metadata": {},
   "source": [
    "<br><br>\n",
    "\n",
    "## 3. Split Data\n",
    "\n",
    "---"
   ]
  },
  {
   "cell_type": "code",
   "execution_count": 13,
   "id": "bcd14236",
   "metadata": {},
   "outputs": [],
   "source": [
    "from sklearn.model_selection import train_test_split\n",
    "\n",
    "X_train, X_test, y_train, y_test = train_test_split(X_norm, y, test_size=0.1, random_state=2022) \n",
    "X_train, X_val, y_train, y_val = train_test_split(X_train, y_train, test_size=0.2, random_state=2022)"
   ]
  },
  {
   "cell_type": "code",
   "execution_count": 14,
   "id": "fe8701c3",
   "metadata": {},
   "outputs": [
    {
     "name": "stdout",
     "output_type": "stream",
     "text": [
      "(1620, 28, 28, 3) (1620,)\n",
      "(405, 28, 28, 3) (405,)\n",
      "(225, 28, 28, 3) (225,)\n"
     ]
    }
   ],
   "source": [
    "print(X_train.shape, y_train.shape)\n",
    "print(X_val.shape, y_val.shape)\n",
    "print(X_test.shape, y_test.shape)"
   ]
  },
  {
   "cell_type": "markdown",
   "id": "34ee8d3f",
   "metadata": {},
   "source": [
    "<br><br>\n",
    "\n",
    "## 4. 딥러닝 네트워크 설계하기\n",
    "\n",
    "---"
   ]
  },
  {
   "cell_type": "code",
   "execution_count": 15,
   "id": "ef3caa0b",
   "metadata": {},
   "outputs": [],
   "source": [
    "import tensorflow as tf\n",
    "from tensorflow import keras\n",
    "import numpy as np"
   ]
  },
  {
   "cell_type": "code",
   "execution_count": 16,
   "id": "44ce840c",
   "metadata": {},
   "outputs": [],
   "source": [
    "# 바꿔 볼 수 있는 하이퍼파라미터들\n",
    "n_channel_1=16\n",
    "n_channel_2=32\n",
    "n_channel_3=16\n",
    "n_dense=512\n",
    "n_train_epoch=10"
   ]
  },
  {
   "cell_type": "code",
   "execution_count": 17,
   "id": "fea75d97",
   "metadata": {
    "scrolled": false
   },
   "outputs": [
    {
     "name": "stdout",
     "output_type": "stream",
     "text": [
      "Model: \"sequential\"\n",
      "_________________________________________________________________\n",
      "Layer (type)                 Output Shape              Param #   \n",
      "=================================================================\n",
      "conv2d (Conv2D)              (None, 26, 26, 16)        448       \n",
      "_________________________________________________________________\n",
      "max_pooling2d (MaxPooling2D) (None, 13, 13, 16)        0         \n",
      "_________________________________________________________________\n",
      "conv2d_1 (Conv2D)            (None, 11, 11, 32)        4640      \n",
      "_________________________________________________________________\n",
      "max_pooling2d_1 (MaxPooling2 (None, 5, 5, 32)          0         \n",
      "_________________________________________________________________\n",
      "conv2d_2 (Conv2D)            (None, 3, 3, 16)          4624      \n",
      "_________________________________________________________________\n",
      "max_pooling2d_2 (MaxPooling2 (None, 1, 1, 16)          0         \n",
      "_________________________________________________________________\n",
      "flatten (Flatten)            (None, 16)                0         \n",
      "_________________________________________________________________\n",
      "dense (Dense)                (None, 512)               8704      \n",
      "_________________________________________________________________\n",
      "dense_1 (Dense)              (None, 3)                 1539      \n",
      "=================================================================\n",
      "Total params: 19,955\n",
      "Trainable params: 19,955\n",
      "Non-trainable params: 0\n",
      "_________________________________________________________________\n"
     ]
    }
   ],
   "source": [
    "# model을 직접 만들어 보세요.\n",
    "# Hint! model의 입력/출력부에 특히 유의해 주세요. 가위바위보 데이터셋은 MNIST 데이터셋과 어떤 점이 달라졌나요?\n",
    "\n",
    "model=keras.models.Sequential()\n",
    "model.add(keras.layers.Conv2D(n_channel_1, (3,3), activation='relu', input_shape=(28,28,3)))\n",
    "model.add(keras.layers.MaxPool2D(2,2))\n",
    "\n",
    "model.add(keras.layers.Conv2D(n_channel_2, (3,3), activation='relu'))\n",
    "model.add(keras.layers.MaxPooling2D((2,2)))\n",
    "\n",
    "model.add(keras.layers.Conv2D(n_channel_3, (3,3), activation='relu'))\n",
    "model.add(keras.layers.MaxPooling2D((2,2)))\n",
    "\n",
    "model.add(keras.layers.Flatten())\n",
    "\n",
    "model.add(keras.layers.Dense(n_dense, activation='relu'))\n",
    "model.add(keras.layers.Dense(3, activation='softmax'))\n",
    "\n",
    "model.compile(optimizer='adam',\n",
    "             loss='sparse_categorical_crossentropy',\n",
    "             # loss=tf.losses.BinaryCrossentropy(),\n",
    "             metrics=['accuracy'])\n",
    "\n",
    "model.summary()"
   ]
  },
  {
   "cell_type": "markdown",
   "id": "8d86512a",
   "metadata": {},
   "source": [
    "<br><br>\n",
    "\n",
    "## 5. 딥러닝 네트워크 학습시키기\n",
    "\n",
    "---"
   ]
  },
  {
   "cell_type": "code",
   "execution_count": 18,
   "id": "fbeb2f91",
   "metadata": {},
   "outputs": [],
   "source": [
    "logdir='logs_2nd'"
   ]
  },
  {
   "cell_type": "code",
   "execution_count": 19,
   "id": "03952bfd",
   "metadata": {},
   "outputs": [],
   "source": [
    "tensorboard_callback = tf.keras.callbacks.TensorBoard(log_dir=logdir)"
   ]
  },
  {
   "cell_type": "code",
   "execution_count": 20,
   "id": "bd0e1752",
   "metadata": {
    "scrolled": false
   },
   "outputs": [
    {
     "name": "stdout",
     "output_type": "stream",
     "text": [
      "Epoch 1/10\n",
      "51/51 [==============================] - 2s 29ms/step - loss: 0.9064 - accuracy: 0.5914 - val_loss: 0.6477 - val_accuracy: 0.7728\n",
      "Epoch 2/10\n",
      "51/51 [==============================] - 1s 26ms/step - loss: 0.3381 - accuracy: 0.8907 - val_loss: 0.2322 - val_accuracy: 0.9136\n",
      "Epoch 3/10\n",
      "51/51 [==============================] - 1s 26ms/step - loss: 0.1587 - accuracy: 0.9481 - val_loss: 0.1641 - val_accuracy: 0.9556\n",
      "Epoch 4/10\n",
      "51/51 [==============================] - 1s 29ms/step - loss: 0.1060 - accuracy: 0.9648 - val_loss: 0.0850 - val_accuracy: 0.9877\n",
      "Epoch 5/10\n",
      "51/51 [==============================] - 1s 28ms/step - loss: 0.0621 - accuracy: 0.9846 - val_loss: 0.0886 - val_accuracy: 0.9778\n",
      "Epoch 6/10\n",
      "51/51 [==============================] - 1s 26ms/step - loss: 0.0432 - accuracy: 0.9914 - val_loss: 0.0478 - val_accuracy: 0.9877\n",
      "Epoch 7/10\n",
      "51/51 [==============================] - 1s 27ms/step - loss: 0.0331 - accuracy: 0.9932 - val_loss: 0.0317 - val_accuracy: 0.9877\n",
      "Epoch 8/10\n",
      "51/51 [==============================] - 1s 26ms/step - loss: 0.0224 - accuracy: 0.9951 - val_loss: 0.0157 - val_accuracy: 1.0000\n",
      "Epoch 9/10\n",
      "51/51 [==============================] - 1s 27ms/step - loss: 0.0107 - accuracy: 1.0000 - val_loss: 0.0118 - val_accuracy: 0.9975\n",
      "Epoch 10/10\n",
      "51/51 [==============================] - 1s 26ms/step - loss: 0.0073 - accuracy: 0.9988 - val_loss: 0.0082 - val_accuracy: 1.0000\n"
     ]
    }
   ],
   "source": [
    "# 모델 훈련\n",
    "hist = model.fit(X_train, y_train, epochs=n_train_epoch, validation_data=(X_val, y_val), callbacks=[tensorboard_callback])\n",
    "# model.fit(X_train, y_train, epochs=n_train_epoch, validation_data=(X_val, y_val))"
   ]
  },
  {
   "cell_type": "code",
   "execution_count": 21,
   "id": "3cf5702d",
   "metadata": {},
   "outputs": [
    {
     "data": {
      "text/plain": [
       "{'loss': [0.9063939452171326,\n",
       "  0.33811718225479126,\n",
       "  0.15868273377418518,\n",
       "  0.10603906959295273,\n",
       "  0.06209524720907211,\n",
       "  0.04317478463053703,\n",
       "  0.033061638474464417,\n",
       "  0.022431347519159317,\n",
       "  0.010669163428246975,\n",
       "  0.007294421549886465],\n",
       " 'accuracy': [0.5913580060005188,\n",
       "  0.8907407522201538,\n",
       "  0.9481481313705444,\n",
       "  0.9648148417472839,\n",
       "  0.9845678806304932,\n",
       "  0.9913580417633057,\n",
       "  0.9932098984718323,\n",
       "  0.9950617551803589,\n",
       "  1.0,\n",
       "  0.9987654089927673],\n",
       " 'val_loss': [0.6477359533309937,\n",
       "  0.23221451044082642,\n",
       "  0.16413065791130066,\n",
       "  0.08501608669757843,\n",
       "  0.08864646404981613,\n",
       "  0.047758277505636215,\n",
       "  0.03166190907359123,\n",
       "  0.015668774023652077,\n",
       "  0.011780737899243832,\n",
       "  0.008174346759915352],\n",
       " 'val_accuracy': [0.7728394865989685,\n",
       "  0.9135802388191223,\n",
       "  0.9555555582046509,\n",
       "  0.9876543283462524,\n",
       "  0.9777777791023254,\n",
       "  0.9876543283462524,\n",
       "  0.9876543283462524,\n",
       "  1.0,\n",
       "  0.9975308775901794,\n",
       "  1.0]}"
      ]
     },
     "execution_count": 21,
     "metadata": {},
     "output_type": "execute_result"
    }
   ],
   "source": [
    "hist.history"
   ]
  },
  {
   "cell_type": "markdown",
   "id": "e577197c",
   "metadata": {},
   "source": [
    "<br><br>\n",
    "\n",
    "## 6. Plot Performance\n",
    "\n",
    "---"
   ]
  },
  {
   "cell_type": "code",
   "execution_count": 22,
   "id": "04dee265",
   "metadata": {},
   "outputs": [
    {
     "data": {
      "image/png": "[encoded data removed]",
      "text/plain": [
       "<Figure size 432x288 with 1 Axes>"
      ]
     },
     "metadata": {
      "needs_background": "light"
     },
     "output_type": "display_data"
    }
   ],
   "source": [
    "fig = plt.figure()\n",
    "plt.plot(hist.history['loss'], color='teal', label='loss')\n",
    "plt.plot(hist.history['val_loss'], color='orange', label='val_loss')\n",
    "fig.suptitle('Loss', fontsize=20)\n",
    "plt.legend(loc=\"upper right\")\n",
    "plt.show()"
   ]
  },
  {
   "cell_type": "code",
   "execution_count": 23,
   "id": "c7fa9ce7",
   "metadata": {},
   "outputs": [
    {
     "data": {
      "image/png": "[encoded data removed]",
      "text/plain": [
       "<Figure size 432x288 with 1 Axes>"
      ]
     },
     "metadata": {
      "needs_background": "light"
     },
     "output_type": "display_data"
    }
   ],
   "source": [
    "fig = plt.figure()\n",
    "plt.plot(hist.history['accuracy'], color='teal', label='accuracy')\n",
    "plt.plot(hist.history['val_accuracy'], color='orange', label='val_accuracy')\n",
    "fig.suptitle('Accuracy', fontsize=20)\n",
    "plt.legend(loc=\"upper left\")\n",
    "plt.show()"
   ]
  },
  {
   "cell_type": "markdown",
   "id": "0685987e",
   "metadata": {},
   "source": [
    "<br><br>\n",
    "\n",
    "## 7. Evaluate\n",
    "\n",
    "---"
   ]
  },
  {
   "cell_type": "code",
   "execution_count": 24,
   "id": "d2a0a654",
   "metadata": {},
   "outputs": [],
   "source": [
    "from tensorflow.keras.metrics import Precision, Recall, BinaryAccuracy\n",
    "\n",
    "pre = Precision()\n",
    "re = Recall()\n",
    "acc = BinaryAccuracy()"
   ]
  },
  {
   "cell_type": "code",
   "execution_count": 25,
   "id": "39ae063c",
   "metadata": {
    "scrolled": true
   },
   "outputs": [
    {
     "name": "stdout",
     "output_type": "stream",
     "text": [
      "8/8 - 0s - loss: 0.0052 - accuracy: 1.0000\n",
      "test_loss: 0.005198559258133173 \n",
      "test_accuracy: 1.0\n"
     ]
    }
   ],
   "source": [
    "test_loss, test_accuracy = model.evaluate(X_test ,y_test, verbose=2)\n",
    "print(\"test_loss: {} \".format(test_loss))\n",
    "print(\"test_accuracy: {}\".format(test_accuracy))"
   ]
  },
  {
   "cell_type": "markdown",
   "id": "13276592",
   "metadata": {},
   "source": [
    "△ 위의 결과를 확인해보니, test data의 경우 정확도 또한 1인것을 확인할 수 있다."
   ]
  },
  {
   "cell_type": "code",
   "execution_count": 26,
   "id": "5b428ed6",
   "metadata": {},
   "outputs": [
    {
     "data": {
      "text/plain": [
       "225"
      ]
     },
     "execution_count": 26,
     "metadata": {},
     "output_type": "execute_result"
    }
   ],
   "source": [
    "len(X_test)"
   ]
  },
  {
   "cell_type": "code",
   "execution_count": 27,
   "id": "907cd919",
   "metadata": {},
   "outputs": [
    {
     "name": "stdout",
     "output_type": "stream",
     "text": [
      "model.predict() 결과 :  [2.5094640e-03 9.9731904e-01 1.7155518e-04]\n",
      "model이 추론한 가장 가능성이 높은 결과 :  1\n",
      "실제 데이터의 라벨 :  1\n"
     ]
    }
   ],
   "source": [
    "predicted_result = model.predict(X_test)  # model이 추론한 확률값. \n",
    "predicted_labels = np.argmax(predicted_result, axis=1)\n",
    "\n",
    "idx=41  # idx 번째 x_test를 살펴보자. \n",
    "\n",
    "print('model.predict() 결과 : ', predicted_result[idx])\n",
    "print('model이 추론한 가장 가능성이 높은 결과 : ', predicted_labels[idx])\n",
    "print('실제 데이터의 라벨 : ', y_test[idx])"
   ]
  },
  {
   "cell_type": "code",
   "execution_count": 28,
   "id": "2505e6b5",
   "metadata": {},
   "outputs": [
    {
     "data": {
      "image/png": "[encoded data removed]",
      "text/plain": [
       "<Figure size 432x288 with 1 Axes>"
      ]
     },
     "metadata": {
      "needs_background": "light"
     },
     "output_type": "display_data"
    },
    {
     "name": "stdout",
     "output_type": "stream",
     "text": [
      "라벨 : 1\n"
     ]
    }
   ],
   "source": [
    "plt.imshow(X_test[idx],cmap=plt.cm.binary)\n",
    "plt.show()\n",
    "print('라벨 :', y_test[idx])"
   ]
  },
  {
   "cell_type": "markdown",
   "id": "d9c37fbc",
   "metadata": {},
   "source": [
    "<br><br>\n",
    "\n",
    "## 8. Another Test Data Evaluate(해창님 데이터)\n",
    "\n",
    "---"
   ]
  },
  {
   "cell_type": "code",
   "execution_count": 29,
   "id": "18d37db6",
   "metadata": {},
   "outputs": [
    {
     "name": "stdout",
     "output_type": "stream",
     "text": [
      "학습데이터(x_train)의 이미지 개수는 12 입니다.\n"
     ]
    }
   ],
   "source": [
    "testimg_dir_path = os.getenv('HOME')+'/aiffel/rock_scissor_paper/Test'\n",
    "(test_X, test_y)=load_data(testimg_dir_path, number_of_data=12)"
   ]
  },
  {
   "cell_type": "code",
   "execution_count": 30,
   "id": "b5343e8c",
   "metadata": {},
   "outputs": [
    {
     "name": "stdout",
     "output_type": "stream",
     "text": [
      "(12, 28, 28, 3) (12,)\n"
     ]
    }
   ],
   "source": [
    "print(test_X.shape, test_y.shape)"
   ]
  },
  {
   "cell_type": "code",
   "execution_count": 31,
   "id": "600cab01",
   "metadata": {},
   "outputs": [
    {
     "name": "stdout",
     "output_type": "stream",
     "text": [
      "255\n",
      "0\n"
     ]
    }
   ],
   "source": [
    "print(test_X.max())   # 학습데이터 x_train의 min max는 0 255\n",
    "print(test_X.min())"
   ]
  },
  {
   "cell_type": "code",
   "execution_count": 32,
   "id": "18c2c704",
   "metadata": {},
   "outputs": [],
   "source": [
    "# 입력을 0 ~ 1 사이의 값으로 정규화 해야함.\n",
    "\n",
    "test_X_norm = test_X/255.0"
   ]
  },
  {
   "cell_type": "code",
   "execution_count": 33,
   "id": "9b92df66",
   "metadata": {
    "scrolled": true
   },
   "outputs": [
    {
     "name": "stdout",
     "output_type": "stream",
     "text": [
      "1/1 - 0s - loss: 2.1406 - accuracy: 0.5833\n",
      "test_loss: 2.1405599117279053 \n",
      "test_accuracy: 0.5833333134651184\n"
     ]
    }
   ],
   "source": [
    "test_loss, test_accuracy = model.evaluate(test_X_norm ,test_y, verbose=2)\n",
    "print(\"test_loss: {} \".format(test_loss))\n",
    "print(\"test_accuracy: {}\".format(test_accuracy))"
   ]
  },
  {
   "cell_type": "code",
   "execution_count": 34,
   "id": "405b98f3",
   "metadata": {},
   "outputs": [
    {
     "name": "stdout",
     "output_type": "stream",
     "text": [
      "model.predict() 결과 :  [0.00382606 0.98195136 0.01422264]\n",
      "model이 추론한 가장 가능성이 높은 결과 :  1\n",
      "실제 데이터의 라벨 :  2\n"
     ]
    }
   ],
   "source": [
    "predicted_result = model.predict(test_X_norm)  # model이 추론한 확률값. \n",
    "predicted_labels = np.argmax(predicted_result, axis=1)\n",
    "\n",
    "idx=11  #idx번째 x_test를 살펴보자. \n",
    "print('model.predict() 결과 : ', predicted_result[idx])\n",
    "print('model이 추론한 가장 가능성이 높은 결과 : ', predicted_labels[idx])\n",
    "print('실제 데이터의 라벨 : ', test_y[idx])"
   ]
  },
  {
   "cell_type": "code",
   "execution_count": 35,
   "id": "39fccd99",
   "metadata": {},
   "outputs": [
    {
     "data": {
      "image/png": "[encoded data removed]",
      "text/plain": [
       "<Figure size 432x288 with 1 Axes>"
      ]
     },
     "metadata": {
      "needs_background": "light"
     },
     "output_type": "display_data"
    }
   ],
   "source": [
    "plt.imshow(test_X_norm[idx],cmap=plt.cm.binary)\n",
    "plt.show()"
   ]
  },
  {
   "cell_type": "code",
   "execution_count": 36,
   "id": "ee2e0354",
   "metadata": {
    "scrolled": false
   },
   "outputs": [
    {
     "name": "stdout",
     "output_type": "stream",
     "text": [
      "잘못 예측한 갯수 : 5개 입니다.\n",
      "\n",
      "==========================================================\n",
      "\n",
      "예측확률분포: [2.8122101e-02 9.7181636e-01 6.1465063e-05]\n",
      "라벨: 0, 예측결과: 1\n",
      "0번째 데이터\n"
     ]
    },
    {
     "data": {
      "image/png": "[encoded data removed]",
      "text/plain": [
       "<Figure size 432x288 with 1 Axes>"
      ]
     },
     "metadata": {
      "needs_background": "light"
     },
     "output_type": "display_data"
    },
    {
     "name": "stdout",
     "output_type": "stream",
     "text": [
      "예측확률분포: [0.10327595 0.89372516 0.00299893]\n",
      "라벨: 0, 예측결과: 1\n",
      "1번째 데이터\n"
     ]
    },
    {
     "data": {
      "image/png": "[encoded data removed]",
      "text/plain": [
       "<Figure size 432x288 with 1 Axes>"
      ]
     },
     "metadata": {
      "needs_background": "light"
     },
     "output_type": "display_data"
    },
    {
     "name": "stdout",
     "output_type": "stream",
     "text": [
      "예측확률분포: [9.9780768e-01 1.5129785e-03 6.7931780e-04]\n",
      "라벨: 2, 예측결과: 0\n",
      "8번째 데이터\n"
     ]
    },
    {
     "data": {
      "image/png": "[encoded data removed]",
      "text/plain": [
       "<Figure size 432x288 with 1 Axes>"
      ]
     },
     "metadata": {
      "needs_background": "light"
     },
     "output_type": "display_data"
    },
    {
     "name": "stdout",
     "output_type": "stream",
     "text": [
      "예측확률분포: [9.5914453e-01 3.9906882e-02 9.4852893e-04]\n",
      "라벨: 2, 예측결과: 0\n",
      "9번째 데이터\n"
     ]
    },
    {
     "data": {
      "image/png": "[encoded data removed]",
      "text/plain": [
       "<Figure size 432x288 with 1 Axes>"
      ]
     },
     "metadata": {
      "needs_background": "light"
     },
     "output_type": "display_data"
    },
    {
     "name": "stdout",
     "output_type": "stream",
     "text": [
      "예측확률분포: [0.00382606 0.98195136 0.01422264]\n",
      "라벨: 2, 예측결과: 1\n",
      "11번째 데이터\n"
     ]
    },
    {
     "data": {
      "image/png": "[encoded data removed]",
      "text/plain": [
       "<Figure size 432x288 with 1 Axes>"
      ]
     },
     "metadata": {
      "needs_background": "light"
     },
     "output_type": "display_data"
    }
   ],
   "source": [
    "import random\n",
    "wrong_predict_list=[]\n",
    "\n",
    "for i, _ in enumerate(predicted_labels):\n",
    "    # i번째 test_labels과 y_test이 다른 경우만 모아 봅시다. \n",
    "    if predicted_labels[i] != test_y[i]:\n",
    "        wrong_predict_list.append(i)\n",
    "\n",
    "# wrong_predict_list 에서 랜덤하게 5개만 뽑아봅시다.\n",
    "# samples = random.choices(population=wrong_predict_list, k=6)\n",
    "\n",
    "print('잘못 예측한 갯수 : {}개 입니다.'.format(len(wrong_predict_list)))\n",
    "print('\\n==========================================================\\n')\n",
    "\n",
    "for n in wrong_predict_list:\n",
    "    print(\"예측확률분포: \" + str(predicted_result[n]))\n",
    "    print(\"라벨: \" + str(test_y[n]) + \", 예측결과: \" + str(predicted_labels[n]))\n",
    "    print(f'{n}번째 데이터')\n",
    "    plt.imshow(test_X[n], cmap=plt.cm.binary)\n",
    "    plt.show()"
   ]
  },
  {
   "cell_type": "markdown",
   "id": "70fb4adf",
   "metadata": {},
   "source": [
    "<br><br>\n",
    "\n",
    "## 9. 정리 및 회고\n",
    "\n",
    "---\n"
   ]
  },
  {
   "cell_type": "markdown",
   "id": "f1e6f664",
   "metadata": {},
   "source": [
    "- 이번 노드는 Google의 Teacherable Machine에서 제공하는 연속촬영 기능을 사용하여 웹캠을 통해 가위 바위 보 이미지 데이터를 직접 만들어보았다. 생각보다 편리하게 연속 촬영기능으로 데이터를 확보할 수 있었다.<br><br>\n",
    "- 가위 이미지 750개(오른손, 왼손, 다른 사람의 이미지), 바위 이미지 750개(가위와 동일), 보 이미지 750개(가위와 동일) Total 2250개의 이미지를 확보하였다.<br><br>이미지 데이터의 크기는 224x224x3이였지만, 이미지의 사이즈를 28x28로 재설정해주었다. <br><br>\n",
    "- 이미지 데이터들의 픽셀값 0\\~255 사이의 값들을 0\\~1의 범위를 갖도록 정규화를 진행해주었다. 정규화를 진행해 주는 이유는 2가지가 있다고 한다.<br>\n",
    "    - 1) 학습을 더 빨리하고 2) Local optimum 에 빠지는 가능성을 줄이기 위하여...<br><br>\n",
    "- tensorflow keras에서 제공하는 Sequential()모델을 사용하였고, 학습을 위해 총 9개의 히든레이어를 구성하였다. 전체 파라미터의 갯수는 19,955개이고 모델을 학습하는데 걸리는 시간은 생각보다 오래 걸리지 않았다.<br>\n",
    "![image](https://user-images.githubusercontent.com/103712369/168745843-27a28652-189f-4c70-8737-9b92d7c2536c.png)<br><br>\n",
    "- 학습 데이터 및 검증 데이터 그리고 테스트용 데이터는 1,620 / 405 / 225로 나누어 학습 검증을 진행하였다. <br><br>\n",
    "\n",
    "- 결과는 `evaluate` 함수를 사용하여 진행하였고, `accuracy = 1`을 확보하였다. 추가적인 실험을 위해 해창님이 올려주신 데이터를 적용해봤는데, 생각보다 점수가 형편없이 나오는데, 계속해서 학습을 진행할 수록 overfitting이 나오는 것 같았다. epoch를 늘리면 늘릴수록 성능은 더 떨어지는 것 같았고, 히든레이어 convolutional baseline의 갯수도 몇개로 해야하는지,,, 튜닝을 거듭할 수록 뭔가 더 미궁에 빠지는 것 같았다.. 결국 해창님 데이터는 정확도 60% 남짓에서 마무리하기로 했다.. \n",
    "\n",
    "![image](https://user-images.githubusercontent.com/103712369/168747020-5ed3f4c0-d4fb-4b75-8c30-c86a1142adf9.png)"
   ]
  }
 ],
 "metadata": {
  "kernelspec": {
   "display_name": "Python 3 (ipykernel)",
   "language": "python",
   "name": "python3"
  },
  "language_info": {
   "codemirror_mode": {
    "name": "ipython",
    "version": 3
   },
   "file_extension": ".py",
   "mimetype": "text/x-python",
   "name": "python",
   "nbconvert_exporter": "python",
   "pygments_lexer": "ipython3",
   "version": "3.9.7"
  }
 },
 "nbformat": 4,
 "nbformat_minor": 5
}
