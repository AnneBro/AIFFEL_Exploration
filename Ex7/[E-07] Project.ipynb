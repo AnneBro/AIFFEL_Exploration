{
 "cells": [
  {
   "cell_type": "markdown",
   "id": "60629d0e",
   "metadata": {},
   "source": [
    "# [E-07] 프로젝트: 뉴스기사 요약해보기\n",
    "\n",
    "<br>\n",
    "\n",
    "---"
   ]
  },
  {
   "cell_type": "markdown",
   "id": "49e8c5b0",
   "metadata": {},
   "source": [
    "**뉴스기사 데이터셋에 대해 추상적 / 추출적 요약을 모두 진행해보자**\n",
    "\n",
    "<br>\n",
    "- 주요 라이브러리 버전 확인\n",
    "\n",
    "---"
   ]
  },
  {
   "cell_type": "code",
   "execution_count": 177,
   "id": "63428620",
   "metadata": {
    "scrolled": true
   },
   "outputs": [
    {
     "name": "stdout",
     "output_type": "stream",
     "text": [
      "3.6.5\n",
      "2.6.0\n",
      "1.2.0\n"
     ]
    }
   ],
   "source": [
    "from importlib.metadata import version\n",
    "import nltk\n",
    "import tensorflow\n",
    "import summa\n",
    "\n",
    "print(nltk.__version__)\n",
    "print(tensorflow.__version__)\n",
    "print(version('summa'))"
   ]
  },
  {
   "cell_type": "markdown",
   "id": "11a2d2c2",
   "metadata": {},
   "source": [
    "### ✔️ 필요한 라이브러리 import하기\n",
    "\n",
    "---"
   ]
  },
  {
   "cell_type": "code",
   "execution_count": 178,
   "id": "c587a894",
   "metadata": {},
   "outputs": [
    {
     "name": "stderr",
     "output_type": "stream",
     "text": [
      "[nltk_data] Downloading package stopwords to /aiffel/nltk_data...\n",
      "[nltk_data]   Package stopwords is already up-to-date!\n"
     ]
    }
   ],
   "source": [
    "import nltk\n",
    "nltk.download('stopwords')\n",
    "\n",
    "import numpy as np\n",
    "import pandas as pd\n",
    "import os\n",
    "import re\n",
    "import matplotlib.pyplot as plt\n",
    "from nltk.corpus import stopwords\n",
    "from bs4 import BeautifulSoup \n",
    "from tensorflow.keras.preprocessing.text import Tokenizer \n",
    "from tensorflow.keras.preprocessing.sequence import pad_sequences\n",
    "import urllib.request\n",
    "import warnings\n",
    "warnings.filterwarnings(\"ignore\", category=UserWarning, module='bs4')"
   ]
  },
  {
   "cell_type": "markdown",
   "id": "8141c9b1",
   "metadata": {},
   "source": [
    "### ✔️ 데이터 수집하기\n",
    "\n",
    "---"
   ]
  },
  {
   "cell_type": "code",
   "execution_count": 179,
   "id": "d6d370b3",
   "metadata": {},
   "outputs": [
    {
     "name": "stdout",
     "output_type": "stream",
     "text": [
      "(98401, 2)\n",
      "Index(['headlines', 'text'], dtype='object')\n"
     ]
    }
   ],
   "source": [
    "import urllib.request\n",
    "urllib.request.urlretrieve(\"https://raw.githubusercontent.com/sunnysai12345/News_Summary/master/news_summary_more.csv\", filename=\"news_summary_more.csv\")\n",
    "data = pd.read_csv('news_summary_more.csv', encoding='iso-8859-1')\n",
    "print(data.shape)\n",
    "print(data.columns)\n",
    "\n",
    "data=data[['text', 'headlines']]"
   ]
  },
  {
   "cell_type": "code",
   "execution_count": 180,
   "id": "1f738fa9",
   "metadata": {},
   "outputs": [
    {
     "data": {
      "text/html": [
       "<div>\n",
       "<style scoped>\n",
       "    .dataframe tbody tr th:only-of-type {\n",
       "        vertical-align: middle;\n",
       "    }\n",
       "\n",
       "    .dataframe tbody tr th {\n",
       "        vertical-align: top;\n",
       "    }\n",
       "\n",
       "    .dataframe thead th {\n",
       "        text-align: right;\n",
       "    }\n",
       "</style>\n",
       "<table border=\"1\" class=\"dataframe\">\n",
       "  <thead>\n",
       "    <tr style=\"text-align: right;\">\n",
       "      <th></th>\n",
       "      <th>text</th>\n",
       "      <th>headlines</th>\n",
       "    </tr>\n",
       "  </thead>\n",
       "  <tbody>\n",
       "    <tr>\n",
       "      <th>73505</th>\n",
       "      <td>Actress Priyanka Chopra's Sikkimese production...</td>\n",
       "      <td>Priyanka's Sikkimese production to premiere at...</td>\n",
       "    </tr>\n",
       "    <tr>\n",
       "      <th>77218</th>\n",
       "      <td>Several private schools in Haryana's Rohtak we...</td>\n",
       "      <td>Rohtak schools declare holiday as buses used f...</td>\n",
       "    </tr>\n",
       "    <tr>\n",
       "      <th>4900</th>\n",
       "      <td>PM Narendra Modi has inaugurated or laid found...</td>\n",
       "      <td>PM Modi unveils projects worth over Ã¢ÂÂ¹14,0...</td>\n",
       "    </tr>\n",
       "    <tr>\n",
       "      <th>78068</th>\n",
       "      <td>A school teacher in Odisha's Angul district ma...</td>\n",
       "      <td>School teacher makes students wash scooter for...</td>\n",
       "    </tr>\n",
       "    <tr>\n",
       "      <th>403</th>\n",
       "      <td>An 81-year-old woman named Eileen Macken who g...</td>\n",
       "      <td>I'm no more an orphan: Woman finds 103-yr-old ...</td>\n",
       "    </tr>\n",
       "    <tr>\n",
       "      <th>78157</th>\n",
       "      <td>A 13-by-7 meter billboard depicting US Preside...</td>\n",
       "      <td>Donald Trump appears as alien on billboard in ...</td>\n",
       "    </tr>\n",
       "    <tr>\n",
       "      <th>13890</th>\n",
       "      <td>Kangana Ranaut, while speaking about the #MeTo...</td>\n",
       "      <td>Some people keep wives as trophies: Kangana on...</td>\n",
       "    </tr>\n",
       "    <tr>\n",
       "      <th>19776</th>\n",
       "      <td>A video of an Assistant Sub-Inspector in Punja...</td>\n",
       "      <td>Cop beats elderly woman, drags her by her hair...</td>\n",
       "    </tr>\n",
       "    <tr>\n",
       "      <th>41531</th>\n",
       "      <td>Apple has rolled out iOS 11.3 update for iPhon...</td>\n",
       "      <td>Apple releases iOS 11.3 with battery features,...</td>\n",
       "    </tr>\n",
       "    <tr>\n",
       "      <th>97965</th>\n",
       "      <td>Electronics company LG has been sued by four G...</td>\n",
       "      <td>LG sued over flaw that made smartphones unusable</td>\n",
       "    </tr>\n",
       "  </tbody>\n",
       "</table>\n",
       "</div>"
      ],
      "text/plain": [
       "                                                    text  \\\n",
       "73505  Actress Priyanka Chopra's Sikkimese production...   \n",
       "77218  Several private schools in Haryana's Rohtak we...   \n",
       "4900   PM Narendra Modi has inaugurated or laid found...   \n",
       "78068  A school teacher in Odisha's Angul district ma...   \n",
       "403    An 81-year-old woman named Eileen Macken who g...   \n",
       "78157  A 13-by-7 meter billboard depicting US Preside...   \n",
       "13890  Kangana Ranaut, while speaking about the #MeTo...   \n",
       "19776  A video of an Assistant Sub-Inspector in Punja...   \n",
       "41531  Apple has rolled out iOS 11.3 update for iPhon...   \n",
       "97965  Electronics company LG has been sued by four G...   \n",
       "\n",
       "                                               headlines  \n",
       "73505  Priyanka's Sikkimese production to premiere at...  \n",
       "77218  Rohtak schools declare holiday as buses used f...  \n",
       "4900   PM Modi unveils projects worth over Ã¢ÂÂ¹14,0...  \n",
       "78068  School teacher makes students wash scooter for...  \n",
       "403    I'm no more an orphan: Woman finds 103-yr-old ...  \n",
       "78157  Donald Trump appears as alien on billboard in ...  \n",
       "13890  Some people keep wives as trophies: Kangana on...  \n",
       "19776  Cop beats elderly woman, drags her by her hair...  \n",
       "41531  Apple releases iOS 11.3 with battery features,...  \n",
       "97965   LG sued over flaw that made smartphones unusable  "
      ]
     },
     "execution_count": 180,
     "metadata": {},
     "output_type": "execute_result"
    }
   ],
   "source": [
    "# 98401개의 뉴스 기사 중 10개의 랜덤한 기사를 출력해보고 데이터를 제대로 불러왔는지 확인해보자\n",
    "\n",
    "data.sample(10)"
   ]
  },
  {
   "cell_type": "markdown",
   "id": "59e50713",
   "metadata": {},
   "source": [
    "<br>\n",
    "- 추상적 요약을 하는 경우 text를 본문, headlines를 이미 요약된 데이터로 삼아서 모델을 학습한다.\n",
    "<br><br>\n",
    "- 추출적 야약을 하는 경우에는 오직 text 열만을 사용한다."
   ]
  },
  {
   "cell_type": "markdown",
   "id": "6f1cd857",
   "metadata": {},
   "source": [
    "<br>\n",
    "\n",
    "---\n",
    "\n",
    "\n",
    "# Ⅰ. 추상적 요약\n",
    "\n",
    "---\n",
    "\n",
    "<br><br>"
   ]
  },
  {
   "cell_type": "markdown",
   "id": "1e91e51d",
   "metadata": {},
   "source": [
    "<br>\n",
    "\n",
    "### ✔️ Step 1. 데이터 전처리하기\n",
    "#### (1) 데이터 정리하기\n",
    "---"
   ]
  },
  {
   "cell_type": "markdown",
   "id": "bd827e9f",
   "metadata": {},
   "source": [
    "**⭐ 1) 중복 샘플과 NULL 값이 존재하는 샘플 제거<br>**"
   ]
  },
  {
   "cell_type": "code",
   "execution_count": 181,
   "id": "6485c74c",
   "metadata": {
    "scrolled": true
   },
   "outputs": [
    {
     "name": "stdout",
     "output_type": "stream",
     "text": [
      "수집된 뉴스기사 샘플의 수 : 98401\n",
      "text 열에서 중복을 배제한 유일한 샘플의 수 : 98360\n",
      "headlines 열에서 중복을 배제한 유일한 샘플의 수 : 98280\n"
     ]
    }
   ],
   "source": [
    "print('수집된 뉴스기사 샘플의 수 :', len(data))\n",
    "print('text 열에서 중복을 배제한 유일한 샘플의 수 :', data['text'].nunique())\n",
    "print('headlines 열에서 중복을 배제한 유일한 샘플의 수 :', data['headlines'].nunique())"
   ]
  },
  {
   "cell_type": "code",
   "execution_count": 182,
   "id": "66aaeb05",
   "metadata": {
    "scrolled": true
   },
   "outputs": [
    {
     "data": {
      "text/plain": [
       "Warne produced 'ball of century' with his 1st Ashes delivery         3\n",
       "Indian spinner once bowled record 21 maiden overs in a row           3\n",
       "Don Bradman once scored 100 runs in 3 overs                          3\n",
       "CARS24 enables car owners to sell their cars in less than 2 hours    3\n",
       "A solar eclipse once proved Einstein right, Newton wrong             3\n",
       "                                                                    ..\n",
       "Xiaomi files for world's biggest IPO since Alibaba in 2014           1\n",
       "Wife of automobile inventor made the world's first road trip         1\n",
       "Punished for serving the country: Ex-Pak PM Nawaz Sharif             1\n",
       "NASA prepares a new set of twin satellites to track ice melt         1\n",
       "Madhesi Morcha withdraws support to Nepalese government              1\n",
       "Name: headlines, Length: 98280, dtype: int64"
      ]
     },
     "execution_count": 182,
     "metadata": {},
     "output_type": "execute_result"
    }
   ],
   "source": [
    "data['headlines'].value_counts()"
   ]
  },
  {
   "cell_type": "markdown",
   "id": "e700dd93",
   "metadata": {},
   "source": [
    "<br>\n",
    "\n",
    "- 기사의 원문인 `text`열에서는 41개의 중복된 기사기 존재하고, 요약본인 `headlines`열에서는 121개의 중복된 요약이 존재한다.<br><br>\n",
    "- `drop_duplicates()` 매서드를 사용해서 `text`열의 중복된 기사원본을 제거하도록 한다.<br><br>\n",
    "- `headlines`의 경우는 기사가 유사한 내용을 다루고 있는 경우, 중복된 요약을 할 수 있을 것으로 간주하여 중복된 요약은 그대로 두기로 한다.<br><br>"
   ]
  },
  {
   "cell_type": "code",
   "execution_count": 183,
   "id": "aa846044",
   "metadata": {},
   "outputs": [
    {
     "name": "stdout",
     "output_type": "stream",
     "text": [
      "전체 샘플수 : 98360\n"
     ]
    }
   ],
   "source": [
    "# inplace=True 를 설정하면 DataFrame 타입 값을 return 하지 않고 data 내부를 직접적으로 바꾼다.\n",
    "\n",
    "data.drop_duplicates(subset=['text'], inplace=True)\n",
    "print('전체 샘플수 :', len(data))"
   ]
  },
  {
   "cell_type": "markdown",
   "id": "fb40e182",
   "metadata": {},
   "source": [
    "<br>\n",
    "- 중복된 샘픙을 제거하였음에도 결측 샘플데이터에 대한 전처리또한 진행해주어야 한다.<br><br>"
   ]
  },
  {
   "cell_type": "code",
   "execution_count": 184,
   "id": "8145d38d",
   "metadata": {},
   "outputs": [
    {
     "name": "stdout",
     "output_type": "stream",
     "text": [
      "text         0\n",
      "headlines    0\n",
      "dtype: int64\n"
     ]
    }
   ],
   "source": [
    "print(data.isnull().sum())"
   ]
  },
  {
   "cell_type": "markdown",
   "id": "5eeb4f5d",
   "metadata": {},
   "source": [
    "<br>\n",
    "- 결측 샘플데이터는 없으므로 중복된 기사 및 결측 데이터 전치리를 마무리한다.<br><br>"
   ]
  },
  {
   "cell_type": "markdown",
   "id": "2c84d485",
   "metadata": {},
   "source": [
    "<br><br>\n",
    "**⭐ 2) 텍스트 정규화와 불용어 제거**\n",
    "\n",
    "---"
   ]
  },
  {
   "cell_type": "markdown",
   "id": "8bd3d1bd",
   "metadata": {},
   "source": [
    "**※ 텍스트 정규화란 ?**\n",
    "- 같은 의미인데 다른 표현으로 사용된 단어들을 정리해주는 것.\n",
    "- ex) `it'll == it will`"
   ]
  },
  {
   "cell_type": "code",
   "execution_count": 185,
   "id": "fda33136",
   "metadata": {},
   "outputs": [
    {
     "name": "stdout",
     "output_type": "stream",
     "text": [
      "정규화 사전의 수:  120\n"
     ]
    }
   ],
   "source": [
    "contractions = {\"ain't\": \"is not\", \"aren't\": \"are not\",\"can't\": \"cannot\", \"'cause\": \"because\", \"could've\": \"could have\", \"couldn't\": \"could not\",\n",
    "                           \"didn't\": \"did not\",  \"doesn't\": \"does not\", \"don't\": \"do not\", \"hadn't\": \"had not\", \"hasn't\": \"has not\", \"haven't\": \"have not\",\n",
    "                           \"he'd\": \"he would\",\"he'll\": \"he will\", \"he's\": \"he is\", \"how'd\": \"how did\", \"how'd'y\": \"how do you\", \"how'll\": \"how will\", \"how's\": \"how is\",\n",
    "                           \"I'd\": \"I would\", \"I'd've\": \"I would have\", \"I'll\": \"I will\", \"I'll've\": \"I will have\",\"I'm\": \"I am\", \"I've\": \"I have\", \"i'd\": \"i would\",\n",
    "                           \"i'd've\": \"i would have\", \"i'll\": \"i will\",  \"i'll've\": \"i will have\",\"i'm\": \"i am\", \"i've\": \"i have\", \"isn't\": \"is not\", \"it'd\": \"it would\",\n",
    "                           \"it'd've\": \"it would have\", \"it'll\": \"it will\", \"it'll've\": \"it will have\",\"it's\": \"it is\", \"let's\": \"let us\", \"ma'am\": \"madam\",\n",
    "                           \"mayn't\": \"may not\", \"might've\": \"might have\",\"mightn't\": \"might not\",\"mightn't've\": \"might not have\", \"must've\": \"must have\",\n",
    "                           \"mustn't\": \"must not\", \"mustn't've\": \"must not have\", \"needn't\": \"need not\", \"needn't've\": \"need not have\",\"o'clock\": \"of the clock\",\n",
    "                           \"oughtn't\": \"ought not\", \"oughtn't've\": \"ought not have\", \"shan't\": \"shall not\", \"sha'n't\": \"shall not\", \"shan't've\": \"shall not have\",\n",
    "                           \"she'd\": \"she would\", \"she'd've\": \"she would have\", \"she'll\": \"she will\", \"she'll've\": \"she will have\", \"she's\": \"she is\",\n",
    "                           \"should've\": \"should have\", \"shouldn't\": \"should not\", \"shouldn't've\": \"should not have\", \"so've\": \"so have\",\"so's\": \"so as\",\n",
    "                           \"this's\": \"this is\",\"that'd\": \"that would\", \"that'd've\": \"that would have\", \"that's\": \"that is\", \"there'd\": \"there would\",\n",
    "                           \"there'd've\": \"there would have\", \"there's\": \"there is\", \"here's\": \"here is\",\"they'd\": \"they would\", \"they'd've\": \"they would have\",\n",
    "                           \"they'll\": \"they will\", \"they'll've\": \"they will have\", \"they're\": \"they are\", \"they've\": \"they have\", \"to've\": \"to have\",\n",
    "                           \"wasn't\": \"was not\", \"we'd\": \"we would\", \"we'd've\": \"we would have\", \"we'll\": \"we will\", \"we'll've\": \"we will have\", \"we're\": \"we are\",\n",
    "                           \"we've\": \"we have\", \"weren't\": \"were not\", \"what'll\": \"what will\", \"what'll've\": \"what will have\", \"what're\": \"what are\",\n",
    "                           \"what's\": \"what is\", \"what've\": \"what have\", \"when's\": \"when is\", \"when've\": \"when have\", \"where'd\": \"where did\", \"where's\": \"where is\",\n",
    "                           \"where've\": \"where have\", \"who'll\": \"who will\", \"who'll've\": \"who will have\", \"who's\": \"who is\", \"who've\": \"who have\",\n",
    "                           \"why's\": \"why is\", \"why've\": \"why have\", \"will've\": \"will have\", \"won't\": \"will not\", \"won't've\": \"will not have\",\n",
    "                           \"would've\": \"would have\", \"wouldn't\": \"would not\", \"wouldn't've\": \"would not have\", \"y'all\": \"you all\",\n",
    "                           \"y'all'd\": \"you all would\",\"y'all'd've\": \"you all would have\",\"y'all're\": \"you all are\",\"y'all've\": \"you all have\",\n",
    "                           \"you'd\": \"you would\", \"you'd've\": \"you would have\", \"you'll\": \"you will\", \"you'll've\": \"you will have\",\n",
    "                           \"you're\": \"you are\", \"you've\": \"you have\"}\n",
    "\n",
    "print(\"정규화 사전의 수: \", len(contractions))"
   ]
  },
  {
   "cell_type": "markdown",
   "id": "91518f47",
   "metadata": {},
   "source": [
    "<br>\n",
    "\n",
    "- 앞서 노드에서 정의해 두었던 정규화 사전을 사용하도록 한다.<br><br>\n",
    "- **불용어(stopwords)**라고 불리는 일반적으로 텍스트에 자주 등장하지만 자연어 처리할 때 실질적으로 도움이 되지 않는 단어들을 제거해야함.<br><br>\n",
    "    - `NLTK`에서 제공하는 불용어 리스트를 참조해, 샘플에서 불용어를 제거한다.<br><br>\n",
    "    - 추가적으로 모든 영어 문자는 소문자로, 섞여있는 html 태그를 제거하고, 정규 표현식을 통해 각종 특수문자를 제거해서 정말 필요한 내용만 잘 학습할 수 있도록 처리해야 함.<br><br>"
   ]
  },
  {
   "cell_type": "code",
   "execution_count": 186,
   "id": "07a34763",
   "metadata": {},
   "outputs": [
    {
     "name": "stdout",
     "output_type": "stream",
     "text": [
      "불용어 갯수 : 179\n",
      "['i', 'me', 'my', 'myself', 'we', 'our', 'ours', 'ourselves', 'you', \"you're\", \"you've\", \"you'll\", \"you'd\", 'your', 'yours', 'yourself', 'yourselves', 'he', 'him', 'his', 'himself', 'she', \"she's\", 'her', 'hers', 'herself', 'it', \"it's\", 'its', 'itself', 'they', 'them', 'their', 'theirs', 'themselves', 'what', 'which', 'who', 'whom', 'this', 'that', \"that'll\", 'these', 'those', 'am', 'is', 'are', 'was', 'were', 'be', 'been', 'being', 'have', 'has', 'had', 'having', 'do', 'does', 'did', 'doing', 'a', 'an', 'the', 'and', 'but', 'if', 'or', 'because', 'as', 'until', 'while', 'of', 'at', 'by', 'for', 'with', 'about', 'against', 'between', 'into', 'through', 'during', 'before', 'after', 'above', 'below', 'to', 'from', 'up', 'down', 'in', 'out', 'on', 'off', 'over', 'under', 'again', 'further', 'then', 'once', 'here', 'there', 'when', 'where', 'why', 'how', 'all', 'any', 'both', 'each', 'few', 'more', 'most', 'other', 'some', 'such', 'no', 'nor', 'not', 'only', 'own', 'same', 'so', 'than', 'too', 'very', 's', 't', 'can', 'will', 'just', 'don', \"don't\", 'should', \"should've\", 'now', 'd', 'll', 'm', 'o', 're', 've', 'y', 'ain', 'aren', \"aren't\", 'couldn', \"couldn't\", 'didn', \"didn't\", 'doesn', \"doesn't\", 'hadn', \"hadn't\", 'hasn', \"hasn't\", 'haven', \"haven't\", 'isn', \"isn't\", 'ma', 'mightn', \"mightn't\", 'mustn', \"mustn't\", 'needn', \"needn't\", 'shan', \"shan't\", 'shouldn', \"shouldn't\", 'wasn', \"wasn't\", 'weren', \"weren't\", 'won', \"won't\", 'wouldn', \"wouldn't\"]\n"
     ]
    }
   ],
   "source": [
    "print('불용어 갯수 :', len(stopwords.words('english')))\n",
    "print(stopwords.words('english'))"
   ]
  },
  {
   "cell_type": "code",
   "execution_count": 187,
   "id": "6fdea09a",
   "metadata": {},
   "outputs": [],
   "source": [
    "# 데이터 전처리 정제 함수\n",
    "\n",
    "def preprocess_sentence(sentence, remove_stopwords=True):\n",
    "    sentence = sentence.lower() # 텍스트 소문자화\n",
    "    sentence = BeautifulSoup(sentence, 'lxml').text # <br />, <a href = ...>등의 html 태그 제거\n",
    "    sentence = re.sub(r'\\([^)]*\\)', '', sentence) # 괄호로 닫힌 문자열 (...) 제거 Ex) my husband (and myself!) for => my husband for\n",
    "    sentence = re.sub('\"','', sentence) # 쌍따옴표 \" 제거\n",
    "    sentence = ' '.join([contractions[t] if t in contractions else t for t in sentence.split(\" \")]) # 약어 정규화\n",
    "    sentence = re.sub(r\"'s\\b\",\"\", sentence) # 소유격 제거. Ex) roland's -> roland\n",
    "    sentence = re.sub(\"[^a-zA-Z]\", \" \", sentence) # 영어 외 문자(숫자, 특수문자 등) 공백으로 변환\n",
    "    sentence = re.sub('[m]{2,}', 'mm', sentence) # m이 3개 이상이면 2개로 변경. Ex) ummmmmmm yeah -> umm yeah\n",
    "    \n",
    "    # 불용어 제거 (Text)\n",
    "    if remove_stopwords:\n",
    "        tokens = ' '.join(word for word in sentence.split() if not word in stopwords.words('english') if len(word) > 1)\n",
    "    # 불용어 미제거 (Summary)\n",
    "    else:\n",
    "        tokens = ' '.join(word for word in sentence.split() if len(word) > 1)\n",
    "    return tokens\n",
    "    "
   ]
  },
  {
   "cell_type": "code",
   "execution_count": 188,
   "id": "e38fdc53",
   "metadata": {},
   "outputs": [
    {
     "name": "stdout",
     "output_type": "stream",
     "text": [
      "0.0 % complete.\n",
      "9.15 % complete.\n",
      "18.3 % complete.\n",
      "27.45 % complete.\n",
      "36.6 % complete.\n",
      "45.75 % complete.\n",
      "54.9 % complete.\n",
      "64.05 % complete.\n",
      "73.2 % complete.\n",
      "82.35 % complete.\n",
      "91.5 % complete.\n",
      "\n",
      "text 전처리 후 결과 : ['saurav kant alumnus upgrad iiit pg program machine learning artificial intelligence sr systems engineer infosys almost years work experience program upgrad degree career support helped transition data scientist tech mahindra salary hike upgrad online power learning powered lakh careers', 'kunal shah credit card bill payment platform cred gave users chance win free food swiggy one year pranav kaushik delhi techie bagged reward spending cred coins users get one cred coin per rupee bill paid used avail rewards brands like ixigo bookmyshow ubereats cult fit', 'new zealand defeated india wickets fourth odi hamilton thursday win first match five match odi series india lost international match rohit sharma captaincy consecutive victories dating back march match witnessed india getting seventh lowest total odi cricket history', 'aegon life iterm insurance plan customers enjoy tax benefits premiums paid save taxes plan provides life cover age years also customers options insure critical illnesses disability accidental death benefit rider life cover age years', 'speaking sexual harassment allegations rajkumar hirani sonam kapoor said known hirani many years true metoo movement get derailed metoo movement always believe woman case need reserve judgment added hirani accused assistant worked sanju']\n"
     ]
    }
   ],
   "source": [
    "clean_text = []\n",
    "# 전체 text 데이터에 대한 전처리\n",
    "for i, s in enumerate(data['text']):\n",
    "    clean_text.append(preprocess_sentence(s))\n",
    "    if i % 9000 == 0:\n",
    "        print(f\"{round(100*i/len(data['text']),2)} % complete.\")\n",
    "    \n",
    "# 전처리 후 출력\n",
    "print('\\ntext 전처리 후 결과 :', clean_text[:5])"
   ]
  },
  {
   "cell_type": "code",
   "execution_count": 189,
   "id": "d14f3fcf",
   "metadata": {},
   "outputs": [
    {
     "name": "stdout",
     "output_type": "stream",
     "text": [
      "0.0 % complete.\n",
      "9.15 % complete.\n",
      "18.3 % complete.\n",
      "27.45 % complete.\n",
      "36.6 % complete.\n",
      "45.75 % complete.\n",
      "54.9 % complete.\n",
      "64.05 % complete.\n",
      "73.2 % complete.\n",
      "82.35 % complete.\n",
      "91.5 % complete.\n",
      "\n",
      "headlines 전처리 후 결과 : ['upgrad learner switches career ml al salary hike', 'delhi techie wins free food swiggy one year cred', 'new zealand end rohit sharma led india match winning streak', 'aegon life iterm insurance plan helps customers save tax', 'known hirani yrs metoo claims true sonam']\n"
     ]
    }
   ],
   "source": [
    "clean_headlines = []\n",
    "# 전체 text 데이터에 대한 전처리\n",
    "for i, s in enumerate(data['headlines']):\n",
    "    clean_headlines.append(preprocess_sentence(s))\n",
    "    if i % 9000 == 0:\n",
    "        print(f\"{round(100*i/len(data['headlines']),2)} % complete.\")\n",
    "    \n",
    "# 전처리 후 출력\n",
    "print('\\nheadlines 전처리 후 결과 :', clean_headlines[:5])"
   ]
  },
  {
   "cell_type": "markdown",
   "id": "8a2fb0b5",
   "metadata": {},
   "source": [
    "<br>\n",
    "\n",
    "- 텍스트 정제의 과정을 거친 후 다시 한번 빈(empty) 샘플이 생겼는지 확인해보자.<br>왜냐하면, 정제 전에는 데이터가 존재했지만, 정제 과정에서 문장의 모든 단어가 사라지는 경우가 있을 수 있다.<br><br>"
   ]
  },
  {
   "cell_type": "code",
   "execution_count": 190,
   "id": "e4f34fa2",
   "metadata": {},
   "outputs": [],
   "source": [
    "# 정제된 리스트 객체들을 다시 data 데이터프레임으로 재 저장한다.\n",
    "\n",
    "data['text'] = clean_text\n",
    "data['headlines'] = clean_headlines\n",
    "\n",
    "# 빈 값을 null 값으로 변환\n",
    "data.replace('', np.nan, inplace=True)"
   ]
  },
  {
   "cell_type": "code",
   "execution_count": 191,
   "id": "5a51ea5d",
   "metadata": {},
   "outputs": [
    {
     "data": {
      "text/plain": [
       "text         0\n",
       "headlines    0\n",
       "dtype: int64"
      ]
     },
     "execution_count": 191,
     "metadata": {},
     "output_type": "execute_result"
    }
   ],
   "source": [
    "# data 내에 null 값이 있는지 확인한다.\n",
    "data.isnull().sum()"
   ]
  },
  {
   "cell_type": "code",
   "execution_count": 192,
   "id": "6677f77b",
   "metadata": {},
   "outputs": [
    {
     "name": "stdout",
     "output_type": "stream",
     "text": [
      "전체 샘플 수 : 98360\n"
     ]
    }
   ],
   "source": [
    "data.dropna(axis=0, inplace=True)\n",
    "print('전체 샘플 수 :', len(data))"
   ]
  },
  {
   "cell_type": "markdown",
   "id": "65e8f15e",
   "metadata": {},
   "source": [
    "<br><br>\n",
    "**⭐ 3) 샘플의 최대 길이 정하기**\n",
    "\n",
    "---"
   ]
  },
  {
   "cell_type": "markdown",
   "id": "13c59212",
   "metadata": {},
   "source": [
    "- 필요없는 단어를 모두 솎아낸 데이터를 가지게 되었다. 이제는 훈련에 사용할 샘플의 최대 길이를 지정해보자"
   ]
  },
  {
   "cell_type": "code",
   "execution_count": 193,
   "id": "8fc1d1e3",
   "metadata": {},
   "outputs": [
    {
     "name": "stdout",
     "output_type": "stream",
     "text": [
      "텍스트의 최소 길이 : 1\n",
      "텍스트의 최대 길이 : 60\n",
      "텍스트의 평균 길이 : 35.09968483123221\n",
      "헤드라인의 최소 길이 : 1\n",
      "헤드라인의 최대 길이 : 13\n",
      "헤드라인의 평균 길이 : 7.136183407889386\n"
     ]
    },
    {
     "data": {
      "image/png": "[encoded data removed]",
      "text/plain": [
       "<Figure size 432x288 with 2 Axes>"
      ]
     },
     "metadata": {
      "needs_background": "light"
     },
     "output_type": "display_data"
    },
    {
     "data": {
      "image/png": "[encoded data removed]",
      "text/plain": [
       "<Figure size 432x288 with 1 Axes>"
      ]
     },
     "metadata": {
      "needs_background": "light"
     },
     "output_type": "display_data"
    },
    {
     "data": {
      "image/png": "[encoded data removed]",
      "text/plain": [
       "<Figure size 432x288 with 1 Axes>"
      ]
     },
     "metadata": {
      "needs_background": "light"
     },
     "output_type": "display_data"
    }
   ],
   "source": [
    "# 길이 분포 출력\n",
    "text_len = [len(s.split()) for s in data['text']]\n",
    "headlines_len = [len(s.split()) for s in data['headlines']]\n",
    "\n",
    "print('텍스트의 최소 길이 : {}'.format(np.min(text_len)))\n",
    "print('텍스트의 최대 길이 : {}'.format(np.max(text_len)))\n",
    "print('텍스트의 평균 길이 : {}'.format(np.mean(text_len)))\n",
    "print('헤드라인의 최소 길이 : {}'.format(np.min(headlines_len)))\n",
    "print('헤드라인의 최대 길이 : {}'.format(np.max(headlines_len)))\n",
    "print('헤드라인의 평균 길이 : {}'.format(np.mean(headlines_len)))\n",
    "\n",
    "plt.subplot(121)\n",
    "plt.boxplot(text_len)\n",
    "plt.title('text')\n",
    "plt.subplot(122)\n",
    "plt.boxplot(headlines_len)\n",
    "plt.title('headlines')\n",
    "plt.tight_layout()\n",
    "plt.show()\n",
    "\n",
    "plt.title('text')\n",
    "plt.hist(text_len, bins=40)\n",
    "plt.xlabel('length of samples')\n",
    "plt.ylabel('number of samples')\n",
    "plt.show()\n",
    "\n",
    "plt.title('headlines')\n",
    "plt.hist(headlines_len, bins=40)\n",
    "plt.xlabel('length of samples')\n",
    "plt.ylabel('number of samples')\n",
    "plt.show()"
   ]
  },
  {
   "cell_type": "code",
   "execution_count": 194,
   "id": "d0e124fa",
   "metadata": {},
   "outputs": [],
   "source": [
    "# 위 통계적인 데이터 값을 통해 text와 headlines의 최대 길이를 임의로 정해본다.\n",
    "\n",
    "text_max_len = 40\n",
    "headlines_max_len = 8"
   ]
  },
  {
   "cell_type": "code",
   "execution_count": 195,
   "id": "4b17f449",
   "metadata": {},
   "outputs": [],
   "source": [
    "def below_threshold_len(max_len, nested_list):\n",
    "  cnt = 0\n",
    "  for s in nested_list:\n",
    "    if(len(s.split()) <= max_len):\n",
    "        cnt = cnt + 1\n",
    "  print('전체 샘플 중 길이가 %s 이하인 샘플의 비율: %s'%(max_len, (cnt / len(nested_list))))"
   ]
  },
  {
   "cell_type": "code",
   "execution_count": 196,
   "id": "7aaa9bbc",
   "metadata": {},
   "outputs": [
    {
     "name": "stdout",
     "output_type": "stream",
     "text": [
      "전체 샘플 중 길이가 40 이하인 샘플의 비율: 0.9238714924766165\n",
      "전체 샘플 중 길이가 8 이하인 샘플의 비율: 0.8925782838552258\n"
     ]
    }
   ],
   "source": [
    "below_threshold_len(text_max_len, data['text'])\n",
    "below_threshold_len(headlines_max_len,  data['headlines'])"
   ]
  },
  {
   "cell_type": "markdown",
   "id": "1dd7db50",
   "metadata": {},
   "source": [
    "- 40과 8로 text와 headlines를 각각 패딩하게 되면 해당 길이보다 긴 샘플들은 잘리게 된다.<br>text의 경우 약 8%, headlines의 경우 약 10% 샘플의 내용이 망가지게 된다.<br><br>"
   ]
  },
  {
   "cell_type": "code",
   "execution_count": 197,
   "id": "be08174b",
   "metadata": {},
   "outputs": [
    {
     "name": "stdout",
     "output_type": "stream",
     "text": [
      "전체 샘플수 : 81914\n"
     ]
    }
   ],
   "source": [
    "data = data[data['text'].apply(lambda x: len(x.split()) <= text_max_len)]\n",
    "data = data[data['headlines'].apply(lambda x: len(x.split()) <= headlines_max_len)]\n",
    "print('전체 샘플수 :', (len(data)))"
   ]
  },
  {
   "cell_type": "markdown",
   "id": "6d4bd54d",
   "metadata": {},
   "source": [
    "△ `text`와 `headlines`의 최대길이를 설정하여 최대길이를 넘어서는 샘플은 제외시켰더니, 전체 샘플수는 98360 >>> 81914로 줄었다.<br><br>"
   ]
  },
  {
   "cell_type": "markdown",
   "id": "f5378037",
   "metadata": {},
   "source": [
    "<br><br>\n",
    "**⭐ 4) 시작토큰과 종료토큰 추가하기**\n",
    "\n",
    "---"
   ]
  },
  {
   "cell_type": "markdown",
   "id": "97d6cb09",
   "metadata": {},
   "source": [
    "- `seq2seq` 모델 훈련을 위해 디코더의 입력과 레이블에 시작 토큰과 종료 토큰을 추가해야한다.<br>디코더의 입력에 해당하면서 시작 토큰이 맨 앞에 있는 문장의 이름을 `decoder_input`, <br>디코더의 출력 또는 레이블에 해당하면서 종료 토큰이 맨 뒤에 붙는 문장의 이름은 `decoder_target`이라고 이름을 정했다.<br><br>\n",
    "- 우리의 목표인 텍스트 문장을 읽고 요약을 하기위한 것으로 두 문장 모두 `headlines` 열로부터 만들기로 한다."
   ]
  },
  {
   "cell_type": "code",
   "execution_count": 198,
   "id": "b03e0266",
   "metadata": {},
   "outputs": [
    {
     "data": {
      "text/html": [
       "<div>\n",
       "<style scoped>\n",
       "    .dataframe tbody tr th:only-of-type {\n",
       "        vertical-align: middle;\n",
       "    }\n",
       "\n",
       "    .dataframe tbody tr th {\n",
       "        vertical-align: top;\n",
       "    }\n",
       "\n",
       "    .dataframe thead th {\n",
       "        text-align: right;\n",
       "    }\n",
       "</style>\n",
       "<table border=\"1\" class=\"dataframe\">\n",
       "  <thead>\n",
       "    <tr style=\"text-align: right;\">\n",
       "      <th></th>\n",
       "      <th>text</th>\n",
       "      <th>headlines</th>\n",
       "      <th>decoder_input</th>\n",
       "      <th>decoder_target</th>\n",
       "    </tr>\n",
       "  </thead>\n",
       "  <tbody>\n",
       "    <tr>\n",
       "      <th>0</th>\n",
       "      <td>saurav kant alumnus upgrad iiit pg program mac...</td>\n",
       "      <td>upgrad learner switches career ml al salary hike</td>\n",
       "      <td>sostoken upgrad learner switches career ml al ...</td>\n",
       "      <td>upgrad learner switches career ml al salary hi...</td>\n",
       "    </tr>\n",
       "    <tr>\n",
       "      <th>4</th>\n",
       "      <td>speaking sexual harassment allegations rajkuma...</td>\n",
       "      <td>known hirani yrs metoo claims true sonam</td>\n",
       "      <td>sostoken known hirani yrs metoo claims true sonam</td>\n",
       "      <td>known hirani yrs metoo claims true sonam eostoken</td>\n",
       "    </tr>\n",
       "    <tr>\n",
       "      <th>6</th>\n",
       "      <td>india recorded lowest odi total new zealand ge...</td>\n",
       "      <td>india get lowest odi total new zealand</td>\n",
       "      <td>sostoken india get lowest odi total new zealand</td>\n",
       "      <td>india get lowest odi total new zealand eostoken</td>\n",
       "    </tr>\n",
       "    <tr>\n",
       "      <th>7</th>\n",
       "      <td>weeks ex cbi director alok verma told departme...</td>\n",
       "      <td>govt directs alok verma join work day retirement</td>\n",
       "      <td>sostoken govt directs alok verma join work day...</td>\n",
       "      <td>govt directs alok verma join work day retireme...</td>\n",
       "    </tr>\n",
       "    <tr>\n",
       "      <th>9</th>\n",
       "      <td>congress candidate shafia zubair ramgarh assem...</td>\n",
       "      <td>cong wins ramgarh bypoll rajasthan takes total...</td>\n",
       "      <td>sostoken cong wins ramgarh bypoll rajasthan ta...</td>\n",
       "      <td>cong wins ramgarh bypoll rajasthan takes total...</td>\n",
       "    </tr>\n",
       "  </tbody>\n",
       "</table>\n",
       "</div>"
      ],
      "text/plain": [
       "                                                text  \\\n",
       "0  saurav kant alumnus upgrad iiit pg program mac...   \n",
       "4  speaking sexual harassment allegations rajkuma...   \n",
       "6  india recorded lowest odi total new zealand ge...   \n",
       "7  weeks ex cbi director alok verma told departme...   \n",
       "9  congress candidate shafia zubair ramgarh assem...   \n",
       "\n",
       "                                           headlines  \\\n",
       "0   upgrad learner switches career ml al salary hike   \n",
       "4           known hirani yrs metoo claims true sonam   \n",
       "6             india get lowest odi total new zealand   \n",
       "7   govt directs alok verma join work day retirement   \n",
       "9  cong wins ramgarh bypoll rajasthan takes total...   \n",
       "\n",
       "                                       decoder_input  \\\n",
       "0  sostoken upgrad learner switches career ml al ...   \n",
       "4  sostoken known hirani yrs metoo claims true sonam   \n",
       "6    sostoken india get lowest odi total new zealand   \n",
       "7  sostoken govt directs alok verma join work day...   \n",
       "9  sostoken cong wins ramgarh bypoll rajasthan ta...   \n",
       "\n",
       "                                      decoder_target  \n",
       "0  upgrad learner switches career ml al salary hi...  \n",
       "4  known hirani yrs metoo claims true sonam eostoken  \n",
       "6    india get lowest odi total new zealand eostoken  \n",
       "7  govt directs alok verma join work day retireme...  \n",
       "9  cong wins ramgarh bypoll rajasthan takes total...  "
      ]
     },
     "execution_count": 198,
     "metadata": {},
     "output_type": "execute_result"
    }
   ],
   "source": [
    "# 요약 데이터에는 시작 토큰과 종료 토큰을 추가한다.\n",
    "data['decoder_input'] = data['headlines'].apply(lambda x:'sostoken ' + x)\n",
    "data['decoder_target'] = data['headlines'].apply(lambda x : x + ' eostoken')\n",
    "data.head()"
   ]
  },
  {
   "cell_type": "code",
   "execution_count": 199,
   "id": "23c22d88",
   "metadata": {},
   "outputs": [],
   "source": [
    "# 인코더의 입력, 디코더의 입력과 디코더의 레이블을 각각 다시 Numpy 타입으로 저장한다.\n",
    "\n",
    "encoder_input = np.array(data['text'])  # 인코더의 입력\n",
    "decoder_input = np.array(data['decoder_input'])  # 디코더의 입력\n",
    "decoder_target = np.array(data['decoder_target'])  # 디코더의 레이블"
   ]
  },
  {
   "cell_type": "markdown",
   "id": "f684474a",
   "metadata": {},
   "source": [
    "<br>\n",
    "\n",
    "- 이제 훈련데이터와 테스트데이터를 분리하는데 직접 코딩을 통해 분리하는 방법을 사용한다.<br>\n",
    "- `encoder_input`과 크기와 형태가 같은 순서가 섞인 정수 시퀀스를 만든다.<br><br>"
   ]
  },
  {
   "cell_type": "code",
   "execution_count": 200,
   "id": "a3f4647e",
   "metadata": {},
   "outputs": [
    {
     "name": "stdout",
     "output_type": "stream",
     "text": [
      "[69602   336 68984 ... 65634 49461 36983]\n"
     ]
    }
   ],
   "source": [
    "indices = np.arange(encoder_input.shape[0])\n",
    "np.random.shuffle(indices)\n",
    "print(indices)"
   ]
  },
  {
   "cell_type": "markdown",
   "id": "8086a171",
   "metadata": {},
   "source": [
    "- 정수 시퀀스를 통해 다시 데이터의 샘플 순서를 정의해주면 잘 섞인 샘플이 된다."
   ]
  },
  {
   "cell_type": "code",
   "execution_count": 205,
   "id": "c943aa50",
   "metadata": {},
   "outputs": [],
   "source": [
    "encoder_input = encoder_input[indices]\n",
    "decoder_input = decoder_input[indices]\n",
    "decoder_target = decoder_target[indices]"
   ]
  },
  {
   "cell_type": "markdown",
   "id": "500aded0",
   "metadata": {},
   "source": [
    "- 이제 섞인 데이터를 8:2 비율로 훈련 데이터와 검증데이터로 분리한다."
   ]
  },
  {
   "cell_type": "code",
   "execution_count": 206,
   "id": "dbf9c0ef",
   "metadata": {},
   "outputs": [
    {
     "name": "stdout",
     "output_type": "stream",
     "text": [
      "검증 데이터의 수 : 16382\n"
     ]
    }
   ],
   "source": [
    "n_of_val = int(len(encoder_input)*0.2)\n",
    "print('검증 데이터의 수 :', n_of_val)"
   ]
  },
  {
   "cell_type": "code",
   "execution_count": 207,
   "id": "d6aa1c03",
   "metadata": {},
   "outputs": [
    {
     "name": "stdout",
     "output_type": "stream",
     "text": [
      "훈련 데이터의 갯수 : 65532\n",
      "훈련 레이블의 갯수 : 65532\n",
      "검증 데이터의 갯수 : 16382\n",
      "검증 레이블의 갯수 : 16382\n"
     ]
    }
   ],
   "source": [
    "encoder_input_train = encoder_input[:-n_of_val]\n",
    "decoder_input_train = decoder_input[:-n_of_val]\n",
    "decoder_target_train = decoder_target[:-n_of_val]\n",
    "\n",
    "encoder_input_test = encoder_input[-n_of_val:]\n",
    "decoder_input_test = decoder_input[-n_of_val:]\n",
    "decoder_target_test = decoder_target[-n_of_val:]\n",
    "\n",
    "print('훈련 데이터의 갯수 :', len(encoder_input_train))\n",
    "print('훈련 레이블의 갯수 :', len(decoder_input_train))\n",
    "print('검증 데이터의 갯수 :', len(encoder_input_test))\n",
    "print('검증 레이블의 갯수 :', len(decoder_input_test))"
   ]
  },
  {
   "cell_type": "markdown",
   "id": "ad5cb8e1",
   "metadata": {},
   "source": [
    "<br><br>\n",
    "**⭐ 5) 단어집합(vocabulary) 만들기 및 정수 인코딩**\n",
    "\n",
    "---"
   ]
  },
  {
   "cell_type": "markdown",
   "id": "a0b0a292",
   "metadata": {},
   "source": [
    "- 이제 기계가 텍스트를 숫자로 처리할 수 있도록 훈련데이터와 검증데이터의 단어들을 모두 정수로 바꾸어 주어야 한다.<br>이를 위해서 각 단어에 고유한 정수를 맵핑하는 작업이 필요한데 이 과정을 **단어집합(vocabulary)**를 만든다고 표현한다."
   ]
  },
  {
   "cell_type": "markdown",
   "id": "54bf51f3",
   "metadata": {},
   "source": [
    "#### 5-1) `text` 데이터 정수 인코딩<br><br>"
   ]
  },
  {
   "cell_type": "code",
   "execution_count": 208,
   "id": "e793be45",
   "metadata": {},
   "outputs": [],
   "source": [
    "src_tokenizer = Tokenizer()  # 토크나이저 정의\n",
    "src_tokenizer.fit_on_texts(encoder_input_train)  # 입력된 데이터로부터 단어 집합 생성"
   ]
  },
  {
   "cell_type": "code",
   "execution_count": 209,
   "id": "96b6d78b",
   "metadata": {},
   "outputs": [
    {
     "name": "stdout",
     "output_type": "stream",
     "text": [
      "단어 집합(vocabulary)의 크기 : 63010\n",
      "등장 빈도가 6번 이하인 희귀 단어의 수: 43029\n",
      "단어 집합에서 희귀 단어를 제외시킬 경우의 단어 집합의 크기 19981\n",
      "단어 집합에서 희귀 단어의 비율: 68.28916045072211\n",
      "전체 등장 빈도에서 희귀 단어 등장 빈도 비율: 3.8922473220914204\n"
     ]
    }
   ],
   "source": [
    "threshold = 7\n",
    "total_cnt = len(src_tokenizer.word_index) # 단어의 수\n",
    "rare_cnt = 0 # 등장 빈도수가 threshold보다 작은 단어의 개수를 카운트\n",
    "total_freq = 0 # 훈련 데이터의 전체 단어 빈도수 총 합\n",
    "rare_freq = 0 # 등장 빈도수가 threshold보다 작은 단어의 등장 빈도수의 총 합\n",
    "\n",
    "# 단어와 빈도수의 쌍(pair)을 key와 value로 받는다.\n",
    "for key, value in src_tokenizer.word_counts.items():\n",
    "    total_freq = total_freq + value\n",
    "\n",
    "    # 단어의 등장 빈도수가 threshold보다 작으면\n",
    "    if(value < threshold):\n",
    "        rare_cnt = rare_cnt + 1\n",
    "        rare_freq = rare_freq + value\n",
    "\n",
    "print('단어 집합(vocabulary)의 크기 :', total_cnt)\n",
    "print('등장 빈도가 %s번 이하인 희귀 단어의 수: %s'%(threshold - 1, rare_cnt))\n",
    "print('단어 집합에서 희귀 단어를 제외시킬 경우의 단어 집합의 크기 %s'%(total_cnt - rare_cnt))\n",
    "print(\"단어 집합에서 희귀 단어의 비율:\", (rare_cnt / total_cnt)*100)\n",
    "print(\"전체 등장 빈도에서 희귀 단어 등장 빈도 비율:\", (rare_freq / total_freq)*100)"
   ]
  },
  {
   "cell_type": "markdown",
   "id": "bd5ce803",
   "metadata": {},
   "source": [
    "- `encoder_input_train`에는 6만여개의 단어가 있다.<br>\n",
    "- 등장빈도가 threshold 값이 7회 미만, 즉 6회 이하인 단어들은 단어 집합에서 약 70%를 차지한다. 하지만 실제로 훈련 데이터에서 등장 빈도로 차지하는 비중은 상대적으로 적은 수치인 3.8 밖에 되지 않는다.<br><br>\n",
    "- 따라서, 등장 빈도가 6회 이하인 단어들은 정수 인코딩 과정에서 빼고, 훈련 데이터에서 제거하고자 한다.<br>위에서 이를 제외한 단어 집합의 크기를 어림잡아 20,000으로 제한한다. \n",
    "    - 토크나이저를 정의할 때, `num_words`의 값을 정해주면, 단어 집합의 크기를 제한할 수 있다.<br><br>"
   ]
  },
  {
   "cell_type": "code",
   "execution_count": 210,
   "id": "f410a544",
   "metadata": {},
   "outputs": [],
   "source": [
    "src_vocab = 20000\n",
    "src_tokenizer = Tokenizer(num_words=src_vocab)  # 단어 집합의 크기를 20,000으로 제한\n",
    "src_tokenizer.fit_on_texts(encoder_input_train)  # 단어 집합 재생성"
   ]
  },
  {
   "cell_type": "markdown",
   "id": "3b37f298",
   "metadata": {},
   "source": [
    "- `text_to_sequences()`는 생성된 단어 집합에 기반하여 입력으로 주어진 텍스트 데이터의 단어들을 모두 정수로 변환하는 정수 인코딩을 수행함."
   ]
  },
  {
   "cell_type": "code",
   "execution_count": 211,
   "id": "75654896",
   "metadata": {
    "scrolled": true
   },
   "outputs": [
    {
     "name": "stdout",
     "output_type": "stream",
     "text": [
      "encoder_input_train ::\n",
      "[[71, 1590, 309, 3110, 592, 2072, 309, 6359, 826, 629, 6088, 3499, 2706, 223, 3870, 712, 2242, 309, 5453, 1488, 3110, 23, 1265, 798, 1, 77, 1022, 3745, 680, 1079, 973, 953, 4795, 2431, 309, 406], [419, 14, 2889, 2397, 58, 6638, 208, 10253, 826, 471, 4876, 10563, 8900, 13, 1412, 6833, 14938, 3268, 16531, 8722, 4796, 8722, 11858, 2824, 195, 103, 3435, 4620, 23, 5454, 1412, 761, 13, 2160, 726], [865, 3048, 31, 69, 194, 6089, 4, 2200, 54, 31, 485, 6089, 75, 173, 3154, 1728, 954, 1548, 17, 1144, 45, 6089, 390, 19982, 13187, 7061, 51, 181, 14295, 1773]]\n",
      "\n",
      "encoder_input_val ::\n",
      "[[147, 4536, 10233, 13, 557, 8889, 3738, 13, 91, 48, 193, 2107, 2125, 980, 13, 117, 48, 8370, 496, 321, 5922, 4774, 466, 17146, 3082, 1090, 82, 299, 11331, 1647, 343, 1647, 363, 4536, 2125, 2], [231, 1686, 94, 153, 60, 12055, 1021, 483, 140, 7, 647, 1369, 3868, 2243, 18708, 165, 2544, 1805, 1258, 67, 133, 66, 1066, 7, 234, 146, 8, 1074], [2697, 76, 500, 14962, 155, 307, 1403, 89, 2034, 203, 11, 3940, 3707, 2451, 1000, 1, 203, 4, 13, 1322, 89, 14962, 4229, 12245, 2315]]\n"
     ]
    }
   ],
   "source": [
    "# 텍스트 시퀀스를 정수 시퀀스로 변환\n",
    "encoder_input_train = src_tokenizer.texts_to_sequences(encoder_input_train)\n",
    "encoder_input_test = src_tokenizer.texts_to_sequences(encoder_input_test)\n",
    "\n",
    "# 잘 진행되었는지 샘플 출력\n",
    "print('encoder_input_train ::')\n",
    "print(encoder_input_train[:3])\n",
    "print('\\nencoder_input_val ::')\n",
    "print(encoder_input_test[:3])"
   ]
  },
  {
   "cell_type": "markdown",
   "id": "ae0c27bb",
   "metadata": {},
   "source": [
    "#### 5-2) `headlines` 데이터 정수 인코딩<br><br>"
   ]
  },
  {
   "cell_type": "code",
   "execution_count": 212,
   "id": "64156905",
   "metadata": {},
   "outputs": [],
   "source": [
    "tar_tokenizer = Tokenizer()\n",
    "tar_tokenizer.fit_on_texts(decoder_input_train)"
   ]
  },
  {
   "cell_type": "code",
   "execution_count": 213,
   "id": "55d3a41e",
   "metadata": {},
   "outputs": [
    {
     "name": "stdout",
     "output_type": "stream",
     "text": [
      "단어 집합(vocabulary)의 크기 : 27498\n",
      "등장 빈도가 5번 이하인 희귀 단어의 수: 18258\n",
      "단어 집합에서 희귀 단어를 제외시킬 경우의 단어 집합의 크기 9240\n",
      "단어 집합에서 희귀 단어의 비율: 66.39755618590442\n",
      "전체 등장 빈도에서 희귀 단어 등장 빈도 비율: 6.827360653638892\n"
     ]
    }
   ],
   "source": [
    "threshold = 6\n",
    "total_cnt = len(tar_tokenizer.word_index) # 단어의 수\n",
    "rare_cnt = 0 # 등장 빈도수가 threshold보다 작은 단어의 개수를 카운트\n",
    "total_freq = 0 # 훈련 데이터의 전체 단어 빈도수 총 합\n",
    "rare_freq = 0 # 등장 빈도수가 threshold보다 작은 단어의 등장 빈도수의 총 합\n",
    "\n",
    "# 단어와 빈도수의 쌍(pair)을 key와 value로 받는다.\n",
    "for key, value in tar_tokenizer.word_counts.items():\n",
    "    total_freq = total_freq + value\n",
    "\n",
    "    # 단어의 등장 빈도수가 threshold보다 작으면\n",
    "    if(value < threshold):\n",
    "        rare_cnt = rare_cnt + 1\n",
    "        rare_freq = rare_freq + value\n",
    "\n",
    "print('단어 집합(vocabulary)의 크기 :', total_cnt)\n",
    "print('등장 빈도가 %s번 이하인 희귀 단어의 수: %s'%(threshold - 1, rare_cnt))\n",
    "print('단어 집합에서 희귀 단어를 제외시킬 경우의 단어 집합의 크기 %s'%(total_cnt - rare_cnt))\n",
    "print(\"단어 집합에서 희귀 단어의 비율:\", (rare_cnt / total_cnt)*100)\n",
    "print(\"전체 등장 빈도에서 희귀 단어 등장 빈도 비율:\", (rare_freq / total_freq)*100)"
   ]
  },
  {
   "cell_type": "markdown",
   "id": "c16bb502",
   "metadata": {},
   "source": [
    "- 등장빈도가 5회 이하인 단어들은 단어 집합에서 약 70%를 차지하고 있다. 실제 훈련 데이터에서 등장 빈도로 차지하는 비중은 5.87% 밖에 되지 않는다."
   ]
  },
  {
   "cell_type": "code",
   "execution_count": 214,
   "id": "4d2b6b5a",
   "metadata": {},
   "outputs": [
    {
     "name": "stdout",
     "output_type": "stream",
     "text": [
      "input\n",
      "input  [[1, 11, 1346, 2314], [1, 260, 3691, 7206, 906], [1, 126, 5060, 4625, 32, 3], [1, 1052, 33, 5630, 137, 303, 3052, 1579], [1, 317, 4131, 55, 1692, 2129, 135, 2315]]\n",
      "target\n",
      "decoder  [[11, 1346, 2314, 2], [260, 3691, 7206, 906, 2], [126, 5060, 4625, 32, 3, 2], [1052, 33, 5630, 137, 303, 3052, 1579, 2], [317, 4131, 55, 1692, 2129, 135, 2315, 2]]\n"
     ]
    }
   ],
   "source": [
    "tar_vocab = 9000\n",
    "tar_tokenizer = Tokenizer(num_words=tar_vocab) \n",
    "tar_tokenizer.fit_on_texts(decoder_input_train)\n",
    "tar_tokenizer.fit_on_texts(decoder_target_train)\n",
    "\n",
    "# 텍스트 시퀀스를 정수 시퀀스로 변환\n",
    "decoder_input_train = tar_tokenizer.texts_to_sequences(decoder_input_train) \n",
    "decoder_target_train = tar_tokenizer.texts_to_sequences(decoder_target_train)\n",
    "decoder_input_test = tar_tokenizer.texts_to_sequences(decoder_input_test)\n",
    "decoder_target_test = tar_tokenizer.texts_to_sequences(decoder_target_test)\n",
    "\n",
    "# 잘 변환되었는지 확인\n",
    "print('input')\n",
    "print('input ',decoder_input_train[:5])\n",
    "print('target')\n",
    "print('decoder ',decoder_target_train[:5])"
   ]
  },
  {
   "cell_type": "markdown",
   "id": "4e0b9c2f",
   "metadata": {},
   "source": [
    "- `decoder_input_train`과 `decoder_target_train`에는 더 이상 숫자 9000이 넘는 숫자들은 존재하지 않는다. <br><br>\n",
    "- 전체 데이터에서 빈도수가 낮은 단어가 삭제되었다 따라서, 빈도수가 낮은 단어만으로 구성되었던 샘플들은 이제 빈(empty)샘플이 되었다.<br>\n",
    "- 헤드라인에서 실제 길이가 1로 나오는 인덱스를 `drop_train`과 `drop_test` 변수에 저장 후 샘플들을 모두 삭제한다.<br>"
   ]
  },
  {
   "cell_type": "code",
   "execution_count": 215,
   "id": "3596238a",
   "metadata": {
    "scrolled": true
   },
   "outputs": [
    {
     "name": "stdout",
     "output_type": "stream",
     "text": [
      "삭제할 훈련 데이터의 개수 : 1\n",
      "삭제할 테스트 데이터의 개수 : 2\n",
      "훈련 데이터의 개수 : 65531\n",
      "훈련 레이블의 개수 : 65531\n",
      "테스트 데이터의 개수 : 16380\n",
      "테스트 레이블의 개수 : 16380\n"
     ]
    }
   ],
   "source": [
    "drop_train = [index for index, sentence in enumerate(decoder_input_train) if len(sentence) == 1]\n",
    "drop_test = [index for index, sentence in enumerate(decoder_input_test) if len(sentence) == 1]\n",
    "\n",
    "print('삭제할 훈련 데이터의 개수 :', len(drop_train))\n",
    "print('삭제할 테스트 데이터의 개수 :', len(drop_test))\n",
    "\n",
    "encoder_input_train = [sentence for index, sentence in enumerate(encoder_input_train) if index not in drop_train]\n",
    "decoder_input_train = [sentence for index, sentence in enumerate(decoder_input_train) if index not in drop_train]\n",
    "decoder_target_train = [sentence for index, sentence in enumerate(decoder_target_train) if index not in drop_train]\n",
    "\n",
    "encoder_input_test = [sentence for index, sentence in enumerate(encoder_input_test) if index not in drop_test]\n",
    "decoder_input_test = [sentence for index, sentence in enumerate(decoder_input_test) if index not in drop_test]\n",
    "decoder_target_test = [sentence for index, sentence in enumerate(decoder_target_test) if index not in drop_test]\n",
    "\n",
    "print('훈련 데이터의 개수 :', len(encoder_input_train))\n",
    "print('훈련 레이블의 개수 :', len(decoder_input_train))\n",
    "print('테스트 데이터의 개수 :', len(encoder_input_test))\n",
    "print('테스트 레이블의 개수 :', len(decoder_input_test))"
   ]
  },
  {
   "cell_type": "markdown",
   "id": "14d52895",
   "metadata": {},
   "source": [
    "<br><br>\n",
    "**⭐ 6) 패딩하기**\n",
    "\n",
    "---"
   ]
  },
  {
   "cell_type": "markdown",
   "id": "0628f988",
   "metadata": {},
   "source": [
    "- 텍스트 시퀀스를 정수 시퀀스로 변환했다면, 이제 서로 다른 길이의 샘플들을 병렬 처리하기 위해 같은 길이로 맞춰주는 `패딩`작업을 해주어야 한다.\n",
    "- 미리 정해두었던 최대길이로 패딩한다."
   ]
  },
  {
   "cell_type": "code",
   "execution_count": 216,
   "id": "4b693a3f",
   "metadata": {},
   "outputs": [],
   "source": [
    "encoder_input_train = pad_sequences(encoder_input_train, maxlen=text_max_len, padding='post')\n",
    "encoder_input_test = pad_sequences(encoder_input_test, maxlen=text_max_len, padding='post')\n",
    "decoder_input_train = pad_sequences(decoder_input_train, maxlen=headlines_max_len, padding='post')\n",
    "decoder_target_train = pad_sequences(decoder_target_train, maxlen=headlines_max_len, padding='post')\n",
    "decoder_input_test = pad_sequences(decoder_input_test, maxlen=headlines_max_len, padding='post')\n",
    "decoder_target_test = pad_sequences(decoder_target_test, maxlen=headlines_max_len, padding='post')"
   ]
  },
  {
   "cell_type": "markdown",
   "id": "7e22e08d",
   "metadata": {},
   "source": [
    "<br>\n",
    "\n",
    "### ✔️ Step 2. 모델 설계하기\n",
    "---"
   ]
  },
  {
   "cell_type": "markdown",
   "id": "c1314c3b",
   "metadata": {},
   "source": [
    "**⭐ 1) 인코더 설계**\n",
    "<br>\n",
    "\n",
    "- 함수형 API를 이용해서 인코더를 설계한다."
   ]
  },
  {
   "cell_type": "code",
   "execution_count": 217,
   "id": "fea962c0",
   "metadata": {},
   "outputs": [],
   "source": [
    "from tensorflow.keras.layers import Input, LSTM, Embedding, Dense, Concatenate, TimeDistributed\n",
    "from tensorflow.keras.models import Model\n",
    "from tensorflow.keras.callbacks import EarlyStopping, ModelCheckpoint\n",
    "\n",
    "\n",
    "# 인코더 설계 시작\n",
    "embedding_dim = 128\n",
    "hidden_size = 256\n",
    "\n",
    "# 인코더 설계\n",
    "encoder_inputs = Input(shape=(text_max_len,))  # text_max_len = 50\n",
    "\n",
    "# 인코더의 임베딩 층\n",
    "enc_emb = Embedding(src_vocab, embedding_dim)(encoder_inputs) # src_vocab = 2000\n",
    "\n",
    "# 인코더의 LSTM 1\n",
    "# encoder_lstm1 = LSTM(hidden_size, return_sequences=True, return_state=True ,dropout = 0.4, recurrent_dropout = 0.4)\n",
    "encoder_lstm1 = LSTM(hidden_size, return_sequences=True, return_state=True ,dropout = 0.4)\n",
    "encoder_output1, state_h1, state_c1 = encoder_lstm1(enc_emb)\n",
    "\n",
    "# 인코더의 LSTM 2\n",
    "# encoder_lstm2 = LSTM(hidden_size, return_sequences=True, return_state=True, dropout=0.4, recurrent_dropout=0.4)\n",
    "encoder_lstm2 = LSTM(hidden_size, return_sequences=True, return_state=True, dropout=0.4)\n",
    "encoder_output2, state_h2, state_c2 = encoder_lstm2(encoder_output1)\n",
    "\n",
    "# 인코더의 LSTM 3\n",
    "# encoder_lstm3 = LSTM(hidden_size, return_state=True, return_sequences=True, dropout=0.4, recurrent_dropout=0.4)\n",
    "encoder_lstm3 = LSTM(hidden_size, return_state=True, return_sequences=True, dropout=0.4)\n",
    "encoder_outputs, state_h, state_c= encoder_lstm3(encoder_output2)"
   ]
  },
  {
   "cell_type": "markdown",
   "id": "a2c4eafb",
   "metadata": {},
   "source": [
    "- 임베딩 벡터의 차원은 128로 정의하고, hidden state의 크기는 256으로 정의했다. <br>(hidden state는 LSTM에서 얼만큼의 수용력(capacity)을 가질지 정하는 파라미터이다. 이 파라미터는 LSTM의 용량의 크기나, LSTM에서의 뉴런의 갯수라고 이해할 수 있다.)<br><br>\n",
    "- 인코더의 LSTM은 총 3개의 층으로 구성해서 모델의 복잡도를 높였다. <br>\n",
    "- hidden state의 크기를 늘리는 것이 LSTM 층 1개의 용량을 늘린다면, 3개의 층을 사용하는 것은 모델의 용량을 늘린다고 볼 수 있다."
   ]
  },
  {
   "cell_type": "markdown",
   "id": "6d3da392",
   "metadata": {},
   "source": [
    "**⭐ 2) 디코더 설계**\n",
    "<br>\n"
   ]
  },
  {
   "cell_type": "code",
   "execution_count": 218,
   "id": "2d59772d",
   "metadata": {},
   "outputs": [],
   "source": [
    "# 디코더 설계\n",
    "decoder_inputs = Input(shape=(None,))\n",
    "\n",
    "# 디코더의 임베딩 층\n",
    "dec_emb_layer = Embedding(tar_vocab, embedding_dim)  # tar_vocab = 9000\n",
    "dec_emb = dec_emb_layer(decoder_inputs)\n",
    "\n",
    "# 디코더의 LSTM\n",
    "decoder_lstm = LSTM(hidden_size, return_sequences=True, return_state=True, dropout=0.4)\n",
    "decoder_outputs, _, _ = decoder_lstm(dec_emb, initial_state=[state_h, state_c])\n",
    "# 디코더의 LSTM을 정의할 때, initial_state의 인자값으로 인코더의 hidden state와 cell state의 값을 넣어준다.\n",
    "\n",
    "# 디코더 출력층\n",
    "decoder_softmax_layer = Dense(tar_vocab, activation='softmax')  \n",
    "decoder_softmax_outputs = decoder_softmax_layer(decoder_outputs)"
   ]
  },
  {
   "cell_type": "markdown",
   "id": "15d32be0",
   "metadata": {},
   "source": [
    "<br>\n",
    "\n",
    "**⭐ 3) 모델 정의**\n",
    "<br>\n"
   ]
  },
  {
   "cell_type": "code",
   "execution_count": 219,
   "id": "444efcb7",
   "metadata": {},
   "outputs": [
    {
     "name": "stdout",
     "output_type": "stream",
     "text": [
      "Model: \"model_4\"\n",
      "__________________________________________________________________________________________________\n",
      "Layer (type)                    Output Shape         Param #     Connected to                     \n",
      "==================================================================================================\n",
      "input_7 (InputLayer)            [(None, 40)]         0                                            \n",
      "__________________________________________________________________________________________________\n",
      "embedding_2 (Embedding)         (None, 40, 128)      2560000     input_7[0][0]                    \n",
      "__________________________________________________________________________________________________\n",
      "lstm_4 (LSTM)                   [(None, 40, 256), (N 394240      embedding_2[0][0]                \n",
      "__________________________________________________________________________________________________\n",
      "input_8 (InputLayer)            [(None, None)]       0                                            \n",
      "__________________________________________________________________________________________________\n",
      "lstm_5 (LSTM)                   [(None, 40, 256), (N 525312      lstm_4[0][0]                     \n",
      "__________________________________________________________________________________________________\n",
      "embedding_3 (Embedding)         (None, None, 128)    1152000     input_8[0][0]                    \n",
      "__________________________________________________________________________________________________\n",
      "lstm_6 (LSTM)                   [(None, 40, 256), (N 525312      lstm_5[0][0]                     \n",
      "__________________________________________________________________________________________________\n",
      "lstm_7 (LSTM)                   [(None, None, 256),  394240      embedding_3[0][0]                \n",
      "                                                                 lstm_6[0][1]                     \n",
      "                                                                 lstm_6[0][2]                     \n",
      "__________________________________________________________________________________________________\n",
      "dense_3 (Dense)                 (None, None, 9000)   2313000     lstm_7[0][0]                     \n",
      "==================================================================================================\n",
      "Total params: 7,864,104\n",
      "Trainable params: 7,864,104\n",
      "Non-trainable params: 0\n",
      "__________________________________________________________________________________________________\n"
     ]
    }
   ],
   "source": [
    "# 모델 정의\n",
    "model = Model([encoder_inputs, decoder_inputs], decoder_softmax_outputs)\n",
    "model.summary()"
   ]
  },
  {
   "cell_type": "markdown",
   "id": "0abe4569",
   "metadata": {},
   "source": [
    "- 디코더의 출력층에서는 `tar_vocab`의 수많은 선택지 중 하나의 단어를 선택하는 다중 클래스 분류 문제를 풀어야 하므로, Dense 인자로 `tar_vocab`을 주고, 활성화 함수로 소프트맥스를 사용한다.<br><br>\n",
    "- 여태껏 설계한 모델은 인코더의 hidden state와 cell state를 디코더의 초기 state로 사용하는 가장 기본적인 `seq2seq` 이다.<br><br>\n",
    "- `attention mechanism`을 적용하여 디코더 출력층의 설계를 바꾸고 성능을 높여보자."
   ]
  },
  {
   "cell_type": "markdown",
   "id": "615823e8",
   "metadata": {},
   "source": [
    "<br>\n",
    "\n",
    "**⭐ 4) 어텐션 메커니즘**\n",
    "<br>\n"
   ]
  },
  {
   "cell_type": "markdown",
   "id": "89cf687b",
   "metadata": {},
   "source": [
    "- 어텐션 메커니즘을 수행하는 어텐션 함수를 설계하는 것은 또 다른 새로운 신경망을 설계해야 한다는 것이지만 여기서는 TensorFlow에 이미 구현된 어텐션 함수를 가져와서 디코더의 출력층에 어떤 방식으로 결합하는지 배워본다.<br><br>\n",
    "- `Bahdanau` 스타일의 어텐션 메커니즘을 사용한다."
   ]
  },
  {
   "cell_type": "code",
   "execution_count": 220,
   "id": "b5ebc4f9",
   "metadata": {
    "scrolled": false
   },
   "outputs": [
    {
     "name": "stdout",
     "output_type": "stream",
     "text": [
      "Model: \"model_5\"\n",
      "__________________________________________________________________________________________________\n",
      "Layer (type)                    Output Shape         Param #     Connected to                     \n",
      "==================================================================================================\n",
      "input_7 (InputLayer)            [(None, 40)]         0                                            \n",
      "__________________________________________________________________________________________________\n",
      "embedding_2 (Embedding)         (None, 40, 128)      2560000     input_7[0][0]                    \n",
      "__________________________________________________________________________________________________\n",
      "lstm_4 (LSTM)                   [(None, 40, 256), (N 394240      embedding_2[0][0]                \n",
      "__________________________________________________________________________________________________\n",
      "input_8 (InputLayer)            [(None, None)]       0                                            \n",
      "__________________________________________________________________________________________________\n",
      "lstm_5 (LSTM)                   [(None, 40, 256), (N 525312      lstm_4[0][0]                     \n",
      "__________________________________________________________________________________________________\n",
      "embedding_3 (Embedding)         (None, None, 128)    1152000     input_8[0][0]                    \n",
      "__________________________________________________________________________________________________\n",
      "lstm_6 (LSTM)                   [(None, 40, 256), (N 525312      lstm_5[0][0]                     \n",
      "__________________________________________________________________________________________________\n",
      "lstm_7 (LSTM)                   [(None, None, 256),  394240      embedding_3[0][0]                \n",
      "                                                                 lstm_6[0][1]                     \n",
      "                                                                 lstm_6[0][2]                     \n",
      "__________________________________________________________________________________________________\n",
      "attention_layer (AdditiveAttent (None, None, 256)    256         lstm_7[0][0]                     \n",
      "                                                                 lstm_6[0][0]                     \n",
      "__________________________________________________________________________________________________\n",
      "concat_layer (Concatenate)      (None, None, 512)    0           lstm_7[0][0]                     \n",
      "                                                                 attention_layer[0][0]            \n",
      "__________________________________________________________________________________________________\n",
      "dense_4 (Dense)                 (None, None, 9000)   4617000     concat_layer[0][0]               \n",
      "==================================================================================================\n",
      "Total params: 10,168,360\n",
      "Trainable params: 10,168,360\n",
      "Non-trainable params: 0\n",
      "__________________________________________________________________________________________________\n"
     ]
    }
   ],
   "source": [
    "from tensorflow.keras.layers import AdditiveAttention\n",
    "\n",
    "# 어텐션 층(어텐션 함수)\n",
    "attn_layer = AdditiveAttention(name='attention_layer')\n",
    "\n",
    "# 인코더와 디코더의 모든 time step의 hidden state를 어텐션 층에 전달하고 결과를 리턴\n",
    "attn_out = attn_layer([decoder_outputs, encoder_outputs])\n",
    "\n",
    "\n",
    "# 어텐션의 결과와 디코더의 hidden state들을 연결\n",
    "decoder_concat_input = Concatenate(axis=-1, name='concat_layer')([decoder_outputs, attn_out])\n",
    "\n",
    "# 디코더의 출력층\n",
    "decoder_softmax_layer = Dense(tar_vocab, activation='softmax')\n",
    "decoder_softmax_outputs = decoder_softmax_layer(decoder_concat_input)\n",
    "\n",
    "# 모델 정의\n",
    "model = Model([encoder_inputs, decoder_inputs], decoder_softmax_outputs)\n",
    "model.summary()"
   ]
  },
  {
   "cell_type": "markdown",
   "id": "19ccfe50",
   "metadata": {},
   "source": [
    "<br>\n",
    "\n",
    "### ✔️ Step 3. 모델 훈련하기\n",
    "---"
   ]
  },
  {
   "cell_type": "code",
   "execution_count": 221,
   "id": "d93970cd",
   "metadata": {},
   "outputs": [
    {
     "name": "stdout",
     "output_type": "stream",
     "text": [
      "Epoch 1/50\n",
      "256/256 [==============================] - 25s 81ms/step - loss: 6.5107 - val_loss: 6.1406\n",
      "Epoch 2/50\n",
      "256/256 [==============================] - 20s 78ms/step - loss: 6.0119 - val_loss: 5.7853\n",
      "Epoch 3/50\n",
      "256/256 [==============================] - 20s 77ms/step - loss: 5.6514 - val_loss: 5.4710\n",
      "Epoch 4/50\n",
      "256/256 [==============================] - 19s 76ms/step - loss: 5.3624 - val_loss: 5.2695\n",
      "Epoch 5/50\n",
      "256/256 [==============================] - 20s 76ms/step - loss: 5.1182 - val_loss: 5.1139\n",
      "Epoch 6/50\n",
      "256/256 [==============================] - 20s 77ms/step - loss: 4.9073 - val_loss: 4.9763\n",
      "Epoch 7/50\n",
      "256/256 [==============================] - 20s 77ms/step - loss: 4.7209 - val_loss: 4.8812\n",
      "Epoch 8/50\n",
      "256/256 [==============================] - 20s 77ms/step - loss: 4.5548 - val_loss: 4.7982\n",
      "Epoch 9/50\n",
      "256/256 [==============================] - 20s 77ms/step - loss: 4.4045 - val_loss: 4.7377\n",
      "Epoch 10/50\n",
      "256/256 [==============================] - 20s 77ms/step - loss: 4.2711 - val_loss: 4.6837\n",
      "Epoch 11/50\n",
      "256/256 [==============================] - 20s 77ms/step - loss: 4.1508 - val_loss: 4.6382\n",
      "Epoch 12/50\n",
      "256/256 [==============================] - 20s 77ms/step - loss: 4.0355 - val_loss: 4.6101\n",
      "Epoch 13/50\n",
      "256/256 [==============================] - 20s 77ms/step - loss: 3.9310 - val_loss: 4.5819\n",
      "Epoch 14/50\n",
      "256/256 [==============================] - 20s 77ms/step - loss: 3.8338 - val_loss: 4.5664\n",
      "Epoch 15/50\n",
      "256/256 [==============================] - 20s 77ms/step - loss: 3.7421 - val_loss: 4.5465\n",
      "Epoch 16/50\n",
      "256/256 [==============================] - 20s 77ms/step - loss: 3.6548 - val_loss: 4.5300\n",
      "Epoch 17/50\n",
      "256/256 [==============================] - 20s 77ms/step - loss: 3.5755 - val_loss: 4.5234\n",
      "Epoch 18/50\n",
      "256/256 [==============================] - 20s 77ms/step - loss: 3.4972 - val_loss: 4.5180\n",
      "Epoch 19/50\n",
      "256/256 [==============================] - 20s 77ms/step - loss: 3.4228 - val_loss: 4.5140\n",
      "Epoch 20/50\n",
      "256/256 [==============================] - 20s 77ms/step - loss: 3.3522 - val_loss: 4.5081\n",
      "Epoch 21/50\n",
      "256/256 [==============================] - 20s 77ms/step - loss: 3.2878 - val_loss: 4.5055\n",
      "Epoch 22/50\n",
      "256/256 [==============================] - 20s 77ms/step - loss: 3.2257 - val_loss: 4.5152\n",
      "Epoch 23/50\n",
      "256/256 [==============================] - 20s 77ms/step - loss: 3.1655 - val_loss: 4.5123\n",
      "Epoch 00023: early stopping\n"
     ]
    }
   ],
   "source": [
    "model.compile(optimizer='rmsprop', loss='sparse_categorical_crossentropy')\n",
    "\n",
    "es = EarlyStopping(monitor='val_loss', patience=2, verbose=1)\n",
    "\n",
    "history = model.fit(x=[encoder_input_train, decoder_input_train], y=decoder_target_train,\n",
    "          validation_data=([encoder_input_test, decoder_input_test], decoder_target_test),\n",
    "          batch_size=256, callbacks=[es], epochs=50)"
   ]
  },
  {
   "cell_type": "markdown",
   "id": "89006ccf",
   "metadata": {},
   "source": [
    "- 조기 종료를 뜻하는 `EarlyStopping`은 특정 조건이 충족되면 훈련을 멈추는 역할을 한다.<br><br>\n",
    "    - 위 코드에서는 `val_loss`(검증데이터의 손실)을 관찰하다가, 검증 데이터의 손실이 줄어들지 않고 증가하는 현상이 2회(patient=2) 관측되면 학습이 멈추도록 설정되었다."
   ]
  },
  {
   "cell_type": "code",
   "execution_count": 222,
   "id": "9e2cd710",
   "metadata": {},
   "outputs": [
    {
     "data": {
      "image/png": "[encoded data removed]",
      "text/plain": [
       "<Figure size 432x288 with 1 Axes>"
      ]
     },
     "metadata": {
      "needs_background": "light"
     },
     "output_type": "display_data"
    }
   ],
   "source": [
    "plt.plot(history.history['loss'], label='train')\n",
    "plt.plot(history.history['val_loss'], label='test')\n",
    "plt.legend()\n",
    "plt.show()"
   ]
  },
  {
   "cell_type": "markdown",
   "id": "86df1c12",
   "metadata": {},
   "source": [
    "<br>\n",
    "\n",
    "### ✔️ Step 4. 인퍼런스 모델 구현하기\n",
    "---"
   ]
  },
  {
   "cell_type": "markdown",
   "id": "eaab7325",
   "metadata": {},
   "source": [
    "- 테스트 단계에서는 정수 인덱스 행렬로 존재하던 텍스트 데이터를 실제 데이터로 복원해야 하므로, 필요한 3개의 사전을 미리 준비해둔다."
   ]
  },
  {
   "cell_type": "code",
   "execution_count": 223,
   "id": "6a374795",
   "metadata": {},
   "outputs": [],
   "source": [
    "src_index_to_word = src_tokenizer.index_word # 원문 단어 집합에서 정수 -> 단어를 얻음\n",
    "tar_word_to_index = tar_tokenizer.word_index # 헤드라인 단어 집합에서 단어 -> 정수를 얻음\n",
    "tar_index_to_word = tar_tokenizer.index_word # 헤드라인 단어 집합에서 정수 -> 단어를 얻음"
   ]
  },
  {
   "cell_type": "markdown",
   "id": "70f2944e",
   "metadata": {},
   "source": [
    "- `seq2seq` 모델은 훈련할 때와 인퍼런스(실제 동작)할 때의 방식이 다르다.<br><br>\n",
    "    - 훈련 단계에서는 디코더의 입력부에 정답이 되는 문장 전체를 한꺼번에 넣고 디코더의 출력과 한 번에 비교할 수 있으므로, 인코더와 디코더를 엮은 통짜 모델 하나만 준비하면 된다.<br><br>\n",
    "    - 인퍼런스 단계(정답 문장이 없는)에서는 만들어야 할 문장의 길이만큼 디코더가 반복 구조로 동작해야 하기 때문에 부득이하게 인퍼런스를 위한 모델 설계를 별도로 해주어야 한다.<br><br>        \n",
    "        - 이때는 인코더 모델과 디코더 모델을 분리해서 설계한다."
   ]
  },
  {
   "cell_type": "code",
   "execution_count": 224,
   "id": "fb8f56f0",
   "metadata": {},
   "outputs": [],
   "source": [
    "# 인코더 설계\n",
    "encoder_model = Model(inputs=encoder_inputs, outputs=[encoder_outputs, state_h, state_c])\n",
    "\n",
    "# 이전 시점의 상태들을 저장하는 텐서\n",
    "decoder_state_input_h = Input(shape=(hidden_size,))\n",
    "decoder_state_input_c = Input(shape=(hidden_size,))\n",
    "\n",
    "# 디코더 임베딩 층\n",
    "dec_emb2 = dec_emb_layer(decoder_inputs)\n",
    "\n",
    "# 문장의 다음 단어를 예측하기 위해서 초기 상태(initial_state)를 이전 시점의 상태로 사용. 이는 뒤의 함수 decode_sequence()에 구현\n",
    "# 훈련 과정에서와 달리 LSTM의 리턴하는 은닉 상태와 셀 상태인 state_h와 state_c를 버리지 않음.\n",
    "decoder_outputs2, state_h2, state_c2 = decoder_lstm(dec_emb2, initial_state=[decoder_state_input_h, decoder_state_input_c])\n"
   ]
  },
  {
   "cell_type": "markdown",
   "id": "f6015d3e",
   "metadata": {},
   "source": [
    "- 어텐션 메커니즘을 사용하는 출력층을 설계한다."
   ]
  },
  {
   "cell_type": "code",
   "execution_count": 225,
   "id": "4d998e44",
   "metadata": {},
   "outputs": [],
   "source": [
    "# 어텐션 함수\n",
    "decoder_hidden_state_input = Input(shape=(text_max_len, hidden_size))\n",
    "attn_out_inf = attn_layer([decoder_outputs2, decoder_hidden_state_input])\n",
    "decoder_inf_concat = Concatenate(axis=-1, name='concat')([decoder_outputs2, attn_out_inf])\n",
    "\n",
    "# 디코더의 출력층\n",
    "decoder_outputs2 = decoder_softmax_layer(decoder_inf_concat) \n",
    "\n",
    "# 최종 디코더 모델\n",
    "decoder_model = Model(\n",
    "    [decoder_inputs] + [decoder_hidden_state_input,decoder_state_input_h, decoder_state_input_c],\n",
    "    [decoder_outputs2] + [state_h2, state_c2])"
   ]
  },
  {
   "cell_type": "markdown",
   "id": "71a0cdae",
   "metadata": {},
   "source": [
    "- 인퍼런스 단계에서 단어 시퀀스를 완성하는 함수"
   ]
  },
  {
   "cell_type": "code",
   "execution_count": 226,
   "id": "cec95051",
   "metadata": {},
   "outputs": [],
   "source": [
    "def decode_sequence(input_seq):\n",
    "    # 입력으로부터 인코더의 상태를 얻음\n",
    "    e_out, e_h, e_c = encoder_model.predict(input_seq)\n",
    "    \n",
    "    # <sos>에 해당하는 토큰 생성\n",
    "    target_seq = np.zeros((1,1))\n",
    "    target_seq[0, 0] = tar_word_to_index['sostoken']\n",
    "    \n",
    "    stop_condition = False\n",
    "    decoded_sentence = ''\n",
    "    while not stop_condition:  # stop_condition이 True가 될 때까지 루프 반복\n",
    "        \n",
    "        output_tokens, h, c = decoder_model.predict([target_seq] + [e_out, e_h, e_c])\n",
    "        sampled_token_index = np.argmax(output_tokens[0, -1, :])\n",
    "        sampled_token = tar_index_to_word[sampled_token_index]\n",
    "        \n",
    "        if sampled_token != 'eostoken':\n",
    "            decoded_sentence += ' '+sampled_token\n",
    "        \n",
    "        # <eos>에 도달하거나 최대 길이를 넘으면 중단.\n",
    "        if (sampled_token == 'eostoken'  or len(decoded_sentence.split()) >= (headlines_max_len-1)):\n",
    "            stop_condition = True\n",
    "            \n",
    "        # 길이가 1인 타겟 시퀀스를 업데이트\n",
    "        target_seq = np.zeros((1,1))\n",
    "        target_seq[0,0] = sampled_token_index\n",
    "        \n",
    "        # 상태를 업데이트\n",
    "        e_h, e_c = h, c\n",
    "        \n",
    "    return decoded_sentence"
   ]
  },
  {
   "cell_type": "markdown",
   "id": "0840d8f7",
   "metadata": {},
   "source": [
    "<br>\n",
    "\n",
    "### ✔️ Step 5. 모델 테스트하기\n",
    "---"
   ]
  },
  {
   "cell_type": "markdown",
   "id": "9ec19a23",
   "metadata": {},
   "source": [
    "- 테스트 단계에서는 정수 시퀀스를 텍스트 시퀀스로 변환하여 결과를 확인하는것이 편하다. 따라서, 주어진 정수 시퀀스를 텍스트 시퀀스로 변환하는 함수를 만든다.<br><br>\n",
    "    - text의 정수 시퀀스에서는 패딩을 위해 사용되는 숫자 0을 제외하고, headlines의 정수 시퀀스에서는 숫자 0, 시작 토큰의 인덱스, 종료 토큰의 인덱스를 출력에서 제외하도록 만든다."
   ]
  },
  {
   "cell_type": "code",
   "execution_count": 227,
   "id": "ff9208fe",
   "metadata": {},
   "outputs": [],
   "source": [
    "# text의 정수 시퀀스를 텍스트 시퀀스로 변환\n",
    "def seq2text(input_seq):\n",
    "    temp=''\n",
    "    for i in input_seq:\n",
    "        if i!=0:\n",
    "            temp = temp + src_index_to_word[i]+' '\n",
    "    return temp\n",
    "    \n",
    "# headlines의 정수 시퀀스를 텍스트 시퀀스로 변환\n",
    "def seq2headlines(input_seq):\n",
    "    temp=''\n",
    "    for i in input_seq:\n",
    "        if ((i!=0 and i!=tar_word_to_index['sostoken']) and i!=tar_word_to_index['eostoken']):\n",
    "            temp = temp + tar_index_to_word[i]+' '\n",
    "    return temp"
   ]
  },
  {
   "cell_type": "code",
   "execution_count": 297,
   "id": "ada6a759",
   "metadata": {
    "scrolled": false
   },
   "outputs": [
    {
     "name": "stdout",
     "output_type": "stream",
     "text": [
      "text                  : irrfan khan starrer karwaan released today little wrote hindustan times film leaves warm feeling heart said times india indian express wrote karwaan aiming charm rated \n",
      "\n",
      "실제 headlines        : irrfan khan starrer hits theatres \n",
      "\n",
      "추상적 요약 headlines :  irrfan khan starrer hits theatres\n",
      "\n",
      "===============================================================================================\n",
      "\n",
      "text                  : supreme court removed ban entry women kerala sabarimala temple head priest friday said disappointed verdict accept meanwhile board president said file review petition getting support religious heads \n",
      "\n",
      "실제 headlines        : sc order women entry disappointing sabarimala head priest \n",
      "\n",
      "추상적 요약 headlines :  sabarimala temple verdict sabarimala\n",
      "\n",
      "===============================================================================================\n",
      "\n",
      "text                  : uk government considering scrapping jail terms six months less england wales bid ease pressure prisons justice minister stewart said around criminals including burglars could spared jail every year proposed move according reports exceptions would made violent sex offenders \n",
      "\n",
      "실제 headlines        : uk may scrap jail terms six months less \n",
      "\n",
      "추상적 요약 headlines :  uk uk secretary appointed uk secretary\n",
      "\n",
      "===============================================================================================\n",
      "\n",
      "text                  : us national security advisor john bolton said listen recording related murder saudi journalist jamal khashoggi arabic speak language people speak arabic listened tape given us substance bolton added \n",
      "\n",
      "실제 headlines        : listen journo murder tape us nsa \n",
      "\n",
      "추상적 요약 headlines :  us journalist called journalist\n",
      "\n",
      "===============================================================================================\n",
      "\n",
      "text                  : iraqi authorities discovered two mass graves containing bodies civilians including women children graves found town thousands belonging religious minority killed isis captured kurdish fighters backed us led coalition \n",
      "\n",
      "실제 headlines        : mass graves containing bodies civilians found iraq \n",
      "\n",
      "추상적 요약 headlines :  bodies found found iraq\n",
      "\n",
      "===============================================================================================\n",
      "\n",
      "text                  : prime minister narendra modi bangladeshi counterpart sheikh hasina saturday flagged trial run passenger train service kolkata bangladesh named express second passenger train india bangladesh regular service kolkata station commence july railway officials said \n",
      "\n",
      "실제 headlines        : modi flag trial run india bangladesh train \n",
      "\n",
      "추상적 요약 headlines :  pm modi inaugurates train derailment\n",
      "\n",
      "===============================================================================================\n",
      "\n",
      "text                  : actor sushant singh rajput said mind men flirting takes compliment however added usually expect attention men meanwhile rumoured sushant dating actress kriti sanon since started filming upcoming film raabta \n",
      "\n",
      "실제 headlines        : mind men compliment sushant \n",
      "\n",
      "추상적 요약 headlines :  sushant slams sushant take action\n",
      "\n",
      "===============================================================================================\n",
      "\n",
      "text                  : bjp president amit shah said congress chief rahul gandhi worried infiltrators citizens die bomb blasts conducted infiltrators assam lakh infiltrators identified soon rahul baba company started creating ruckus parliament shah added accused congress harbouring perpetrators anti sikh riots \n",
      "\n",
      "실제 headlines        : rahul worried citizens amit shah \n",
      "\n",
      "추상적 요약 headlines :  rahul gandhi calls congress\n",
      "\n",
      "===============================================================================================\n",
      "\n"
     ]
    }
   ],
   "source": [
    "for i in range(2,10):\n",
    "    print('text                  :', seq2text(encoder_input_test[i]))\n",
    "    print('\\n실제 headlines        :', seq2headlines(decoder_input_test[i]))\n",
    "    print('\\n추상적 요약 headlines :', decode_sequence(encoder_input_test[i].reshape(1, text_max_len)))\n",
    "    print('\\n===============================================================================================\\n')"
   ]
  },
  {
   "cell_type": "markdown",
   "id": "3746a766",
   "metadata": {},
   "source": [
    "<br>\n",
    "\n",
    "---\n",
    "\n",
    "\n",
    "# Ⅱ. 추출적 요약\n",
    "\n",
    "---\n",
    "\n",
    "<br><br>"
   ]
  },
  {
   "cell_type": "markdown",
   "id": "b0ab51c0",
   "metadata": {},
   "source": [
    "**⭐ 1) 중복 샘플과 NULL 값이 존재하는 샘플 제거<br>**"
   ]
  },
  {
   "cell_type": "code",
   "execution_count": 284,
   "id": "46a46953",
   "metadata": {},
   "outputs": [
    {
     "name": "stdout",
     "output_type": "stream",
     "text": [
      "(98401, 2)\n",
      "Index(['headlines', 'text'], dtype='object')\n"
     ]
    }
   ],
   "source": [
    "import urllib.request\n",
    "urllib.request.urlretrieve(\"https://raw.githubusercontent.com/sunnysai12345/News_Summary/master/news_summary_more.csv\", filename=\"news_summary_more.csv\")\n",
    "data = pd.read_csv('news_summary_more.csv', encoding='iso-8859-1')\n",
    "print(data.shape)\n",
    "print(data.columns)\n",
    "\n",
    "data=data[['text', 'headlines']]"
   ]
  },
  {
   "cell_type": "code",
   "execution_count": 285,
   "id": "1ef205e0",
   "metadata": {
    "scrolled": false
   },
   "outputs": [
    {
     "name": "stdout",
     "output_type": "stream",
     "text": [
      "수집된 뉴스기사 샘플의 수 : 98401\n",
      "text 열에서 중복을 배제한 유일한 샘플의 수 : 98360\n"
     ]
    }
   ],
   "source": [
    "print('수집된 뉴스기사 샘플의 수 :', len(data))\n",
    "print('text 열에서 중복을 배제한 유일한 샘플의 수 :', data['text'].nunique())"
   ]
  },
  {
   "cell_type": "code",
   "execution_count": 286,
   "id": "67b7f3b6",
   "metadata": {},
   "outputs": [
    {
     "name": "stdout",
     "output_type": "stream",
     "text": [
      "전체 샘플수 : 98360\n"
     ]
    }
   ],
   "source": [
    "# inplace=True 를 설정하면 DataFrame 타입 값을 return 하지 않고 data 내부를 직접적으로 바꾼다.\n",
    "\n",
    "data.drop_duplicates(subset=['text'], inplace=True)\n",
    "print('전체 샘플수 :', len(data))"
   ]
  },
  {
   "cell_type": "code",
   "execution_count": 287,
   "id": "9ece0964",
   "metadata": {},
   "outputs": [
    {
     "name": "stdout",
     "output_type": "stream",
     "text": [
      "text         0\n",
      "headlines    0\n",
      "dtype: int64\n"
     ]
    }
   ],
   "source": [
    "print(data.isnull().sum())"
   ]
  },
  {
   "cell_type": "markdown",
   "id": "34040d24",
   "metadata": {},
   "source": [
    "<br>\n",
    "\n",
    "### ✔️ Step 1. Summarize 사용하기\n",
    "---"
   ]
  },
  {
   "cell_type": "code",
   "execution_count": 288,
   "id": "87e7d9c7",
   "metadata": {},
   "outputs": [],
   "source": [
    "import requests\n",
    "from summa.summarizer import summarize"
   ]
  },
  {
   "cell_type": "markdown",
   "id": "a73df1f8",
   "metadata": {},
   "source": [
    "<br>\n",
    "\n",
    "**Summa의 summarize()의 인자로 사용되는 값들에 대해서 알아보자.**\n",
    "<br>\n",
    "\n",
    "> text(str) : 요약할 텍스트,<br>\n",
    "> ratio(float, optional) - 요약문에서 원본에서 선택되는 문장 비율. 0~1 사이값<br>\n",
    "> words(int or None, optional) - 출력에 포함할 단어 수.<br>\n",
    "> 만약, ratio와 함께 두 파라미터가 모두 제공되는 경우 ratio는 무시한다.<br>\n",
    "> split(bool, optional) - True면 문장 list , False는 조인(join)된 문자열을 반환<br>"
   ]
  },
  {
   "cell_type": "markdown",
   "id": "463edd7a",
   "metadata": {},
   "source": [
    "<br>\n",
    "\n",
    "### ✔️ Step 2. 모델 테스트하기\n",
    "---"
   ]
  },
  {
   "cell_type": "code",
   "execution_count": 298,
   "id": "af64cec9",
   "metadata": {
    "scrolled": false
   },
   "outputs": [
    {
     "name": "stdout",
     "output_type": "stream",
     "text": [
      "text                  : New Zealand defeated India by 8 wickets in the fourth ODI at Hamilton on Thursday to win their first match of the five-match ODI series. India lost an international match under Rohit Sharma's captaincy after 12 consecutive victories dating back to March 2018. The match witnessed India getting all out for 92, their seventh lowest total in ODI cricket history.\n",
      "\n",
      "실제 headlines        : New Zealand end Rohit Sharma-led India's 12-match winning streak\n",
      "\n",
      "추출적 요약 headlines : The match witnessed India getting all out for 92, their seventh lowest total in ODI cricket history.\n",
      "\n",
      "===============================================================================================\n",
      "\n",
      "text                  : With Aegon Life iTerm Insurance plan, customers can enjoy tax benefits on your premiums paid and save up to Ã¢ÂÂ¹46,800^ on taxes. The plan provides life cover up to the age of 100 years. Also, customers have options to insure against Critical Illnesses, Disability and Accidental Death Benefit Rider with a life cover up to the age of 80 years.\n",
      "\n",
      "실제 headlines        : Aegon life iTerm insurance plan helps customers save tax\n",
      "\n",
      "추출적 요약 headlines : Also, customers have options to insure against Critical Illnesses, Disability and Accidental Death Benefit Rider with a life cover up to the age of 80 years.\n",
      "\n",
      "===============================================================================================\n",
      "\n",
      "text                  : Speaking about the sexual harassment allegations against Rajkumar Hirani, Sonam Kapoor said, \"I've known Hirani for many years...What if it's not true, the [#MeToo] movement will get derailed.\" \"In the #MeToo movement, I always believe a woman. But in this case, we need to reserve our judgment,\" she added. Hirani has been accused by an assistant who worked in 'Sanju'.\n",
      "\n",
      "실제 headlines        : Have known Hirani for yrs, what if MeToo claims are not true: Sonam\n",
      "\n",
      "추출적 요약 headlines : Speaking about the sexual harassment allegations against Rajkumar Hirani, Sonam Kapoor said, \"I've known Hirani for many years...What if it's not true, the [#MeToo] movement will get derailed.\" \"In the #MeToo movement, I always believe a woman.\n",
      "\n",
      "===============================================================================================\n",
      "\n",
      "text                  : Pakistani singer Rahat Fateh Ali Khan has denied receiving any notice from the Enforcement Directorate over allegedly smuggling foreign currency out of India. \"It would have been better if the authorities would have served the notice first if any and then publicised this,\" reads a press release issued on behalf of Rahat. The statement further called the allegation \"bizarre\".\n",
      "\n",
      "실제 headlines        : Rahat Fateh Ali Khan denies getting notice for smuggling currency\n",
      "\n",
      "추출적 요약 headlines : Pakistani singer Rahat Fateh Ali Khan has denied receiving any notice from the Enforcement Directorate over allegedly smuggling foreign currency out of India.\n",
      "\n",
      "===============================================================================================\n",
      "\n",
      "text                  : India recorded their lowest ODI total in New Zealand after getting all out for 92 runs in 30.5 overs in the fourth ODI at Hamilton on Thursday. Seven of India's batsmen were dismissed for single-digit scores, while their number ten batsman Yuzvendra Chahal top-scored with 18*(37). India's previous lowest ODI total in New Zealand was 108.\n",
      "\n",
      "실제 headlines        : India get all out for 92, their lowest ODI total in New Zealand\n",
      "\n",
      "추출적 요약 headlines : India's previous lowest ODI total in New Zealand was 108.\n",
      "\n",
      "===============================================================================================\n",
      "\n",
      "text                  : Weeks after ex-CBI Director Alok Verma told the Department of Personnel and Training to consider him retired, the Home Ministry asked him to join work on the last day of his fixed tenure as Director on Thursday. The ministry directed him to immediately join as DG, Fire Services, the post he was transferred to after his removal as CBI chief.\n",
      "\n",
      "실제 headlines        : Govt directs Alok Verma to join work 1 day before his retirement\n",
      "\n",
      "추출적 요약 headlines : Weeks after ex-CBI Director Alok Verma told the Department of Personnel and Training to consider him retired, the Home Ministry asked him to join work on the last day of his fixed tenure as Director on Thursday.\n",
      "\n",
      "===============================================================================================\n",
      "\n",
      "text                  : Andhra Pradesh CM N Chandrababu Naidu has said, \"When I met then US President Bill Clinton, I addressed him as Mr Clinton, not as 'sir'. (PM Narendra) Modi is my junior in politics...I addressed him as sir 10 times.\" \"I did this...to satisfy his ego in the hope that he will do justice to the state,\" he added.\n",
      "\n",
      "실제 headlines        : Called PM Modi 'sir' 10 times to satisfy his ego: Andhra CM\n",
      "\n",
      "추출적 요약 headlines : Andhra Pradesh CM N Chandrababu Naidu has said, \"When I met then US President Bill Clinton, I addressed him as Mr Clinton, not as 'sir'.\n",
      "\n",
      "===============================================================================================\n",
      "\n",
      "text                  : Congress candidate Shafia Zubair won the Ramgarh Assembly seat in Rajasthan, by defeating BJP's Sukhwant Singh with a margin of 12,228 votes in the bypoll. With this victory, Congress has taken its total to 100 seats in the 200-member assembly. The election to the Ramgarh seat was delayed due to the death of sitting MLA and BSP candidate Laxman Singh.\n",
      "\n",
      "실제 headlines        : Cong wins Ramgarh bypoll in Rajasthan, takes total to 100 seats\n",
      "\n",
      "추출적 요약 headlines : Congress candidate Shafia Zubair won the Ramgarh Assembly seat in Rajasthan, by defeating BJP's Sukhwant Singh with a margin of 12,228 votes in the bypoll.\n",
      "\n",
      "===============================================================================================\n",
      "\n"
     ]
    }
   ],
   "source": [
    "for i in range(2,10):\n",
    "    print('text                  :', data['text'][i])\n",
    "    print('\\n실제 headlines        :', data['headlines'][i])\n",
    "    print('\\n추출적 요약 headlines :', summarize(text[i], ratio=1/len(text[i].split('. '))))\n",
    "    print('\\n===============================================================================================\\n')"
   ]
  },
  {
   "cell_type": "markdown",
   "id": "01862033",
   "metadata": {},
   "source": [
    "<br>\n",
    "\n",
    "---\n",
    "\n",
    "\n",
    "# . Ⅲ 정리\n",
    "\n",
    "---\n",
    "\n",
    "<br><br>\n",
    "\n",
    "- 확실히 자연어 처리(Natural Language Processing)는 전처리 작업 서부터 모델학습 그리고 인퍼런스 모델까지 정말 다양한 과정을 수행해야만 테스트를 진행할 수 있었다. <br><br>\n",
    "\n",
    "--- \n",
    "- **1. 전처리를 하기위해...** <br><br>\n",
    "    - 첫번째로, 데이터를 정리하였는데 1) 중복된 문장이 있는지 살펴보았고 2) 빈 문장을 제거하였다. 3) 텍스트 정규화를 진행하였으며 4) NLTK(Natural Language Toolkit)를 사용하여 불용어 처리를 진행하였다.\n",
    "    - 두번째로, 훈련데이터와 테스트 데이터로 나누었다.\n",
    "    - 세번째로, 정수 인코딩을 진행하였다.<br><br>\n",
    "- **2, 모델 설계하기**<br>\n",
    "- **3, 모델 훈련하기**<br>\n",
    "- **4, 인퍼런스 모델 구현하기**<br>\n",
    "- **5, 모델 테스트하기**<br>\n",
    "- **6, 추출적 요약 해보기**<br><br>\n",
    "\n",
    "- 모델학습은 안정적으로 수렴됨을 그래프를 통해 확인하였다.\n",
    "![image](https://user-images.githubusercontent.com/103712369/169865722-1e837470-d302-4b49-85ed-4d945d1f46dc.png)<br>\n",
    "- Early Stopping 기능을 사용해서 val loss가 두번 이상 줄어들지 않으면 멈추는 기능을 사용하였다.<br>\n",
    "- 50번의 epoch중 23번까지 학습이 진행된 것을 확인할 수 있었다.<br><br>\n",
    "---\n",
    "\n",
    "- **Extractive / Abstractive 요약을 시도해보았다.** <br><br>\n",
    "![image](https://user-images.githubusercontent.com/103712369/169866233-7f0393eb-db72-46fd-9bf2-5e6da461ba9a.png)<br>\n",
    "    - 추상적 요약의 경우 정답 headlines와 높은 확률로 유사한 키워드를 포함하여 요약을 해내는 것을 위 그림을 통해 확인할 수 있다.<br><br>\n",
    "    \n",
    "![image](https://user-images.githubusercontent.com/103712369/169866708-74715b2e-b834-4560-b38b-add3150fb0fd.png)\n",
    "    - 추출적 요약의 경우 비교적 짧은 뉴스 문단에서 핵심 1개의 문장을 추출하도록 정의하였고, 실제로 하나의 중요한 문장이 출력되는 것을 확인할 수 있었다."
   ]
  }
 ],
 "metadata": {
  "kernelspec": {
   "display_name": "Python 3 (ipykernel)",
   "language": "python",
   "name": "python3"
  },
  "language_info": {
   "codemirror_mode": {
    "name": "ipython",
    "version": 3
   },
   "file_extension": ".py",
   "mimetype": "text/x-python",
   "name": "python",
   "nbconvert_exporter": "python",
   "pygments_lexer": "ipython3",
   "version": "3.9.7"
  }
 },
 "nbformat": 4,
 "nbformat_minor": 5
}
