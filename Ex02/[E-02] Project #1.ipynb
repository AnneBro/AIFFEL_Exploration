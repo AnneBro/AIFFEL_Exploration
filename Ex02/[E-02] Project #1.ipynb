{
 "cells": [
  {
   "cell_type": "markdown",
   "id": "d3d7329a",
   "metadata": {},
   "source": [
    "# 프로젝트 #1 : 손수 설계하는 선형회귀, 당뇨병 수치를 맞춰보자!"
   ]
  },
  {
   "cell_type": "markdown",
   "id": "f254ee30",
   "metadata": {},
   "source": [
    "**▷▶ 필요한 패키지 import하기**\n"
   ]
  },
  {
   "cell_type": "code",
   "execution_count": 1,
   "id": "9cf73e9e",
   "metadata": {},
   "outputs": [],
   "source": [
    "import numpy as np               # numpy 불러오기\n",
    "import pandas as pd              # pandas 불러오기\n",
    "import matplotlib.pyplot as plt  # 데이터 시각화 라이브러리\n",
    "# import seaborn as sns            # 데이터 시각화 라이브러리\n",
    "\n",
    "from sklearn.model_selection import train_test_split  # model_selection 모듈 안의 Train / Test Set을 나누기 위한 함수 불러오기\n",
    "from sklearn.metrics import classification_report  # metrics 모듈 안의 학습 모델을 평가하기 위한 함수 불러오기\n",
    "from sklearn.metrics import accuracy_score\n",
    "from sklearn.metrics import confusion_matrix\n"
   ]
  },
  {
   "cell_type": "markdown",
   "id": "ee1998b5",
   "metadata": {},
   "source": [
    "---"
   ]
  },
  {
   "cell_type": "markdown",
   "id": "e23359fe",
   "metadata": {},
   "source": [
    "### (1) 데이터 가져오기\n",
    "\n",
    "<br>\n",
    "\n",
    "> - **`sklearn.datasets`**의 **`load_diabetes`**에서 데이터를 로딩한다. <br><br>\n",
    "> - **`diabets`**의 **`data`**를 **`df_x`**에, **`target`**을 **`df_y`**에 저장한다."
   ]
  },
  {
   "cell_type": "code",
   "execution_count": 2,
   "id": "015a8db5",
   "metadata": {},
   "outputs": [],
   "source": [
    "from sklearn.datasets import load_diabetes # 실습파일 불러오기\n",
    "\n",
    "diabetes = load_diabetes(as_frame = False) # load_diabetes 매서드를 사용해서 diabetes 데이터 불러옴"
   ]
  },
  {
   "cell_type": "markdown",
   "id": "a7225fe4",
   "metadata": {},
   "source": [
    "<br>\n",
    "\n",
    "- `diabetes.keys()` 매서드를 사용해서 `diabetes` 객체 안의 정보를 확인해보자\n",
    "\n",
    "\n",
    "- `diabetes` 안에는 10개의 정보들이 담겨있는 것을 확인할 수 있다."
   ]
  },
  {
   "cell_type": "code",
   "execution_count": 3,
   "id": "2d845f22",
   "metadata": {
    "scrolled": false
   },
   "outputs": [
    {
     "name": "stdout",
     "output_type": "stream",
     "text": [
      "dict_keys(['data', 'target', 'frame', 'DESCR', 'feature_names', 'data_filename', 'target_filename', 'data_module'])\n"
     ]
    }
   ],
   "source": [
    "print(diabetes.keys())"
   ]
  },
  {
   "cell_type": "markdown",
   "id": "98b3c7fe",
   "metadata": {},
   "source": [
    "**< diabetes가 가지는 키(속성)의 종류 >**\n",
    "\n",
    "- data : (442, 10) 크기의 ndarray,입력값\n",
    "- target : (442, ) 크기의 ndarray, 타깃\n",
    "- feature_names : data의 각 열의 특징 이름\n",
    "- frame : (442,11) 크기의 데이터 프레임(호출 시 인자로 받은 as_frame=True일때만 접근가능)\n",
    "- DESCR : 데이터셋의 설명\n",
    "- data_filename : data의 위치경로\n",
    "- target_filename : target의 위치경로\n",
    "- (data, target) : 입력값과 타깃 튜플(return_X_y=True일 때만 접근 가능)"
   ]
  },
  {
   "cell_type": "markdown",
   "id": "6a4213ee",
   "metadata": {},
   "source": [
    "<br>\n",
    "\n",
    "\\>> diabetes의 데이터를 파악하기 위해 pandas 모듈의 DataFrame을 활용해보자\n",
    "\n",
    "\n",
    "- **diabetes**의 **data**는 **10개의 feature**가 존재하며 데이터의 **결측치는 존재하지 않음**\n",
    "\n",
    "\n",
    "- **diabetes**의 **data**는 모든값이 **수치형 데이터**이다."
   ]
  },
  {
   "cell_type": "code",
   "execution_count": 4,
   "id": "c41623a4",
   "metadata": {
    "scrolled": false
   },
   "outputs": [
    {
     "name": "stdout",
     "output_type": "stream",
     "text": [
      "<class 'pandas.core.frame.DataFrame'>\n",
      "RangeIndex: 442 entries, 0 to 441\n",
      "Data columns (total 10 columns):\n",
      " #   Column  Non-Null Count  Dtype  \n",
      "---  ------  --------------  -----  \n",
      " 0   age     442 non-null    float64\n",
      " 1   sex     442 non-null    float64\n",
      " 2   bmi     442 non-null    float64\n",
      " 3   bp      442 non-null    float64\n",
      " 4   s1      442 non-null    float64\n",
      " 5   s2      442 non-null    float64\n",
      " 6   s3      442 non-null    float64\n",
      " 7   s4      442 non-null    float64\n",
      " 8   s5      442 non-null    float64\n",
      " 9   s6      442 non-null    float64\n",
      "dtypes: float64(10)\n",
      "memory usage: 34.7 KB\n"
     ]
    }
   ],
   "source": [
    "df = pd.DataFrame(data=diabetes.data, columns = diabetes.feature_names)\n",
    "df.info()"
   ]
  },
  {
   "cell_type": "code",
   "execution_count": 5,
   "id": "f8170644",
   "metadata": {},
   "outputs": [
    {
     "name": "stdout",
     "output_type": "stream",
     "text": [
      "age    0.110727\n",
      "sex    0.050680\n",
      "bmi    0.170555\n",
      "bp     0.132044\n",
      "s1     0.153914\n",
      "s2     0.198788\n",
      "s3     0.181179\n",
      "s4     0.185234\n",
      "s5     0.133599\n",
      "s6     0.135612\n",
      "dtype: float64\n",
      "\n",
      "age   -0.107226\n",
      "sex   -0.044642\n",
      "bmi   -0.090275\n",
      "bp    -0.112400\n",
      "s1    -0.126781\n",
      "s2    -0.115613\n",
      "s3    -0.102307\n",
      "s4    -0.076395\n",
      "s5    -0.126097\n",
      "s6    -0.137767\n",
      "dtype: float64\n",
      "\n",
      "===========\n",
      "\n",
      "346.0\n",
      "25.0\n"
     ]
    }
   ],
   "source": [
    "print(df.max())\n",
    "print()\n",
    "print(df.min())\n",
    "\n",
    "print('\\n===========\\n')\n",
    "\n",
    "print(diabetes.target.max())\n",
    "print(diabetes.target.min())\n"
   ]
  },
  {
   "cell_type": "markdown",
   "id": "9b740e23",
   "metadata": {},
   "source": [
    "※ 위 data 및 target 값의 분포를 보게되면... <br>\n",
    "- data(x)은 범위가 -0.2 <x <0.2을 가지게 되며\n",
    "- target(y)는 범위가  25 <y <346을 가지게 된다.\n",
    "\n",
    "<br>\n",
    "\n",
    "**이는 Loss값이 크게 나오도록 기인하기 때문에 <br>\n",
    "정규화(Normalization)를 통해 값의 단위를 맞춰주는 작업을 수행한다.**\n"
   ]
  },
  {
   "cell_type": "code",
   "execution_count": 6,
   "id": "f658d642",
   "metadata": {},
   "outputs": [
    {
     "name": "stdout",
     "output_type": "stream",
     "text": [
      "(442, 10)\n",
      "(442,)\n"
     ]
    }
   ],
   "source": [
    "# data와 target 받아와서 df_x / df_y 변수에 저장\n",
    "\n",
    "df_x = diabetes.data         \n",
    "df_y = diabetes.target/346   # 정규화 수행(346으로 나눔) \n",
    "\n",
    "print(df_x.shape); print(df_y.shape)"
   ]
  },
  {
   "cell_type": "markdown",
   "id": "4b97f499",
   "metadata": {},
   "source": [
    "-----\n",
    "<br>\n",
    "\n",
    "### (2)(3) 모델에 입력/예측할 데이터 `X`, `y` 준비하기\n",
    "\n"
   ]
  },
  {
   "cell_type": "code",
   "execution_count": 7,
   "id": "55b01627",
   "metadata": {},
   "outputs": [
    {
     "name": "stdout",
     "output_type": "stream",
     "text": [
      "<class 'numpy.ndarray'>\n",
      "<class 'numpy.ndarray'>\n"
     ]
    }
   ],
   "source": [
    "X = df_x.copy()  \n",
    "y = df_y.copy()  \n",
    "\n",
    "print(type(X)); print(type(y))"
   ]
  },
  {
   "cell_type": "markdown",
   "id": "456b80ec",
   "metadata": {},
   "source": [
    "-----\n",
    "<br>\n",
    "\n",
    "### (4) train 데이터와 test 데이터로 분리하기\n",
    "\n",
    "- `X`와 `y` 데이터를 각각 train 데이터와 test데이터로 8:2 비율로 고르게 나뉘도록 분리<br><br>\n",
    "    - train 데이터 샘플 수 : 353개\n",
    "    - test  데이터 샘플 수 : 89개"
   ]
  },
  {
   "cell_type": "code",
   "execution_count": 8,
   "id": "209e2dcf",
   "metadata": {},
   "outputs": [
    {
     "name": "stdout",
     "output_type": "stream",
     "text": [
      "(353, 10) (353,)\n",
      "(89, 10) (89,)\n"
     ]
    }
   ],
   "source": [
    "X_train, X_test, y_train, y_test = train_test_split(X, y, \n",
    "                                                    test_size=0.2, \n",
    "                                                    random_state=42)\n",
    "\n",
    "print(X_train.shape, y_train.shape)\n",
    "print(X_test.shape, y_test.shape)"
   ]
  },
  {
   "cell_type": "markdown",
   "id": "d0d9a3dd",
   "metadata": {},
   "source": [
    "-----\n",
    "<br>\n",
    "\n",
    "### (5) 모델 준비하기\n",
    "<br>\n",
    "\n",
    "- 입력 데이터 개수에 맞는 파라미터 `W`와 `b` 설정\n",
    "\n",
    "\n",
    "- 입력 데이터의 feature 수가 10개이므로 W는 10개의 벡터, b는 1개의 값으로 초기값 설정"
   ]
  },
  {
   "cell_type": "code",
   "execution_count": 9,
   "id": "dd745e99",
   "metadata": {},
   "outputs": [],
   "source": [
    "W_init = np.random.rand(10) # 모델의 초기값(파라미터)는 numpy의 random 모듈을 통해 설정\n",
    "b_init = np.random.rand()\n"
   ]
  },
  {
   "cell_type": "markdown",
   "id": "c83d04ff",
   "metadata": {},
   "source": [
    "<br>\n",
    "\n",
    "**<모델 함수 구현>**\n",
    "\n",
    "\n",
    "- 여기서, `W`는 10x1 벡터 `b`는 1개의 값이므로 수식을 쓰게 되면...\n",
    "\n",
    "\n",
    "- `y_pred = w1x1 + w2x2 + ... + w10x10 + b`"
   ]
  },
  {
   "cell_type": "code",
   "execution_count": 10,
   "id": "08b0a12a",
   "metadata": {},
   "outputs": [],
   "source": [
    "# 다변수 일차함수 모델링\n",
    "\n",
    "def model(X, W, b):\n",
    "    predictions = 0   # 모델을 통한 예측값 변수 초기값 설정\n",
    "    for i in range(len(X[0,:])):  # for 반복문을 통해 10번 반복 계산\n",
    "        predictions += X[:,i]*W[i]\n",
    "    predictions += b\n",
    "    return predictions"
   ]
  },
  {
   "cell_type": "markdown",
   "id": "296493af",
   "metadata": {},
   "source": [
    "-----\n",
    "<br>\n",
    "\n",
    "### (6) 손실함수 `loss` 정의하기\n",
    "<br>\n",
    "\n",
    "- 손실함수는 Mean Squared Error 지표를 사용한다."
   ]
  },
  {
   "cell_type": "code",
   "execution_count": 11,
   "id": "3bc56131",
   "metadata": {},
   "outputs": [],
   "source": [
    "# MSE 함수\n",
    "\n",
    "def MSE(a, b):\n",
    "    mse = ((a-b)**2).mean() # 두 값의 차이의 제곱의 평균\n",
    "    return mse"
   ]
  },
  {
   "cell_type": "code",
   "execution_count": 12,
   "id": "354cd9fe",
   "metadata": {},
   "outputs": [],
   "source": [
    "# Loss Function 다시 새로 짜보자\n",
    "\n",
    "def loss(X, W, b, y):\n",
    "    predictions = model(X, W, b)\n",
    "    L = MSE(predictions, y)\n",
    "    return L"
   ]
  },
  {
   "cell_type": "markdown",
   "id": "170860db",
   "metadata": {},
   "source": [
    "-----\n",
    "<br>\n",
    "\n",
    "### (7) 기울기를 구하는 `gradient` 함수 구현하기\n",
    "<br>\n",
    "\n",
    "- 학습률, learning rate는 보통 `0.0001` ~ `0.01` 정도의 작은 값으로 사용"
   ]
  },
  {
   "cell_type": "code",
   "execution_count": 13,
   "id": "cdd0f169",
   "metadata": {},
   "outputs": [],
   "source": [
    "def gradient(X,W,b,y):\n",
    "    # N은 X 데이터 의 개수\n",
    "    N = len(X)\n",
    "    \n",
    "    # y_pred 준비\n",
    "    y_pred = model(X,W,b)\n",
    "    \n",
    "    # 공식에 맞게 gradient 계산\n",
    "    dW = 1/N*2*X.T.dot(y_pred-y)\n",
    "    \n",
    "    # b의 gradient 계산\n",
    "    db = 2*(y_pred-y).mean()\n",
    "    return dW, db"
   ]
  },
  {
   "cell_type": "markdown",
   "id": "66259d55",
   "metadata": {},
   "source": [
    "-----\n",
    "<br>\n",
    "\n",
    "### (8) 하이퍼 파라미터인 학습률 설정하기\n",
    "<br>\n",
    "\n",
    "- 학습률, learning rate는 보통 `0.0001` ~ `0.01` 정도의 작은 값으로 사용"
   ]
  },
  {
   "cell_type": "code",
   "execution_count": 14,
   "id": "d2c975f9",
   "metadata": {},
   "outputs": [],
   "source": [
    "LEARNING_RATE = [0.0001, 0.001, 0.01]  \n",
    "# 최적의 learning rate를 찾기위해 3가지 값 설정"
   ]
  },
  {
   "cell_type": "markdown",
   "id": "a1cd1620",
   "metadata": {},
   "source": [
    "<br>\n",
    "\n",
    "### (9) 모델 학습하기\n"
   ]
  },
  {
   "cell_type": "code",
   "execution_count": 15,
   "id": "1a84986a",
   "metadata": {},
   "outputs": [
    {
     "name": "stdout",
     "output_type": "stream",
     "text": [
      "===== 1번째 시도 >> LEARNINGRATE = 0.0001 =====\n",
      "Iteration 100 : Loss 0.0929\n",
      "Iteration 200 : Loss 0.0913\n",
      "Iteration 300 : Loss 0.0897\n",
      "Iteration 400 : Loss 0.0883\n",
      "Iteration 500 : Loss 0.0868\n",
      "Iteration 600 : Loss 0.0855\n",
      "Iteration 700 : Loss 0.0842\n",
      "Iteration 800 : Loss 0.0829\n",
      "Iteration 900 : Loss 0.0817\n",
      "Iteration 1000 : Loss 0.0805\n",
      "Iteration 1100 : Loss 0.0794\n",
      "Iteration 1200 : Loss 0.0783\n",
      "Iteration 1300 : Loss 0.0773\n",
      "Iteration 1400 : Loss 0.0763\n",
      "Iteration 1500 : Loss 0.0753\n",
      "Iteration 1600 : Loss 0.0744\n",
      "Iteration 1700 : Loss 0.0735\n",
      "Iteration 1800 : Loss 0.0727\n",
      "Iteration 1900 : Loss 0.0719\n",
      "Iteration 2000 : Loss 0.0711\n",
      "Iteration 2100 : Loss 0.0703\n",
      "Iteration 2200 : Loss 0.0696\n",
      "Iteration 2300 : Loss 0.0689\n",
      "Iteration 2400 : Loss 0.0683\n",
      "Iteration 2500 : Loss 0.0676\n",
      "Iteration 2600 : Loss 0.0670\n",
      "Iteration 2700 : Loss 0.0664\n",
      "Iteration 2800 : Loss 0.0659\n",
      "Iteration 2900 : Loss 0.0653\n",
      "Iteration 3000 : Loss 0.0648\n",
      "Iteration 3100 : Loss 0.0643\n",
      "Iteration 3200 : Loss 0.0638\n",
      "Iteration 3300 : Loss 0.0633\n",
      "Iteration 3400 : Loss 0.0629\n",
      "Iteration 3500 : Loss 0.0624\n",
      "Iteration 3600 : Loss 0.0620\n",
      "Iteration 3700 : Loss 0.0616\n",
      "Iteration 3800 : Loss 0.0613\n",
      "Iteration 3900 : Loss 0.0609\n",
      "Iteration 4000 : Loss 0.0605\n",
      "Iteration 4100 : Loss 0.0602\n",
      "Iteration 4200 : Loss 0.0599\n",
      "Iteration 4300 : Loss 0.0596\n",
      "Iteration 4400 : Loss 0.0593\n",
      "Iteration 4500 : Loss 0.0590\n",
      "Iteration 4600 : Loss 0.0587\n",
      "Iteration 4700 : Loss 0.0584\n",
      "Iteration 4800 : Loss 0.0582\n",
      "Iteration 4900 : Loss 0.0579\n",
      "Iteration 5000 : Loss 0.0577\n",
      "Iteration 5100 : Loss 0.0574\n",
      "Iteration 5200 : Loss 0.0572\n",
      "Iteration 5300 : Loss 0.0570\n",
      "Iteration 5400 : Loss 0.0568\n",
      "Iteration 5500 : Loss 0.0566\n",
      "Iteration 5600 : Loss 0.0564\n",
      "Iteration 5700 : Loss 0.0563\n",
      "Iteration 5800 : Loss 0.0561\n",
      "Iteration 5900 : Loss 0.0559\n",
      "Iteration 6000 : Loss 0.0558\n",
      "Iteration 6100 : Loss 0.0556\n",
      "Iteration 6200 : Loss 0.0554\n",
      "Iteration 6300 : Loss 0.0553\n",
      "Iteration 6400 : Loss 0.0552\n",
      "Iteration 6500 : Loss 0.0550\n",
      "Iteration 6600 : Loss 0.0549\n",
      "Iteration 6700 : Loss 0.0548\n",
      "Iteration 6800 : Loss 0.0547\n",
      "Iteration 6900 : Loss 0.0546\n",
      "Iteration 7000 : Loss 0.0544\n",
      "Iteration 7100 : Loss 0.0543\n",
      "Iteration 7200 : Loss 0.0542\n",
      "Iteration 7300 : Loss 0.0541\n",
      "Iteration 7400 : Loss 0.0541\n",
      "Iteration 7500 : Loss 0.0540\n",
      "Iteration 7600 : Loss 0.0539\n",
      "Iteration 7700 : Loss 0.0538\n",
      "Iteration 7800 : Loss 0.0537\n",
      "Iteration 7900 : Loss 0.0536\n",
      "Iteration 8000 : Loss 0.0536\n",
      "Iteration 8100 : Loss 0.0535\n",
      "Iteration 8200 : Loss 0.0534\n",
      "Iteration 8300 : Loss 0.0534\n",
      "Iteration 8400 : Loss 0.0533\n",
      "Iteration 8500 : Loss 0.0532\n",
      "Iteration 8600 : Loss 0.0532\n",
      "Iteration 8700 : Loss 0.0531\n",
      "Iteration 8800 : Loss 0.0531\n",
      "Iteration 8900 : Loss 0.0530\n",
      "Iteration 9000 : Loss 0.0530\n",
      "Iteration 9100 : Loss 0.0529\n",
      "Iteration 9200 : Loss 0.0529\n",
      "Iteration 9300 : Loss 0.0528\n",
      "Iteration 9400 : Loss 0.0528\n",
      "Iteration 9500 : Loss 0.0527\n",
      "Iteration 9600 : Loss 0.0527\n",
      "Iteration 9700 : Loss 0.0527\n",
      "Iteration 9800 : Loss 0.0526\n",
      "Iteration 9900 : Loss 0.0526\n",
      "Iteration 10000 : Loss 0.0526\n",
      "\n",
      "===== 2번째 시도 >> LEARNINGRATE = 0.001 =====\n",
      "Iteration 100 : Loss 0.0802\n",
      "Iteration 200 : Loss 0.0708\n",
      "Iteration 300 : Loss 0.0644\n",
      "Iteration 400 : Loss 0.0602\n",
      "Iteration 500 : Loss 0.0574\n",
      "Iteration 600 : Loss 0.0554\n",
      "Iteration 700 : Loss 0.0541\n",
      "Iteration 800 : Loss 0.0533\n",
      "Iteration 900 : Loss 0.0527\n",
      "Iteration 1000 : Loss 0.0522\n",
      "Iteration 1100 : Loss 0.0520\n",
      "Iteration 1200 : Loss 0.0518\n",
      "Iteration 1300 : Loss 0.0516\n",
      "Iteration 1400 : Loss 0.0515\n",
      "Iteration 1500 : Loss 0.0514\n",
      "Iteration 1600 : Loss 0.0514\n",
      "Iteration 1700 : Loss 0.0513\n",
      "Iteration 1800 : Loss 0.0513\n",
      "Iteration 1900 : Loss 0.0512\n",
      "Iteration 2000 : Loss 0.0512\n",
      "Iteration 2100 : Loss 0.0511\n",
      "Iteration 2200 : Loss 0.0511\n",
      "Iteration 2300 : Loss 0.0511\n",
      "Iteration 2400 : Loss 0.0510\n",
      "Iteration 2500 : Loss 0.0510\n",
      "Iteration 2600 : Loss 0.0510\n",
      "Iteration 2700 : Loss 0.0510\n",
      "Iteration 2800 : Loss 0.0509\n",
      "Iteration 2900 : Loss 0.0509\n",
      "Iteration 3000 : Loss 0.0509\n",
      "Iteration 3100 : Loss 0.0508\n",
      "Iteration 3200 : Loss 0.0508\n",
      "Iteration 3300 : Loss 0.0508\n",
      "Iteration 3400 : Loss 0.0507\n",
      "Iteration 3500 : Loss 0.0507\n",
      "Iteration 3600 : Loss 0.0507\n",
      "Iteration 3700 : Loss 0.0507\n",
      "Iteration 3800 : Loss 0.0506\n",
      "Iteration 3900 : Loss 0.0506\n",
      "Iteration 4000 : Loss 0.0506\n",
      "Iteration 4100 : Loss 0.0505\n",
      "Iteration 4200 : Loss 0.0505\n",
      "Iteration 4300 : Loss 0.0505\n",
      "Iteration 4400 : Loss 0.0505\n",
      "Iteration 4500 : Loss 0.0504\n",
      "Iteration 4600 : Loss 0.0504\n",
      "Iteration 4700 : Loss 0.0504\n",
      "Iteration 4800 : Loss 0.0503\n",
      "Iteration 4900 : Loss 0.0503\n",
      "Iteration 5000 : Loss 0.0503\n",
      "Iteration 5100 : Loss 0.0503\n",
      "Iteration 5200 : Loss 0.0502\n",
      "Iteration 5300 : Loss 0.0502\n",
      "Iteration 5400 : Loss 0.0502\n",
      "Iteration 5500 : Loss 0.0501\n",
      "Iteration 5600 : Loss 0.0501\n",
      "Iteration 5700 : Loss 0.0501\n",
      "Iteration 5800 : Loss 0.0501\n",
      "Iteration 5900 : Loss 0.0500\n",
      "Iteration 6000 : Loss 0.0500\n",
      "Iteration 6100 : Loss 0.0500\n",
      "Iteration 6200 : Loss 0.0499\n",
      "Iteration 6300 : Loss 0.0499\n",
      "Iteration 6400 : Loss 0.0499\n",
      "Iteration 6500 : Loss 0.0499\n",
      "Iteration 6600 : Loss 0.0498\n",
      "Iteration 6700 : Loss 0.0498\n",
      "Iteration 6800 : Loss 0.0498\n",
      "Iteration 6900 : Loss 0.0497\n",
      "Iteration 7000 : Loss 0.0497\n",
      "Iteration 7100 : Loss 0.0497\n",
      "Iteration 7200 : Loss 0.0497\n",
      "Iteration 7300 : Loss 0.0496\n",
      "Iteration 7400 : Loss 0.0496\n",
      "Iteration 7500 : Loss 0.0496\n",
      "Iteration 7600 : Loss 0.0495\n",
      "Iteration 7700 : Loss 0.0495\n",
      "Iteration 7800 : Loss 0.0495\n",
      "Iteration 7900 : Loss 0.0495\n",
      "Iteration 8000 : Loss 0.0494\n",
      "Iteration 8100 : Loss 0.0494\n",
      "Iteration 8200 : Loss 0.0494\n",
      "Iteration 8300 : Loss 0.0493\n",
      "Iteration 8400 : Loss 0.0493\n",
      "Iteration 8500 : Loss 0.0493\n",
      "Iteration 8600 : Loss 0.0493\n",
      "Iteration 8700 : Loss 0.0492\n",
      "Iteration 8800 : Loss 0.0492\n",
      "Iteration 8900 : Loss 0.0492\n",
      "Iteration 9000 : Loss 0.0492\n",
      "Iteration 9100 : Loss 0.0491\n",
      "Iteration 9200 : Loss 0.0491\n",
      "Iteration 9300 : Loss 0.0491\n",
      "Iteration 9400 : Loss 0.0490\n",
      "Iteration 9500 : Loss 0.0490\n",
      "Iteration 9600 : Loss 0.0490\n",
      "Iteration 9700 : Loss 0.0490\n",
      "Iteration 9800 : Loss 0.0489\n",
      "Iteration 9900 : Loss 0.0489\n",
      "Iteration 10000 : Loss 0.0489\n",
      "\n",
      "===== 3번째 시도 >> LEARNINGRATE = 0.01 =====\n",
      "Iteration 100 : Loss 0.0494\n",
      "Iteration 200 : Loss 0.0484\n",
      "Iteration 300 : Loss 0.0481\n",
      "Iteration 400 : Loss 0.0478\n",
      "Iteration 500 : Loss 0.0476\n",
      "Iteration 600 : Loss 0.0473\n",
      "Iteration 700 : Loss 0.0471\n",
      "Iteration 800 : Loss 0.0468\n",
      "Iteration 900 : Loss 0.0466\n",
      "Iteration 1000 : Loss 0.0463\n",
      "Iteration 1100 : Loss 0.0461\n",
      "Iteration 1200 : Loss 0.0459\n",
      "Iteration 1300 : Loss 0.0456\n",
      "Iteration 1400 : Loss 0.0454\n",
      "Iteration 1500 : Loss 0.0452\n",
      "Iteration 1600 : Loss 0.0450\n",
      "Iteration 1700 : Loss 0.0447\n",
      "Iteration 1800 : Loss 0.0445\n",
      "Iteration 1900 : Loss 0.0443\n",
      "Iteration 2000 : Loss 0.0441\n",
      "Iteration 2100 : Loss 0.0439\n",
      "Iteration 2200 : Loss 0.0437\n",
      "Iteration 2300 : Loss 0.0435\n",
      "Iteration 2400 : Loss 0.0433\n",
      "Iteration 2500 : Loss 0.0431\n",
      "Iteration 2600 : Loss 0.0429\n",
      "Iteration 2700 : Loss 0.0427\n",
      "Iteration 2800 : Loss 0.0425\n",
      "Iteration 2900 : Loss 0.0423\n",
      "Iteration 3000 : Loss 0.0421\n",
      "Iteration 3100 : Loss 0.0419\n",
      "Iteration 3200 : Loss 0.0417\n",
      "Iteration 3300 : Loss 0.0416\n",
      "Iteration 3400 : Loss 0.0414\n",
      "Iteration 3500 : Loss 0.0412\n",
      "Iteration 3600 : Loss 0.0410\n",
      "Iteration 3700 : Loss 0.0409\n",
      "Iteration 3800 : Loss 0.0407\n",
      "Iteration 3900 : Loss 0.0405\n",
      "Iteration 4000 : Loss 0.0403\n",
      "Iteration 4100 : Loss 0.0402\n",
      "Iteration 4200 : Loss 0.0400\n",
      "Iteration 4300 : Loss 0.0398\n",
      "Iteration 4400 : Loss 0.0397\n",
      "Iteration 4500 : Loss 0.0395\n",
      "Iteration 4600 : Loss 0.0394\n",
      "Iteration 4700 : Loss 0.0392\n",
      "Iteration 4800 : Loss 0.0391\n",
      "Iteration 4900 : Loss 0.0389\n",
      "Iteration 5000 : Loss 0.0388\n",
      "Iteration 5100 : Loss 0.0386\n",
      "Iteration 5200 : Loss 0.0385\n",
      "Iteration 5300 : Loss 0.0383\n",
      "Iteration 5400 : Loss 0.0382\n",
      "Iteration 5500 : Loss 0.0380\n",
      "Iteration 5600 : Loss 0.0379\n",
      "Iteration 5700 : Loss 0.0378\n",
      "Iteration 5800 : Loss 0.0376\n",
      "Iteration 5900 : Loss 0.0375\n",
      "Iteration 6000 : Loss 0.0374\n",
      "Iteration 6100 : Loss 0.0372\n",
      "Iteration 6200 : Loss 0.0371\n",
      "Iteration 6300 : Loss 0.0370\n",
      "Iteration 6400 : Loss 0.0368\n",
      "Iteration 6500 : Loss 0.0367\n",
      "Iteration 6600 : Loss 0.0366\n",
      "Iteration 6700 : Loss 0.0365\n",
      "Iteration 6800 : Loss 0.0363\n",
      "Iteration 6900 : Loss 0.0362\n",
      "Iteration 7000 : Loss 0.0361\n",
      "Iteration 7100 : Loss 0.0360\n",
      "Iteration 7200 : Loss 0.0358\n",
      "Iteration 7300 : Loss 0.0357\n",
      "Iteration 7400 : Loss 0.0356\n",
      "Iteration 7500 : Loss 0.0355\n",
      "Iteration 7600 : Loss 0.0354\n",
      "Iteration 7700 : Loss 0.0353\n",
      "Iteration 7800 : Loss 0.0352\n",
      "Iteration 7900 : Loss 0.0351\n",
      "Iteration 8000 : Loss 0.0350\n",
      "Iteration 8100 : Loss 0.0348\n",
      "Iteration 8200 : Loss 0.0347\n"
     ]
    },
    {
     "name": "stdout",
     "output_type": "stream",
     "text": [
      "Iteration 8300 : Loss 0.0346\n",
      "Iteration 8400 : Loss 0.0345\n",
      "Iteration 8500 : Loss 0.0344\n",
      "Iteration 8600 : Loss 0.0343\n",
      "Iteration 8700 : Loss 0.0342\n",
      "Iteration 8800 : Loss 0.0341\n",
      "Iteration 8900 : Loss 0.0340\n",
      "Iteration 9000 : Loss 0.0339\n",
      "Iteration 9100 : Loss 0.0338\n",
      "Iteration 9200 : Loss 0.0337\n",
      "Iteration 9300 : Loss 0.0336\n",
      "Iteration 9400 : Loss 0.0336\n",
      "Iteration 9500 : Loss 0.0335\n",
      "Iteration 9600 : Loss 0.0334\n",
      "Iteration 9700 : Loss 0.0333\n",
      "Iteration 9800 : Loss 0.0332\n",
      "Iteration 9900 : Loss 0.0331\n",
      "Iteration 10000 : Loss 0.0330\n",
      "\n"
     ]
    }
   ],
   "source": [
    "# 손실함수 파라미터 학습\n",
    "\n",
    "epoch = 10000 # 반복학습 갯수 설정\n",
    "\n",
    "losses= np.zeros(shape=(len(LEARNING_RATE), epoch))   \n",
    "# 손실함수 값을 누적하기 위해 0으로 채워진 3x1500 행렬 설정\n",
    "\n",
    "W_fin = np.zeros(shape=(3,10))\n",
    "b_fin = np.zeros(shape=(3,1))\n",
    "\n",
    "for i, learning_rate in enumerate(LEARNING_RATE):\n",
    "    print(f'===== {i+1}번째 시도 >> LEARNINGRATE = {learning_rate} =====')\n",
    "    W = W_init\n",
    "    b = b_init\n",
    "    for j in range(epoch):\n",
    "        dW, db = gradient(X_train, W, b, y_train)\n",
    "        W -= learning_rate*dW\n",
    "        b -= learning_rate*db\n",
    "        \n",
    "        W_fin[i,:] = W\n",
    "        b_fin[i,:] = b\n",
    "        \n",
    "        L = loss(X_train, W, b, y_train)\n",
    "        #losses.append(L)\n",
    "        losses[i, j] = L\n",
    "        if (j+1)%100==0:\n",
    "            print('Iteration %d : Loss %.4f' %(j+1, L))\n",
    "    print()"
   ]
  },
  {
   "cell_type": "code",
   "execution_count": 16,
   "id": "c16e7758",
   "metadata": {},
   "outputs": [
    {
     "data": {
      "image/png": "[encoded data removed]",
      "text/plain": [
       "<Figure size 432x288 with 1 Axes>"
      ]
     },
     "metadata": {
      "needs_background": "light"
     },
     "output_type": "display_data"
    }
   ],
   "source": [
    "plt.plot(losses[0,:],'r--', label='LEARNINGRATE=0.0001')\n",
    "plt.plot(losses[1,:],'b--', label='LEARNINGRATE=0.001')\n",
    "plt.plot(losses[2,:],'g--', label='LEARNINGRATE=0.01')\n",
    "plt.legend()\n",
    "plt.title('Losses')\n",
    "plt.xlabel('epoch')\n",
    "plt.ylabel('value')\n",
    "\n",
    "plt.show()"
   ]
  },
  {
   "cell_type": "markdown",
   "id": "174ebbe2",
   "metadata": {},
   "source": [
    "<br>\n",
    "\n",
    "### (10) test 데이터에 대한 성능 확인하기\n"
   ]
  },
  {
   "cell_type": "code",
   "execution_count": 17,
   "id": "64b9afab",
   "metadata": {},
   "outputs": [
    {
     "name": "stdout",
     "output_type": "stream",
     "text": [
      "LEARNINGRATE = 0.0001일때, MSE = 0.04453570250964284\n",
      "LEARNINGRATE = 0.0001일때, MSE = 0.042005236929265416\n",
      "LEARNINGRATE = 0.0001일때, MSE = 0.0292925400747334\n"
     ]
    }
   ],
   "source": [
    "mse = []\n",
    "prediction = np.zeros(shape=(len(LEARNING_RATE), len(X_test)))\n",
    "\n",
    "for i in range(len(LEARNING_RATE)):  # 3번 반복\n",
    "    pred = model(X_test, W_fin[i,:], b_fin[i,:])\n",
    "    prediction[i,:] = pred\n",
    "    \n",
    "    PI = loss(X_test, W_fin[i,:], b_fin[i,:], y_test)\n",
    "    mse.append(PI)\n",
    "print(f'LEARNINGRATE = 0.0001일때, MSE = {mse[0]}')\n",
    "print(f'LEARNINGRATE = 0.0001일때, MSE = {mse[1]}')\n",
    "print(f'LEARNINGRATE = 0.0001일때, MSE = {mse[2]}')"
   ]
  },
  {
   "cell_type": "markdown",
   "id": "8fa8e505",
   "metadata": {},
   "source": [
    "<br>\n",
    "\n",
    "### (11) 정답 데이터와 예측한 데이터 시각화하기\n"
   ]
  },
  {
   "cell_type": "code",
   "execution_count": 18,
   "id": "c2c1c55f",
   "metadata": {},
   "outputs": [
    {
     "data": {
      "image/png": "[encoded data removed]",
      "text/plain": [
       "<Figure size 432x288 with 1 Axes>"
      ]
     },
     "metadata": {
      "needs_background": "light"
     },
     "output_type": "display_data"
    }
   ],
   "source": [
    "plt.scatter(X_test[:, 0], y_test, color='blue', marker = '*', label='test')\n",
    "plt.scatter(X_test[:, 0], prediction[0,:], color='red', marker = '*', s=50, label='pred')\n",
    "# plt.scatter(X_test[:, 0], y_test, label='test')\n",
    "# plt.scatter(X_test[:, 0], prediction[0,:], label='pred')\n",
    "plt.legend()\n",
    "plt.title('LEARNINGRATE = 0.0001')\n",
    "plt.xlabel('age')\n",
    "\n",
    "plt.show()"
   ]
  },
  {
   "cell_type": "code",
   "execution_count": 19,
   "id": "a4adc29e",
   "metadata": {},
   "outputs": [
    {
     "data": {
      "image/png": "[encoded data removed]",
      "text/plain": [
       "<Figure size 432x288 with 1 Axes>"
      ]
     },
     "metadata": {
      "needs_background": "light"
     },
     "output_type": "display_data"
    }
   ],
   "source": [
    "plt.scatter(X_test[:, 0], y_test, color='blue', marker = '*', label='test')\n",
    "plt.scatter(X_test[:, 0], prediction[1,:], color='red', marker = '*', s=50, label='pred')\n",
    "plt.legend()\n",
    "plt.title('LEARNINGRATE = 0.001')\n",
    "plt.xlabel('age')\n",
    "\n",
    "plt.show()"
   ]
  },
  {
   "cell_type": "code",
   "execution_count": 20,
   "id": "4f78f1f8",
   "metadata": {},
   "outputs": [
    {
     "data": {
      "image/png": "[encoded data removed]",
      "text/plain": [
       "<Figure size 432x288 with 1 Axes>"
      ]
     },
     "metadata": {
      "needs_background": "light"
     },
     "output_type": "display_data"
    }
   ],
   "source": [
    "plt.scatter(X_test[:, 0], y_test, color='blue', marker = '*', label='test')\n",
    "plt.scatter(X_test[:, 0], prediction[2,:], color='red', marker = '*', s=50, label='pred')\n",
    "plt.legend()\n",
    "plt.title('LEARNINGRATE = 0.01')\n",
    "plt.xlabel('age')\n",
    "\n",
    "plt.show()"
   ]
  },
  {
   "cell_type": "markdown",
   "id": "0b9ea365",
   "metadata": {},
   "source": [
    "<br>\n",
    "\n",
    "### (12) 결론\n"
   ]
  },
  {
   "cell_type": "markdown",
   "id": "77cb714b",
   "metadata": {},
   "source": [
    "- `프로젝트(1) : 손수 설계하는 선형회귀, 당뇨병 수치를 맞춰보자!`에서는 442개의 Sample 및 10개의 특성값(feature)를 통해 당뇨병(연속적인실수값) 수치를 맞춰보는 선형회귀 문제라 할 수 있다.\n",
    "\n",
    "\n",
    "- 데이터는 Scikit-Learn dataset에서 가져왔고, pandas DataFrame으로 데이터의 속성을 파악했다. <br>\n",
    "    - 데이터에는 결측치가 존재하지 않았고, 모든 값이 수치형 데이터이다.\n",
    "    - 또한, 중요한 점으로 data(x)의 값은 범위가 -0.2 < x <0.2, target(y)은 범위가 25< y < 346을 가지게 되며, 이는 loss값이 크게 나오도록 기인하기 때문에 정규화(Normalization)를 통해 값의 단위를 맞춰주는 작업을 수행하였다.<br>\n",
    "    \n",
    "    ![image](https://user-images.githubusercontent.com/103712369/166303467-bd7a8a9f-c3a2-4657-b894-923fa0f49ef9.png)\n",
    "    \n",
    "<br>\n",
    "\n",
    "- 하이퍼파라미터인 LEARNINGRATE는 앞선 노드에서 보통 `0.001` ~ `0.01` 값으로 설정한다고 했기때문에, 총 3개의 범위로 나누어 가장 성능이 좋은 0.01을 채택하였다.\n",
    "    - <U>**MSE 손실함수는 0.026640838895731708 값**이 나온것을 확인할 수 있다.<U>\n",
    "\n",
    "\n",
    "- 학습은 Loss값이 충분히 떨어질 때까지 학습을 진행하기위해 총 10,000번으로 반복하여 수행하였다.\n",
    "\n",
    "![image](https://user-images.githubusercontent.com/103712369/166304112-b42b627e-6a3e-4d37-8f3e-1ef95638aa6e.png)"
   ]
  }
 ],
 "metadata": {
  "kernelspec": {
   "display_name": "Python 3 (ipykernel)",
   "language": "python",
   "name": "python3"
  },
  "language_info": {
   "codemirror_mode": {
    "name": "ipython",
    "version": 3
   },
   "file_extension": ".py",
   "mimetype": "text/x-python",
   "name": "python",
   "nbconvert_exporter": "python",
   "pygments_lexer": "ipython3",
   "version": "3.9.7"
  }
 },
 "nbformat": 4,
 "nbformat_minor": 5
}
