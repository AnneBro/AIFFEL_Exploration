{
 "cells": [
  {
   "cell_type": "markdown",
   "id": "9e566f19",
   "metadata": {},
   "source": [
    "# [E-15] 프로젝트: Movielens 영화 추천 실습\n",
    "\n",
    "<br>\n",
    "\n",
    "---"
   ]
  },
  {
   "cell_type": "markdown",
   "id": "547db0bb",
   "metadata": {},
   "source": [
    "***Note!!***\n",
    "\n",
    "- 유저가 영화에 대해 평점을 매긴 데이터가 데이터 크기 별로 있습니다. MovieLens 1M Dataset 사용을 권장합니다.\n",
    "\n",
    "\n",
    "- 별점 데이터는 대표적인 explicit 데이터입니다. 하지만 implicit 데이터로 간주하고 테스트해 볼 수 있습니다.\n",
    "\n",
    "\n",
    "- 별점을 **시청횟수**로 해석해서 생각하겠습니다.\n",
    "\n",
    "\n",
    "- 또한 유저가 3점 미만으로 준 데이터는 선호하지 않는다고 가정하고 제외하겠습니다."
   ]
  },
  {
   "cell_type": "markdown",
   "id": "d76b7871",
   "metadata": {},
   "source": [
    "<br>\n",
    "\n",
    "## Step 0. 프로젝트에 필요한 주요 라이브러리 버전 확인 및 import\n",
    "---"
   ]
  },
  {
   "cell_type": "code",
   "execution_count": 488,
   "id": "e04d7d7d",
   "metadata": {},
   "outputs": [
    {
     "name": "stdout",
     "output_type": "stream",
     "text": [
      "1.21.4\n",
      "1.7.1\n",
      "0.4.8\n"
     ]
    }
   ],
   "source": [
    "import numpy as np\n",
    "import scipy\n",
    "import implicit\n",
    "\n",
    "print(np.__version__)\n",
    "print(scipy.__version__)\n",
    "print(implicit.__version__)"
   ]
  },
  {
   "cell_type": "code",
   "execution_count": 489,
   "id": "7e08d90d",
   "metadata": {},
   "outputs": [],
   "source": [
    "import pandas as pd\n",
    "import os\n",
    "\n",
    "from tqdm import tqdm"
   ]
  },
  {
   "cell_type": "markdown",
   "id": "e2b46320",
   "metadata": {},
   "source": [
    "<br>\n",
    "\n",
    "## Step 1. 데이터 준비, 전처리 및 탐색\n",
    "---\n",
    "\n",
    "- Movielens 데이터는 `rating.dat` 안에 이미 인덱싱까지 완료된 사용자-영화-평점 데이터가 깔끔하게 정리되어 있음."
   ]
  },
  {
   "cell_type": "markdown",
   "id": "c15799d7",
   "metadata": {},
   "source": [
    "#### (1) 데이터 준비\n",
    "---"
   ]
  },
  {
   "cell_type": "code",
   "execution_count": 490,
   "id": "9513a593",
   "metadata": {},
   "outputs": [
    {
     "data": {
      "text/html": [
       "<div>\n",
       "<style scoped>\n",
       "    .dataframe tbody tr th:only-of-type {\n",
       "        vertical-align: middle;\n",
       "    }\n",
       "\n",
       "    .dataframe tbody tr th {\n",
       "        vertical-align: top;\n",
       "    }\n",
       "\n",
       "    .dataframe thead th {\n",
       "        text-align: right;\n",
       "    }\n",
       "</style>\n",
       "<table border=\"1\" class=\"dataframe\">\n",
       "  <thead>\n",
       "    <tr style=\"text-align: right;\">\n",
       "      <th></th>\n",
       "      <th>user_id</th>\n",
       "      <th>movie_id</th>\n",
       "      <th>ratings</th>\n",
       "      <th>timestamp</th>\n",
       "    </tr>\n",
       "  </thead>\n",
       "  <tbody>\n",
       "    <tr>\n",
       "      <th>0</th>\n",
       "      <td>1</td>\n",
       "      <td>1193</td>\n",
       "      <td>5</td>\n",
       "      <td>978300760</td>\n",
       "    </tr>\n",
       "    <tr>\n",
       "      <th>1</th>\n",
       "      <td>1</td>\n",
       "      <td>661</td>\n",
       "      <td>3</td>\n",
       "      <td>978302109</td>\n",
       "    </tr>\n",
       "    <tr>\n",
       "      <th>2</th>\n",
       "      <td>1</td>\n",
       "      <td>914</td>\n",
       "      <td>3</td>\n",
       "      <td>978301968</td>\n",
       "    </tr>\n",
       "    <tr>\n",
       "      <th>3</th>\n",
       "      <td>1</td>\n",
       "      <td>3408</td>\n",
       "      <td>4</td>\n",
       "      <td>978300275</td>\n",
       "    </tr>\n",
       "    <tr>\n",
       "      <th>4</th>\n",
       "      <td>1</td>\n",
       "      <td>2355</td>\n",
       "      <td>5</td>\n",
       "      <td>978824291</td>\n",
       "    </tr>\n",
       "  </tbody>\n",
       "</table>\n",
       "</div>"
      ],
      "text/plain": [
       "   user_id  movie_id  ratings  timestamp\n",
       "0        1      1193        5  978300760\n",
       "1        1       661        3  978302109\n",
       "2        1       914        3  978301968\n",
       "3        1      3408        4  978300275\n",
       "4        1      2355        5  978824291"
      ]
     },
     "execution_count": 490,
     "metadata": {},
     "output_type": "execute_result"
    }
   ],
   "source": [
    "rating_file_path = os.getenv('HOME') + '/aiffel/recommendata_iu/data/ml-1m/ratings.dat'\n",
    "rating_cols = ['user_id', 'movie_id', 'ratings', 'timestamp']\n",
    "ratings = pd.read_csv(rating_file_path, sep='::', names=rating_cols, engine='python', encoding = \"ISO-8859-1\")\n",
    "original_data_size = len(ratings)\n",
    "ratings.head()"
   ]
  },
  {
   "cell_type": "markdown",
   "id": "a84aac5d",
   "metadata": {},
   "source": [
    "<br>\n",
    "\n",
    "#### (2) 데이터 전처리\n",
    "---"
   ]
  },
  {
   "cell_type": "code",
   "execution_count": 491,
   "id": "e1ca6f23",
   "metadata": {},
   "outputs": [
    {
     "name": "stdout",
     "output_type": "stream",
     "text": [
      "orginal_data_size: 1000209, filtered_data_size: 836478\n",
      "Ratio of Remaining Data is 83.63%\n"
     ]
    }
   ],
   "source": [
    "# 3점 이상만 남긴다.\n",
    "ratings = ratings[ratings['ratings']>=3]\n",
    "filtered_data_size = len(ratings)\n",
    "\n",
    "print(f'orginal_data_size: {original_data_size}, filtered_data_size: {filtered_data_size}')\n",
    "print(f'Ratio of Remaining Data is {filtered_data_size / original_data_size:.2%}')"
   ]
  },
  {
   "cell_type": "code",
   "execution_count": 492,
   "id": "832ca11d",
   "metadata": {},
   "outputs": [],
   "source": [
    "# ratings 컬럼의 이름을 counts로 바꾼다.\n",
    "ratings.rename(columns={'ratings':'counts'}, inplace=True)"
   ]
  },
  {
   "cell_type": "code",
   "execution_count": 493,
   "id": "51072515",
   "metadata": {},
   "outputs": [
    {
     "data": {
      "text/plain": [
       "0          5\n",
       "1          3\n",
       "2          3\n",
       "3          4\n",
       "4          5\n",
       "          ..\n",
       "1000203    3\n",
       "1000205    5\n",
       "1000206    5\n",
       "1000207    4\n",
       "1000208    4\n",
       "Name: counts, Length: 836478, dtype: int64"
      ]
     },
     "execution_count": 493,
     "metadata": {},
     "output_type": "execute_result"
    }
   ],
   "source": [
    "ratings['counts']"
   ]
  },
  {
   "cell_type": "code",
   "execution_count": 494,
   "id": "3e17cd85",
   "metadata": {
    "scrolled": false
   },
   "outputs": [
    {
     "data": {
      "text/html": [
       "<div>\n",
       "<style scoped>\n",
       "    .dataframe tbody tr th:only-of-type {\n",
       "        vertical-align: middle;\n",
       "    }\n",
       "\n",
       "    .dataframe tbody tr th {\n",
       "        vertical-align: top;\n",
       "    }\n",
       "\n",
       "    .dataframe thead th {\n",
       "        text-align: right;\n",
       "    }\n",
       "</style>\n",
       "<table border=\"1\" class=\"dataframe\">\n",
       "  <thead>\n",
       "    <tr style=\"text-align: right;\">\n",
       "      <th></th>\n",
       "      <th>user_id</th>\n",
       "      <th>movie_id</th>\n",
       "      <th>counts</th>\n",
       "      <th>timestamp</th>\n",
       "    </tr>\n",
       "  </thead>\n",
       "  <tbody>\n",
       "    <tr>\n",
       "      <th>0</th>\n",
       "      <td>1</td>\n",
       "      <td>1193</td>\n",
       "      <td>5</td>\n",
       "      <td>978300760</td>\n",
       "    </tr>\n",
       "    <tr>\n",
       "      <th>1</th>\n",
       "      <td>1</td>\n",
       "      <td>661</td>\n",
       "      <td>3</td>\n",
       "      <td>978302109</td>\n",
       "    </tr>\n",
       "    <tr>\n",
       "      <th>2</th>\n",
       "      <td>1</td>\n",
       "      <td>914</td>\n",
       "      <td>3</td>\n",
       "      <td>978301968</td>\n",
       "    </tr>\n",
       "    <tr>\n",
       "      <th>3</th>\n",
       "      <td>1</td>\n",
       "      <td>3408</td>\n",
       "      <td>4</td>\n",
       "      <td>978300275</td>\n",
       "    </tr>\n",
       "    <tr>\n",
       "      <th>4</th>\n",
       "      <td>1</td>\n",
       "      <td>2355</td>\n",
       "      <td>5</td>\n",
       "      <td>978824291</td>\n",
       "    </tr>\n",
       "    <tr>\n",
       "      <th>...</th>\n",
       "      <td>...</td>\n",
       "      <td>...</td>\n",
       "      <td>...</td>\n",
       "      <td>...</td>\n",
       "    </tr>\n",
       "    <tr>\n",
       "      <th>836473</th>\n",
       "      <td>6040</td>\n",
       "      <td>1090</td>\n",
       "      <td>3</td>\n",
       "      <td>956715518</td>\n",
       "    </tr>\n",
       "    <tr>\n",
       "      <th>836474</th>\n",
       "      <td>6040</td>\n",
       "      <td>1094</td>\n",
       "      <td>5</td>\n",
       "      <td>956704887</td>\n",
       "    </tr>\n",
       "    <tr>\n",
       "      <th>836475</th>\n",
       "      <td>6040</td>\n",
       "      <td>562</td>\n",
       "      <td>5</td>\n",
       "      <td>956704746</td>\n",
       "    </tr>\n",
       "    <tr>\n",
       "      <th>836476</th>\n",
       "      <td>6040</td>\n",
       "      <td>1096</td>\n",
       "      <td>4</td>\n",
       "      <td>956715648</td>\n",
       "    </tr>\n",
       "    <tr>\n",
       "      <th>836477</th>\n",
       "      <td>6040</td>\n",
       "      <td>1097</td>\n",
       "      <td>4</td>\n",
       "      <td>956715569</td>\n",
       "    </tr>\n",
       "  </tbody>\n",
       "</table>\n",
       "<p>836478 rows × 4 columns</p>\n",
       "</div>"
      ],
      "text/plain": [
       "        user_id  movie_id  counts  timestamp\n",
       "0             1      1193       5  978300760\n",
       "1             1       661       3  978302109\n",
       "2             1       914       3  978301968\n",
       "3             1      3408       4  978300275\n",
       "4             1      2355       5  978824291\n",
       "...         ...       ...     ...        ...\n",
       "836473     6040      1090       3  956715518\n",
       "836474     6040      1094       5  956704887\n",
       "836475     6040       562       5  956704746\n",
       "836476     6040      1096       4  956715648\n",
       "836477     6040      1097       4  956715569\n",
       "\n",
       "[836478 rows x 4 columns]"
      ]
     },
     "execution_count": 494,
     "metadata": {},
     "output_type": "execute_result"
    }
   ],
   "source": [
    "ratings.index=list(range(len(ratings)))\n",
    "ratings"
   ]
  },
  {
   "cell_type": "markdown",
   "id": "830bbe86",
   "metadata": {},
   "source": [
    "<br>\n",
    "\n",
    "---\n",
    "\n",
    "***영화 제목을 보기 위해 메타 데이터를 읽어옵니다.***\n",
    "\n",
    "---\n",
    "\n",
    "<br>"
   ]
  },
  {
   "cell_type": "code",
   "execution_count": 495,
   "id": "f7687317",
   "metadata": {},
   "outputs": [],
   "source": [
    "movie_file_path=os.getenv('HOME') + '/aiffel/recommendata_iu/data/ml-1m/movies.dat'\n",
    "cols = ['movie_id', 'title', 'genre'] \n",
    "movies = pd.read_csv(movie_file_path, sep='::', names=cols, engine='python', encoding='ISO-8859-1')"
   ]
  },
  {
   "cell_type": "code",
   "execution_count": 496,
   "id": "22acc1f2",
   "metadata": {},
   "outputs": [
    {
     "data": {
      "text/html": [
       "<div>\n",
       "<style scoped>\n",
       "    .dataframe tbody tr th:only-of-type {\n",
       "        vertical-align: middle;\n",
       "    }\n",
       "\n",
       "    .dataframe tbody tr th {\n",
       "        vertical-align: top;\n",
       "    }\n",
       "\n",
       "    .dataframe thead th {\n",
       "        text-align: right;\n",
       "    }\n",
       "</style>\n",
       "<table border=\"1\" class=\"dataframe\">\n",
       "  <thead>\n",
       "    <tr style=\"text-align: right;\">\n",
       "      <th></th>\n",
       "      <th>movie_id</th>\n",
       "      <th>title</th>\n",
       "      <th>genre</th>\n",
       "    </tr>\n",
       "  </thead>\n",
       "  <tbody>\n",
       "    <tr>\n",
       "      <th>3025</th>\n",
       "      <td>3094</td>\n",
       "      <td>maurice (1987)</td>\n",
       "      <td>drama|romance</td>\n",
       "    </tr>\n",
       "    <tr>\n",
       "      <th>1791</th>\n",
       "      <td>1860</td>\n",
       "      <td>character (karakter) (1997)</td>\n",
       "      <td>drama</td>\n",
       "    </tr>\n",
       "    <tr>\n",
       "      <th>2944</th>\n",
       "      <td>3013</td>\n",
       "      <td>bride of re-animator (1990)</td>\n",
       "      <td>comedy|horror</td>\n",
       "    </tr>\n",
       "    <tr>\n",
       "      <th>534</th>\n",
       "      <td>538</td>\n",
       "      <td>six degrees of separation (1993)</td>\n",
       "      <td>drama</td>\n",
       "    </tr>\n",
       "    <tr>\n",
       "      <th>2012</th>\n",
       "      <td>2081</td>\n",
       "      <td>little mermaid, the (1989)</td>\n",
       "      <td>animation|children's|comedy|musical|romance</td>\n",
       "    </tr>\n",
       "  </tbody>\n",
       "</table>\n",
       "</div>"
      ],
      "text/plain": [
       "      movie_id                             title  \\\n",
       "3025      3094                    maurice (1987)   \n",
       "1791      1860       character (karakter) (1997)   \n",
       "2944      3013       bride of re-animator (1990)   \n",
       "534        538  six degrees of separation (1993)   \n",
       "2012      2081        little mermaid, the (1989)   \n",
       "\n",
       "                                            genre  \n",
       "3025                                drama|romance  \n",
       "1791                                        drama  \n",
       "2944                                comedy|horror  \n",
       "534                                         drama  \n",
       "2012  animation|children's|comedy|musical|romance  "
      ]
     },
     "execution_count": 496,
     "metadata": {},
     "output_type": "execute_result"
    }
   ],
   "source": [
    "# 문자열을 소문자로 만들어 준다.\n",
    "\n",
    "movies['title'] = movies['title'].str.lower()  # 검색을 쉽게 하기 위해 title 문자열을 소문자로 변환\n",
    "movies['genre'] = movies['genre'].str.lower()  # 검색을 쉽게 하기 위해 genre 문자열을 소문자로 변환\n",
    "movies.sample(5)"
   ]
  },
  {
   "cell_type": "markdown",
   "id": "bd2f20d0",
   "metadata": {},
   "source": [
    "---\n",
    "\n",
    "<br>"
   ]
  },
  {
   "cell_type": "markdown",
   "id": "7bfdae61",
   "metadata": {},
   "source": [
    "<br>\n",
    "\n",
    "***ratings에 메타데이터 movies >> title / genre 열 추가하기***\n",
    "\n",
    "<br>"
   ]
  },
  {
   "cell_type": "code",
   "execution_count": 433,
   "id": "3dd7d0ff",
   "metadata": {},
   "outputs": [
    {
     "name": "stderr",
     "output_type": "stream",
     "text": [
      "100%|██████████| 836478/836478 [02:04<00:00, 6719.83it/s]\n"
     ]
    }
   ],
   "source": [
    "# movie_title / movie_genre list 만들기\n",
    "\n",
    "movie_title = []\n",
    "movie_genre = []\n",
    "\n",
    "for i in tqdm(range(len(ratings))):\n",
    "    if ratings.loc[i, 'movie_id'] in movies['movie_id']:\n",
    "        row_idx = movies.index[movies['movie_id']==ratings.loc[i, 'movie_id']].tolist()\n",
    "        movie_title.append(movies.loc[row_idx[0], 'title'])\n",
    "        movie_genre.append(movies.loc[row_idx[0], 'genre'])\n",
    "    else:\n",
    "        movie_title.append(np.nan)\n",
    "        movie_genre.append(np.nan)"
   ]
  },
  {
   "cell_type": "code",
   "execution_count": 497,
   "id": "6f1e1fc0",
   "metadata": {},
   "outputs": [
    {
     "name": "stdout",
     "output_type": "stream",
     "text": [
      "ratings 갯수 : 836478\n",
      "movie_title 갯수 : 836478\n",
      "movie_genre 갯수 : 836478\n"
     ]
    }
   ],
   "source": [
    "print(f'ratings 갯수 : {len(ratings)}')\n",
    "print(f'movie_title 갯수 : {len(movie_title)}')\n",
    "print(f'movie_genre 갯수 : {len(movie_genre)}')"
   ]
  },
  {
   "cell_type": "code",
   "execution_count": 498,
   "id": "3be0b9a6",
   "metadata": {},
   "outputs": [],
   "source": [
    "ratings['title'] = movie_title\n",
    "ratings['genre'] = movie_genre"
   ]
  },
  {
   "cell_type": "code",
   "execution_count": 499,
   "id": "d909a7fc",
   "metadata": {},
   "outputs": [
    {
     "data": {
      "text/html": [
       "<div>\n",
       "<style scoped>\n",
       "    .dataframe tbody tr th:only-of-type {\n",
       "        vertical-align: middle;\n",
       "    }\n",
       "\n",
       "    .dataframe tbody tr th {\n",
       "        vertical-align: top;\n",
       "    }\n",
       "\n",
       "    .dataframe thead th {\n",
       "        text-align: right;\n",
       "    }\n",
       "</style>\n",
       "<table border=\"1\" class=\"dataframe\">\n",
       "  <thead>\n",
       "    <tr style=\"text-align: right;\">\n",
       "      <th></th>\n",
       "      <th>user_id</th>\n",
       "      <th>movie_id</th>\n",
       "      <th>counts</th>\n",
       "      <th>timestamp</th>\n",
       "      <th>title</th>\n",
       "      <th>genre</th>\n",
       "    </tr>\n",
       "  </thead>\n",
       "  <tbody>\n",
       "    <tr>\n",
       "      <th>0</th>\n",
       "      <td>1</td>\n",
       "      <td>1193</td>\n",
       "      <td>5</td>\n",
       "      <td>978300760</td>\n",
       "      <td>one flew over the cuckoo's nest (1975)</td>\n",
       "      <td>drama</td>\n",
       "    </tr>\n",
       "    <tr>\n",
       "      <th>1</th>\n",
       "      <td>1</td>\n",
       "      <td>661</td>\n",
       "      <td>3</td>\n",
       "      <td>978302109</td>\n",
       "      <td>james and the giant peach (1996)</td>\n",
       "      <td>animation|children's|musical</td>\n",
       "    </tr>\n",
       "    <tr>\n",
       "      <th>2</th>\n",
       "      <td>1</td>\n",
       "      <td>914</td>\n",
       "      <td>3</td>\n",
       "      <td>978301968</td>\n",
       "      <td>my fair lady (1964)</td>\n",
       "      <td>musical|romance</td>\n",
       "    </tr>\n",
       "    <tr>\n",
       "      <th>3</th>\n",
       "      <td>1</td>\n",
       "      <td>3408</td>\n",
       "      <td>4</td>\n",
       "      <td>978300275</td>\n",
       "      <td>erin brockovich (2000)</td>\n",
       "      <td>drama</td>\n",
       "    </tr>\n",
       "    <tr>\n",
       "      <th>4</th>\n",
       "      <td>1</td>\n",
       "      <td>2355</td>\n",
       "      <td>5</td>\n",
       "      <td>978824291</td>\n",
       "      <td>bug's life, a (1998)</td>\n",
       "      <td>animation|children's|comedy</td>\n",
       "    </tr>\n",
       "  </tbody>\n",
       "</table>\n",
       "</div>"
      ],
      "text/plain": [
       "   user_id  movie_id  counts  timestamp  \\\n",
       "0        1      1193       5  978300760   \n",
       "1        1       661       3  978302109   \n",
       "2        1       914       3  978301968   \n",
       "3        1      3408       4  978300275   \n",
       "4        1      2355       5  978824291   \n",
       "\n",
       "                                    title                         genre  \n",
       "0  one flew over the cuckoo's nest (1975)                         drama  \n",
       "1        james and the giant peach (1996)  animation|children's|musical  \n",
       "2                     my fair lady (1964)               musical|romance  \n",
       "3                  erin brockovich (2000)                         drama  \n",
       "4                    bug's life, a (1998)   animation|children's|comedy  "
      ]
     },
     "execution_count": 499,
     "metadata": {},
     "output_type": "execute_result"
    }
   ],
   "source": [
    "ratings.head()"
   ]
  },
  {
   "cell_type": "code",
   "execution_count": 500,
   "id": "eb1104d4",
   "metadata": {},
   "outputs": [
    {
     "data": {
      "text/html": [
       "<div>\n",
       "<style scoped>\n",
       "    .dataframe tbody tr th:only-of-type {\n",
       "        vertical-align: middle;\n",
       "    }\n",
       "\n",
       "    .dataframe tbody tr th {\n",
       "        vertical-align: top;\n",
       "    }\n",
       "\n",
       "    .dataframe thead th {\n",
       "        text-align: right;\n",
       "    }\n",
       "</style>\n",
       "<table border=\"1\" class=\"dataframe\">\n",
       "  <thead>\n",
       "    <tr style=\"text-align: right;\">\n",
       "      <th></th>\n",
       "      <th>user_id</th>\n",
       "      <th>movie_id</th>\n",
       "      <th>title</th>\n",
       "      <th>genre</th>\n",
       "      <th>counts</th>\n",
       "      <th>timestamp</th>\n",
       "    </tr>\n",
       "  </thead>\n",
       "  <tbody>\n",
       "    <tr>\n",
       "      <th>0</th>\n",
       "      <td>1</td>\n",
       "      <td>1193</td>\n",
       "      <td>one flew over the cuckoo's nest (1975)</td>\n",
       "      <td>drama</td>\n",
       "      <td>5</td>\n",
       "      <td>978300760</td>\n",
       "    </tr>\n",
       "    <tr>\n",
       "      <th>1</th>\n",
       "      <td>1</td>\n",
       "      <td>661</td>\n",
       "      <td>james and the giant peach (1996)</td>\n",
       "      <td>animation|children's|musical</td>\n",
       "      <td>3</td>\n",
       "      <td>978302109</td>\n",
       "    </tr>\n",
       "    <tr>\n",
       "      <th>2</th>\n",
       "      <td>1</td>\n",
       "      <td>914</td>\n",
       "      <td>my fair lady (1964)</td>\n",
       "      <td>musical|romance</td>\n",
       "      <td>3</td>\n",
       "      <td>978301968</td>\n",
       "    </tr>\n",
       "    <tr>\n",
       "      <th>3</th>\n",
       "      <td>1</td>\n",
       "      <td>3408</td>\n",
       "      <td>erin brockovich (2000)</td>\n",
       "      <td>drama</td>\n",
       "      <td>4</td>\n",
       "      <td>978300275</td>\n",
       "    </tr>\n",
       "    <tr>\n",
       "      <th>4</th>\n",
       "      <td>1</td>\n",
       "      <td>2355</td>\n",
       "      <td>bug's life, a (1998)</td>\n",
       "      <td>animation|children's|comedy</td>\n",
       "      <td>5</td>\n",
       "      <td>978824291</td>\n",
       "    </tr>\n",
       "  </tbody>\n",
       "</table>\n",
       "</div>"
      ],
      "text/plain": [
       "   user_id  movie_id                                   title  \\\n",
       "0        1      1193  one flew over the cuckoo's nest (1975)   \n",
       "1        1       661        james and the giant peach (1996)   \n",
       "2        1       914                     my fair lady (1964)   \n",
       "3        1      3408                  erin brockovich (2000)   \n",
       "4        1      2355                    bug's life, a (1998)   \n",
       "\n",
       "                          genre  counts  timestamp  \n",
       "0                         drama       5  978300760  \n",
       "1  animation|children's|musical       3  978302109  \n",
       "2               musical|romance       3  978301968  \n",
       "3                         drama       4  978300275  \n",
       "4   animation|children's|comedy       5  978824291  "
      ]
     },
     "execution_count": 500,
     "metadata": {},
     "output_type": "execute_result"
    }
   ],
   "source": [
    "# 열 순서 재배치하기\n",
    "\n",
    "ratings = ratings[['user_id', 'movie_id', 'title', 'genre', 'counts', 'timestamp']]\n",
    "ratings.head()"
   ]
  },
  {
   "cell_type": "markdown",
   "id": "02532c95",
   "metadata": {},
   "source": [
    "<br>\n",
    "\n",
    "***새로운 column을 추가하고 ratings 데이터프레임 결측치 확인 후 제거***\n",
    "\n",
    "<br>"
   ]
  },
  {
   "cell_type": "code",
   "execution_count": 501,
   "id": "a7dd1322",
   "metadata": {},
   "outputs": [
    {
     "data": {
      "text/plain": [
       "user_id         0\n",
       "movie_id        0\n",
       "title        7171\n",
       "genre        7171\n",
       "counts          0\n",
       "timestamp       0\n",
       "dtype: int64"
      ]
     },
     "execution_count": 501,
     "metadata": {},
     "output_type": "execute_result"
    }
   ],
   "source": [
    "ratings.isnull().sum()"
   ]
  },
  {
   "cell_type": "code",
   "execution_count": 502,
   "id": "1b629ddd",
   "metadata": {},
   "outputs": [
    {
     "name": "stdout",
     "output_type": "stream",
     "text": [
      "결측치 제거 전 ratings 갯수 : 836478\n",
      "결측치 제거 후 ratings 갯수 : 829307\n"
     ]
    },
    {
     "name": "stderr",
     "output_type": "stream",
     "text": [
      "/opt/conda/lib/python3.9/site-packages/pandas/util/_decorators.py:311: SettingWithCopyWarning: \n",
      "A value is trying to be set on a copy of a slice from a DataFrame\n",
      "\n",
      "See the caveats in the documentation: https://pandas.pydata.org/pandas-docs/stable/user_guide/indexing.html#returning-a-view-versus-a-copy\n",
      "  return func(*args, **kwargs)\n"
     ]
    }
   ],
   "source": [
    "print(f'결측치 제거 전 ratings 갯수 : {len(ratings)}')\n",
    "\n",
    "ratings.dropna(axis=0, how='any', inplace=True)\n",
    "print(f'결측치 제거 후 ratings 갯수 : {len(ratings)}')"
   ]
  },
  {
   "cell_type": "code",
   "execution_count": 503,
   "id": "d493ab19",
   "metadata": {},
   "outputs": [
    {
     "data": {
      "text/html": [
       "<div>\n",
       "<style scoped>\n",
       "    .dataframe tbody tr th:only-of-type {\n",
       "        vertical-align: middle;\n",
       "    }\n",
       "\n",
       "    .dataframe tbody tr th {\n",
       "        vertical-align: top;\n",
       "    }\n",
       "\n",
       "    .dataframe thead th {\n",
       "        text-align: right;\n",
       "    }\n",
       "</style>\n",
       "<table border=\"1\" class=\"dataframe\">\n",
       "  <thead>\n",
       "    <tr style=\"text-align: right;\">\n",
       "      <th></th>\n",
       "      <th>user_id</th>\n",
       "      <th>movie_id</th>\n",
       "      <th>title</th>\n",
       "      <th>genre</th>\n",
       "      <th>counts</th>\n",
       "      <th>timestamp</th>\n",
       "    </tr>\n",
       "  </thead>\n",
       "  <tbody>\n",
       "    <tr>\n",
       "      <th>0</th>\n",
       "      <td>1</td>\n",
       "      <td>1193</td>\n",
       "      <td>one flew over the cuckoo's nest (1975)</td>\n",
       "      <td>drama</td>\n",
       "      <td>5</td>\n",
       "      <td>978300760</td>\n",
       "    </tr>\n",
       "    <tr>\n",
       "      <th>1</th>\n",
       "      <td>1</td>\n",
       "      <td>661</td>\n",
       "      <td>james and the giant peach (1996)</td>\n",
       "      <td>animation|children's|musical</td>\n",
       "      <td>3</td>\n",
       "      <td>978302109</td>\n",
       "    </tr>\n",
       "    <tr>\n",
       "      <th>2</th>\n",
       "      <td>1</td>\n",
       "      <td>914</td>\n",
       "      <td>my fair lady (1964)</td>\n",
       "      <td>musical|romance</td>\n",
       "      <td>3</td>\n",
       "      <td>978301968</td>\n",
       "    </tr>\n",
       "    <tr>\n",
       "      <th>3</th>\n",
       "      <td>1</td>\n",
       "      <td>3408</td>\n",
       "      <td>erin brockovich (2000)</td>\n",
       "      <td>drama</td>\n",
       "      <td>4</td>\n",
       "      <td>978300275</td>\n",
       "    </tr>\n",
       "    <tr>\n",
       "      <th>4</th>\n",
       "      <td>1</td>\n",
       "      <td>2355</td>\n",
       "      <td>bug's life, a (1998)</td>\n",
       "      <td>animation|children's|comedy</td>\n",
       "      <td>5</td>\n",
       "      <td>978824291</td>\n",
       "    </tr>\n",
       "    <tr>\n",
       "      <th>...</th>\n",
       "      <td>...</td>\n",
       "      <td>...</td>\n",
       "      <td>...</td>\n",
       "      <td>...</td>\n",
       "      <td>...</td>\n",
       "      <td>...</td>\n",
       "    </tr>\n",
       "    <tr>\n",
       "      <th>829302</th>\n",
       "      <td>6040</td>\n",
       "      <td>1090</td>\n",
       "      <td>platoon (1986)</td>\n",
       "      <td>drama|war</td>\n",
       "      <td>3</td>\n",
       "      <td>956715518</td>\n",
       "    </tr>\n",
       "    <tr>\n",
       "      <th>829303</th>\n",
       "      <td>6040</td>\n",
       "      <td>1094</td>\n",
       "      <td>crying game, the (1992)</td>\n",
       "      <td>drama|romance|war</td>\n",
       "      <td>5</td>\n",
       "      <td>956704887</td>\n",
       "    </tr>\n",
       "    <tr>\n",
       "      <th>829304</th>\n",
       "      <td>6040</td>\n",
       "      <td>562</td>\n",
       "      <td>welcome to the dollhouse (1995)</td>\n",
       "      <td>comedy|drama</td>\n",
       "      <td>5</td>\n",
       "      <td>956704746</td>\n",
       "    </tr>\n",
       "    <tr>\n",
       "      <th>829305</th>\n",
       "      <td>6040</td>\n",
       "      <td>1096</td>\n",
       "      <td>sophie's choice (1982)</td>\n",
       "      <td>drama</td>\n",
       "      <td>4</td>\n",
       "      <td>956715648</td>\n",
       "    </tr>\n",
       "    <tr>\n",
       "      <th>829306</th>\n",
       "      <td>6040</td>\n",
       "      <td>1097</td>\n",
       "      <td>e.t. the extra-terrestrial (1982)</td>\n",
       "      <td>children's|drama|fantasy|sci-fi</td>\n",
       "      <td>4</td>\n",
       "      <td>956715569</td>\n",
       "    </tr>\n",
       "  </tbody>\n",
       "</table>\n",
       "<p>829307 rows × 6 columns</p>\n",
       "</div>"
      ],
      "text/plain": [
       "        user_id  movie_id                                   title  \\\n",
       "0             1      1193  one flew over the cuckoo's nest (1975)   \n",
       "1             1       661        james and the giant peach (1996)   \n",
       "2             1       914                     my fair lady (1964)   \n",
       "3             1      3408                  erin brockovich (2000)   \n",
       "4             1      2355                    bug's life, a (1998)   \n",
       "...         ...       ...                                     ...   \n",
       "829302     6040      1090                          platoon (1986)   \n",
       "829303     6040      1094                 crying game, the (1992)   \n",
       "829304     6040       562         welcome to the dollhouse (1995)   \n",
       "829305     6040      1096                  sophie's choice (1982)   \n",
       "829306     6040      1097       e.t. the extra-terrestrial (1982)   \n",
       "\n",
       "                                  genre  counts  timestamp  \n",
       "0                                 drama       5  978300760  \n",
       "1          animation|children's|musical       3  978302109  \n",
       "2                       musical|romance       3  978301968  \n",
       "3                                 drama       4  978300275  \n",
       "4           animation|children's|comedy       5  978824291  \n",
       "...                                 ...     ...        ...  \n",
       "829302                        drama|war       3  956715518  \n",
       "829303                drama|romance|war       5  956704887  \n",
       "829304                     comedy|drama       5  956704746  \n",
       "829305                            drama       4  956715648  \n",
       "829306  children's|drama|fantasy|sci-fi       4  956715569  \n",
       "\n",
       "[829307 rows x 6 columns]"
      ]
     },
     "execution_count": 503,
     "metadata": {},
     "output_type": "execute_result"
    }
   ],
   "source": [
    "ratings.index=list(range(len(ratings)))\n",
    "ratings"
   ]
  },
  {
   "cell_type": "code",
   "execution_count": 504,
   "id": "8fda4618",
   "metadata": {},
   "outputs": [
    {
     "data": {
      "text/html": [
       "<div>\n",
       "<style scoped>\n",
       "    .dataframe tbody tr th:only-of-type {\n",
       "        vertical-align: middle;\n",
       "    }\n",
       "\n",
       "    .dataframe tbody tr th {\n",
       "        vertical-align: top;\n",
       "    }\n",
       "\n",
       "    .dataframe thead th {\n",
       "        text-align: right;\n",
       "    }\n",
       "</style>\n",
       "<table border=\"1\" class=\"dataframe\">\n",
       "  <thead>\n",
       "    <tr style=\"text-align: right;\">\n",
       "      <th></th>\n",
       "      <th>user_id</th>\n",
       "      <th>movie_id</th>\n",
       "      <th>title</th>\n",
       "      <th>genre</th>\n",
       "      <th>counts</th>\n",
       "      <th>timestamp</th>\n",
       "    </tr>\n",
       "  </thead>\n",
       "  <tbody>\n",
       "    <tr>\n",
       "      <th>0</th>\n",
       "      <td>1</td>\n",
       "      <td>1193</td>\n",
       "      <td>one flew over the cuckoo's nest (1975)</td>\n",
       "      <td>drama</td>\n",
       "      <td>5</td>\n",
       "      <td>978300760</td>\n",
       "    </tr>\n",
       "    <tr>\n",
       "      <th>46</th>\n",
       "      <td>1</td>\n",
       "      <td>1029</td>\n",
       "      <td>dumbo (1941)</td>\n",
       "      <td>animation|children's|musical</td>\n",
       "      <td>5</td>\n",
       "      <td>978302205</td>\n",
       "    </tr>\n",
       "    <tr>\n",
       "      <th>40</th>\n",
       "      <td>1</td>\n",
       "      <td>1</td>\n",
       "      <td>toy story (1995)</td>\n",
       "      <td>animation|children's|comedy</td>\n",
       "      <td>5</td>\n",
       "      <td>978824268</td>\n",
       "    </tr>\n",
       "    <tr>\n",
       "      <th>18</th>\n",
       "      <td>1</td>\n",
       "      <td>3105</td>\n",
       "      <td>awakenings (1990)</td>\n",
       "      <td>drama</td>\n",
       "      <td>5</td>\n",
       "      <td>978301713</td>\n",
       "    </tr>\n",
       "    <tr>\n",
       "      <th>41</th>\n",
       "      <td>1</td>\n",
       "      <td>1961</td>\n",
       "      <td>rain man (1988)</td>\n",
       "      <td>drama</td>\n",
       "      <td>5</td>\n",
       "      <td>978301590</td>\n",
       "    </tr>\n",
       "    <tr>\n",
       "      <th>23</th>\n",
       "      <td>1</td>\n",
       "      <td>527</td>\n",
       "      <td>schindler's list (1993)</td>\n",
       "      <td>drama|war</td>\n",
       "      <td>5</td>\n",
       "      <td>978824195</td>\n",
       "    </tr>\n",
       "    <tr>\n",
       "      <th>37</th>\n",
       "      <td>1</td>\n",
       "      <td>1022</td>\n",
       "      <td>cinderella (1950)</td>\n",
       "      <td>animation|children's|musical</td>\n",
       "      <td>5</td>\n",
       "      <td>978300055</td>\n",
       "    </tr>\n",
       "    <tr>\n",
       "      <th>14</th>\n",
       "      <td>1</td>\n",
       "      <td>1035</td>\n",
       "      <td>sound of music, the (1965)</td>\n",
       "      <td>musical</td>\n",
       "      <td>5</td>\n",
       "      <td>978301753</td>\n",
       "    </tr>\n",
       "    <tr>\n",
       "      <th>25</th>\n",
       "      <td>1</td>\n",
       "      <td>48</td>\n",
       "      <td>pocahontas (1995)</td>\n",
       "      <td>animation|children's|musical|romance</td>\n",
       "      <td>5</td>\n",
       "      <td>978824351</td>\n",
       "    </tr>\n",
       "    <tr>\n",
       "      <th>45</th>\n",
       "      <td>1</td>\n",
       "      <td>1028</td>\n",
       "      <td>mary poppins (1964)</td>\n",
       "      <td>children's|comedy|musical</td>\n",
       "      <td>5</td>\n",
       "      <td>978301777</td>\n",
       "    </tr>\n",
       "    <tr>\n",
       "      <th>10</th>\n",
       "      <td>1</td>\n",
       "      <td>595</td>\n",
       "      <td>beauty and the beast (1991)</td>\n",
       "      <td>animation|children's|musical</td>\n",
       "      <td>5</td>\n",
       "      <td>978824268</td>\n",
       "    </tr>\n",
       "    <tr>\n",
       "      <th>22</th>\n",
       "      <td>1</td>\n",
       "      <td>1270</td>\n",
       "      <td>back to the future (1985)</td>\n",
       "      <td>comedy|sci-fi</td>\n",
       "      <td>5</td>\n",
       "      <td>978300055</td>\n",
       "    </tr>\n",
       "    <tr>\n",
       "      <th>36</th>\n",
       "      <td>1</td>\n",
       "      <td>1836</td>\n",
       "      <td>last days of disco, the (1998)</td>\n",
       "      <td>drama</td>\n",
       "      <td>5</td>\n",
       "      <td>978300172</td>\n",
       "    </tr>\n",
       "    <tr>\n",
       "      <th>48</th>\n",
       "      <td>1</td>\n",
       "      <td>2028</td>\n",
       "      <td>saving private ryan (1998)</td>\n",
       "      <td>action|drama|war</td>\n",
       "      <td>5</td>\n",
       "      <td>978301619</td>\n",
       "    </tr>\n",
       "    <tr>\n",
       "      <th>7</th>\n",
       "      <td>1</td>\n",
       "      <td>2804</td>\n",
       "      <td>christmas story, a (1983)</td>\n",
       "      <td>comedy|drama</td>\n",
       "      <td>5</td>\n",
       "      <td>978300719</td>\n",
       "    </tr>\n",
       "    <tr>\n",
       "      <th>6</th>\n",
       "      <td>1</td>\n",
       "      <td>1287</td>\n",
       "      <td>ben-hur (1959)</td>\n",
       "      <td>action|adventure|drama</td>\n",
       "      <td>5</td>\n",
       "      <td>978302039</td>\n",
       "    </tr>\n",
       "    <tr>\n",
       "      <th>4</th>\n",
       "      <td>1</td>\n",
       "      <td>2355</td>\n",
       "      <td>bug's life, a (1998)</td>\n",
       "      <td>animation|children's|comedy</td>\n",
       "      <td>5</td>\n",
       "      <td>978824291</td>\n",
       "    </tr>\n",
       "    <tr>\n",
       "      <th>39</th>\n",
       "      <td>1</td>\n",
       "      <td>150</td>\n",
       "      <td>apollo 13 (1995)</td>\n",
       "      <td>drama</td>\n",
       "      <td>5</td>\n",
       "      <td>978301777</td>\n",
       "    </tr>\n",
       "    <tr>\n",
       "      <th>35</th>\n",
       "      <td>1</td>\n",
       "      <td>783</td>\n",
       "      <td>hunchback of notre dame, the (1996)</td>\n",
       "      <td>animation|children's|musical</td>\n",
       "      <td>4</td>\n",
       "      <td>978824291</td>\n",
       "    </tr>\n",
       "    <tr>\n",
       "      <th>34</th>\n",
       "      <td>1</td>\n",
       "      <td>1907</td>\n",
       "      <td>mulan (1998)</td>\n",
       "      <td>animation|children's</td>\n",
       "      <td>4</td>\n",
       "      <td>978824330</td>\n",
       "    </tr>\n",
       "  </tbody>\n",
       "</table>\n",
       "</div>"
      ],
      "text/plain": [
       "    user_id  movie_id                                   title  \\\n",
       "0         1      1193  one flew over the cuckoo's nest (1975)   \n",
       "46        1      1029                            dumbo (1941)   \n",
       "40        1         1                        toy story (1995)   \n",
       "18        1      3105                       awakenings (1990)   \n",
       "41        1      1961                         rain man (1988)   \n",
       "23        1       527                 schindler's list (1993)   \n",
       "37        1      1022                       cinderella (1950)   \n",
       "14        1      1035              sound of music, the (1965)   \n",
       "25        1        48                       pocahontas (1995)   \n",
       "45        1      1028                     mary poppins (1964)   \n",
       "10        1       595             beauty and the beast (1991)   \n",
       "22        1      1270               back to the future (1985)   \n",
       "36        1      1836          last days of disco, the (1998)   \n",
       "48        1      2028              saving private ryan (1998)   \n",
       "7         1      2804               christmas story, a (1983)   \n",
       "6         1      1287                          ben-hur (1959)   \n",
       "4         1      2355                    bug's life, a (1998)   \n",
       "39        1       150                        apollo 13 (1995)   \n",
       "35        1       783     hunchback of notre dame, the (1996)   \n",
       "34        1      1907                            mulan (1998)   \n",
       "\n",
       "                                   genre  counts  timestamp  \n",
       "0                                  drama       5  978300760  \n",
       "46          animation|children's|musical       5  978302205  \n",
       "40           animation|children's|comedy       5  978824268  \n",
       "18                                 drama       5  978301713  \n",
       "41                                 drama       5  978301590  \n",
       "23                             drama|war       5  978824195  \n",
       "37          animation|children's|musical       5  978300055  \n",
       "14                               musical       5  978301753  \n",
       "25  animation|children's|musical|romance       5  978824351  \n",
       "45             children's|comedy|musical       5  978301777  \n",
       "10          animation|children's|musical       5  978824268  \n",
       "22                         comedy|sci-fi       5  978300055  \n",
       "36                                 drama       5  978300172  \n",
       "48                      action|drama|war       5  978301619  \n",
       "7                           comedy|drama       5  978300719  \n",
       "6                 action|adventure|drama       5  978302039  \n",
       "4            animation|children's|comedy       5  978824291  \n",
       "39                                 drama       5  978301777  \n",
       "35          animation|children's|musical       4  978824291  \n",
       "34                  animation|children's       4  978824330  "
      ]
     },
     "execution_count": 504,
     "metadata": {},
     "output_type": "execute_result"
    }
   ],
   "source": [
    "# 첫번째 유저가 어떤 영화를 시청하는지 확인해 보자.\n",
    "\n",
    "condition = (ratings['user_id']==ratings.loc[0, 'user_id'])\n",
    "ratings.loc[condition].sort_values(by='counts', ascending=False).head(20)"
   ]
  },
  {
   "cell_type": "markdown",
   "id": "2ea1c18e",
   "metadata": {},
   "source": [
    "<br>\n",
    "\n",
    "#### (3) 데이터 탐색\n",
    "---"
   ]
  },
  {
   "cell_type": "markdown",
   "id": "167ac2a1",
   "metadata": {},
   "source": [
    "***pandas.DataFrame.nunique() 매서드를 사용하면 특정 컬럼에 포함된 유니크한 데이터의 갯수를 알아보는데 유용하다.***"
   ]
  },
  {
   "cell_type": "code",
   "execution_count": 505,
   "id": "36c4eed8",
   "metadata": {},
   "outputs": [
    {
     "data": {
      "text/plain": [
       "3561"
      ]
     },
     "execution_count": 505,
     "metadata": {},
     "output_type": "execute_result"
    }
   ],
   "source": [
    "# rating에 있는 유니크한 영화 개수\n",
    "\n",
    "ratings['movie_id'].nunique()"
   ]
  },
  {
   "cell_type": "code",
   "execution_count": 506,
   "id": "a915a3a0",
   "metadata": {},
   "outputs": [
    {
     "data": {
      "text/plain": [
       "6039"
      ]
     },
     "execution_count": 506,
     "metadata": {},
     "output_type": "execute_result"
    }
   ],
   "source": [
    "# rating에 있는 유니크한 사용자 수\n",
    "\n",
    "ratings['user_id'].nunique()"
   ]
  },
  {
   "cell_type": "code",
   "execution_count": 507,
   "id": "d69f438c",
   "metadata": {},
   "outputs": [
    {
     "data": {
      "text/plain": [
       "title\n",
       "american beauty (1999)                                   3211\n",
       "star wars: episode iv - a new hope (1977)                2910\n",
       "star wars: episode v - the empire strikes back (1980)    2885\n",
       "star wars: episode vi - return of the jedi (1983)        2716\n",
       "saving private ryan (1998)                               2561\n",
       "terminator 2: judgment day (1991)                        2509\n",
       "silence of the lambs, the (1991)                         2498\n",
       "raiders of the lost ark (1981)                           2473\n",
       "back to the future (1985)                                2460\n",
       "matrix, the (1999)                                       2434\n",
       "jurassic park (1993)                                     2413\n",
       "sixth sense, the (1999)                                  2385\n",
       "fargo (1996)                                             2371\n",
       "braveheart (1995)                                        2314\n",
       "men in black (1997)                                      2297\n",
       "schindler's list (1993)                                  2257\n",
       "princess bride, the (1987)                               2252\n",
       "shakespeare in love (1998)                               2213\n",
       "l.a. confidential (1997)                                 2210\n",
       "shawshank redemption, the (1994)                         2194\n",
       "godfather, the (1972)                                    2167\n",
       "groundhog day (1993)                                     2121\n",
       "e.t. the extra-terrestrial (1982)                        2102\n",
       "being john malkovich (1999)                              2066\n",
       "ghostbusters (1984)                                      2051\n",
       "pulp fiction (1994)                                      2030\n",
       "forrest gump (1994)                                      2022\n",
       "terminator, the (1984)                                   2019\n",
       "toy story (1995)                                         2000\n",
       "fugitive, the (1993)                                     1941\n",
       "Name: user_id, dtype: int64"
      ]
     },
     "execution_count": 507,
     "metadata": {},
     "output_type": "execute_result"
    }
   ],
   "source": [
    "# 가장 인기 있는 영화 30개(인기순)\n",
    "\n",
    "movie_count = ratings.groupby('title')['user_id'].count()\n",
    "movie_count.sort_values(ascending=False).head(30)"
   ]
  },
  {
   "cell_type": "code",
   "execution_count": 508,
   "id": "f9461f63",
   "metadata": {},
   "outputs": [
    {
     "data": {
      "text/plain": [
       "count    6039.000000\n",
       "mean      137.325219\n",
       "std       155.064242\n",
       "min         1.000000\n",
       "25%        37.000000\n",
       "50%        80.000000\n",
       "75%       175.000000\n",
       "max      1942.000000\n",
       "Name: movie_id, dtype: float64"
      ]
     },
     "execution_count": 508,
     "metadata": {},
     "output_type": "execute_result"
    }
   ],
   "source": [
    "# 유저별 몇 개의 영화를 보고 있는지에 대한 통계\n",
    "\n",
    "user_count = ratings.groupby('user_id')['movie_id'].count()\n",
    "user_count.describe()"
   ]
  },
  {
   "cell_type": "code",
   "execution_count": 509,
   "id": "f31cfaf5",
   "metadata": {},
   "outputs": [
    {
     "data": {
      "text/plain": [
       "count    6039.000000\n",
       "mean        4.056052\n",
       "std         0.433137\n",
       "min         3.000000\n",
       "25%         4.000000\n",
       "50%         4.000000\n",
       "75%         4.000000\n",
       "max         5.000000\n",
       "Name: counts, dtype: float64"
      ]
     },
     "execution_count": 509,
     "metadata": {},
     "output_type": "execute_result"
    }
   ],
   "source": [
    "# 유저별 시청횟수 중앙값에 대한 통계\n",
    "\n",
    "user_median = ratings.groupby('user_id')['counts'].median()\n",
    "user_median.describe()"
   ]
  },
  {
   "cell_type": "markdown",
   "id": "b3484617",
   "metadata": {},
   "source": [
    "<br>\n",
    "\n",
    "#### (4) 모델 검증을 위한 사용자 초기 정보 셋팅\n",
    "---"
   ]
  },
  {
   "cell_type": "code",
   "execution_count": 510,
   "id": "cd0ef726",
   "metadata": {},
   "outputs": [
    {
     "data": {
      "text/html": [
       "<div>\n",
       "<style scoped>\n",
       "    .dataframe tbody tr th:only-of-type {\n",
       "        vertical-align: middle;\n",
       "    }\n",
       "\n",
       "    .dataframe tbody tr th {\n",
       "        vertical-align: top;\n",
       "    }\n",
       "\n",
       "    .dataframe thead th {\n",
       "        text-align: right;\n",
       "    }\n",
       "</style>\n",
       "<table border=\"1\" class=\"dataframe\">\n",
       "  <thead>\n",
       "    <tr style=\"text-align: right;\">\n",
       "      <th></th>\n",
       "      <th>user_id</th>\n",
       "      <th>movie_id</th>\n",
       "      <th>title</th>\n",
       "      <th>genre</th>\n",
       "      <th>counts</th>\n",
       "      <th>timestamp</th>\n",
       "    </tr>\n",
       "  </thead>\n",
       "  <tbody>\n",
       "    <tr>\n",
       "      <th>490346</th>\n",
       "      <td>3622</td>\n",
       "      <td>1097</td>\n",
       "      <td>e.t. the extra-terrestrial (1982)</td>\n",
       "      <td>children's|drama|fantasy|sci-fi</td>\n",
       "      <td>4</td>\n",
       "      <td>966570635</td>\n",
       "    </tr>\n",
       "    <tr>\n",
       "      <th>655752</th>\n",
       "      <td>4750</td>\n",
       "      <td>3684</td>\n",
       "      <td>fabulous baker boys, the (1989)</td>\n",
       "      <td>drama|romance</td>\n",
       "      <td>3</td>\n",
       "      <td>963534000</td>\n",
       "    </tr>\n",
       "    <tr>\n",
       "      <th>396022</th>\n",
       "      <td>2964</td>\n",
       "      <td>3148</td>\n",
       "      <td>cider house rules, the (1999)</td>\n",
       "      <td>drama</td>\n",
       "      <td>3</td>\n",
       "      <td>971120805</td>\n",
       "    </tr>\n",
       "    <tr>\n",
       "      <th>279761</th>\n",
       "      <td>2015</td>\n",
       "      <td>1213</td>\n",
       "      <td>goodfellas (1990)</td>\n",
       "      <td>crime|drama</td>\n",
       "      <td>4</td>\n",
       "      <td>1020387314</td>\n",
       "    </tr>\n",
       "    <tr>\n",
       "      <th>617895</th>\n",
       "      <td>4472</td>\n",
       "      <td>3100</td>\n",
       "      <td>river runs through it, a (1992)</td>\n",
       "      <td>drama</td>\n",
       "      <td>4</td>\n",
       "      <td>965067173</td>\n",
       "    </tr>\n",
       "  </tbody>\n",
       "</table>\n",
       "</div>"
      ],
      "text/plain": [
       "        user_id  movie_id                              title  \\\n",
       "490346     3622      1097  e.t. the extra-terrestrial (1982)   \n",
       "655752     4750      3684    fabulous baker boys, the (1989)   \n",
       "396022     2964      3148      cider house rules, the (1999)   \n",
       "279761     2015      1213                  goodfellas (1990)   \n",
       "617895     4472      3100    river runs through it, a (1992)   \n",
       "\n",
       "                                  genre  counts   timestamp  \n",
       "490346  children's|drama|fantasy|sci-fi       4   966570635  \n",
       "655752                    drama|romance       3   963534000  \n",
       "396022                            drama       3   971120805  \n",
       "279761                      crime|drama       4  1020387314  \n",
       "617895                            drama       4   965067173  "
      ]
     },
     "execution_count": 510,
     "metadata": {},
     "output_type": "execute_result"
    }
   ],
   "source": [
    "sample_data = ratings.sample(5)\n",
    "sample_data"
   ]
  },
  {
   "cell_type": "code",
   "execution_count": 511,
   "id": "4295d1ed",
   "metadata": {},
   "outputs": [
    {
     "name": "stdout",
     "output_type": "stream",
     "text": [
      "<class 'pandas.core.frame.DataFrame'>\n"
     ]
    },
    {
     "data": {
      "text/html": [
       "<div>\n",
       "<style scoped>\n",
       "    .dataframe tbody tr th:only-of-type {\n",
       "        vertical-align: middle;\n",
       "    }\n",
       "\n",
       "    .dataframe tbody tr th {\n",
       "        vertical-align: top;\n",
       "    }\n",
       "\n",
       "    .dataframe thead th {\n",
       "        text-align: right;\n",
       "    }\n",
       "</style>\n",
       "<table border=\"1\" class=\"dataframe\">\n",
       "  <thead>\n",
       "    <tr style=\"text-align: right;\">\n",
       "      <th></th>\n",
       "      <th>user_id</th>\n",
       "      <th>movie_id</th>\n",
       "      <th>title</th>\n",
       "      <th>genre</th>\n",
       "      <th>counts</th>\n",
       "      <th>timestamp</th>\n",
       "    </tr>\n",
       "  </thead>\n",
       "  <tbody>\n",
       "    <tr>\n",
       "      <th>829302</th>\n",
       "      <td>6040</td>\n",
       "      <td>1090</td>\n",
       "      <td>platoon (1986)</td>\n",
       "      <td>drama|war</td>\n",
       "      <td>3</td>\n",
       "      <td>956715518</td>\n",
       "    </tr>\n",
       "    <tr>\n",
       "      <th>829303</th>\n",
       "      <td>6040</td>\n",
       "      <td>1094</td>\n",
       "      <td>crying game, the (1992)</td>\n",
       "      <td>drama|romance|war</td>\n",
       "      <td>5</td>\n",
       "      <td>956704887</td>\n",
       "    </tr>\n",
       "    <tr>\n",
       "      <th>829304</th>\n",
       "      <td>6040</td>\n",
       "      <td>562</td>\n",
       "      <td>welcome to the dollhouse (1995)</td>\n",
       "      <td>comedy|drama</td>\n",
       "      <td>5</td>\n",
       "      <td>956704746</td>\n",
       "    </tr>\n",
       "    <tr>\n",
       "      <th>829305</th>\n",
       "      <td>6040</td>\n",
       "      <td>1096</td>\n",
       "      <td>sophie's choice (1982)</td>\n",
       "      <td>drama</td>\n",
       "      <td>4</td>\n",
       "      <td>956715648</td>\n",
       "    </tr>\n",
       "    <tr>\n",
       "      <th>829306</th>\n",
       "      <td>6040</td>\n",
       "      <td>1097</td>\n",
       "      <td>e.t. the extra-terrestrial (1982)</td>\n",
       "      <td>children's|drama|fantasy|sci-fi</td>\n",
       "      <td>4</td>\n",
       "      <td>956715569</td>\n",
       "    </tr>\n",
       "    <tr>\n",
       "      <th>490346</th>\n",
       "      <td>jy</td>\n",
       "      <td>1097</td>\n",
       "      <td>e.t. the extra-terrestrial (1982)</td>\n",
       "      <td>children's|drama|fantasy|sci-fi</td>\n",
       "      <td>5</td>\n",
       "      <td>966570635</td>\n",
       "    </tr>\n",
       "    <tr>\n",
       "      <th>655752</th>\n",
       "      <td>jy</td>\n",
       "      <td>3684</td>\n",
       "      <td>fabulous baker boys, the (1989)</td>\n",
       "      <td>drama|romance</td>\n",
       "      <td>5</td>\n",
       "      <td>963534000</td>\n",
       "    </tr>\n",
       "    <tr>\n",
       "      <th>396022</th>\n",
       "      <td>jy</td>\n",
       "      <td>3148</td>\n",
       "      <td>cider house rules, the (1999)</td>\n",
       "      <td>drama</td>\n",
       "      <td>5</td>\n",
       "      <td>971120805</td>\n",
       "    </tr>\n",
       "    <tr>\n",
       "      <th>279761</th>\n",
       "      <td>jy</td>\n",
       "      <td>1213</td>\n",
       "      <td>goodfellas (1990)</td>\n",
       "      <td>crime|drama</td>\n",
       "      <td>5</td>\n",
       "      <td>1020387314</td>\n",
       "    </tr>\n",
       "    <tr>\n",
       "      <th>617895</th>\n",
       "      <td>jy</td>\n",
       "      <td>3100</td>\n",
       "      <td>river runs through it, a (1992)</td>\n",
       "      <td>drama</td>\n",
       "      <td>5</td>\n",
       "      <td>965067173</td>\n",
       "    </tr>\n",
       "  </tbody>\n",
       "</table>\n",
       "</div>"
      ],
      "text/plain": [
       "       user_id  movie_id                              title  \\\n",
       "829302    6040      1090                     platoon (1986)   \n",
       "829303    6040      1094            crying game, the (1992)   \n",
       "829304    6040       562    welcome to the dollhouse (1995)   \n",
       "829305    6040      1096             sophie's choice (1982)   \n",
       "829306    6040      1097  e.t. the extra-terrestrial (1982)   \n",
       "490346      jy      1097  e.t. the extra-terrestrial (1982)   \n",
       "655752      jy      3684    fabulous baker boys, the (1989)   \n",
       "396022      jy      3148      cider house rules, the (1999)   \n",
       "279761      jy      1213                  goodfellas (1990)   \n",
       "617895      jy      3100    river runs through it, a (1992)   \n",
       "\n",
       "                                  genre  counts   timestamp  \n",
       "829302                        drama|war       3   956715518  \n",
       "829303                drama|romance|war       5   956704887  \n",
       "829304                     comedy|drama       5   956704746  \n",
       "829305                            drama       4   956715648  \n",
       "829306  children's|drama|fantasy|sci-fi       4   956715569  \n",
       "490346  children's|drama|fantasy|sci-fi       5   966570635  \n",
       "655752                    drama|romance       5   963534000  \n",
       "396022                            drama       5   971120805  \n",
       "279761                      crime|drama       5  1020387314  \n",
       "617895                            drama       5   965067173  "
      ]
     },
     "execution_count": 511,
     "metadata": {},
     "output_type": "execute_result"
    }
   ],
   "source": [
    "# my_favorite = ['amadeus (1984)' , 'Jumanji (1995)' ,'Gladiator (2000)' ,'Big Daddy (1999)' ,'Alaska (1996)']\n",
    "\n",
    "# 'jy'이라는 user_id가 위 영화를 5회씩 시청했다고 가정하겠습니다.\n",
    "my_playlist = pd.DataFrame({'user_id': ['jy']*5, 'movie_id': sample_data['movie_id'],\n",
    "                            'title': sample_data['title'], 'genre' : sample_data['genre'],\n",
    "                            'counts':[5]*5, 'timestamp':sample_data['timestamp']})\n",
    "\n",
    "if not ratings.isin({'user_id':['jy']})['user_id'].any():  # user_id에 'jy'이라는 데이터가 없다면\n",
    "    ratings = ratings.append(my_playlist)                           # 위에 임의로 만든 my_favorite 데이터를 추가해 줍니다. \n",
    "\n",
    "print(type(ratings))\n",
    "\n",
    "ratings.tail(10)       # 잘 추가되었는지 확인해 봅시다."
   ]
  },
  {
   "cell_type": "markdown",
   "id": "2ba77dbe",
   "metadata": {},
   "source": [
    "<br>\n",
    "\n",
    "#### (5) 모델에 활용하기 위한 전처리\n",
    "---\n"
   ]
  },
  {
   "cell_type": "code",
   "execution_count": 512,
   "id": "4d01ed84",
   "metadata": {},
   "outputs": [],
   "source": [
    "# 고유한 유저, 아티스트를 찾아내는 코드\n",
    "user_unique = ratings['user_id'].unique()\n",
    "movie_unique = ratings['title'].unique()\n",
    "\n",
    "# 유저, 아티스트, indexing 하는 코드 idx는 index의 약자이다.\n",
    "user_to_idx = {v:k for k, v in enumerate(user_unique)}\n",
    "movie_to_idx = {v:k for k, v in enumerate(movie_unique)}"
   ]
  },
  {
   "cell_type": "code",
   "execution_count": 513,
   "id": "eebd4f76",
   "metadata": {},
   "outputs": [
    {
     "name": "stdout",
     "output_type": "stream",
     "text": [
      "6039\n",
      "1579\n"
     ]
    }
   ],
   "source": [
    "# 인덱싱 확인\n",
    "\n",
    "print(user_to_idx['jy'])\n",
    "print(movie_to_idx['manhattan murder mystery (1993)'])"
   ]
  },
  {
   "cell_type": "code",
   "execution_count": 514,
   "id": "9ffd3c92",
   "metadata": {},
   "outputs": [
    {
     "name": "stdout",
     "output_type": "stream",
     "text": [
      "user_id column indexing OK!!\n",
      "title column indexing OK!!\n"
     ]
    },
    {
     "data": {
      "text/html": [
       "<div>\n",
       "<style scoped>\n",
       "    .dataframe tbody tr th:only-of-type {\n",
       "        vertical-align: middle;\n",
       "    }\n",
       "\n",
       "    .dataframe tbody tr th {\n",
       "        vertical-align: top;\n",
       "    }\n",
       "\n",
       "    .dataframe thead th {\n",
       "        text-align: right;\n",
       "    }\n",
       "</style>\n",
       "<table border=\"1\" class=\"dataframe\">\n",
       "  <thead>\n",
       "    <tr style=\"text-align: right;\">\n",
       "      <th></th>\n",
       "      <th>user_id</th>\n",
       "      <th>movie_id</th>\n",
       "      <th>title</th>\n",
       "      <th>genre</th>\n",
       "      <th>counts</th>\n",
       "      <th>timestamp</th>\n",
       "    </tr>\n",
       "  </thead>\n",
       "  <tbody>\n",
       "    <tr>\n",
       "      <th>829302</th>\n",
       "      <td>6038</td>\n",
       "      <td>1090</td>\n",
       "      <td>1022</td>\n",
       "      <td>drama|war</td>\n",
       "      <td>3</td>\n",
       "      <td>956715518</td>\n",
       "    </tr>\n",
       "    <tr>\n",
       "      <th>829303</th>\n",
       "      <td>6038</td>\n",
       "      <td>1094</td>\n",
       "      <td>980</td>\n",
       "      <td>drama|romance|war</td>\n",
       "      <td>5</td>\n",
       "      <td>956704887</td>\n",
       "    </tr>\n",
       "    <tr>\n",
       "      <th>829304</th>\n",
       "      <td>6038</td>\n",
       "      <td>562</td>\n",
       "      <td>311</td>\n",
       "      <td>comedy|drama</td>\n",
       "      <td>5</td>\n",
       "      <td>956704746</td>\n",
       "    </tr>\n",
       "    <tr>\n",
       "      <th>829305</th>\n",
       "      <td>6038</td>\n",
       "      <td>1096</td>\n",
       "      <td>142</td>\n",
       "      <td>drama</td>\n",
       "      <td>4</td>\n",
       "      <td>956715648</td>\n",
       "    </tr>\n",
       "    <tr>\n",
       "      <th>829306</th>\n",
       "      <td>6038</td>\n",
       "      <td>1097</td>\n",
       "      <td>26</td>\n",
       "      <td>children's|drama|fantasy|sci-fi</td>\n",
       "      <td>4</td>\n",
       "      <td>956715569</td>\n",
       "    </tr>\n",
       "    <tr>\n",
       "      <th>490346</th>\n",
       "      <td>6039</td>\n",
       "      <td>1097</td>\n",
       "      <td>26</td>\n",
       "      <td>children's|drama|fantasy|sci-fi</td>\n",
       "      <td>5</td>\n",
       "      <td>966570635</td>\n",
       "    </tr>\n",
       "    <tr>\n",
       "      <th>655752</th>\n",
       "      <td>6039</td>\n",
       "      <td>3684</td>\n",
       "      <td>1247</td>\n",
       "      <td>drama|romance</td>\n",
       "      <td>5</td>\n",
       "      <td>963534000</td>\n",
       "    </tr>\n",
       "    <tr>\n",
       "      <th>396022</th>\n",
       "      <td>6039</td>\n",
       "      <td>3148</td>\n",
       "      <td>391</td>\n",
       "      <td>drama</td>\n",
       "      <td>5</td>\n",
       "      <td>971120805</td>\n",
       "    </tr>\n",
       "    <tr>\n",
       "      <th>279761</th>\n",
       "      <td>6039</td>\n",
       "      <td>1213</td>\n",
       "      <td>269</td>\n",
       "      <td>crime|drama</td>\n",
       "      <td>5</td>\n",
       "      <td>1020387314</td>\n",
       "    </tr>\n",
       "    <tr>\n",
       "      <th>617895</th>\n",
       "      <td>6039</td>\n",
       "      <td>3100</td>\n",
       "      <td>554</td>\n",
       "      <td>drama</td>\n",
       "      <td>5</td>\n",
       "      <td>965067173</td>\n",
       "    </tr>\n",
       "  </tbody>\n",
       "</table>\n",
       "</div>"
      ],
      "text/plain": [
       "        user_id  movie_id  title                            genre  counts  \\\n",
       "829302     6038      1090   1022                        drama|war       3   \n",
       "829303     6038      1094    980                drama|romance|war       5   \n",
       "829304     6038       562    311                     comedy|drama       5   \n",
       "829305     6038      1096    142                            drama       4   \n",
       "829306     6038      1097     26  children's|drama|fantasy|sci-fi       4   \n",
       "490346     6039      1097     26  children's|drama|fantasy|sci-fi       5   \n",
       "655752     6039      3684   1247                    drama|romance       5   \n",
       "396022     6039      3148    391                            drama       5   \n",
       "279761     6039      1213    269                      crime|drama       5   \n",
       "617895     6039      3100    554                            drama       5   \n",
       "\n",
       "         timestamp  \n",
       "829302   956715518  \n",
       "829303   956704887  \n",
       "829304   956704746  \n",
       "829305   956715648  \n",
       "829306   956715569  \n",
       "490346   966570635  \n",
       "655752   963534000  \n",
       "396022   971120805  \n",
       "279761  1020387314  \n",
       "617895   965067173  "
      ]
     },
     "execution_count": 514,
     "metadata": {},
     "output_type": "execute_result"
    }
   ],
   "source": [
    "# indexing을 통해 데이터 컬럼 내 값을 바꾸는 코드\n",
    "# dictionary 자료형의 get 함수는 https://wikidocs.net/16 을 참고하세요.\n",
    "\n",
    "# user_to_idx.get을 통해 user_id 컬럼의 모든 값을 인덱싱한 Series를 구해 봅시다. \n",
    "# 혹시 정상적으로 인덱싱되지 않은 row가 있다면 인덱스가 NaN이 될 테니 dropna()로 제거합니다. \n",
    "temp_user_data = ratings['user_id'].map(user_to_idx.get).dropna()\n",
    "if len(temp_user_data) == len(ratings):   # 모든 row가 정상적으로 인덱싱되었다면\n",
    "    print('user_id column indexing OK!!')\n",
    "    ratings['user_id'] = temp_user_data   # data['user_id']을 인덱싱된 Series로 교체해 줍니다. \n",
    "else:\n",
    "    print('user_id column indexing Fail!!')\n",
    "\n",
    "# movie_to_idx 통해 title 컬럼도 동일한 방식으로 인덱싱해 줍니다. \n",
    "temp_movie_data = ratings['title'].map(movie_to_idx.get).dropna()\n",
    "if len(temp_movie_data) == len(ratings):\n",
    "    print('title column indexing OK!!')\n",
    "    ratings['title'] = temp_movie_data\n",
    "else:\n",
    "    print('title column indexing Fail!!')\n",
    "\n",
    "ratings.tail(10)"
   ]
  },
  {
   "cell_type": "markdown",
   "id": "0f2e2b50",
   "metadata": {},
   "source": [
    "<br>\n",
    "\n",
    "## Step 2. CSR Matrix를 직접 만들어보자\n",
    "---"
   ]
  },
  {
   "cell_type": "markdown",
   "id": "0fc9687c",
   "metadata": {},
   "source": [
    "**CSR Matrix란?**\n",
    "\n",
    "- Sparse한 matrix에서 0이 아닌 유효한 데이터로 채워지는 ***데이터의 값***과 ***좌표 정보***만으로 구성하여 메모리 사용량을 최소화하면서도 sparse한 matrix와 동일한 행렬을 표현할 수 있도록 하는 데이터 구조이다.\n",
    "\n",
    "\n",
    "- data, indices, indptr로 행렬을 압축하여 표현한다."
   ]
  },
  {
   "cell_type": "markdown",
   "id": "6aaa2803",
   "metadata": {},
   "source": [
    "![image](https://user-images.githubusercontent.com/103712369/175931541-f15af676-b5cf-4fe5-97b9-15b7cf427fc7.png)\n"
   ]
  },
  {
   "cell_type": "markdown",
   "id": "94bceff1",
   "metadata": {},
   "source": [
    "- **data**는 0이 아닌 원소를 차례로 기입한 값\n",
    "\n",
    "> data = [1,2,3,4,5,6]\n",
    "\n",
    "\n",
    "- **indices**는 data의 각 요소가 어느 열(column)에 있는지를 표현한 index이다.\n",
    "\n",
    "> indices = [0,4,1,3,0,3]\n",
    "\n",
    "\n",
    "- **indptr**은 [최초시작행번호, 시작행에서의 데이터 개수, 두번째 행에서의 데이터 누적 개수, ..., 마지막행에서의 데이터 누적개수]이다. 이를 통해 data의 요소들이 어느 행(row)에 있는지를 알 수 있다.\n",
    "\n",
    "> indptr=[0,2,4,4,6]\n",
    "\n",
    "\n",
    "- 이를 통해 data[0:2]는 첫번째 행, data[2:4]는 두번째 행, data[4:4]는 세번째 행, data[4:6]는 네번째 행에 위치함을 알 수 있다."
   ]
  },
  {
   "cell_type": "code",
   "execution_count": 515,
   "id": "3a55671c",
   "metadata": {},
   "outputs": [
    {
     "data": {
      "text/plain": [
       "(829312, 6)"
      ]
     },
     "execution_count": 515,
     "metadata": {},
     "output_type": "execute_result"
    }
   ],
   "source": [
    "ratings.shape"
   ]
  },
  {
   "cell_type": "code",
   "execution_count": 516,
   "id": "76a9fa65",
   "metadata": {},
   "outputs": [
    {
     "name": "stdout",
     "output_type": "stream",
     "text": [
      "6040 3561\n"
     ]
    }
   ],
   "source": [
    "# 실습 위에 설명보고 이해해서 만들어보기\n",
    "\n",
    "from scipy.sparse import csr_matrix\n",
    "\n",
    "num_user = ratings['user_id'].nunique()\n",
    "num_movie_id = ratings['title'].nunique()\n",
    "\n",
    "print(num_user, num_movie_id)"
   ]
  },
  {
   "cell_type": "code",
   "execution_count": 517,
   "id": "d32a3992",
   "metadata": {},
   "outputs": [
    {
     "name": "stdout",
     "output_type": "stream",
     "text": [
      "829312\n",
      "829312\n",
      "829312\n"
     ]
    }
   ],
   "source": [
    "print(len(ratings.counts))\n",
    "print(len(ratings.user_id))\n",
    "print(len(ratings.movie_id))"
   ]
  },
  {
   "cell_type": "code",
   "execution_count": 518,
   "id": "bdf03bab",
   "metadata": {},
   "outputs": [
    {
     "name": "stdout",
     "output_type": "stream",
     "text": [
      "6040\n",
      "3561\n"
     ]
    }
   ],
   "source": [
    "print(ratings['user_id'].nunique())\n",
    "print(ratings['title'].nunique())"
   ]
  },
  {
   "cell_type": "code",
   "execution_count": 520,
   "id": "43100a10",
   "metadata": {},
   "outputs": [
    {
     "data": {
      "text/plain": [
       "6039"
      ]
     },
     "execution_count": 520,
     "metadata": {},
     "output_type": "execute_result"
    }
   ],
   "source": [
    "ratings.user_id.max()"
   ]
  },
  {
   "cell_type": "code",
   "execution_count": 519,
   "id": "9beb5012",
   "metadata": {},
   "outputs": [
    {
     "data": {
      "text/plain": [
       "3560"
      ]
     },
     "execution_count": 519,
     "metadata": {},
     "output_type": "execute_result"
    }
   ],
   "source": [
    "ratings.title.max()"
   ]
  },
  {
   "cell_type": "code",
   "execution_count": 522,
   "id": "c91dd0e3",
   "metadata": {},
   "outputs": [
    {
     "data": {
      "text/plain": [
       "<6040x3561 sparse matrix of type '<class 'numpy.int64'>'\n",
       "\twith 829312 stored elements in Compressed Sparse Row format>"
      ]
     },
     "execution_count": 522,
     "metadata": {},
     "output_type": "execute_result"
    }
   ],
   "source": [
    "csr_data = csr_matrix((ratings.counts, (ratings.user_id, ratings.title)), shape=(num_user, num_movie_id))\n",
    "csr_data"
   ]
  },
  {
   "cell_type": "markdown",
   "id": "f9eb6d2c",
   "metadata": {},
   "source": [
    "<br>\n",
    "\n",
    "## Step 3. MF 모델 학습하기\n",
    "---"
   ]
  },
  {
   "cell_type": "markdown",
   "id": "9fb1b5fc",
   "metadata": {},
   "source": [
    "***`implicit`패키지란?***\n",
    "\n",
    "- 암묵적(implicit) dataset을 사용하는 다양한 모델을 굉장히 빠르게 학습할 수 있는 패키지\n",
    "\n",
    "\n",
    "- implicit 패키지에 구현된 `als(AlternatingLeastSquares) 모델`을 사용한다.\n",
    "\n",
    "\n",
    "- `Matrix Factorization`에서 쪼개진 두 Feature Matrix를 한꺼번에 훈련하는 것은 잘 수렴하지 않기 때문에, 한쪽을 고정시키고 다른 쪽을 학습하는 방식을 번갈아 수행하는 AlternatingLeastSquares 방식이 효과적이다."
   ]
  },
  {
   "cell_type": "code",
   "execution_count": 523,
   "id": "8413b159",
   "metadata": {},
   "outputs": [],
   "source": [
    "from implicit.als import AlternatingLeastSquares\n",
    "import os\n",
    "import numpy as np\n",
    "\n",
    "# implicit 라이브러리에서 권장하고 있는 부분. 학습내용과는 무관함!!!\n",
    "os.environ['OPENBLAS_NUM_THREADS']='1'\n",
    "os.environ['KMP_DUPLICATE_LIB_OK']='True'\n",
    "os.environ['MKL_NUM_THREADS']='1'"
   ]
  },
  {
   "cell_type": "markdown",
   "id": "a61443a6",
   "metadata": {},
   "source": [
    "***AlternatingLeastSquares 클래스의 __init__ 파라미터를 살펴보면...***\n",
    "\n",
    "1. factors : 유저와 아이템의 벡터를 몇 차원으로 할 것인지(K)\n",
    "2. regularization : 과적합을 방지하기 위해 정규화 값을 얼마나 사용할 것인지\n",
    "3. use_gpu : GPU를 사용할 것인지\n",
    "4. iterations : epochs와 같은 의미. 데이터를 몇 번 반복해서 학습할 것인지"
   ]
  },
  {
   "cell_type": "code",
   "execution_count": 524,
   "id": "166c1f9a",
   "metadata": {},
   "outputs": [],
   "source": [
    "# Implicit AlternatingLeastSquares 모델의 선언\n",
    "als_model = AlternatingLeastSquares(factors=100, regularization=0.01, use_gpu=False, iterations=15, dtype=np.float32)"
   ]
  },
  {
   "cell_type": "code",
   "execution_count": 525,
   "id": "0d1a3635",
   "metadata": {},
   "outputs": [
    {
     "data": {
      "text/plain": [
       "<3561x6040 sparse matrix of type '<class 'numpy.int64'>'\n",
       "\twith 829312 stored elements in Compressed Sparse Column format>"
      ]
     },
     "execution_count": 525,
     "metadata": {},
     "output_type": "execute_result"
    }
   ],
   "source": [
    "# als모델은 input으로 (item X user 꼴의 matrix를 받기 때문에 Transpose를 해준다.)\n",
    "\n",
    "csr_data_transpose = csr_data.T\n",
    "csr_data_transpose"
   ]
  },
  {
   "cell_type": "code",
   "execution_count": 526,
   "id": "a7593807",
   "metadata": {},
   "outputs": [
    {
     "data": {
      "application/vnd.jupyter.widget-view+json": {
       "model_id": "e3698edc5c1747d385731d500da8d2e3",
       "version_major": 2,
       "version_minor": 0
      },
      "text/plain": [
       "  0%|          | 0/15 [00:00<?, ?it/s]"
      ]
     },
     "metadata": {},
     "output_type": "display_data"
    }
   ],
   "source": [
    "# 모델 훈련\n",
    "als_model.fit(csr_data_transpose)"
   ]
  },
  {
   "cell_type": "markdown",
   "id": "a975c539",
   "metadata": {},
   "source": [
    "<br>\n",
    "\n",
    "## Step 4. 훈련된 모델 선호도 파악\n",
    "---"
   ]
  },
  {
   "cell_type": "code",
   "execution_count": 527,
   "id": "7855d2ba",
   "metadata": {},
   "outputs": [],
   "source": [
    "jy, goodfellas = user_to_idx['jy'], movie_to_idx['goodfellas (1990)']\n",
    "jy_vector, goodfellas_vector = als_model.user_factors[jy], als_model.item_factors[goodfellas]"
   ]
  },
  {
   "cell_type": "code",
   "execution_count": 528,
   "id": "028fea1b",
   "metadata": {},
   "outputs": [
    {
     "name": "stdout",
     "output_type": "stream",
     "text": [
      "100 <class 'numpy.ndarray'>\n",
      "(100,)\n",
      "[ 0.22186042 -1.0887425  -0.56041574 -0.33027467  0.39505953 -0.03051754\n",
      "  0.31310356  0.13300717 -0.52867836  0.37170014  0.02832183 -0.29034427\n",
      "  0.48032647 -0.35747743 -0.5892111   0.93272585 -0.36974669 -0.11099128\n",
      " -1.0421591  -0.69918764  0.6145991  -0.4497033   0.7882556  -0.5236878\n",
      " -0.11189041  0.02077426 -0.18421473 -0.7535732   0.26780963  1.401979\n",
      "  0.6817485   0.17132099 -0.320341    1.1272773  -0.48687014  0.41911492\n",
      "  0.44228876  0.35248414  0.6673535   0.00537635 -0.1096393  -0.14608546\n",
      " -0.24016015 -0.3989095  -0.26575813  0.07017139  1.2514086   0.66447705\n",
      "  0.5075714   0.22248217 -0.1359616   0.27809802  0.15878658  0.13397196\n",
      "  0.03924403 -0.4548568  -0.5853976  -0.44623175 -0.11422486  0.6982573\n",
      "  0.6062568   0.14816882  0.26802605  0.20125027  0.30593807 -0.3240363\n",
      "  0.25041056  0.12336278  0.08242155 -0.41720158 -0.6543189  -0.45017266\n",
      "  0.2544328   0.55550975 -0.05749025  0.26979288  0.1792255   0.46511626\n",
      " -0.17203563 -0.31374866 -0.41188896  0.28818497  0.43329763 -0.06699462\n",
      " -0.6938393   0.45773554  0.41556385 -0.03640024  0.14572057 -0.790413\n",
      " -0.27219662 -0.14112726  0.43315473  0.01800453  0.3218332  -0.25262076\n",
      " -0.4306584  -0.0442085  -0.5132507  -0.34566835]\n"
     ]
    }
   ],
   "source": [
    "print(len(jy_vector), type(jy_vector))\n",
    "\n",
    "print(jy_vector.shape)\n",
    "\n",
    "print(jy_vector)"
   ]
  },
  {
   "cell_type": "code",
   "execution_count": 529,
   "id": "fb218387",
   "metadata": {},
   "outputs": [
    {
     "name": "stdout",
     "output_type": "stream",
     "text": [
      "(100,) <class 'numpy.ndarray'>\n",
      "[ 1.38148945e-02 -8.79161432e-03  1.45877227e-02 -1.50724724e-02\n",
      " -9.12345853e-03 -4.65839030e-03  4.56194691e-02 -8.46699066e-03\n",
      "  1.67946459e-03 -2.03100941e-03  3.68488207e-03 -2.18006968e-02\n",
      "  1.46182943e-02 -2.23569851e-02  4.37625078e-03  1.39450673e-02\n",
      " -4.81581781e-03  1.28757348e-02 -3.15655209e-02 -5.85485762e-03\n",
      " -1.21726878e-02 -4.91444487e-03  1.71360765e-02  2.42205616e-03\n",
      "  1.75181124e-02  9.99440998e-03 -9.35318321e-03 -1.29789440e-02\n",
      "  1.03503757e-03  2.56175250e-02 -2.47836491e-04  3.15885898e-03\n",
      "  1.98854902e-03  9.37172771e-03 -3.83710116e-02  4.39285226e-02\n",
      "  1.01721976e-02  2.90111639e-03  4.23059752e-03  1.17970509e-02\n",
      "  2.20211670e-02  1.92610193e-02 -2.45263521e-02 -2.40899958e-02\n",
      "  3.40062845e-03  1.73254323e-03  2.21877638e-02 -8.16799141e-03\n",
      "  3.64386290e-02 -3.44913267e-03 -6.85470272e-03  6.35354640e-03\n",
      "  1.60307102e-02  6.17501000e-03  1.77266747e-02 -7.72448548e-04\n",
      " -1.76256162e-03 -6.01521647e-03  1.14759272e-02  2.44084317e-02\n",
      "  1.93392951e-02 -7.54092773e-03 -1.38368485e-02  1.22837611e-02\n",
      "  1.68469194e-02 -1.47111425e-02  8.70015472e-03  2.17474010e-02\n",
      "  6.06175745e-03 -1.75177660e-02  1.24167949e-02 -3.33862918e-05\n",
      "  8.30406975e-03  6.13557687e-03  1.51584286e-03  3.29488069e-02\n",
      "  1.85376946e-02  1.85187776e-02  7.63520179e-03 -2.19253916e-02\n",
      "  8.31932761e-03  3.46815214e-02  7.87576847e-03 -5.99234423e-04\n",
      "  1.30584696e-02  1.06184436e-02  6.35178760e-03 -5.65888500e-03\n",
      "  1.49371698e-02 -9.08693112e-03  1.99140087e-02  1.48012536e-02\n",
      " -1.57095324e-02  1.74559385e-03  1.38857565e-03 -2.31561065e-02\n",
      " -9.66389757e-03  1.41258119e-02 -3.55834179e-02  3.42880450e-02]\n"
     ]
    }
   ],
   "source": [
    "print(goodfellas_vector.shape, type(goodfellas_vector))\n",
    "\n",
    "print(goodfellas_vector)"
   ]
  },
  {
   "cell_type": "code",
   "execution_count": 530,
   "id": "f3cc81f3",
   "metadata": {},
   "outputs": [
    {
     "data": {
      "text/plain": [
       "0.3472094"
      ]
     },
     "execution_count": 530,
     "metadata": {},
     "output_type": "execute_result"
    }
   ],
   "source": [
    "# jy_vector와 goodfellas_vector 내적하는 코드\n",
    "np.dot(jy_vector, goodfellas_vector)"
   ]
  },
  {
   "cell_type": "code",
   "execution_count": 533,
   "id": "c03bee8f",
   "metadata": {},
   "outputs": [
    {
     "data": {
      "text/plain": [
       "0.10354173"
      ]
     },
     "execution_count": 533,
     "metadata": {},
     "output_type": "execute_result"
    }
   ],
   "source": [
    "sophie = movie_to_idx[\"sophie's choice (1982)\"]\n",
    "sophie_vector = als_model.item_factors[sophie]\n",
    "np.dot(jy_vector, sophie_vector)"
   ]
  },
  {
   "cell_type": "markdown",
   "id": "91a38c82",
   "metadata": {},
   "source": [
    "<br>\n",
    "\n",
    "## Step 5. 비슷한 영화 찾기 + 유저에게 추천하기\n",
    "---"
   ]
  },
  {
   "cell_type": "markdown",
   "id": "f742290a",
   "metadata": {},
   "source": [
    "#### (1) 비슷한 영화 찾기\n",
    "---"
   ]
  },
  {
   "cell_type": "markdown",
   "id": "11ba4a6b",
   "metadata": {},
   "source": [
    "***`AlternatingLeastSquares` 클래스에 구현되어 있는 `similar_items` 매서드를 통하여 비슷한 아티스트를 찾는다.***"
   ]
  },
  {
   "cell_type": "code",
   "execution_count": 534,
   "id": "b8b13045",
   "metadata": {},
   "outputs": [
    {
     "data": {
      "text/plain": [
       "[(38, 0.99999994),\n",
       " (121, 0.4620352),\n",
       " (273, 0.4519563),\n",
       " (233, 0.44336307),\n",
       " (243, 0.42422825),\n",
       " (235, 0.42210403),\n",
       " (828, 0.41564143),\n",
       " (792, 0.40899384),\n",
       " (81, 0.4031055),\n",
       " (170, 0.3980252),\n",
       " (220, 0.39729366),\n",
       " (3524, 0.38460097),\n",
       " (1680, 0.3812162),\n",
       " (141, 0.37506574),\n",
       " (1917, 0.36696815)]"
      ]
     },
     "execution_count": 534,
     "metadata": {},
     "output_type": "execute_result"
    }
   ],
   "source": [
    "favorite_movie = 'sixth sense, the (1999)'\n",
    "movie_idx = movie_to_idx[favorite_movie]\n",
    "similar_movie = als_model.similar_items(movie_idx, N=15)\n",
    "similar_movie"
   ]
  },
  {
   "cell_type": "markdown",
   "id": "05d14e5d",
   "metadata": {},
   "source": [
    "(아티스트의 id, 유사도) Tuple로 반환하고 있다. 따라서 아티스트의 id를 다시 아티스트의 이름으로 매핑이 필요함."
   ]
  },
  {
   "cell_type": "code",
   "execution_count": 536,
   "id": "bfa7c736",
   "metadata": {},
   "outputs": [
    {
     "data": {
      "text/plain": [
       "['sixth sense, the (1999)',\n",
       " 'silence of the lambs, the (1991)',\n",
       " 'fight club (1999)',\n",
       " 'usual suspects, the (1995)',\n",
       " 'ghostbusters (1984)',\n",
       " 'sleepy hollow (1999)',\n",
       " 'jakob the liar (1999)',\n",
       " 'bone collector, the (1999)',\n",
       " 'green mile, the (1999)',\n",
       " 'being john malkovich (1999)',\n",
       " 'seven (se7en) (1995)',\n",
       " \"heaven's burning (1997)\",\n",
       " 'messenger: the story of joan of arc, the (1999)',\n",
       " 'fugitive, the (1993)',\n",
       " 'superstar (1999)']"
      ]
     },
     "execution_count": 536,
     "metadata": {},
     "output_type": "execute_result"
    }
   ],
   "source": [
    "# artist_to_idx를 뒤집어, index로부터 movie의 이름을 얻는 dict를 생성한다.\n",
    "\n",
    "idx_to_movie = {v:k for k,v in movie_to_idx.items()}\n",
    "[idx_to_movie[i[0]] for i in similar_movie]"
   ]
  },
  {
   "cell_type": "code",
   "execution_count": 537,
   "id": "d3e272cf",
   "metadata": {},
   "outputs": [],
   "source": [
    "# 함수로 만들기\n",
    "\n",
    "def get_similar_movie(movie_name:str):\n",
    "    movie_id = movie_to_idx[movie_name]\n",
    "    similar_movie = als_model.similar_items(movie_id)\n",
    "    similar_movie = [idx_to_movie[i[0]] for i in similar_movie]\n",
    "    return similar_movie"
   ]
  },
  {
   "cell_type": "code",
   "execution_count": 538,
   "id": "6585630e",
   "metadata": {},
   "outputs": [
    {
     "data": {
      "text/plain": [
       "['forrest gump (1994)',\n",
       " 'groundhog day (1993)',\n",
       " 'pretty woman (1990)',\n",
       " 'ghost (1990)',\n",
       " 'sleepless in seattle (1993)',\n",
       " 'pleasantville (1998)',\n",
       " 'clueless (1995)',\n",
       " \"you've got mail (1998)\",\n",
       " 'four weddings and a funeral (1994)',\n",
       " 'notting hill (1999)']"
      ]
     },
     "execution_count": 538,
     "metadata": {},
     "output_type": "execute_result"
    }
   ],
   "source": [
    "get_similar_movie('forrest gump (1994)')"
   ]
  },
  {
   "cell_type": "code",
   "execution_count": 539,
   "id": "5f31c3a0",
   "metadata": {},
   "outputs": [
    {
     "data": {
      "text/plain": [
       "['terminator, the (1984)',\n",
       " 'aliens (1986)',\n",
       " 'alien (1979)',\n",
       " 'die hard (1988)',\n",
       " 'predator (1987)',\n",
       " 'terminator 2: judgment day (1991)',\n",
       " 'matrix, the (1999)',\n",
       " 'robocop (1987)',\n",
       " 'blade runner (1982)',\n",
       " 'mad max 2 (a.k.a. the road warrior) (1981)']"
      ]
     },
     "execution_count": 539,
     "metadata": {},
     "output_type": "execute_result"
    }
   ],
   "source": [
    "get_similar_movie('terminator, the (1984)')"
   ]
  },
  {
   "cell_type": "markdown",
   "id": "ec554c0b",
   "metadata": {},
   "source": [
    "#### (2) 유저에게 영화 추천하기\n",
    "---"
   ]
  },
  {
   "cell_type": "markdown",
   "id": "8ab58a95",
   "metadata": {},
   "source": [
    "- `AlternatingLeastSquares` 클래스에 구현되어 있는 `recommend` 매서드를 통하여 제가 좋아할 만한 아티스트를 추천받는다. \n",
    "\n",
    "\n",
    "- `filter_already_liked_items`는 유저가 이미 평가한 아이템은 제외하는 Argument이다."
   ]
  },
  {
   "cell_type": "code",
   "execution_count": 541,
   "id": "cd4dd237",
   "metadata": {},
   "outputs": [
    {
     "data": {
      "text/plain": [
       "[(3, 0.41600877),\n",
       " (51, 0.31803107),\n",
       " (222, 0.28042164),\n",
       " (384, 0.25356895),\n",
       " (157, 0.24682987),\n",
       " (449, 0.23199388),\n",
       " (742, 0.22574386),\n",
       " (460, 0.22462031),\n",
       " (813, 0.21084957),\n",
       " (248, 0.2077308),\n",
       " (980, 0.19895054),\n",
       " (605, 0.19745994),\n",
       " (99, 0.1954073),\n",
       " (1497, 0.19297987),\n",
       " (467, 0.19105008),\n",
       " (121, 0.18829589),\n",
       " (273, 0.18721741),\n",
       " (231, 0.18535917),\n",
       " (317, 0.17864366),\n",
       " (885, 0.16678819)]"
      ]
     },
     "execution_count": 541,
     "metadata": {},
     "output_type": "execute_result"
    }
   ],
   "source": [
    "user = user_to_idx['jy']\n",
    "\n",
    "# recommend에서는 user*item CSR Matrix를 받는다\n",
    "movie_recommended = als_model.recommend(user, csr_data, N=20, filter_already_liked_items=True)\n",
    "movie_recommended"
   ]
  },
  {
   "cell_type": "code",
   "execution_count": 542,
   "id": "eb456c65",
   "metadata": {},
   "outputs": [
    {
     "data": {
      "text/plain": [
       "['erin brockovich (2000)',\n",
       " 'fargo (1996)',\n",
       " 'pulp fiction (1994)',\n",
       " 'jerry maguire (1996)',\n",
       " 'shawshank redemption, the (1994)',\n",
       " 'leaving las vegas (1995)',\n",
       " 'talented mr. ripley, the (1999)',\n",
       " 'boiler room (2000)',\n",
       " 'sneakers (1992)',\n",
       " 'good will hunting (1997)',\n",
       " 'crying game, the (1992)',\n",
       " 'godfather, the (1972)',\n",
       " 'american beauty (1999)',\n",
       " 'english patient, the (1996)',\n",
       " 'magnolia (1999)',\n",
       " 'silence of the lambs, the (1991)',\n",
       " 'fight club (1999)',\n",
       " 'insider, the (1999)',\n",
       " 'twelve monkeys (1995)',\n",
       " 'professional, the (a.k.a. leon: the professional) (1994)']"
      ]
     },
     "execution_count": 542,
     "metadata": {},
     "output_type": "execute_result"
    }
   ],
   "source": [
    "[idx_to_movie[i[0]] for i in movie_recommended]"
   ]
  },
  {
   "cell_type": "markdown",
   "id": "1ba8dead",
   "metadata": {},
   "source": [
    "<br>\n",
    "\n",
    "- `good will hunting (1997)`를 추천해주고 있다. 이유를 알고싶다면 `AlternatingLeastSquares` 클래스에 구현된 `explain` 매서드를 사용하면 기록에 남은 데이터 중 이 추천에 기여한 정도를 확이할 수 있다."
   ]
  },
  {
   "cell_type": "code",
   "execution_count": 543,
   "id": "c8fbc795",
   "metadata": {},
   "outputs": [],
   "source": [
    "good_will_hunting = movie_to_idx['good will hunting (1997)']\n",
    "explain = als_model.explain(user, csr_data, itemid=good_will_hunting)"
   ]
  },
  {
   "cell_type": "markdown",
   "id": "bcaa8c2b",
   "metadata": {},
   "source": [
    "위 explain 매서드는 추천한 콘텐츠의 점수에 기여한 다른 콘텐츠와 기여도를 반환한다."
   ]
  },
  {
   "cell_type": "code",
   "execution_count": 544,
   "id": "b0fbcf58",
   "metadata": {},
   "outputs": [
    {
     "data": {
      "text/plain": [
       "(0.2047465093653938,\n",
       " [(269, 0.1172479159634382),\n",
       "  (554, 0.08699775761057085),\n",
       "  (391, 0.005667267785484938),\n",
       "  (26, 0.005556262645307962),\n",
       "  (1247, -0.010722694639408172)],\n",
       " (array([[ 0.59430613,  0.06571731,  0.10366294, ...,  0.12250488,\n",
       "           0.12275017,  0.08400491],\n",
       "         [ 0.0390562 ,  0.57109154,  0.112381  , ...,  0.09968391,\n",
       "           0.07251656,  0.09685772],\n",
       "         [ 0.06160752,  0.07099229,  0.59955775, ...,  0.0552488 ,\n",
       "           0.05331151,  0.08836333],\n",
       "         ...,\n",
       "         [ 0.0728054 ,  0.06497933,  0.05702664, ...,  0.51055096,\n",
       "           0.02479781, -0.00371328],\n",
       "         [ 0.07295118,  0.0494804 ,  0.05283745, ...,  0.07719431,\n",
       "           0.52864165,  0.02018003],\n",
       "         [ 0.04992463,  0.0608352 ,  0.07257208, ...,  0.05488046,\n",
       "           0.06789586,  0.50954208]]),\n",
       "  False))"
      ]
     },
     "execution_count": 544,
     "metadata": {},
     "output_type": "execute_result"
    }
   ],
   "source": [
    "explain"
   ]
  },
  {
   "cell_type": "code",
   "execution_count": 545,
   "id": "9f74f822",
   "metadata": {},
   "outputs": [
    {
     "data": {
      "text/plain": [
       "[('goodfellas (1990)', 0.1172479159634382),\n",
       " ('river runs through it, a (1992)', 0.08699775761057085),\n",
       " ('cider house rules, the (1999)', 0.005667267785484938),\n",
       " ('e.t. the extra-terrestrial (1982)', 0.005556262645307962),\n",
       " ('fabulous baker boys, the (1989)', -0.010722694639408172)]"
      ]
     },
     "execution_count": 545,
     "metadata": {},
     "output_type": "execute_result"
    }
   ],
   "source": [
    "[(idx_to_movie[i[0]], i[1]) for i in explain[1]]"
   ]
  },
  {
   "cell_type": "markdown",
   "id": "b7d4cdcc",
   "metadata": {},
   "source": [
    "\\>> `goodfellas (1990)`와 `river runs through it, a (1992)`가 가장 크게 기여했다."
   ]
  },
  {
   "cell_type": "markdown",
   "id": "06639e5c",
   "metadata": {},
   "source": [
    "<br>\n",
    "\n",
    "## 결론 및 회고\n",
    "---"
   ]
  },
  {
   "cell_type": "markdown",
   "id": "6f99dea2",
   "metadata": {},
   "source": [
    "- Movielens 영화 추천 실습을 진행해보았다. \n",
    "\n",
    "\n",
    "- 이번 프로젝트에서는 전처리 작업을 수행하는데 pandas를 주로 사용하였다. pandas의 매서드를 찾아가면서 공부하느라 시간은 오래 걸렸지만 pandas 사용하는데 있어 조금 더 익숙해진 것 같다.\n",
    "\n",
    "\n",
    "- 내가 선호하는 5가지 영화중 하나와 그 외의 영화 하나를 골라 훈련된 모델이 예측한 나의 선호도를 파악해보았다. 결과는 아래와 같다. \n",
    "\n",
    "![image](https://user-images.githubusercontent.com/103712369/176018407-17fbc1d6-39eb-44b5-a905-df167c993a3b.png)\n",
    "\n",
    "\n",
    "- 생각보다 내가 좋아할 영화와 비슷한 영화를 추천해주는 솔루션은 비교적 잘 작동하는 것 같다.\n",
    "\n",
    "![image](https://user-images.githubusercontent.com/103712369/176018720-c175d742-e370-44a4-a8fe-5820c55ad11f.png)"
   ]
  }
 ],
 "metadata": {
  "kernelspec": {
   "display_name": "Python 3 (ipykernel)",
   "language": "python",
   "name": "python3"
  },
  "language_info": {
   "codemirror_mode": {
    "name": "ipython",
    "version": 3
   },
   "file_extension": ".py",
   "mimetype": "text/x-python",
   "name": "python",
   "nbconvert_exporter": "python",
   "pygments_lexer": "ipython3",
   "version": "3.9.7"
  }
 },
 "nbformat": 4,
 "nbformat_minor": 5
}
