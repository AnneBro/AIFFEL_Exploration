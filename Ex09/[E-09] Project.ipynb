{
 "cells": [
  {
   "cell_type": "markdown",
   "id": "c5af5d77",
   "metadata": {},
   "source": [
    "# [E-09] 프로젝트: 네이버 영화리뷰 감성분석 도전하기\n",
    "\n",
    "<br>\n",
    "\n",
    "---"
   ]
  },
  {
   "cell_type": "markdown",
   "id": "813bd66e",
   "metadata": {},
   "source": [
    "## 1) 데이터 준비와 확인"
   ]
  },
  {
   "cell_type": "code",
   "execution_count": 123,
   "id": "65f77f63",
   "metadata": {},
   "outputs": [],
   "source": [
    "import pandas as pd\n",
    "import tensorflow as tf\n",
    "import konlpy\n",
    "import gensim\n",
    "\n",
    "# 데이터를 읽어봅시다. \n",
    "train_data = pd.read_table('~/aiffel/sentiment_classification/data/ratings_train.txt')\n",
    "test_data = pd.read_table('~/aiffel/sentiment_classification/data/ratings_test.txt')"
   ]
  },
  {
   "cell_type": "code",
   "execution_count": 3,
   "id": "52ab0b45",
   "metadata": {},
   "outputs": [
    {
     "data": {
      "text/html": [
       "<div>\n",
       "<style scoped>\n",
       "    .dataframe tbody tr th:only-of-type {\n",
       "        vertical-align: middle;\n",
       "    }\n",
       "\n",
       "    .dataframe tbody tr th {\n",
       "        vertical-align: top;\n",
       "    }\n",
       "\n",
       "    .dataframe thead th {\n",
       "        text-align: right;\n",
       "    }\n",
       "</style>\n",
       "<table border=\"1\" class=\"dataframe\">\n",
       "  <thead>\n",
       "    <tr style=\"text-align: right;\">\n",
       "      <th></th>\n",
       "      <th>id</th>\n",
       "      <th>document</th>\n",
       "      <th>label</th>\n",
       "    </tr>\n",
       "  </thead>\n",
       "  <tbody>\n",
       "    <tr>\n",
       "      <th>0</th>\n",
       "      <td>9976970</td>\n",
       "      <td>아 더빙.. 진짜 짜증나네요 목소리</td>\n",
       "      <td>0</td>\n",
       "    </tr>\n",
       "    <tr>\n",
       "      <th>1</th>\n",
       "      <td>3819312</td>\n",
       "      <td>흠...포스터보고 초딩영화줄....오버연기조차 가볍지 않구나</td>\n",
       "      <td>1</td>\n",
       "    </tr>\n",
       "    <tr>\n",
       "      <th>2</th>\n",
       "      <td>10265843</td>\n",
       "      <td>너무재밓었다그래서보는것을추천한다</td>\n",
       "      <td>0</td>\n",
       "    </tr>\n",
       "    <tr>\n",
       "      <th>3</th>\n",
       "      <td>9045019</td>\n",
       "      <td>교도소 이야기구먼 ..솔직히 재미는 없다..평점 조정</td>\n",
       "      <td>0</td>\n",
       "    </tr>\n",
       "    <tr>\n",
       "      <th>4</th>\n",
       "      <td>6483659</td>\n",
       "      <td>사이몬페그의 익살스런 연기가 돋보였던 영화!스파이더맨에서 늙어보이기만 했던 커스틴 ...</td>\n",
       "      <td>1</td>\n",
       "    </tr>\n",
       "  </tbody>\n",
       "</table>\n",
       "</div>"
      ],
      "text/plain": [
       "         id                                           document  label\n",
       "0   9976970                                아 더빙.. 진짜 짜증나네요 목소리      0\n",
       "1   3819312                  흠...포스터보고 초딩영화줄....오버연기조차 가볍지 않구나      1\n",
       "2  10265843                                  너무재밓었다그래서보는것을추천한다      0\n",
       "3   9045019                      교도소 이야기구먼 ..솔직히 재미는 없다..평점 조정      0\n",
       "4   6483659  사이몬페그의 익살스런 연기가 돋보였던 영화!스파이더맨에서 늙어보이기만 했던 커스틴 ...      1"
      ]
     },
     "execution_count": 3,
     "metadata": {},
     "output_type": "execute_result"
    }
   ],
   "source": [
    "train_data.head()"
   ]
  },
  {
   "cell_type": "code",
   "execution_count": 4,
   "id": "f17310bf",
   "metadata": {},
   "outputs": [
    {
     "data": {
      "text/html": [
       "<div>\n",
       "<style scoped>\n",
       "    .dataframe tbody tr th:only-of-type {\n",
       "        vertical-align: middle;\n",
       "    }\n",
       "\n",
       "    .dataframe tbody tr th {\n",
       "        vertical-align: top;\n",
       "    }\n",
       "\n",
       "    .dataframe thead th {\n",
       "        text-align: right;\n",
       "    }\n",
       "</style>\n",
       "<table border=\"1\" class=\"dataframe\">\n",
       "  <thead>\n",
       "    <tr style=\"text-align: right;\">\n",
       "      <th></th>\n",
       "      <th>id</th>\n",
       "      <th>document</th>\n",
       "      <th>label</th>\n",
       "    </tr>\n",
       "  </thead>\n",
       "  <tbody>\n",
       "    <tr>\n",
       "      <th>0</th>\n",
       "      <td>6270596</td>\n",
       "      <td>굳 ㅋ</td>\n",
       "      <td>1</td>\n",
       "    </tr>\n",
       "    <tr>\n",
       "      <th>1</th>\n",
       "      <td>9274899</td>\n",
       "      <td>GDNTOPCLASSINTHECLUB</td>\n",
       "      <td>0</td>\n",
       "    </tr>\n",
       "    <tr>\n",
       "      <th>2</th>\n",
       "      <td>8544678</td>\n",
       "      <td>뭐야 이 평점들은.... 나쁘진 않지만 10점 짜리는 더더욱 아니잖아</td>\n",
       "      <td>0</td>\n",
       "    </tr>\n",
       "    <tr>\n",
       "      <th>3</th>\n",
       "      <td>6825595</td>\n",
       "      <td>지루하지는 않은데 완전 막장임... 돈주고 보기에는....</td>\n",
       "      <td>0</td>\n",
       "    </tr>\n",
       "    <tr>\n",
       "      <th>4</th>\n",
       "      <td>6723715</td>\n",
       "      <td>3D만 아니었어도 별 다섯 개 줬을텐데.. 왜 3D로 나와서 제 심기를 불편하게 하죠??</td>\n",
       "      <td>0</td>\n",
       "    </tr>\n",
       "  </tbody>\n",
       "</table>\n",
       "</div>"
      ],
      "text/plain": [
       "        id                                           document  label\n",
       "0  6270596                                                굳 ㅋ      1\n",
       "1  9274899                               GDNTOPCLASSINTHECLUB      0\n",
       "2  8544678             뭐야 이 평점들은.... 나쁘진 않지만 10점 짜리는 더더욱 아니잖아      0\n",
       "3  6825595                   지루하지는 않은데 완전 막장임... 돈주고 보기에는....      0\n",
       "4  6723715  3D만 아니었어도 별 다섯 개 줬을텐데.. 왜 3D로 나와서 제 심기를 불편하게 하죠??      0"
      ]
     },
     "execution_count": 4,
     "metadata": {},
     "output_type": "execute_result"
    }
   ],
   "source": [
    "test_data.head()"
   ]
  },
  {
   "cell_type": "code",
   "execution_count": 5,
   "id": "483532cc",
   "metadata": {},
   "outputs": [
    {
     "name": "stdout",
     "output_type": "stream",
     "text": [
      "train_data의 shape : (150000, 3)\n",
      "test_data의 shape : (50000, 3)\n"
     ]
    }
   ],
   "source": [
    "print('train_data의 shape :', train_data.shape)\n",
    "print('test_data의 shape :', test_data.shape)"
   ]
  },
  {
   "cell_type": "markdown",
   "id": "1d6d6ce5",
   "metadata": {},
   "source": [
    "## 2) 데이터로더 구성"
   ]
  },
  {
   "cell_type": "markdown",
   "id": "1c1f6b43",
   "metadata": {},
   "source": [
    "- Naver Sentimental Movie Corpus 데이터는 가공되지 않은 텍스트 파일로 전처리가 필요하다.\n",
    "\n",
    "\n",
    "- 따라서 `imdb.data_loader()`와 동일하게 동작하는 data_loader를 만들어보자.\n",
    "\n",
    "\n",
    "- 데이터 중복 제거\n",
    "- NaN 결측치 제거\n",
    "- 한국어 토크나이저로 토큰화\n",
    "- 불용어(stopwords) 제거\n",
    "- 사전 word_to_index 구성\n",
    "- 텍스트 스트링을 사전 인덱스 스트링으로 변환\n",
    "\n",
    "**즉, `X_train`, `y_train`, `X_test`, `y_test`, `word_to_index` 리턴**"
   ]
  },
  {
   "cell_type": "code",
   "execution_count": 12,
   "id": "f5d78ede",
   "metadata": {},
   "outputs": [
    {
     "data": {
      "text/plain": [
       "굿                                                                                                  181\n",
       "good                                                                                                92\n",
       "최고                                                                                                  85\n",
       "쓰레기                                                                                                 79\n",
       "별로                                                                                                  66\n",
       "                                                                                                  ... \n",
       "이런거 만드는 색휘는 진짜 일부로 욕처묵고싶어서 환장한색휘인듯                                                                   1\n",
       "이영화 평점이 궁금해서 왔는데.너무높다..^^                                                                            1\n",
       "시청자들에게 사과하세여 제작진..낚시성 예고 지친다..보기싫음 말아라 하고 만듬?조세호씨 때문에 넘웃기게 보는데요 낚시그만하시고 예고와 본방이 이어지는 연출부탁드립니다..      1\n",
       "여태본 영화중 단연 최고                                                                                        1\n",
       "한국 영화 최초로 수간하는 내용이 담긴 영화                                                                             1\n",
       "Name: document, Length: 146182, dtype: int64"
      ]
     },
     "execution_count": 12,
     "metadata": {},
     "output_type": "execute_result"
    }
   ],
   "source": [
    "train_data['document'].value_counts()"
   ]
  },
  {
   "cell_type": "code",
   "execution_count": 15,
   "id": "b29b7d84",
   "metadata": {},
   "outputs": [
    {
     "data": {
      "text/html": [
       "<div>\n",
       "<style scoped>\n",
       "    .dataframe tbody tr th:only-of-type {\n",
       "        vertical-align: middle;\n",
       "    }\n",
       "\n",
       "    .dataframe tbody tr th {\n",
       "        vertical-align: top;\n",
       "    }\n",
       "\n",
       "    .dataframe thead th {\n",
       "        text-align: right;\n",
       "    }\n",
       "</style>\n",
       "<table border=\"1\" class=\"dataframe\">\n",
       "  <thead>\n",
       "    <tr style=\"text-align: right;\">\n",
       "      <th></th>\n",
       "      <th>id</th>\n",
       "      <th>document</th>\n",
       "      <th>label</th>\n",
       "    </tr>\n",
       "  </thead>\n",
       "  <tbody>\n",
       "    <tr>\n",
       "      <th>4502</th>\n",
       "      <td>6088734</td>\n",
       "      <td>별로</td>\n",
       "      <td>0</td>\n",
       "    </tr>\n",
       "    <tr>\n",
       "      <th>5897</th>\n",
       "      <td>4837452</td>\n",
       "      <td>별로</td>\n",
       "      <td>0</td>\n",
       "    </tr>\n",
       "    <tr>\n",
       "      <th>7150</th>\n",
       "      <td>7379084</td>\n",
       "      <td>별로</td>\n",
       "      <td>0</td>\n",
       "    </tr>\n",
       "    <tr>\n",
       "      <th>11433</th>\n",
       "      <td>5612565</td>\n",
       "      <td>별로</td>\n",
       "      <td>0</td>\n",
       "    </tr>\n",
       "    <tr>\n",
       "      <th>14295</th>\n",
       "      <td>5585809</td>\n",
       "      <td>별로</td>\n",
       "      <td>0</td>\n",
       "    </tr>\n",
       "    <tr>\n",
       "      <th>...</th>\n",
       "      <td>...</td>\n",
       "      <td>...</td>\n",
       "      <td>...</td>\n",
       "    </tr>\n",
       "    <tr>\n",
       "      <th>141478</th>\n",
       "      <td>858201</td>\n",
       "      <td>별로</td>\n",
       "      <td>0</td>\n",
       "    </tr>\n",
       "    <tr>\n",
       "      <th>142562</th>\n",
       "      <td>7666208</td>\n",
       "      <td>별로</td>\n",
       "      <td>0</td>\n",
       "    </tr>\n",
       "    <tr>\n",
       "      <th>142618</th>\n",
       "      <td>6309396</td>\n",
       "      <td>별로</td>\n",
       "      <td>0</td>\n",
       "    </tr>\n",
       "    <tr>\n",
       "      <th>145210</th>\n",
       "      <td>6819730</td>\n",
       "      <td>별로</td>\n",
       "      <td>0</td>\n",
       "    </tr>\n",
       "    <tr>\n",
       "      <th>149192</th>\n",
       "      <td>5332275</td>\n",
       "      <td>별로</td>\n",
       "      <td>0</td>\n",
       "    </tr>\n",
       "  </tbody>\n",
       "</table>\n",
       "<p>66 rows × 3 columns</p>\n",
       "</div>"
      ],
      "text/plain": [
       "             id document  label\n",
       "4502    6088734       별로      0\n",
       "5897    4837452       별로      0\n",
       "7150    7379084       별로      0\n",
       "11433   5612565       별로      0\n",
       "14295   5585809       별로      0\n",
       "...         ...      ...    ...\n",
       "141478   858201       별로      0\n",
       "142562  7666208       별로      0\n",
       "142618  6309396       별로      0\n",
       "145210  6819730       별로      0\n",
       "149192  5332275       별로      0\n",
       "\n",
       "[66 rows x 3 columns]"
      ]
     },
     "execution_count": 15,
     "metadata": {},
     "output_type": "execute_result"
    }
   ],
   "source": [
    "train_data[train_data['document'] == '별로']"
   ]
  },
  {
   "cell_type": "code",
   "execution_count": 16,
   "id": "0ed8de65",
   "metadata": {},
   "outputs": [],
   "source": [
    "from konlpy.tag import Mecab\n",
    "import numpy as np\n",
    "from collections import Counter"
   ]
  },
  {
   "cell_type": "code",
   "execution_count": 61,
   "id": "2352485c",
   "metadata": {},
   "outputs": [],
   "source": [
    "tokenizer = Mecab()\n",
    "stopwords = ['의','가','이','은','들','는','좀','잘','걍','과','도','를','으로','자','에','와','한','하다']\n",
    "\n",
    "def load_data(train_data, test_data, num_words=10000):\n",
    "    train_data.drop_duplicates(subset=['document'], inplace=True)\n",
    "    train_data = train_data.dropna(how = 'any') \n",
    "    test_data.drop_duplicates(subset=['document'], inplace=True)\n",
    "    test_data = test_data.dropna(how = 'any') \n",
    "    \n",
    "    X_train = []\n",
    "    for sentence in train_data['document']:\n",
    "        temp_X = tokenizer.morphs(sentence) # 토큰화\n",
    "        temp_X = [word for word in temp_X if not word in stopwords] # 불용어 제거\n",
    "        X_train.append(temp_X)\n",
    "\n",
    "    X_test = []\n",
    "    for sentence in test_data['document']:\n",
    "        temp_X = tokenizer.morphs(sentence) # 토큰화\n",
    "        temp_X = [word for word in temp_X if not word in stopwords] # 불용어 제거\n",
    "        X_test.append(temp_X)\n",
    "    \n",
    "    words = np.concatenate(X_train).tolist()\n",
    "    counter = Counter(words)\n",
    "    counter = counter.most_common(10000-4)\n",
    "#     vocab = ['<PAD>', '<BOS>', '<UNK>', '<UNUSED>'] + [key for key, _ in counter]\n",
    "    vocab = ['', '', '', ''] + [key for key, _ in counter]\n",
    "    word_to_index = {word:index for index, word in enumerate(vocab)}\n",
    "        \n",
    "    def wordlist_to_indexlist(wordlist):\n",
    "        return [word_to_index[word] if word in word_to_index else word_to_index[''] for word in wordlist]\n",
    "        \n",
    "    X_train = list(map(wordlist_to_indexlist, X_train))\n",
    "    X_test = list(map(wordlist_to_indexlist, X_test))\n",
    "        \n",
    "    return X_train, np.array(list(train_data['label'])), X_test, np.array(list(test_data['label'])), word_to_index\n",
    "    \n",
    "X_train, y_train, X_test, y_test, word_to_index = load_data(train_data, test_data) "
   ]
  },
  {
   "cell_type": "code",
   "execution_count": 63,
   "id": "28687373",
   "metadata": {},
   "outputs": [],
   "source": [
    "# 처음 몇 개 인덱스는 사전에 정의되어 있습니다\n",
    "word_to_index[\"<PAD>\"] = 0\n",
    "word_to_index[\"<BOS>\"] = 1\n",
    "word_to_index[\"<UNK>\"] = 2  # unknown"
   ]
  },
  {
   "cell_type": "code",
   "execution_count": 64,
   "id": "eab3af24",
   "metadata": {},
   "outputs": [],
   "source": [
    "index_to_word = {index:word for word, index in word_to_index.items()}"
   ]
  },
  {
   "cell_type": "code",
   "execution_count": 68,
   "id": "dfeeebfb",
   "metadata": {},
   "outputs": [],
   "source": [
    "# 문장 1개를 활용할 딕셔너리와 함께 주면, 단어 인덱스 리스트 벡터로 변환해 주는 함수입니다. \n",
    "# 단, 모든 문장은 <BOS>로 시작하는 것으로 합니다. \n",
    "def get_encoded_sentence(sentence, word_to_index):\n",
    "    return [word_to_index['<BOS>']]+[word_to_index[word] if word in word_to_index else word_to_index['<UNK>'] for word in sentence.split()]\n",
    "\n",
    "# 여러 개의 문장 리스트를 한꺼번에 단어 인덱스 리스트 벡터로 encode해 주는 함수입니다. \n",
    "def get_encoded_sentences(sentences, word_to_index):\n",
    "    return [get_encoded_sentence(sentence, word_to_index) for sentence in sentences]\n",
    "\n",
    "# 숫자 벡터로 encode된 문장을 원래대로 decode하는 함수입니다. \n",
    "def get_decoded_sentence(encoded_sentence, index_to_word):\n",
    "    return ' '.join(index_to_word[index] if index in index_to_word else '<UNK>' for index in encoded_sentence[1:])  #[1:]를 통해 <BOS>를 제외\n",
    "\n",
    "# 여러 개의 숫자 벡터로 encode된 문장을 한꺼번에 원래대로 decode하는 함수입니다. \n",
    "def get_decoded_sentences(encoded_sentences, index_to_word):\n",
    "    return [get_decoded_sentence(encoded_sentence, index_to_word) for encoded_sentence in encoded_sentences]"
   ]
  },
  {
   "cell_type": "markdown",
   "id": "80e1c18d",
   "metadata": {},
   "source": [
    "## 3) 모델 구성을 위한 데이터 분석 및 가공"
   ]
  },
  {
   "cell_type": "markdown",
   "id": "08922c5d",
   "metadata": {},
   "source": [
    "#### - 데이터셋 내 문장 길이 분포<br><br>- 적절한 최대 문장 길이 지정<br><br>- `keras.preprocessing.sequence.pad_sequences`을 활용한 패딩 추가"
   ]
  },
  {
   "cell_type": "markdown",
   "id": "132da8d4",
   "metadata": {},
   "source": [
    "**`pad_sequences`**를 통해 데이터셋 상의 문장의 길이를 통일해야 함.\n",
    "\n",
    "\n",
    "- 문장 최대 길이 maxlen의 값 설정도 젠체 모델 성능에 영향을 미침."
   ]
  },
  {
   "cell_type": "code",
   "execution_count": 71,
   "id": "9685da32",
   "metadata": {},
   "outputs": [
    {
     "name": "stdout",
     "output_type": "stream",
     "text": [
      "문장길이 평균 : 15.96940191154864\n",
      "문장길이 최대 : 116\n",
      "문장길이 표준편차 : 12.843571191092\n",
      "pad_sequences maxlen :  41\n",
      "전체 문장의 0.9342988343341575%가 maxlen 설정값 이내에 포함됩니다. \n"
     ]
    }
   ],
   "source": [
    "total_data_text = list(X_train) + list(X_test)\n",
    "# 텍스트데이터 문장길이의 리스트를 생성환 후\n",
    "num_tokens = [len(tokens) for tokens in total_data_text]\n",
    "num_tokens = np.array(num_tokens)\n",
    "# 문장길이의 평균값 / 최대값 / 표준편차를 계산해본다.\n",
    "print('문장길이 평균 :', np.mean(num_tokens))\n",
    "print('문장길이 최대 :', np.max(num_tokens))\n",
    "print('문장길이 표준편차 :', np.std(num_tokens))\n",
    "\n",
    "# 예를들어, 최대 길이를 (평균 + 2*표준편차)로 한다면,\n",
    "max_tokens = np.mean(num_tokens) + 2*np.std(num_tokens)\n",
    "maxlen = int(max_tokens)\n",
    "print('pad_sequences maxlen : ', maxlen)\n",
    "print('전체 문장의 {}%가 maxlen 설정값 이내에 포함됩니다. '.format(np.sum(num_tokens < max_tokens) / len(num_tokens)))"
   ]
  },
  {
   "cell_type": "code",
   "execution_count": 76,
   "id": "54a6966a",
   "metadata": {},
   "outputs": [
    {
     "name": "stdout",
     "output_type": "stream",
     "text": [
      "(146182, 41)\n",
      "(49157, 41)\n"
     ]
    }
   ],
   "source": [
    "X_train_padding = tf.keras.preprocessing.sequence.pad_sequences(X_train,\n",
    "                                                        value=word_to_index[\"<PAD>\"],\n",
    "                                                        padding='post', # 혹은 'pre'\n",
    "                                                        maxlen=maxlen)\n",
    "\n",
    "X_test_padding = tf.keras.preprocessing.sequence.pad_sequences(X_test,\n",
    "                                                       value=word_to_index[\"<PAD>\"],\n",
    "                                                       padding='post', # 혹은 'pre'\n",
    "                                                       maxlen=maxlen)\n",
    "\n",
    "print(X_train_padding.shape)\n",
    "print(X_test_padding.shape)"
   ]
  },
  {
   "cell_type": "markdown",
   "id": "5eff9352",
   "metadata": {},
   "source": [
    "## 4) 모델 구성 및 Validation Set 구성"
   ]
  },
  {
   "cell_type": "markdown",
   "id": "b211b2b2",
   "metadata": {},
   "source": [
    "- model 훈련 전에, 훈련용 데이터셋 25000건 중 10000 건을 분리하여 검증셋으로 사용한다.<br><br>\n",
    "- 모델은 3가지 이상 다양하게 구성하여 실험해보자"
   ]
  },
  {
   "cell_type": "code",
   "execution_count": 97,
   "id": "64f66f8b",
   "metadata": {},
   "outputs": [],
   "source": [
    "# # validation set 10000건 분리\n",
    "# X_val = X_train_padding[:10000]   \n",
    "# y_val = y_train[:10000]\n",
    "\n",
    "# # validation set을 제외한 나머지 15000건\n",
    "# partial_x_train = X_train_padding[10000:]  \n",
    "# partial_y_train = y_train[10000:]\n",
    "\n",
    "# print(partial_x_train.shape)\n",
    "# print(partial_y_train.shape)\n",
    "# print(X_val.shape)\n",
    "# print(y_val.shape)"
   ]
  },
  {
   "cell_type": "code",
   "execution_count": 100,
   "id": "d3552dc6",
   "metadata": {},
   "outputs": [],
   "source": [
    "from sklearn.model_selection import train_test_split\n",
    "\n",
    "partial_x_train, X_val, partial_y_train, y_val = train_test_split(X_train_padding, y_train, test_size=0.2, random_state=1234)"
   ]
  },
  {
   "cell_type": "code",
   "execution_count": 101,
   "id": "f88684a4",
   "metadata": {},
   "outputs": [
    {
     "name": "stdout",
     "output_type": "stream",
     "text": [
      "(116945, 41)\n",
      "(116945,)\n",
      "(29237, 41)\n",
      "(29237,)\n"
     ]
    }
   ],
   "source": [
    "print(partial_x_train.shape)\n",
    "print(partial_y_train.shape)\n",
    "print(X_val.shape)\n",
    "print(y_val.shape)"
   ]
  },
  {
   "cell_type": "code",
   "execution_count": 77,
   "id": "f6803a7a",
   "metadata": {},
   "outputs": [],
   "source": [
    "vocab_size = 10000    # 어휘 사전의 크기입니다(10,000개의 단어)\n",
    "word_vector_dim = 16  # 워드 벡터의 차원 수 (변경 가능한 하이퍼파라미터)\n",
    "\n",
    "### 1) 1D Convolution\n",
    "model1 = tf.keras.Sequential()\n",
    "model1.add(tf.keras.layers.Embedding(vocab_size, word_vector_dim, input_shape=(None,)))\n",
    "model1.add(tf.keras.layers.Conv1D(16, 7, activation='relu'))\n",
    "model1.add(tf.keras.layers.MaxPooling1D(5))\n",
    "model1.add(tf.keras.layers.Conv1D(16, 7, activation='relu'))\n",
    "model1.add(tf.keras.layers.GlobalMaxPooling1D())\n",
    "model1.add(tf.keras.layers.Dense(8, activation='relu'))\n",
    "model1.add(tf.keras.layers.Dense(1, activation='sigmoid'))  # 최종 출력은 긍정/부정을 나타내는 1dim 입니다.\n",
    "\n",
    "### 2) LSTM\n",
    "model2 = tf.keras.Sequential()\n",
    "model2.add(tf.keras.layers.Embedding(vocab_size, word_vector_dim, input_shape=(None,)))\n",
    "model2.add(tf.keras.layers.LSTM(8))   # 가장 널리 쓰이는 RNN인 LSTM 레이어를 사용하였습니다. 이때 LSTM state 벡터의 차원수는 8로 하였습니다. (변경 가능)\n",
    "model2.add(tf.keras.layers.Dense(8, activation='relu'))\n",
    "model2.add(tf.keras.layers.Dense(1, activation='sigmoid'))  # 최종 출력은 긍정/부정을 나타내는 1dim 입니다.\n",
    "\n",
    "### 3) GlobalMaxPooling\n",
    "model3 = tf.keras.Sequential()\n",
    "model3.add(tf.keras.layers.Embedding(vocab_size, word_vector_dim, input_shape=(None,)))\n",
    "model3.add(tf.keras.layers.GlobalMaxPooling1D())\n",
    "model3.add(tf.keras.layers.Dense(8, activation='relu'))\n",
    "model3.add(tf.keras.layers.Dense(1, activation='sigmoid'))  # 최종 출력은 긍정/부정을 나타내는 1dim 입니다."
   ]
  },
  {
   "cell_type": "code",
   "execution_count": 78,
   "id": "aa0d6419",
   "metadata": {},
   "outputs": [
    {
     "name": "stdout",
     "output_type": "stream",
     "text": [
      "Model: \"sequential\"\n",
      "_________________________________________________________________\n",
      "Layer (type)                 Output Shape              Param #   \n",
      "=================================================================\n",
      "embedding (Embedding)        (None, None, 16)          160000    \n",
      "_________________________________________________________________\n",
      "conv1d (Conv1D)              (None, None, 16)          1808      \n",
      "_________________________________________________________________\n",
      "max_pooling1d (MaxPooling1D) (None, None, 16)          0         \n",
      "_________________________________________________________________\n",
      "conv1d_1 (Conv1D)            (None, None, 16)          1808      \n",
      "_________________________________________________________________\n",
      "global_max_pooling1d (Global (None, 16)                0         \n",
      "_________________________________________________________________\n",
      "dense (Dense)                (None, 8)                 136       \n",
      "_________________________________________________________________\n",
      "dense_1 (Dense)              (None, 1)                 9         \n",
      "=================================================================\n",
      "Total params: 163,761\n",
      "Trainable params: 163,761\n",
      "Non-trainable params: 0\n",
      "_________________________________________________________________\n"
     ]
    }
   ],
   "source": [
    "model1.summary()"
   ]
  },
  {
   "cell_type": "code",
   "execution_count": 79,
   "id": "a6f81717",
   "metadata": {},
   "outputs": [
    {
     "name": "stdout",
     "output_type": "stream",
     "text": [
      "Model: \"sequential_1\"\n",
      "_________________________________________________________________\n",
      "Layer (type)                 Output Shape              Param #   \n",
      "=================================================================\n",
      "embedding_1 (Embedding)      (None, None, 16)          160000    \n",
      "_________________________________________________________________\n",
      "lstm (LSTM)                  (None, 8)                 800       \n",
      "_________________________________________________________________\n",
      "dense_2 (Dense)              (None, 8)                 72        \n",
      "_________________________________________________________________\n",
      "dense_3 (Dense)              (None, 1)                 9         \n",
      "=================================================================\n",
      "Total params: 160,881\n",
      "Trainable params: 160,881\n",
      "Non-trainable params: 0\n",
      "_________________________________________________________________\n"
     ]
    }
   ],
   "source": [
    "model2.summary()"
   ]
  },
  {
   "cell_type": "code",
   "execution_count": 80,
   "id": "57283b35",
   "metadata": {},
   "outputs": [
    {
     "name": "stdout",
     "output_type": "stream",
     "text": [
      "Model: \"sequential_2\"\n",
      "_________________________________________________________________\n",
      "Layer (type)                 Output Shape              Param #   \n",
      "=================================================================\n",
      "embedding_2 (Embedding)      (None, None, 16)          160000    \n",
      "_________________________________________________________________\n",
      "global_max_pooling1d_1 (Glob (None, 16)                0         \n",
      "_________________________________________________________________\n",
      "dense_4 (Dense)              (None, 8)                 136       \n",
      "_________________________________________________________________\n",
      "dense_5 (Dense)              (None, 1)                 9         \n",
      "=================================================================\n",
      "Total params: 160,145\n",
      "Trainable params: 160,145\n",
      "Non-trainable params: 0\n",
      "_________________________________________________________________\n"
     ]
    }
   ],
   "source": [
    "model3.summary()"
   ]
  },
  {
   "cell_type": "markdown",
   "id": "0675ffd8",
   "metadata": {},
   "source": [
    "## 5) 모델 훈련 및 평가"
   ]
  },
  {
   "cell_type": "markdown",
   "id": "7d97db52",
   "metadata": {},
   "source": [
    "- model1 : 1D Convolution Network\n",
    "- model2 : LSTM\n",
    "- model3 : GlobalMaxPooling"
   ]
  },
  {
   "cell_type": "code",
   "execution_count": 102,
   "id": "6389be59",
   "metadata": {},
   "outputs": [],
   "source": [
    "model1.compile(optimizer='adam',\n",
    "              loss='binary_crossentropy',\n",
    "              metrics=['accuracy'])\n",
    "\n",
    "model2.compile(optimizer='adam',\n",
    "              loss='binary_crossentropy',\n",
    "              metrics=['accuracy'])\n",
    "\n",
    "model3.compile(optimizer='adam',\n",
    "              loss='binary_crossentropy',\n",
    "              metrics=['accuracy'])\n",
    "              \n",
    "epochs=50  # 몇 epoch를 훈련하면 좋을지 결과를 보면서 바꾸어 봅시다. "
   ]
  },
  {
   "cell_type": "code",
   "execution_count": 103,
   "id": "1663568a",
   "metadata": {
    "scrolled": true
   },
   "outputs": [
    {
     "name": "stdout",
     "output_type": "stream",
     "text": [
      "Epoch 1/50\n",
      "229/229 [==============================] - 5s 6ms/step - loss: 0.4866 - accuracy: 0.7573 - val_loss: 0.3616 - val_accuracy: 0.8430\n",
      "Epoch 2/50\n",
      "229/229 [==============================] - 1s 5ms/step - loss: 0.3309 - accuracy: 0.8586 - val_loss: 0.3469 - val_accuracy: 0.8514\n",
      "Epoch 3/50\n",
      "229/229 [==============================] - 1s 5ms/step - loss: 0.2991 - accuracy: 0.8747 - val_loss: 0.3494 - val_accuracy: 0.8480\n",
      "Epoch 4/50\n",
      "229/229 [==============================] - 1s 5ms/step - loss: 0.2727 - accuracy: 0.8888 - val_loss: 0.3521 - val_accuracy: 0.8496\n",
      "Epoch 5/50\n",
      "229/229 [==============================] - 1s 5ms/step - loss: 0.2431 - accuracy: 0.9031 - val_loss: 0.3624 - val_accuracy: 0.8462\n",
      "Epoch 6/50\n",
      "229/229 [==============================] - 1s 5ms/step - loss: 0.2087 - accuracy: 0.9210 - val_loss: 0.3867 - val_accuracy: 0.8432\n",
      "Epoch 7/50\n",
      "229/229 [==============================] - 1s 5ms/step - loss: 0.1742 - accuracy: 0.9363 - val_loss: 0.4235 - val_accuracy: 0.8389\n",
      "Epoch 8/50\n",
      "229/229 [==============================] - 1s 5ms/step - loss: 0.1443 - accuracy: 0.9493 - val_loss: 0.4592 - val_accuracy: 0.8351\n",
      "Epoch 9/50\n",
      "229/229 [==============================] - 1s 5ms/step - loss: 0.1172 - accuracy: 0.9607 - val_loss: 0.5130 - val_accuracy: 0.8322\n",
      "Epoch 10/50\n",
      "229/229 [==============================] - 1s 5ms/step - loss: 0.0982 - accuracy: 0.9678 - val_loss: 0.5577 - val_accuracy: 0.8304\n",
      "Epoch 11/50\n",
      "229/229 [==============================] - 1s 5ms/step - loss: 0.0827 - accuracy: 0.9737 - val_loss: 0.6028 - val_accuracy: 0.8277\n",
      "Epoch 12/50\n",
      "229/229 [==============================] - 1s 5ms/step - loss: 0.0708 - accuracy: 0.9783 - val_loss: 0.6538 - val_accuracy: 0.8255\n",
      "Epoch 13/50\n",
      "229/229 [==============================] - 1s 5ms/step - loss: 0.0616 - accuracy: 0.9813 - val_loss: 0.7028 - val_accuracy: 0.8234\n",
      "Epoch 14/50\n",
      "229/229 [==============================] - 1s 5ms/step - loss: 0.0552 - accuracy: 0.9834 - val_loss: 0.7468 - val_accuracy: 0.8207\n",
      "Epoch 15/50\n",
      "229/229 [==============================] - 1s 5ms/step - loss: 0.0501 - accuracy: 0.9850 - val_loss: 0.7973 - val_accuracy: 0.8197\n",
      "Epoch 16/50\n",
      "229/229 [==============================] - 1s 5ms/step - loss: 0.0470 - accuracy: 0.9858 - val_loss: 0.8379 - val_accuracy: 0.8185\n",
      "Epoch 17/50\n",
      "229/229 [==============================] - 1s 5ms/step - loss: 0.0426 - accuracy: 0.9872 - val_loss: 0.8821 - val_accuracy: 0.8180\n",
      "Epoch 18/50\n",
      "229/229 [==============================] - 1s 5ms/step - loss: 0.0395 - accuracy: 0.9880 - val_loss: 0.9039 - val_accuracy: 0.8169\n",
      "Epoch 19/50\n",
      "229/229 [==============================] - 1s 5ms/step - loss: 0.0381 - accuracy: 0.9884 - val_loss: 0.9606 - val_accuracy: 0.8144\n",
      "Epoch 20/50\n",
      "229/229 [==============================] - 1s 5ms/step - loss: 0.0367 - accuracy: 0.9884 - val_loss: 1.0283 - val_accuracy: 0.8127\n",
      "Epoch 21/50\n",
      "229/229 [==============================] - 1s 5ms/step - loss: 0.0358 - accuracy: 0.9889 - val_loss: 1.0002 - val_accuracy: 0.8139\n",
      "Epoch 22/50\n",
      "229/229 [==============================] - 1s 5ms/step - loss: 0.0334 - accuracy: 0.9895 - val_loss: 1.0214 - val_accuracy: 0.8144\n",
      "Epoch 23/50\n",
      "229/229 [==============================] - 1s 5ms/step - loss: 0.0323 - accuracy: 0.9898 - val_loss: 1.0415 - val_accuracy: 0.8137\n",
      "Epoch 24/50\n",
      "229/229 [==============================] - 1s 5ms/step - loss: 0.0292 - accuracy: 0.9911 - val_loss: 1.1035 - val_accuracy: 0.8118\n",
      "Epoch 25/50\n",
      "229/229 [==============================] - 1s 5ms/step - loss: 0.0279 - accuracy: 0.9914 - val_loss: 1.1161 - val_accuracy: 0.8122\n",
      "Epoch 26/50\n",
      "229/229 [==============================] - 1s 5ms/step - loss: 0.0275 - accuracy: 0.9911 - val_loss: 1.1317 - val_accuracy: 0.8088\n",
      "Epoch 27/50\n",
      "229/229 [==============================] - 1s 5ms/step - loss: 0.0270 - accuracy: 0.9914 - val_loss: 1.1785 - val_accuracy: 0.8102\n",
      "Epoch 28/50\n",
      "229/229 [==============================] - 1s 5ms/step - loss: 0.0266 - accuracy: 0.9913 - val_loss: 1.1747 - val_accuracy: 0.8137\n",
      "Epoch 29/50\n",
      "229/229 [==============================] - 1s 5ms/step - loss: 0.0251 - accuracy: 0.9919 - val_loss: 1.1896 - val_accuracy: 0.8119\n",
      "Epoch 30/50\n",
      "229/229 [==============================] - 1s 5ms/step - loss: 0.0273 - accuracy: 0.9907 - val_loss: 1.2322 - val_accuracy: 0.8107\n",
      "Epoch 31/50\n",
      "229/229 [==============================] - 1s 5ms/step - loss: 0.0269 - accuracy: 0.9911 - val_loss: 1.2398 - val_accuracy: 0.8109\n",
      "Epoch 32/50\n",
      "229/229 [==============================] - 1s 5ms/step - loss: 0.0236 - accuracy: 0.9924 - val_loss: 1.3053 - val_accuracy: 0.8091\n",
      "Epoch 33/50\n",
      "229/229 [==============================] - 1s 5ms/step - loss: 0.0216 - accuracy: 0.9930 - val_loss: 1.3173 - val_accuracy: 0.8087\n",
      "Epoch 34/50\n",
      "229/229 [==============================] - 1s 5ms/step - loss: 0.0206 - accuracy: 0.9935 - val_loss: 1.3433 - val_accuracy: 0.8075\n",
      "Epoch 35/50\n",
      "229/229 [==============================] - 1s 5ms/step - loss: 0.0196 - accuracy: 0.9937 - val_loss: 1.3640 - val_accuracy: 0.8050\n",
      "Epoch 36/50\n",
      "229/229 [==============================] - 1s 5ms/step - loss: 0.0191 - accuracy: 0.9937 - val_loss: 1.4217 - val_accuracy: 0.8092\n",
      "Epoch 37/50\n",
      "229/229 [==============================] - 1s 5ms/step - loss: 0.0202 - accuracy: 0.9930 - val_loss: 1.3869 - val_accuracy: 0.8084\n",
      "Epoch 38/50\n",
      "229/229 [==============================] - 1s 5ms/step - loss: 0.0205 - accuracy: 0.9929 - val_loss: 1.4203 - val_accuracy: 0.8067\n",
      "Epoch 39/50\n",
      "229/229 [==============================] - 1s 5ms/step - loss: 0.0198 - accuracy: 0.9931 - val_loss: 1.4151 - val_accuracy: 0.8078\n",
      "Epoch 40/50\n",
      "229/229 [==============================] - 1s 5ms/step - loss: 0.0212 - accuracy: 0.9927 - val_loss: 1.4161 - val_accuracy: 0.8075\n",
      "Epoch 41/50\n",
      "229/229 [==============================] - 1s 5ms/step - loss: 0.0217 - accuracy: 0.9926 - val_loss: 1.3993 - val_accuracy: 0.8063\n",
      "Epoch 42/50\n",
      "229/229 [==============================] - 1s 5ms/step - loss: 0.0187 - accuracy: 0.9937 - val_loss: 1.4532 - val_accuracy: 0.8071\n",
      "Epoch 43/50\n",
      "229/229 [==============================] - 1s 5ms/step - loss: 0.0175 - accuracy: 0.9941 - val_loss: 1.4953 - val_accuracy: 0.8053\n",
      "Epoch 44/50\n",
      "229/229 [==============================] - 1s 5ms/step - loss: 0.0160 - accuracy: 0.9947 - val_loss: 1.4879 - val_accuracy: 0.8026\n",
      "Epoch 45/50\n",
      "229/229 [==============================] - 1s 5ms/step - loss: 0.0162 - accuracy: 0.9945 - val_loss: 1.5200 - val_accuracy: 0.8048\n",
      "Epoch 46/50\n",
      "229/229 [==============================] - 1s 5ms/step - loss: 0.0150 - accuracy: 0.9949 - val_loss: 1.5100 - val_accuracy: 0.8043\n",
      "Epoch 47/50\n",
      "229/229 [==============================] - 1s 5ms/step - loss: 0.0147 - accuracy: 0.9950 - val_loss: 1.5752 - val_accuracy: 0.8044\n",
      "Epoch 48/50\n",
      "229/229 [==============================] - 1s 5ms/step - loss: 0.0158 - accuracy: 0.9946 - val_loss: 1.5728 - val_accuracy: 0.8022\n",
      "Epoch 49/50\n",
      "229/229 [==============================] - 1s 5ms/step - loss: 0.0189 - accuracy: 0.9933 - val_loss: 1.5563 - val_accuracy: 0.8043\n",
      "Epoch 50/50\n",
      "229/229 [==============================] - 1s 5ms/step - loss: 0.0214 - accuracy: 0.9923 - val_loss: 1.4721 - val_accuracy: 0.8043\n"
     ]
    }
   ],
   "source": [
    "# 1D Convolution\n",
    "\n",
    "history1 = model1.fit(partial_x_train,\n",
    "                    partial_y_train,\n",
    "                    epochs=epochs,\n",
    "                    batch_size=512,\n",
    "                    validation_data=(X_val, y_val),\n",
    "                    verbose=1)"
   ]
  },
  {
   "cell_type": "code",
   "execution_count": 104,
   "id": "6679eef8",
   "metadata": {
    "scrolled": true
   },
   "outputs": [
    {
     "name": "stdout",
     "output_type": "stream",
     "text": [
      "Epoch 1/50\n",
      "229/229 [==============================] - 3s 7ms/step - loss: 0.5725 - accuracy: 0.6719 - val_loss: 0.3924 - val_accuracy: 0.8327\n",
      "Epoch 2/50\n",
      "229/229 [==============================] - 1s 6ms/step - loss: 0.3507 - accuracy: 0.8522 - val_loss: 0.3520 - val_accuracy: 0.8481\n",
      "Epoch 3/50\n",
      "229/229 [==============================] - 1s 5ms/step - loss: 0.3182 - accuracy: 0.8657 - val_loss: 0.3540 - val_accuracy: 0.8476\n",
      "Epoch 4/50\n",
      "229/229 [==============================] - 1s 5ms/step - loss: 0.3034 - accuracy: 0.8713 - val_loss: 0.3514 - val_accuracy: 0.8493\n",
      "Epoch 5/50\n",
      "229/229 [==============================] - 1s 5ms/step - loss: 0.2917 - accuracy: 0.8764 - val_loss: 0.3545 - val_accuracy: 0.8466\n",
      "Epoch 6/50\n",
      "229/229 [==============================] - 1s 5ms/step - loss: 0.2811 - accuracy: 0.8787 - val_loss: 0.3653 - val_accuracy: 0.8475\n",
      "Epoch 7/50\n",
      "229/229 [==============================] - 1s 5ms/step - loss: 0.2706 - accuracy: 0.8824 - val_loss: 0.3774 - val_accuracy: 0.8443\n",
      "Epoch 8/50\n",
      "229/229 [==============================] - 1s 5ms/step - loss: 0.2643 - accuracy: 0.8838 - val_loss: 0.3920 - val_accuracy: 0.8442\n",
      "Epoch 9/50\n",
      "229/229 [==============================] - 1s 5ms/step - loss: 0.2561 - accuracy: 0.8866 - val_loss: 0.3924 - val_accuracy: 0.8475\n",
      "Epoch 10/50\n",
      "229/229 [==============================] - 1s 5ms/step - loss: 0.2482 - accuracy: 0.8886 - val_loss: 0.4035 - val_accuracy: 0.8463\n",
      "Epoch 11/50\n",
      "229/229 [==============================] - 1s 5ms/step - loss: 0.2429 - accuracy: 0.8905 - val_loss: 0.4092 - val_accuracy: 0.8476\n",
      "Epoch 12/50\n",
      "229/229 [==============================] - 1s 5ms/step - loss: 0.2419 - accuracy: 0.8897 - val_loss: 0.4101 - val_accuracy: 0.8476\n",
      "Epoch 13/50\n",
      "229/229 [==============================] - 1s 5ms/step - loss: 0.2355 - accuracy: 0.8920 - val_loss: 0.4283 - val_accuracy: 0.8467\n",
      "Epoch 14/50\n",
      "229/229 [==============================] - 1s 5ms/step - loss: 0.2297 - accuracy: 0.8945 - val_loss: 0.4357 - val_accuracy: 0.8479\n",
      "Epoch 15/50\n",
      "229/229 [==============================] - 1s 5ms/step - loss: 0.2242 - accuracy: 0.8967 - val_loss: 0.4363 - val_accuracy: 0.8486\n",
      "Epoch 16/50\n",
      "229/229 [==============================] - 1s 5ms/step - loss: 0.2202 - accuracy: 0.8988 - val_loss: 0.4540 - val_accuracy: 0.8469\n",
      "Epoch 17/50\n",
      "229/229 [==============================] - 1s 5ms/step - loss: 0.2157 - accuracy: 0.8997 - val_loss: 0.4467 - val_accuracy: 0.8462\n",
      "Epoch 18/50\n",
      "229/229 [==============================] - 1s 6ms/step - loss: 0.2148 - accuracy: 0.9000 - val_loss: 0.4493 - val_accuracy: 0.8497\n",
      "Epoch 19/50\n",
      "229/229 [==============================] - 1s 5ms/step - loss: 0.2091 - accuracy: 0.9013 - val_loss: 0.4704 - val_accuracy: 0.8462\n",
      "Epoch 20/50\n",
      "229/229 [==============================] - 1s 6ms/step - loss: 0.2073 - accuracy: 0.9020 - val_loss: 0.4800 - val_accuracy: 0.8477\n",
      "Epoch 21/50\n",
      "229/229 [==============================] - 1s 6ms/step - loss: 0.2016 - accuracy: 0.9046 - val_loss: 0.4633 - val_accuracy: 0.8433\n",
      "Epoch 22/50\n",
      "229/229 [==============================] - 1s 5ms/step - loss: 0.1986 - accuracy: 0.9063 - val_loss: 0.4733 - val_accuracy: 0.8473\n",
      "Epoch 23/50\n",
      "229/229 [==============================] - 1s 6ms/step - loss: 0.1987 - accuracy: 0.9055 - val_loss: 0.4618 - val_accuracy: 0.8451\n",
      "Epoch 24/50\n",
      "229/229 [==============================] - 1s 5ms/step - loss: 0.1934 - accuracy: 0.9085 - val_loss: 0.4799 - val_accuracy: 0.8474\n",
      "Epoch 25/50\n",
      "229/229 [==============================] - 1s 5ms/step - loss: 0.1889 - accuracy: 0.9100 - val_loss: 0.4709 - val_accuracy: 0.8445\n",
      "Epoch 26/50\n",
      "229/229 [==============================] - 1s 6ms/step - loss: 0.1892 - accuracy: 0.9100 - val_loss: 0.4937 - val_accuracy: 0.8465\n",
      "Epoch 27/50\n",
      "229/229 [==============================] - 1s 5ms/step - loss: 0.1836 - accuracy: 0.9114 - val_loss: 0.4978 - val_accuracy: 0.8472\n",
      "Epoch 28/50\n",
      "229/229 [==============================] - 1s 5ms/step - loss: 0.1799 - accuracy: 0.9144 - val_loss: 0.5213 - val_accuracy: 0.8447\n",
      "Epoch 29/50\n",
      "229/229 [==============================] - 1s 5ms/step - loss: 0.1757 - accuracy: 0.9164 - val_loss: 0.5147 - val_accuracy: 0.8419\n",
      "Epoch 30/50\n",
      "229/229 [==============================] - 1s 5ms/step - loss: 0.1725 - accuracy: 0.9178 - val_loss: 0.5093 - val_accuracy: 0.8419\n",
      "Epoch 31/50\n",
      "229/229 [==============================] - 1s 5ms/step - loss: 0.1688 - accuracy: 0.9191 - val_loss: 0.5088 - val_accuracy: 0.8424\n",
      "Epoch 32/50\n",
      "229/229 [==============================] - 1s 5ms/step - loss: 0.1683 - accuracy: 0.9201 - val_loss: 0.5255 - val_accuracy: 0.8446\n",
      "Epoch 33/50\n",
      "229/229 [==============================] - 1s 5ms/step - loss: 0.1643 - accuracy: 0.9214 - val_loss: 0.5372 - val_accuracy: 0.8418\n",
      "Epoch 34/50\n",
      "229/229 [==============================] - 1s 5ms/step - loss: 0.1607 - accuracy: 0.9231 - val_loss: 0.5251 - val_accuracy: 0.8398\n",
      "Epoch 35/50\n",
      "229/229 [==============================] - 1s 5ms/step - loss: 0.1601 - accuracy: 0.9239 - val_loss: 0.5350 - val_accuracy: 0.8389\n",
      "Epoch 36/50\n",
      "229/229 [==============================] - 1s 5ms/step - loss: 0.1560 - accuracy: 0.9260 - val_loss: 0.5411 - val_accuracy: 0.8366\n",
      "Epoch 37/50\n",
      "229/229 [==============================] - 1s 6ms/step - loss: 0.1542 - accuracy: 0.9271 - val_loss: 0.5328 - val_accuracy: 0.8387\n",
      "Epoch 38/50\n",
      "229/229 [==============================] - 1s 6ms/step - loss: 0.1502 - accuracy: 0.9287 - val_loss: 0.5638 - val_accuracy: 0.8409\n",
      "Epoch 39/50\n",
      "229/229 [==============================] - 1s 6ms/step - loss: 0.1495 - accuracy: 0.9295 - val_loss: 0.5349 - val_accuracy: 0.8373\n",
      "Epoch 40/50\n",
      "229/229 [==============================] - 1s 5ms/step - loss: 0.1467 - accuracy: 0.9299 - val_loss: 0.5575 - val_accuracy: 0.8367\n",
      "Epoch 41/50\n",
      "229/229 [==============================] - 1s 5ms/step - loss: 0.1428 - accuracy: 0.9316 - val_loss: 0.5621 - val_accuracy: 0.8373\n",
      "Epoch 42/50\n",
      "229/229 [==============================] - 1s 6ms/step - loss: 0.1398 - accuracy: 0.9322 - val_loss: 0.5685 - val_accuracy: 0.8388\n",
      "Epoch 43/50\n",
      "229/229 [==============================] - 1s 6ms/step - loss: 0.1377 - accuracy: 0.9334 - val_loss: 0.5707 - val_accuracy: 0.8375\n",
      "Epoch 44/50\n",
      "229/229 [==============================] - 1s 5ms/step - loss: 0.1381 - accuracy: 0.9329 - val_loss: 0.5605 - val_accuracy: 0.8356\n",
      "Epoch 45/50\n",
      "229/229 [==============================] - 1s 6ms/step - loss: 0.1340 - accuracy: 0.9349 - val_loss: 0.5669 - val_accuracy: 0.8352\n",
      "Epoch 46/50\n",
      "229/229 [==============================] - 1s 5ms/step - loss: 0.1295 - accuracy: 0.9363 - val_loss: 0.5877 - val_accuracy: 0.8308\n",
      "Epoch 47/50\n",
      "229/229 [==============================] - 1s 6ms/step - loss: 0.1301 - accuracy: 0.9363 - val_loss: 0.5872 - val_accuracy: 0.8293\n",
      "Epoch 48/50\n",
      "229/229 [==============================] - 1s 5ms/step - loss: 0.1286 - accuracy: 0.9373 - val_loss: 0.5734 - val_accuracy: 0.8353\n",
      "Epoch 49/50\n",
      "229/229 [==============================] - 1s 5ms/step - loss: 0.1275 - accuracy: 0.9376 - val_loss: 0.5792 - val_accuracy: 0.8299\n",
      "Epoch 50/50\n",
      "229/229 [==============================] - 1s 5ms/step - loss: 0.1275 - accuracy: 0.9377 - val_loss: 0.5916 - val_accuracy: 0.8329\n"
     ]
    }
   ],
   "source": [
    "# LSTM\n",
    "\n",
    "history2 = model2.fit(partial_x_train,\n",
    "                    partial_y_train,\n",
    "                    epochs=epochs,\n",
    "                    batch_size=512,\n",
    "                    validation_data=(X_val, y_val),\n",
    "                    verbose=1)"
   ]
  },
  {
   "cell_type": "code",
   "execution_count": 105,
   "id": "6c87af59",
   "metadata": {
    "scrolled": true
   },
   "outputs": [
    {
     "name": "stdout",
     "output_type": "stream",
     "text": [
      "Epoch 1/50\n",
      "229/229 [==============================] - 1s 4ms/step - loss: 0.6135 - accuracy: 0.7504 - val_loss: 0.4629 - val_accuracy: 0.8158\n",
      "Epoch 2/50\n",
      "229/229 [==============================] - 1s 3ms/step - loss: 0.3896 - accuracy: 0.8353 - val_loss: 0.3692 - val_accuracy: 0.8366\n",
      "Epoch 3/50\n",
      "229/229 [==============================] - 1s 3ms/step - loss: 0.3317 - accuracy: 0.8593 - val_loss: 0.3564 - val_accuracy: 0.8423\n",
      "Epoch 4/50\n",
      "229/229 [==============================] - 1s 3ms/step - loss: 0.3033 - accuracy: 0.8732 - val_loss: 0.3550 - val_accuracy: 0.8434\n",
      "Epoch 5/50\n",
      "229/229 [==============================] - 1s 3ms/step - loss: 0.2829 - accuracy: 0.8830 - val_loss: 0.3585 - val_accuracy: 0.8445\n",
      "Epoch 6/50\n",
      "229/229 [==============================] - 1s 3ms/step - loss: 0.2667 - accuracy: 0.8911 - val_loss: 0.3644 - val_accuracy: 0.8450\n",
      "Epoch 7/50\n",
      "229/229 [==============================] - 1s 3ms/step - loss: 0.2531 - accuracy: 0.8974 - val_loss: 0.3718 - val_accuracy: 0.8434\n",
      "Epoch 8/50\n",
      "229/229 [==============================] - 1s 3ms/step - loss: 0.2412 - accuracy: 0.9030 - val_loss: 0.3804 - val_accuracy: 0.8419\n",
      "Epoch 9/50\n",
      "229/229 [==============================] - 1s 3ms/step - loss: 0.2304 - accuracy: 0.9090 - val_loss: 0.3903 - val_accuracy: 0.8406\n",
      "Epoch 10/50\n",
      "229/229 [==============================] - 1s 3ms/step - loss: 0.2206 - accuracy: 0.9133 - val_loss: 0.4013 - val_accuracy: 0.8391\n",
      "Epoch 11/50\n",
      "229/229 [==============================] - 1s 3ms/step - loss: 0.2119 - accuracy: 0.9176 - val_loss: 0.4127 - val_accuracy: 0.8393\n",
      "Epoch 12/50\n",
      "229/229 [==============================] - 1s 3ms/step - loss: 0.2035 - accuracy: 0.9217 - val_loss: 0.4242 - val_accuracy: 0.8369\n",
      "Epoch 13/50\n",
      "229/229 [==============================] - 1s 3ms/step - loss: 0.1960 - accuracy: 0.9260 - val_loss: 0.4348 - val_accuracy: 0.8362\n",
      "Epoch 14/50\n",
      "229/229 [==============================] - 1s 4ms/step - loss: 0.1889 - accuracy: 0.9286 - val_loss: 0.4462 - val_accuracy: 0.8350\n",
      "Epoch 15/50\n",
      "229/229 [==============================] - 1s 3ms/step - loss: 0.1824 - accuracy: 0.9319 - val_loss: 0.4596 - val_accuracy: 0.8342\n",
      "Epoch 16/50\n",
      "229/229 [==============================] - 1s 3ms/step - loss: 0.1765 - accuracy: 0.9350 - val_loss: 0.4723 - val_accuracy: 0.8315\n",
      "Epoch 17/50\n",
      "229/229 [==============================] - 1s 3ms/step - loss: 0.1706 - accuracy: 0.9379 - val_loss: 0.4826 - val_accuracy: 0.8306\n",
      "Epoch 18/50\n",
      "229/229 [==============================] - 1s 3ms/step - loss: 0.1653 - accuracy: 0.9401 - val_loss: 0.4938 - val_accuracy: 0.8289\n",
      "Epoch 19/50\n",
      "229/229 [==============================] - 1s 3ms/step - loss: 0.1605 - accuracy: 0.9426 - val_loss: 0.5054 - val_accuracy: 0.8267\n",
      "Epoch 20/50\n",
      "229/229 [==============================] - 1s 4ms/step - loss: 0.1559 - accuracy: 0.9448 - val_loss: 0.5159 - val_accuracy: 0.8267\n",
      "Epoch 21/50\n",
      "229/229 [==============================] - 1s 3ms/step - loss: 0.1515 - accuracy: 0.9470 - val_loss: 0.5278 - val_accuracy: 0.8271\n",
      "Epoch 22/50\n",
      "229/229 [==============================] - 1s 3ms/step - loss: 0.1475 - accuracy: 0.9484 - val_loss: 0.5380 - val_accuracy: 0.8246\n",
      "Epoch 23/50\n",
      "229/229 [==============================] - 1s 3ms/step - loss: 0.1437 - accuracy: 0.9503 - val_loss: 0.5487 - val_accuracy: 0.8248\n",
      "Epoch 24/50\n",
      "229/229 [==============================] - 1s 3ms/step - loss: 0.1400 - accuracy: 0.9518 - val_loss: 0.5595 - val_accuracy: 0.8227\n",
      "Epoch 25/50\n",
      "229/229 [==============================] - 1s 3ms/step - loss: 0.1366 - accuracy: 0.9533 - val_loss: 0.5683 - val_accuracy: 0.8217\n",
      "Epoch 26/50\n",
      "229/229 [==============================] - 1s 3ms/step - loss: 0.1334 - accuracy: 0.9543 - val_loss: 0.5778 - val_accuracy: 0.8201\n",
      "Epoch 27/50\n",
      "229/229 [==============================] - 1s 3ms/step - loss: 0.1304 - accuracy: 0.9558 - val_loss: 0.5885 - val_accuracy: 0.8204\n",
      "Epoch 28/50\n",
      "229/229 [==============================] - 1s 3ms/step - loss: 0.1276 - accuracy: 0.9566 - val_loss: 0.5974 - val_accuracy: 0.8193\n",
      "Epoch 29/50\n",
      "229/229 [==============================] - 1s 3ms/step - loss: 0.1247 - accuracy: 0.9582 - val_loss: 0.6109 - val_accuracy: 0.8181\n",
      "Epoch 30/50\n",
      "229/229 [==============================] - 1s 3ms/step - loss: 0.1219 - accuracy: 0.9593 - val_loss: 0.6201 - val_accuracy: 0.8181\n",
      "Epoch 31/50\n",
      "229/229 [==============================] - 1s 3ms/step - loss: 0.1197 - accuracy: 0.9600 - val_loss: 0.6263 - val_accuracy: 0.8175\n",
      "Epoch 32/50\n",
      "229/229 [==============================] - 1s 4ms/step - loss: 0.1172 - accuracy: 0.9615 - val_loss: 0.6385 - val_accuracy: 0.8175\n",
      "Epoch 33/50\n",
      "229/229 [==============================] - 1s 3ms/step - loss: 0.1148 - accuracy: 0.9622 - val_loss: 0.6499 - val_accuracy: 0.8161\n",
      "Epoch 34/50\n",
      "229/229 [==============================] - 1s 3ms/step - loss: 0.1130 - accuracy: 0.9633 - val_loss: 0.6548 - val_accuracy: 0.8155\n",
      "Epoch 35/50\n",
      "229/229 [==============================] - 1s 3ms/step - loss: 0.1106 - accuracy: 0.9639 - val_loss: 0.6725 - val_accuracy: 0.8160\n",
      "Epoch 36/50\n",
      "229/229 [==============================] - 1s 3ms/step - loss: 0.1088 - accuracy: 0.9645 - val_loss: 0.6811 - val_accuracy: 0.8144\n",
      "Epoch 37/50\n",
      "229/229 [==============================] - 1s 3ms/step - loss: 0.1068 - accuracy: 0.9657 - val_loss: 0.6902 - val_accuracy: 0.8146\n",
      "Epoch 38/50\n",
      "229/229 [==============================] - 1s 3ms/step - loss: 0.1051 - accuracy: 0.9661 - val_loss: 0.7014 - val_accuracy: 0.8130\n",
      "Epoch 39/50\n",
      "229/229 [==============================] - 1s 3ms/step - loss: 0.1032 - accuracy: 0.9668 - val_loss: 0.7123 - val_accuracy: 0.8135\n",
      "Epoch 40/50\n",
      "229/229 [==============================] - 1s 3ms/step - loss: 0.1015 - accuracy: 0.9678 - val_loss: 0.7202 - val_accuracy: 0.8129\n",
      "Epoch 41/50\n",
      "229/229 [==============================] - 1s 3ms/step - loss: 0.0998 - accuracy: 0.9686 - val_loss: 0.7335 - val_accuracy: 0.8114\n",
      "Epoch 42/50\n",
      "229/229 [==============================] - 1s 3ms/step - loss: 0.0982 - accuracy: 0.9688 - val_loss: 0.7435 - val_accuracy: 0.8106\n",
      "Epoch 43/50\n",
      "229/229 [==============================] - 1s 3ms/step - loss: 0.0969 - accuracy: 0.9702 - val_loss: 0.7526 - val_accuracy: 0.8099\n",
      "Epoch 44/50\n",
      "229/229 [==============================] - 1s 3ms/step - loss: 0.0950 - accuracy: 0.9708 - val_loss: 0.7573 - val_accuracy: 0.8105\n",
      "Epoch 45/50\n",
      "229/229 [==============================] - 1s 3ms/step - loss: 0.0940 - accuracy: 0.9707 - val_loss: 0.7735 - val_accuracy: 0.8095\n",
      "Epoch 46/50\n",
      "229/229 [==============================] - 1s 3ms/step - loss: 0.0926 - accuracy: 0.9709 - val_loss: 0.7847 - val_accuracy: 0.8090\n",
      "Epoch 47/50\n",
      "229/229 [==============================] - 1s 3ms/step - loss: 0.0911 - accuracy: 0.9722 - val_loss: 0.7936 - val_accuracy: 0.8089\n",
      "Epoch 48/50\n",
      "229/229 [==============================] - 1s 3ms/step - loss: 0.0899 - accuracy: 0.9726 - val_loss: 0.8062 - val_accuracy: 0.8081\n",
      "Epoch 49/50\n",
      "229/229 [==============================] - 1s 3ms/step - loss: 0.0887 - accuracy: 0.9728 - val_loss: 0.8134 - val_accuracy: 0.8059\n",
      "Epoch 50/50\n",
      "229/229 [==============================] - 1s 3ms/step - loss: 0.0876 - accuracy: 0.9736 - val_loss: 0.8237 - val_accuracy: 0.8060\n"
     ]
    }
   ],
   "source": [
    "# GlobalMaxPooling\n",
    "\n",
    "history3 = model3.fit(partial_x_train,\n",
    "                    partial_y_train,\n",
    "                    epochs=epochs,\n",
    "                    batch_size=512,\n",
    "                    validation_data=(X_val, y_val),\n",
    "                    verbose=1)"
   ]
  },
  {
   "cell_type": "markdown",
   "id": "781ac094",
   "metadata": {},
   "source": [
    "## 6) Loss, Accuracy 그래프 시각화"
   ]
  },
  {
   "cell_type": "code",
   "execution_count": 115,
   "id": "02e3aaac",
   "metadata": {},
   "outputs": [
    {
     "name": "stdout",
     "output_type": "stream",
     "text": [
      "dict_keys(['loss', 'accuracy', 'val_loss', 'val_accuracy'])\n"
     ]
    }
   ],
   "source": [
    "import matplotlib.pyplot as plt\n",
    "\n",
    "history_dict1 = history1.history\n",
    "history_dict2 = history2.history\n",
    "history_dict3 = history3.history\n",
    "\n",
    "print(history_dict3.keys()) # epoch에 따른 그래프를 그려볼 수 있는 항목들"
   ]
  },
  {
   "cell_type": "markdown",
   "id": "8457501d",
   "metadata": {},
   "source": [
    "#### (1) 1D Convolution 시각화"
   ]
  },
  {
   "cell_type": "code",
   "execution_count": 116,
   "id": "26321f57",
   "metadata": {},
   "outputs": [
    {
     "data": {
      "image/png": "[encoded data removed]",
      "text/plain": [
       "<Figure size 432x288 with 1 Axes>"
      ]
     },
     "metadata": {
      "needs_background": "light"
     },
     "output_type": "display_data"
    }
   ],
   "source": [
    "acc = history_dict1['accuracy']\n",
    "val_acc = history_dict1['val_accuracy']\n",
    "loss = history_dict1['loss']\n",
    "val_loss = history_dict1['val_loss']\n",
    "\n",
    "epochs = range(1, len(acc) + 1)\n",
    "\n",
    "# \"bo\"는 \"파란색 점\"입니다\n",
    "plt.plot(epochs, loss, 'bo', label='Training loss')\n",
    "# b는 \"파란 실선\"입니다\n",
    "plt.plot(epochs, val_loss, 'b', label='Validation loss')\n",
    "plt.title('Training and validation loss')\n",
    "plt.xlabel('Epochs')\n",
    "plt.ylabel('Loss')\n",
    "plt.legend()\n",
    "\n",
    "plt.show()"
   ]
  },
  {
   "cell_type": "code",
   "execution_count": 117,
   "id": "e1618d99",
   "metadata": {},
   "outputs": [
    {
     "data": {
      "image/png": "[encoded data removed]",
      "text/plain": [
       "<Figure size 432x288 with 1 Axes>"
      ]
     },
     "metadata": {
      "needs_background": "light"
     },
     "output_type": "display_data"
    }
   ],
   "source": [
    "plt.clf()   # 그림을 초기화합니다\n",
    "\n",
    "plt.plot(epochs, acc, 'bo', label='Training acc')\n",
    "plt.plot(epochs, val_acc, 'b', label='Validation acc')\n",
    "plt.title('Training and validation accuracy')\n",
    "plt.xlabel('Epochs')\n",
    "plt.ylabel('Accuracy')\n",
    "plt.legend()\n",
    "\n",
    "plt.show()"
   ]
  },
  {
   "cell_type": "markdown",
   "id": "0efeeadf",
   "metadata": {},
   "source": [
    "#### (2) LSTM 시각화"
   ]
  },
  {
   "cell_type": "code",
   "execution_count": 118,
   "id": "de89362f",
   "metadata": {},
   "outputs": [
    {
     "data": {
      "image/png": "[encoded data removed]",
      "text/plain": [
       "<Figure size 432x288 with 1 Axes>"
      ]
     },
     "metadata": {
      "needs_background": "light"
     },
     "output_type": "display_data"
    }
   ],
   "source": [
    "acc = history_dict2['accuracy']\n",
    "val_acc = history_dict2['val_accuracy']\n",
    "loss = history_dict2['loss']\n",
    "val_loss = history_dict2['val_loss']\n",
    "\n",
    "epochs = range(1, len(acc) + 1)\n",
    "\n",
    "# \"bo\"는 \"파란색 점\"입니다\n",
    "plt.plot(epochs, loss, 'bo', label='Training loss')\n",
    "# b는 \"파란 실선\"입니다\n",
    "plt.plot(epochs, val_loss, 'b', label='Validation loss')\n",
    "plt.title('Training and validation loss')\n",
    "plt.xlabel('Epochs')\n",
    "plt.ylabel('Loss')\n",
    "plt.legend()\n",
    "\n",
    "plt.show()"
   ]
  },
  {
   "cell_type": "code",
   "execution_count": 119,
   "id": "ec466e15",
   "metadata": {},
   "outputs": [
    {
     "data": {
      "image/png": "[encoded data removed]",
      "text/plain": [
       "<Figure size 432x288 with 1 Axes>"
      ]
     },
     "metadata": {
      "needs_background": "light"
     },
     "output_type": "display_data"
    }
   ],
   "source": [
    "plt.clf()   # 그림을 초기화합니다\n",
    "\n",
    "plt.plot(epochs, acc, 'bo', label='Training acc')\n",
    "plt.plot(epochs, val_acc, 'b', label='Validation acc')\n",
    "plt.title('Training and validation accuracy')\n",
    "plt.xlabel('Epochs')\n",
    "plt.ylabel('Accuracy')\n",
    "plt.legend()\n",
    "\n",
    "plt.show()"
   ]
  },
  {
   "cell_type": "markdown",
   "id": "85a69306",
   "metadata": {},
   "source": [
    "#### (3) GlobalMaxPooling 시각화"
   ]
  },
  {
   "cell_type": "code",
   "execution_count": 120,
   "id": "f0afef69",
   "metadata": {},
   "outputs": [
    {
     "data": {
      "image/png": "[encoded data removed]",
      "text/plain": [
       "<Figure size 432x288 with 1 Axes>"
      ]
     },
     "metadata": {
      "needs_background": "light"
     },
     "output_type": "display_data"
    }
   ],
   "source": [
    "acc = history_dict3['accuracy']\n",
    "val_acc = history_dict3['val_accuracy']\n",
    "loss = history_dict3['loss']\n",
    "val_loss = history_dict3['val_loss']\n",
    "\n",
    "epochs = range(1, len(acc) + 1)\n",
    "\n",
    "# \"bo\"는 \"파란색 점\"입니다\n",
    "plt.plot(epochs, loss, 'bo', label='Training loss')\n",
    "# b는 \"파란 실선\"입니다\n",
    "plt.plot(epochs, val_loss, 'b', label='Validation loss')\n",
    "plt.title('Training and validation loss')\n",
    "plt.xlabel('Epochs')\n",
    "plt.ylabel('Loss')\n",
    "plt.legend()\n",
    "\n",
    "plt.show()"
   ]
  },
  {
   "cell_type": "code",
   "execution_count": 121,
   "id": "1d5bd24c",
   "metadata": {},
   "outputs": [
    {
     "data": {
      "image/png": "[encoded data removed]",
      "text/plain": [
       "<Figure size 432x288 with 1 Axes>"
      ]
     },
     "metadata": {
      "needs_background": "light"
     },
     "output_type": "display_data"
    }
   ],
   "source": [
    "plt.clf()   # 그림을 초기화합니다\n",
    "\n",
    "plt.plot(epochs, acc, 'bo', label='Training acc')\n",
    "plt.plot(epochs, val_acc, 'b', label='Validation acc')\n",
    "plt.title('Training and validation accuracy')\n",
    "plt.xlabel('Epochs')\n",
    "plt.ylabel('Accuracy')\n",
    "plt.legend()\n",
    "\n",
    "plt.show()"
   ]
  },
  {
   "cell_type": "markdown",
   "id": "891039b3",
   "metadata": {},
   "source": [
    "**Training & Validation Loss 및 Accuracy를 그려봤더니, 3개의 모델 모두 epoch 초반부터 train과 validation의 이격이 발생하게 되었다.**<br><br>**더이상 트래이닝은 무의미해지게 되었다.**<br><br>"
   ]
  },
  {
   "cell_type": "markdown",
   "id": "7762a5bd",
   "metadata": {},
   "source": [
    "## 7) 모델 평가"
   ]
  },
  {
   "cell_type": "code",
   "execution_count": 106,
   "id": "6d31790f",
   "metadata": {
    "scrolled": true
   },
   "outputs": [
    {
     "name": "stdout",
     "output_type": "stream",
     "text": [
      "1537/1537 - 2s - loss: 1.4889 - accuracy: 0.8039\n",
      "1537/1537 - 3s - loss: 0.6073 - accuracy: 0.8303\n",
      "1537/1537 - 2s - loss: 0.8278 - accuracy: 0.8070\n",
      "[1.4889326095581055, 0.8038733005523682]\n"
     ]
    }
   ],
   "source": [
    "results1 = model1.evaluate(X_test_padding,  y_test, verbose=2)\n",
    "results2 = model2.evaluate(X_test_padding,  y_test, verbose=2)\n",
    "results3 = model3.evaluate(X_test_padding,  y_test, verbose=2)"
   ]
  },
  {
   "cell_type": "code",
   "execution_count": 113,
   "id": "390b61dc",
   "metadata": {
    "scrolled": true
   },
   "outputs": [
    {
     "name": "stdout",
     "output_type": "stream",
     "text": [
      "loss   /   accuracy\n",
      "\n",
      "1D convolution network :\n",
      "[1.4889326095581055, 0.8038733005523682]\n",
      "\n",
      "LSTM :\n",
      "[0.607270359992981, 0.8302988409996033]\n",
      "\n",
      "GlobalMaxPooling :\n",
      "[0.8277708888053894, 0.8069857954978943]\n"
     ]
    }
   ],
   "source": [
    "print('loss   /   accuracy\\n')\n",
    "\n",
    "print('1D convolution network :')\n",
    "print(results1)\n",
    "print('\\nLSTM :')\n",
    "print(results2)\n",
    "print('\\nGlobalMaxPooling :')\n",
    "print(results3)"
   ]
  },
  {
   "cell_type": "markdown",
   "id": "51caed47",
   "metadata": {},
   "source": [
    "**3개의 모델 모두 정확도 80% 이상 달성하였으나, 만족할만한 수준이 아니다.**<br><br>"
   ]
  },
  {
   "cell_type": "code",
   "execution_count": 170,
   "id": "6af47dc2",
   "metadata": {},
   "outputs": [
    {
     "name": "stdout",
     "output_type": "stream",
     "text": [
      "(10000, 16)\n"
     ]
    }
   ],
   "source": [
    "embedding_layer1 = model1.layers[0]\n",
    "weights1 = embedding_layer1.get_weights()[0]\n",
    "print(weights1.shape)    # shape: (vocab_size, embedding_dim)\n"
   ]
  },
  {
   "cell_type": "code",
   "execution_count": 171,
   "id": "74c3ca42",
   "metadata": {},
   "outputs": [
    {
     "name": "stdout",
     "output_type": "stream",
     "text": [
      "(10000, 16)\n"
     ]
    }
   ],
   "source": [
    "embedding_layer2 = model2.layers[0]\n",
    "weights2 = embedding_layer2.get_weights()[0]\n",
    "print(weights2.shape)    # shape: (vocab_size, embedding_dim)\n"
   ]
  },
  {
   "cell_type": "code",
   "execution_count": 172,
   "id": "2c323708",
   "metadata": {},
   "outputs": [
    {
     "name": "stdout",
     "output_type": "stream",
     "text": [
      "(10000, 16)\n"
     ]
    }
   ],
   "source": [
    "embedding_layer3 = model3.layers[0]\n",
    "weights3 = embedding_layer3.get_weights()[0]\n",
    "print(weights3.shape)    # shape: (vocab_size, embedding_dim)\n"
   ]
  },
  {
   "cell_type": "code",
   "execution_count": 173,
   "id": "c6e62fda",
   "metadata": {},
   "outputs": [
    {
     "data": {
      "text/plain": [
       "'/aiffel/aiffel/_LMS_Exploration/Ex09'"
      ]
     },
     "execution_count": 173,
     "metadata": {},
     "output_type": "execute_result"
    }
   ],
   "source": [
    "pwd"
   ]
  },
  {
   "cell_type": "markdown",
   "id": "f781b93f",
   "metadata": {},
   "source": [
    "**1) 1D Convolution Model**"
   ]
  },
  {
   "cell_type": "code",
   "execution_count": 176,
   "id": "97384702",
   "metadata": {},
   "outputs": [],
   "source": [
    "# 학습한 Embedding 파라미터를 파일에 써서 저장합니다. \n",
    "word2vec_file_path = os.getenv('HOME')+'/aiffel/_LMS_Exploration/Ex09/word2vec1.txt'\n",
    "f = open(word2vec_file_path, 'w')\n",
    "f.write('{} {}\\n'.format(vocab_size-4, word_vector_dim))  # 몇개의 벡터를 얼마 사이즈로 기재할지 타이틀을 씁니다.\n",
    "\n",
    "# 단어 개수(에서 특수문자 4개는 제외하고)만큼의 워드 벡터를 파일에 기록합니다. \n",
    "vectors = model1.get_weights()[0]\n",
    "for i in range(4,vocab_size):\n",
    "    f.write('{} {}\\n'.format(index_to_word[i], ' '.join(map(str, list(vectors[i, :])))))\n",
    "f.close()"
   ]
  },
  {
   "cell_type": "code",
   "execution_count": 180,
   "id": "833d3bfb",
   "metadata": {},
   "outputs": [
    {
     "data": {
      "text/plain": [
       "array([-0.08319904,  0.26484504, -0.08875954,  0.1924765 , -0.09777966,\n",
       "       -0.09028587, -0.08082014,  0.32777658, -0.01417674, -0.0572833 ,\n",
       "       -0.00742436, -0.02296383, -0.07255041,  0.09934525,  0.3082196 ,\n",
       "       -0.08502151], dtype=float32)"
      ]
     },
     "execution_count": 180,
     "metadata": {},
     "output_type": "execute_result"
    }
   ],
   "source": [
    "from gensim.models.keyedvectors import Word2VecKeyedVectors\n",
    "\n",
    "word_vectors = Word2VecKeyedVectors.load_word2vec_format(word2vec_file_path, binary=False)\n",
    "vector = word_vectors['love']\n",
    "vector"
   ]
  },
  {
   "cell_type": "code",
   "execution_count": 181,
   "id": "2ccde076",
   "metadata": {},
   "outputs": [
    {
     "data": {
      "text/plain": [
       "[('밋기', 0.9540770053863525),\n",
       " ('뿅', 0.9494259357452393),\n",
       " ('신들린', 0.9380380511283875),\n",
       " ('어울려요', 0.9294651746749878),\n",
       " ('♥♥♥♥', 0.9280003309249878),\n",
       " ('임다', 0.9247182607650757),\n",
       " ('테일러', 0.92218416929245),\n",
       " ('겠어요', 0.920279860496521),\n",
       " ('박선영', 0.9202494621276855),\n",
       " ('♥♥', 0.9042508006095886)]"
      ]
     },
     "execution_count": 181,
     "metadata": {},
     "output_type": "execute_result"
    }
   ],
   "source": [
    "word_vectors.similar_by_word(\"love\")"
   ]
  },
  {
   "cell_type": "markdown",
   "id": "fa510e00",
   "metadata": {},
   "source": [
    "**2) LSTM Model**"
   ]
  },
  {
   "cell_type": "code",
   "execution_count": 182,
   "id": "2210b64c",
   "metadata": {},
   "outputs": [],
   "source": [
    "# 학습한 Embedding 파라미터를 파일에 써서 저장합니다. \n",
    "word2vec_file_path = os.getenv('HOME')+'/aiffel/_LMS_Exploration/Ex09/word2vec2.txt'\n",
    "f = open(word2vec_file_path, 'w')\n",
    "f.write('{} {}\\n'.format(vocab_size-4, word_vector_dim))  # 몇개의 벡터를 얼마 사이즈로 기재할지 타이틀을 씁니다.\n",
    "\n",
    "# 단어 개수(에서 특수문자 4개는 제외하고)만큼의 워드 벡터를 파일에 기록합니다. \n",
    "vectors = model2.get_weights()[0]\n",
    "for i in range(4,vocab_size):\n",
    "    f.write('{} {}\\n'.format(index_to_word[i], ' '.join(map(str, list(vectors[i, :])))))\n",
    "f.close()"
   ]
  },
  {
   "cell_type": "code",
   "execution_count": 183,
   "id": "b0702ee0",
   "metadata": {},
   "outputs": [
    {
     "data": {
      "text/plain": [
       "array([ 0.29398888,  0.14956327, -0.34447357, -0.19779214, -0.52882856,\n",
       "        0.40712944,  0.22959511,  0.31017867,  0.26558945,  0.23440947,\n",
       "       -0.41575924, -0.04797458,  0.20186499,  0.25046378, -0.23095496,\n",
       "       -0.13149054], dtype=float32)"
      ]
     },
     "execution_count": 183,
     "metadata": {},
     "output_type": "execute_result"
    }
   ],
   "source": [
    "from gensim.models.keyedvectors import Word2VecKeyedVectors\n",
    "\n",
    "word_vectors = Word2VecKeyedVectors.load_word2vec_format(word2vec_file_path, binary=False)\n",
    "vector = word_vectors['love']\n",
    "vector"
   ]
  },
  {
   "cell_type": "code",
   "execution_count": 184,
   "id": "229493fe",
   "metadata": {},
   "outputs": [
    {
     "data": {
      "text/plain": [
       "[('담겨져', 0.990083634853363),\n",
       " ('빛났', 0.9899144172668457),\n",
       " ('캡', 0.9898021221160889),\n",
       " ('숨죽이', 0.9879760146141052),\n",
       " ('서동요', 0.9872287511825562),\n",
       " ('탕웨이', 0.9865471124649048),\n",
       " ('놀라웠', 0.9845993518829346),\n",
       " ('며느리', 0.9841988682746887),\n",
       " ('킹왕짱', 0.9822003245353699),\n",
       " ('역경', 0.9818530082702637)]"
      ]
     },
     "execution_count": 184,
     "metadata": {},
     "output_type": "execute_result"
    }
   ],
   "source": [
    "word_vectors.similar_by_word(\"love\")"
   ]
  },
  {
   "cell_type": "markdown",
   "id": "efb7e9bc",
   "metadata": {},
   "source": [
    "**3) GlobalMaxPooling Model**"
   ]
  },
  {
   "cell_type": "code",
   "execution_count": 185,
   "id": "470ef097",
   "metadata": {},
   "outputs": [],
   "source": [
    "# 학습한 Embedding 파라미터를 파일에 써서 저장합니다. \n",
    "word2vec_file_path = os.getenv('HOME')+'/aiffel/_LMS_Exploration/Ex09/word2vec3.txt'\n",
    "f = open(word2vec_file_path, 'w')\n",
    "f.write('{} {}\\n'.format(vocab_size-4, word_vector_dim))  # 몇개의 벡터를 얼마 사이즈로 기재할지 타이틀을 씁니다.\n",
    "\n",
    "# 단어 개수(에서 특수문자 4개는 제외하고)만큼의 워드 벡터를 파일에 기록합니다. \n",
    "vectors = model3.get_weights()[0]\n",
    "for i in range(4,vocab_size):\n",
    "    f.write('{} {}\\n'.format(index_to_word[i], ' '.join(map(str, list(vectors[i, :])))))\n",
    "f.close()"
   ]
  },
  {
   "cell_type": "code",
   "execution_count": 186,
   "id": "77aa74ed",
   "metadata": {},
   "outputs": [
    {
     "data": {
      "text/plain": [
       "array([-0.08319904,  0.26484504, -0.08875954,  0.1924765 , -0.09777966,\n",
       "       -0.09028587, -0.08082014,  0.32777658, -0.01417674, -0.0572833 ,\n",
       "       -0.00742436, -0.02296383, -0.07255041,  0.09934525,  0.3082196 ,\n",
       "       -0.08502151], dtype=float32)"
      ]
     },
     "execution_count": 186,
     "metadata": {},
     "output_type": "execute_result"
    }
   ],
   "source": [
    "from gensim.models.keyedvectors import Word2VecKeyedVectors\n",
    "\n",
    "word_vectors = Word2VecKeyedVectors.load_word2vec_format(word2vec_file_path, binary=False)\n",
    "vector = word_vectors['love']\n",
    "vector"
   ]
  },
  {
   "cell_type": "code",
   "execution_count": 187,
   "id": "115ff350",
   "metadata": {},
   "outputs": [
    {
     "data": {
      "text/plain": [
       "[('밋기', 0.9540770053863525),\n",
       " ('뿅', 0.9494259357452393),\n",
       " ('신들린', 0.9380380511283875),\n",
       " ('어울려요', 0.9294651746749878),\n",
       " ('♥♥♥♥', 0.9280003309249878),\n",
       " ('임다', 0.9247182607650757),\n",
       " ('테일러', 0.92218416929245),\n",
       " ('겠어요', 0.920279860496521),\n",
       " ('박선영', 0.9202494621276855),\n",
       " ('♥♥', 0.9042508006095886)]"
      ]
     },
     "execution_count": 187,
     "metadata": {},
     "output_type": "execute_result"
    }
   ],
   "source": [
    "word_vectors.similar_by_word(\"love\")"
   ]
  },
  {
   "cell_type": "markdown",
   "id": "7b0156ff",
   "metadata": {},
   "source": [
    "## 8) 한국어 Word2Vec 임베딩 활용하여 성능 개선"
   ]
  },
  {
   "cell_type": "markdown",
   "id": "25157178",
   "metadata": {},
   "source": [
    "**`gensim` 버전 3.x.x 대로 낮추기**"
   ]
  },
  {
   "cell_type": "code",
   "execution_count": 159,
   "id": "598497b2",
   "metadata": {},
   "outputs": [
    {
     "name": "stdout",
     "output_type": "stream",
     "text": [
      "Collecting gensim==3.6.0\n",
      "  Downloading gensim-3.6.0.tar.gz (23.1 MB)\n",
      "     |████████████████████████████████| 23.1 MB 5.6 MB/s            \n",
      "\u001b[?25h  Preparing metadata (setup.py) ... \u001b[?25ldone\n",
      "\u001b[?25hRequirement already satisfied: numpy>=1.11.3 in /opt/conda/lib/python3.9/site-packages (from gensim==3.6.0) (1.21.4)\n",
      "Requirement already satisfied: scipy>=0.18.1 in /opt/conda/lib/python3.9/site-packages (from gensim==3.6.0) (1.7.1)\n",
      "Requirement already satisfied: six>=1.5.0 in /opt/conda/lib/python3.9/site-packages (from gensim==3.6.0) (1.16.0)\n",
      "Requirement already satisfied: smart_open>=1.2.1 in /opt/conda/lib/python3.9/site-packages (from gensim==3.6.0) (5.2.1)\n",
      "Building wheels for collected packages: gensim\n",
      "  Building wheel for gensim (setup.py) ... \u001b[?25ldone\n",
      "\u001b[?25h  Created wheel for gensim: filename=gensim-3.6.0-cp39-cp39-linux_x86_64.whl size=23393062 sha256=29886ede3ab9be21b5d0dd2a8c73d14a2a6638b86d2766f30a97d798a546f092\n",
      "  Stored in directory: /aiffel/.cache/pip/wheels/61/12/f2/84de20fba5e870553796b0834d11109992f06ddc20aaead086\n",
      "Successfully built gensim\n",
      "Installing collected packages: gensim\n",
      "  Attempting uninstall: gensim\n",
      "    Found existing installation: gensim 3.8.3\n",
      "    Uninstalling gensim-3.8.3:\n",
      "      Successfully uninstalled gensim-3.8.3\n",
      "Successfully installed gensim-3.6.0\n",
      "\u001b[33mWARNING: Running pip as the 'root' user can result in broken permissions and conflicting behaviour with the system package manager. It is recommended to use a virtual environment instead: https://pip.pypa.io/warnings/venv\u001b[0m\n"
     ]
    }
   ],
   "source": [
    "!pip install --upgrade gensim==3.6.0"
   ]
  },
  {
   "cell_type": "code",
   "execution_count": 160,
   "id": "a8f69ada",
   "metadata": {},
   "outputs": [
    {
     "name": "stdout",
     "output_type": "stream",
     "text": [
      "4.1.2\n"
     ]
    }
   ],
   "source": [
    "print(gensim.__version__)"
   ]
  },
  {
   "cell_type": "code",
   "execution_count": 165,
   "id": "3e89db5e",
   "metadata": {},
   "outputs": [],
   "source": [
    "# # import os.getenv('HOME') + '/sentiment_classification/data/build_corpus.py'\n",
    "# import word2vec_ko_path"
   ]
  },
  {
   "cell_type": "code",
   "execution_count": 166,
   "id": "6cc93b1c",
   "metadata": {},
   "outputs": [],
   "source": [
    "import os\n",
    "from gensim.models import KeyedVectors\n",
    "\n",
    "\n",
    "word2vec_ko_path = os.getenv('HOME')+'/aiffel/sentiment_classification/data/ko.bin'"
   ]
  },
  {
   "cell_type": "code",
   "execution_count": 167,
   "id": "b29199e7",
   "metadata": {},
   "outputs": [
    {
     "data": {
      "text/plain": [
       "'/aiffel/aiffel/sentiment_classification/data/ko.bin'"
      ]
     },
     "execution_count": 167,
     "metadata": {},
     "output_type": "execute_result"
    }
   ],
   "source": [
    "word2vec_ko_path"
   ]
  },
  {
   "cell_type": "code",
   "execution_count": 169,
   "id": "ce8bbed1",
   "metadata": {},
   "outputs": [
    {
     "ename": "UnicodeDecodeError",
     "evalue": "'utf-8' codec can't decode byte 0x80 in position 0: invalid start byte",
     "output_type": "error",
     "traceback": [
      "\u001b[0;31m---------------------------------------------------------------------------\u001b[0m",
      "\u001b[0;31mUnicodeDecodeError\u001b[0m                        Traceback (most recent call last)",
      "\u001b[0;32m/tmp/ipykernel_1372/2441921207.py\u001b[0m in \u001b[0;36m<module>\u001b[0;34m\u001b[0m\n\u001b[0;32m----> 1\u001b[0;31m \u001b[0mword2vec_ko\u001b[0m \u001b[0;34m=\u001b[0m \u001b[0mKeyedVectors\u001b[0m\u001b[0;34m.\u001b[0m\u001b[0mload_word2vec_format\u001b[0m\u001b[0;34m(\u001b[0m\u001b[0mword2vec_ko_path\u001b[0m\u001b[0;34m,\u001b[0m \u001b[0mbinary\u001b[0m\u001b[0;34m=\u001b[0m\u001b[0;32mTrue\u001b[0m\u001b[0;34m,\u001b[0m \u001b[0mlimit\u001b[0m\u001b[0;34m=\u001b[0m\u001b[0;36m1000000\u001b[0m\u001b[0;34m)\u001b[0m\u001b[0;34m\u001b[0m\u001b[0;34m\u001b[0m\u001b[0m\n\u001b[0m",
      "\u001b[0;32m/opt/conda/lib/python3.9/site-packages/gensim/models/keyedvectors.py\u001b[0m in \u001b[0;36mload_word2vec_format\u001b[0;34m(cls, fname, fvocab, binary, encoding, unicode_errors, limit, datatype, no_header)\u001b[0m\n\u001b[1;32m   1627\u001b[0m         \u001b[0mself\u001b[0m\u001b[0;34m.\u001b[0m\u001b[0minit_sims\u001b[0m\u001b[0;34m(\u001b[0m\u001b[0;34m)\u001b[0m\u001b[0;34m\u001b[0m\u001b[0;34m\u001b[0m\u001b[0m\n\u001b[1;32m   1628\u001b[0m         \u001b[0mclip_end\u001b[0m \u001b[0;34m=\u001b[0m \u001b[0mclip_end\u001b[0m \u001b[0;32mor\u001b[0m \u001b[0mlen\u001b[0m\u001b[0;34m(\u001b[0m\u001b[0mself\u001b[0m\u001b[0;34m.\u001b[0m\u001b[0mvectors_docs_norm\u001b[0m\u001b[0;34m)\u001b[0m\u001b[0;34m\u001b[0m\u001b[0;34m\u001b[0m\u001b[0m\n\u001b[0;32m-> 1629\u001b[0;31m \u001b[0;34m\u001b[0m\u001b[0m\n\u001b[0m\u001b[1;32m   1630\u001b[0m         \u001b[0;32mif\u001b[0m \u001b[0misinstance\u001b[0m\u001b[0;34m(\u001b[0m\u001b[0mpositive\u001b[0m\u001b[0;34m,\u001b[0m \u001b[0mstring_types\u001b[0m \u001b[0;34m+\u001b[0m \u001b[0minteger_types\u001b[0m \u001b[0;34m+\u001b[0m \u001b[0;34m(\u001b[0m\u001b[0minteger\u001b[0m\u001b[0;34m,\u001b[0m\u001b[0;34m)\u001b[0m\u001b[0;34m)\u001b[0m \u001b[0;32mand\u001b[0m \u001b[0;32mnot\u001b[0m \u001b[0mnegative\u001b[0m\u001b[0;34m:\u001b[0m\u001b[0;34m\u001b[0m\u001b[0;34m\u001b[0m\u001b[0m\n\u001b[1;32m   1631\u001b[0m             \u001b[0;31m# allow calls like most_similar('dog'), as a shorthand for most_similar(['dog'])\u001b[0m\u001b[0;34m\u001b[0m\u001b[0;34m\u001b[0m\u001b[0m\n",
      "\u001b[0;32m/opt/conda/lib/python3.9/site-packages/gensim/models/keyedvectors.py\u001b[0m in \u001b[0;36m_load_word2vec_format\u001b[0;34m(cls, fname, fvocab, binary, encoding, unicode_errors, limit, datatype, no_header, binary_chunk_size)\u001b[0m\n\u001b[1;32m   1963\u001b[0m         \u001b[0mnumpy\u001b[0m\u001b[0;34m.\u001b[0m\u001b[0mndarray\u001b[0m\u001b[0;34m\u001b[0m\u001b[0;34m\u001b[0m\u001b[0m\n\u001b[1;32m   1964\u001b[0m             \u001b[0mVector\u001b[0m \u001b[0mrepresentation\u001b[0m \u001b[0mof\u001b[0m\u001b[0;31m \u001b[0m\u001b[0;31m`\u001b[0m\u001b[0mword\u001b[0m\u001b[0;31m`\u001b[0m\u001b[0;34m.\u001b[0m\u001b[0;34m\u001b[0m\u001b[0;34m\u001b[0m\u001b[0m\n\u001b[0;32m-> 1965\u001b[0;31m \u001b[0;34m\u001b[0m\u001b[0m\n\u001b[0m\u001b[1;32m   1966\u001b[0m         \u001b[0mRaises\u001b[0m\u001b[0;34m\u001b[0m\u001b[0;34m\u001b[0m\u001b[0m\n\u001b[1;32m   1967\u001b[0m         \u001b[0;34m-\u001b[0m\u001b[0;34m-\u001b[0m\u001b[0;34m-\u001b[0m\u001b[0;34m-\u001b[0m\u001b[0;34m-\u001b[0m\u001b[0;34m-\u001b[0m\u001b[0;34m\u001b[0m\u001b[0;34m\u001b[0m\u001b[0m\n",
      "\u001b[0;32m/opt/conda/lib/python3.9/site-packages/gensim/utils.py\u001b[0m in \u001b[0;36many2unicode\u001b[0;34m(text, encoding, errors)\u001b[0m\n\u001b[1;32m    362\u001b[0m     \"\"\"Helper to raise `AttributeError` if a class method is called on an instance. Used internally.\n\u001b[1;32m    363\u001b[0m \u001b[0;34m\u001b[0m\u001b[0m\n\u001b[0;32m--> 364\u001b[0;31m     \u001b[0mParameters\u001b[0m\u001b[0;34m\u001b[0m\u001b[0;34m\u001b[0m\u001b[0m\n\u001b[0m\u001b[1;32m    365\u001b[0m     \u001b[0;34m-\u001b[0m\u001b[0;34m-\u001b[0m\u001b[0;34m-\u001b[0m\u001b[0;34m-\u001b[0m\u001b[0;34m-\u001b[0m\u001b[0;34m-\u001b[0m\u001b[0;34m-\u001b[0m\u001b[0;34m-\u001b[0m\u001b[0;34m-\u001b[0m\u001b[0;34m-\u001b[0m\u001b[0;34m\u001b[0m\u001b[0;34m\u001b[0m\u001b[0m\n\u001b[1;32m    366\u001b[0m     \u001b[0;34m*\u001b[0m\u001b[0margs\u001b[0m\u001b[0;34m\u001b[0m\u001b[0;34m\u001b[0m\u001b[0m\n",
      "\u001b[0;31mUnicodeDecodeError\u001b[0m: 'utf-8' codec can't decode byte 0x80 in position 0: invalid start byte"
     ]
    }
   ],
   "source": [
    "word2vec_ko = KeyedVectors.load_word2vec_format(word2vec_ko_path, binary=True, limit=1000000)\n"
   ]
  },
  {
   "cell_type": "markdown",
   "id": "37f56c90",
   "metadata": {},
   "source": [
    "## 9) 결론 및 회고"
   ]
  },
  {
   "cell_type": "markdown",
   "id": "54538365",
   "metadata": {},
   "source": [
    "- 네이버 영화리뷰 감성분석 프로젝트를 진행해보았다. <br> `Naver Sentimental Movie Corpus`에서 Dataset을 다운받아 pandas DataFrame으로 데이터를 가져올 수 있었다. 해당 데이터셋은 가공되지 않은 텍스트 파일이여서 전처리를 해주어야 했다. <br>결측치 처리가 완료된 후 임베딩 레이어에 입력으로 데이터를 넣기 위해 최대 문장길이를 지정하고 padding을 수행했다.<br> Train Dataset은 Train_test_split 함수를 사용해서 Validation set을 0.2 비중을 갖도록 나눴다.<br> 모델은 3가지 모델로 구성하였다. 1) 1D Convolution Network Model 2) LSTM Model 3) GlobalMaxPooling Model을 사용하였다. 각각 모델을 학습시키고 Loss / Accuracy 그래프 시각화를 통해 학습된 모델의 성능을 검증하였다. <br> 또한, `GenSim`을 활용하여 자체 학습된 임베딩 레이어를 분석을 진행하였는데, LSTM을 제외한 1D Convolution Model / GlobalMaxPooling Model이 유사한 단어들을 출력하는것을 확인했다. \n",
    "\n",
    "\n",
    "- 한국어 Word2Vec을 활용하기 위해 gensim 모델의 버전을 3.x.x대로 변경하려 하였으나 본 컨테이너에서는 버전 변경 후에도 계속해서 4.x.x대 버전을 유지하고 있어서 계속해서 에러가 나는 것 같았다.. 이를 해결하기 위해 구글 코랩으로 진행해보려 했으나, Mecab()에러를 해결하기 못하였다. 추후에 해당 문제를 해결하고 적용해보도록 할 예정이다."
   ]
  }
 ],
 "metadata": {
  "kernelspec": {
   "display_name": "Python 3 (ipykernel)",
   "language": "python",
   "name": "python3"
  },
  "language_info": {
   "codemirror_mode": {
    "name": "ipython",
    "version": 3
   },
   "file_extension": ".py",
   "mimetype": "text/x-python",
   "name": "python",
   "nbconvert_exporter": "python",
   "pygments_lexer": "ipython3",
   "version": "3.9.7"
  }
 },
 "nbformat": 4,
 "nbformat_minor": 5
}
