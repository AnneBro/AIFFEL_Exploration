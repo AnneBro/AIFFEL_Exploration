{
 "cells": [
  {
   "cell_type": "code",
   "execution_count": 2,
   "id": "b3b553a7",
   "metadata": {},
   "outputs": [
    {
     "name": "stdout",
     "output_type": "stream",
     "text": [
      "Source 문장 : <start>나는 밥을 먹었다.\n",
      "Target 문장 : 나는 밥을 먹었다.<end>\n"
     ]
    }
   ],
   "source": [
    "sentence = '나는 밥을 먹었다.'\n",
    "\n",
    "source_sentence = '<start>'+sentence\n",
    "target_sentence = sentence +'<end>'\n",
    "\n",
    "print('Source 문장 :', source_sentence)\n",
    "print('Target 문장 :', target_sentence)"
   ]
  },
  {
   "cell_type": "markdown",
   "id": "fa005821",
   "metadata": {},
   "source": [
    "<br>**n-1개의 단어 시퀀스(w1, w2, ..., w(n-1))이 주어졌을 때, n번째 단어 w(n)으로 무엇이 올지 예측하는 확률모델을 `언어모델(Language Model`이라고 부른다.**<br><br>\n",
    "\n",
    "> 어떤 텍스트도 언어모델의 학습데이터가 될 수 있다.<br>\n",
    "> n-1 번째까지의 단어 시퀀스가 x_train이 되고, n번째 단어가 y_train이 되는 데이터셋은 무궁무진하게 만들 수 있다.<br>\n",
    "\n",
    "<br>**`GPT-2`와 같은 문장 생성기도 언어 모델의 한 종류에 불과하다.<br>딥러닝 구조나 파라미터 사이즈, 학습데이터의 양 등이 특별할 뿐...**<br><br>"
   ]
  },
  {
   "cell_type": "code",
   "execution_count": null,
   "id": "c35f41ad",
   "metadata": {},
   "outputs": [],
   "source": []
  }
 ],
 "metadata": {
  "kernelspec": {
   "display_name": "Python 3 (ipykernel)",
   "language": "python",
   "name": "python3"
  },
  "language_info": {
   "codemirror_mode": {
    "name": "ipython",
    "version": 3
   },
   "file_extension": ".py",
   "mimetype": "text/x-python",
   "name": "python",
   "nbconvert_exporter": "python",
   "pygments_lexer": "ipython3",
   "version": "3.9.7"
  }
 },
 "nbformat": 4,
 "nbformat_minor": 5
}
