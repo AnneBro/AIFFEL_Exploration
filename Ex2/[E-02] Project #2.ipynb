{
 "cells": [
  {
   "cell_type": "markdown",
   "id": "a1dc306d",
   "metadata": {},
   "source": [
    "# 프로젝트 #2 : 날씨 좋은 월요일 오후 세 시, 자전거 타는 사람은 몇 명?"
   ]
  },
  {
   "cell_type": "markdown",
   "id": "e838e678",
   "metadata": {},
   "source": [
    "**▷▶ 필요한 패키지 import하기**\n"
   ]
  },
  {
   "cell_type": "code",
   "execution_count": 1,
   "id": "d91318e6",
   "metadata": {},
   "outputs": [],
   "source": [
    "import numpy as np               # numpy 불러오기\n",
    "import pandas as pd              # pandas 불러오기\n",
    "import matplotlib.pyplot as plt  # 데이터 시각화 라이브러리\n",
    "import seaborn as sns            # 데이터 시각화 라이브러리\n",
    "\n",
    "from sklearn.model_selection import train_test_split  # model_selection 모듈 안의 Train / Test Set을 나누기 위한 함수 불러오기\n",
    "from sklearn.metrics import classification_report  # metrics 모듈 안의 학습 모델을 평가하기 위한 함수 불러오기\n",
    "from sklearn.metrics import accuracy_score\n",
    "from sklearn.metrics import confusion_matrix\n"
   ]
  },
  {
   "cell_type": "markdown",
   "id": "606c1634",
   "metadata": {},
   "source": [
    "<br>\n",
    "\n",
    "### (1) 데이터 가져오기\n",
    "---\n",
    "- 터미널에서 `~/data/data/bike-sharing-demand` 경로에 `train.csv` 데이터를 train 변수로 가져오자\n",
    "\n",
    "\n",
    "- `pd.read_csv()` 매서드를 통해 `train.csv` 파일을 가져올 수 있으며, train 변수에 DataFrame 자료형으로 저장된다\n"
   ]
  },
  {
   "cell_type": "code",
   "execution_count": 2,
   "id": "92999ada",
   "metadata": {
    "scrolled": true
   },
   "outputs": [],
   "source": [
    "train = pd.read_csv('~/data/data/bike-sharing-demand/train.csv')"
   ]
  },
  {
   "cell_type": "markdown",
   "id": "f9245a58",
   "metadata": {},
   "source": [
    "- train 변수는 원본데이터로 유지하고 df 변수에 copy 한다.\n",
    "\n",
    "\n",
    "- 새로 설정한 `df` 변수 또한 `DataFrame` 자료형이다.\n",
    "\n",
    "\n",
    "- `df`는 Dictionary와 비슷한 구조를 가지며 총 12개의 정보를 가지고 있다."
   ]
  },
  {
   "cell_type": "code",
   "execution_count": 3,
   "id": "bea874ba",
   "metadata": {},
   "outputs": [
    {
     "name": "stdout",
     "output_type": "stream",
     "text": [
      "<class 'pandas.core.frame.DataFrame'>\n",
      "Index(['datetime', 'season', 'holiday', 'workingday', 'weather', 'temp',\n",
      "       'atemp', 'humidity', 'windspeed', 'casual', 'registered', 'count'],\n",
      "      dtype='object')\n"
     ]
    }
   ],
   "source": [
    "df = train.copy()\n",
    "print(type(df))\n",
    "print(df.columns)\n"
   ]
  },
  {
   "cell_type": "markdown",
   "id": "19f1f6fb",
   "metadata": {},
   "source": [
    "<br>\n",
    "\n",
    "**▽ 아래는 df 내에 있는 data들의 정보이다. 각각의 Data들의 의미를 살펴보자**"
   ]
  },
  {
   "cell_type": "markdown",
   "id": "ec3f732c",
   "metadata": {},
   "source": [
    "**Data Fields** <br>\n",
    "\n",
    "- datetime - hourly date + timestamp\n",
    "- season - 1 = spring, 2 = summer, 3 = fall, 4 = winter\n",
    "- holiday - whether the day is considered a holiday\n",
    "- workingday - whether the day is neither a weekend nor holiday\n",
    "- weather - 1:Clear, Few clouds, Partly cloudy, Partly cloudy<br>2:Mist + Cloudy, Mist + Broken clouds, Mist + Few clouds, Mist<br>3: Light Snow, Light Rain + Thunderstorm + Scattered clouds, Light Rain + Scattered clouds<br>4 : Heavy Rain + Ice Pallets + Thunderstorm + Mist, Snow + Fog\n",
    "- temp - temperature in Celsius\n",
    "- atemp - 'feels like' temperature in Celsius\n",
    "- humidity - relative humidity\n",
    "- windspeed - wind speed\n",
    "- casual - number of non-registered user rentals initiated\n",
    "- registered - number of registered user rentals initiated\n",
    "- count - number of total rentals"
   ]
  },
  {
   "cell_type": "markdown",
   "id": "fb943bcc",
   "metadata": {},
   "source": [
    "<br>\n",
    "\n",
    "### (2) `datetime` 컬럼을 `datetime` 자료형으로 변환하고 <br><br><U>연, 월, 일, 시, 분, 초</U>까지 6가지 컬럼 생성하기\n",
    "---\n",
    "\n"
   ]
  },
  {
   "cell_type": "markdown",
   "id": "711bd130",
   "metadata": {},
   "source": [
    "\n",
    "- **`to_datetime()`** 함수를 사용해서 기존에 자료형이 **`object`**였던 **`datetime`**을 **`datetime64[ns]`**으로 변환해보자\n",
    "\n",
    "\n",
    "- 데이터 내에 범주형 데이터는 존재하지 않으므로 `one-hot Encoding`처럼 수치형 데이터로 변환하는 작업은 여기서는 생략해도 됨"
   ]
  },
  {
   "cell_type": "code",
   "execution_count": 4,
   "id": "f5d0fb77",
   "metadata": {},
   "outputs": [
    {
     "name": "stdout",
     "output_type": "stream",
     "text": [
      "<class 'pandas.core.frame.DataFrame'>\n",
      "RangeIndex: 10886 entries, 0 to 10885\n",
      "Data columns (total 12 columns):\n",
      " #   Column      Non-Null Count  Dtype         \n",
      "---  ------      --------------  -----         \n",
      " 0   datetime    10886 non-null  datetime64[ns]\n",
      " 1   season      10886 non-null  int64         \n",
      " 2   holiday     10886 non-null  int64         \n",
      " 3   workingday  10886 non-null  int64         \n",
      " 4   weather     10886 non-null  int64         \n",
      " 5   temp        10886 non-null  float64       \n",
      " 6   atemp       10886 non-null  float64       \n",
      " 7   humidity    10886 non-null  int64         \n",
      " 8   windspeed   10886 non-null  float64       \n",
      " 9   casual      10886 non-null  int64         \n",
      " 10  registered  10886 non-null  int64         \n",
      " 11  count       10886 non-null  int64         \n",
      "dtypes: datetime64[ns](1), float64(3), int64(8)\n",
      "memory usage: 1020.7 KB\n"
     ]
    }
   ],
   "source": [
    "df['datetime'] = pd.to_datetime(df['datetime'], format='%Y-%m-%d %H:%M:%S')\n",
    "df.info()"
   ]
  },
  {
   "cell_type": "markdown",
   "id": "de6c6ac5",
   "metadata": {},
   "source": [
    "<br>\n",
    "\n",
    "**`df.['datetime'].dt.year`** 수식을 적용하여 <U>**년, 월, 일, 시, 분, 초**</U>를 분류해보자<br>\n",
    "- 6개의 (<U>**년, 월, 일, 시, 분, 초**</U>) 데이터를 `df`의 `column`에 추가해보자"
   ]
  },
  {
   "cell_type": "code",
   "execution_count": 5,
   "id": "b072a28e",
   "metadata": {},
   "outputs": [
    {
     "name": "stdout",
     "output_type": "stream",
     "text": [
      "0       2011-01-01 00:00:00\n",
      "1       2011-01-01 01:00:00\n",
      "2       2011-01-01 02:00:00\n",
      "3       2011-01-01 03:00:00\n",
      "4       2011-01-01 04:00:00\n",
      "                ...        \n",
      "10881   2012-12-19 19:00:00\n",
      "10882   2012-12-19 20:00:00\n",
      "10883   2012-12-19 21:00:00\n",
      "10884   2012-12-19 22:00:00\n",
      "10885   2012-12-19 23:00:00\n",
      "Name: datetime, Length: 10886, dtype: datetime64[ns]\n"
     ]
    },
    {
     "data": {
      "text/html": [
       "<div>\n",
       "<style scoped>\n",
       "    .dataframe tbody tr th:only-of-type {\n",
       "        vertical-align: middle;\n",
       "    }\n",
       "\n",
       "    .dataframe tbody tr th {\n",
       "        vertical-align: top;\n",
       "    }\n",
       "\n",
       "    .dataframe thead th {\n",
       "        text-align: right;\n",
       "    }\n",
       "</style>\n",
       "<table border=\"1\" class=\"dataframe\">\n",
       "  <thead>\n",
       "    <tr style=\"text-align: right;\">\n",
       "      <th></th>\n",
       "      <th>datetime</th>\n",
       "      <th>season</th>\n",
       "      <th>holiday</th>\n",
       "      <th>workingday</th>\n",
       "      <th>weather</th>\n",
       "      <th>temp</th>\n",
       "      <th>atemp</th>\n",
       "      <th>humidity</th>\n",
       "      <th>windspeed</th>\n",
       "      <th>casual</th>\n",
       "      <th>registered</th>\n",
       "      <th>count</th>\n",
       "      <th>year</th>\n",
       "    </tr>\n",
       "  </thead>\n",
       "  <tbody>\n",
       "    <tr>\n",
       "      <th>0</th>\n",
       "      <td>2011-01-01 00:00:00</td>\n",
       "      <td>1</td>\n",
       "      <td>0</td>\n",
       "      <td>0</td>\n",
       "      <td>1</td>\n",
       "      <td>9.84</td>\n",
       "      <td>14.395</td>\n",
       "      <td>81</td>\n",
       "      <td>0.0</td>\n",
       "      <td>3</td>\n",
       "      <td>13</td>\n",
       "      <td>16</td>\n",
       "      <td>2011</td>\n",
       "    </tr>\n",
       "    <tr>\n",
       "      <th>1</th>\n",
       "      <td>2011-01-01 01:00:00</td>\n",
       "      <td>1</td>\n",
       "      <td>0</td>\n",
       "      <td>0</td>\n",
       "      <td>1</td>\n",
       "      <td>9.02</td>\n",
       "      <td>13.635</td>\n",
       "      <td>80</td>\n",
       "      <td>0.0</td>\n",
       "      <td>8</td>\n",
       "      <td>32</td>\n",
       "      <td>40</td>\n",
       "      <td>2011</td>\n",
       "    </tr>\n",
       "    <tr>\n",
       "      <th>2</th>\n",
       "      <td>2011-01-01 02:00:00</td>\n",
       "      <td>1</td>\n",
       "      <td>0</td>\n",
       "      <td>0</td>\n",
       "      <td>1</td>\n",
       "      <td>9.02</td>\n",
       "      <td>13.635</td>\n",
       "      <td>80</td>\n",
       "      <td>0.0</td>\n",
       "      <td>5</td>\n",
       "      <td>27</td>\n",
       "      <td>32</td>\n",
       "      <td>2011</td>\n",
       "    </tr>\n",
       "    <tr>\n",
       "      <th>3</th>\n",
       "      <td>2011-01-01 03:00:00</td>\n",
       "      <td>1</td>\n",
       "      <td>0</td>\n",
       "      <td>0</td>\n",
       "      <td>1</td>\n",
       "      <td>9.84</td>\n",
       "      <td>14.395</td>\n",
       "      <td>75</td>\n",
       "      <td>0.0</td>\n",
       "      <td>3</td>\n",
       "      <td>10</td>\n",
       "      <td>13</td>\n",
       "      <td>2011</td>\n",
       "    </tr>\n",
       "    <tr>\n",
       "      <th>4</th>\n",
       "      <td>2011-01-01 04:00:00</td>\n",
       "      <td>1</td>\n",
       "      <td>0</td>\n",
       "      <td>0</td>\n",
       "      <td>1</td>\n",
       "      <td>9.84</td>\n",
       "      <td>14.395</td>\n",
       "      <td>75</td>\n",
       "      <td>0.0</td>\n",
       "      <td>0</td>\n",
       "      <td>1</td>\n",
       "      <td>1</td>\n",
       "      <td>2011</td>\n",
       "    </tr>\n",
       "  </tbody>\n",
       "</table>\n",
       "</div>"
      ],
      "text/plain": [
       "             datetime  season  holiday  workingday  weather  temp   atemp  \\\n",
       "0 2011-01-01 00:00:00       1        0           0        1  9.84  14.395   \n",
       "1 2011-01-01 01:00:00       1        0           0        1  9.02  13.635   \n",
       "2 2011-01-01 02:00:00       1        0           0        1  9.02  13.635   \n",
       "3 2011-01-01 03:00:00       1        0           0        1  9.84  14.395   \n",
       "4 2011-01-01 04:00:00       1        0           0        1  9.84  14.395   \n",
       "\n",
       "   humidity  windspeed  casual  registered  count  year  \n",
       "0        81        0.0       3          13     16  2011  \n",
       "1        80        0.0       8          32     40  2011  \n",
       "2        80        0.0       5          27     32  2011  \n",
       "3        75        0.0       3          10     13  2011  \n",
       "4        75        0.0       0           1      1  2011  "
      ]
     },
     "execution_count": 5,
     "metadata": {},
     "output_type": "execute_result"
    }
   ],
   "source": [
    "tt = train.copy()\n",
    "tt['datetime']=tt.datetime.apply(pd.to_datetime)\n",
    "print((tt['datetime']))\n",
    "\n",
    "tt['year'] = tt.datetime.apply(lambda x:x.year)\n",
    "\n",
    "tt.head()"
   ]
  },
  {
   "cell_type": "code",
   "execution_count": 6,
   "id": "417b9ef8",
   "metadata": {},
   "outputs": [],
   "source": [
    "df['year'] = df['datetime'].dt.year \n",
    "df['month'] = df['datetime'].dt.month\n",
    "df['day'] = df['datetime'].dt.day\n",
    "df['hour'] = df['datetime'].dt.hour\n",
    "df['minute'] = df['datetime'].dt.minute\n",
    "df['second'] = df['datetime'].dt.second"
   ]
  },
  {
   "cell_type": "code",
   "execution_count": 7,
   "id": "d5584b6d",
   "metadata": {},
   "outputs": [
    {
     "name": "stdout",
     "output_type": "stream",
     "text": [
      "<class 'pandas.core.frame.DataFrame'>\n",
      "RangeIndex: 10886 entries, 0 to 10885\n",
      "Data columns (total 18 columns):\n",
      " #   Column      Non-Null Count  Dtype         \n",
      "---  ------      --------------  -----         \n",
      " 0   datetime    10886 non-null  datetime64[ns]\n",
      " 1   season      10886 non-null  int64         \n",
      " 2   holiday     10886 non-null  int64         \n",
      " 3   workingday  10886 non-null  int64         \n",
      " 4   weather     10886 non-null  int64         \n",
      " 5   temp        10886 non-null  float64       \n",
      " 6   atemp       10886 non-null  float64       \n",
      " 7   humidity    10886 non-null  int64         \n",
      " 8   windspeed   10886 non-null  float64       \n",
      " 9   casual      10886 non-null  int64         \n",
      " 10  registered  10886 non-null  int64         \n",
      " 11  count       10886 non-null  int64         \n",
      " 12  year        10886 non-null  int64         \n",
      " 13  month       10886 non-null  int64         \n",
      " 14  day         10886 non-null  int64         \n",
      " 15  hour        10886 non-null  int64         \n",
      " 16  minute      10886 non-null  int64         \n",
      " 17  second      10886 non-null  int64         \n",
      "dtypes: datetime64[ns](1), float64(3), int64(14)\n",
      "memory usage: 1.5 MB\n"
     ]
    }
   ],
   "source": [
    "df.info()"
   ]
  },
  {
   "cell_type": "code",
   "execution_count": 8,
   "id": "2da398c5",
   "metadata": {},
   "outputs": [
    {
     "data": {
      "text/plain": [
       "Index(['datetime', 'season', 'holiday', 'workingday', 'weather', 'temp',\n",
       "       'atemp', 'humidity', 'windspeed', 'casual', 'registered', 'count',\n",
       "       'year', 'month', 'day', 'hour', 'minute', 'second'],\n",
       "      dtype='object')"
      ]
     },
     "execution_count": 8,
     "metadata": {},
     "output_type": "execute_result"
    }
   ],
   "source": [
    "df.keys()"
   ]
  },
  {
   "cell_type": "markdown",
   "id": "494b8f07",
   "metadata": {},
   "source": [
    "<br>\n",
    "\n",
    "### (3) `year`, `month`, `day`, `hour`, `minute`, `second`  데이터 개수 시각화하기<br>\n",
    "---\n",
    "\n",
    "- `year`, `month`, `day`, `hour`, `minute`, `second` 데이터 시각화에 앞서 각 특성값 별 중복되지 않는 고유값이 몇개씩 있는지 확인해보자"
   ]
  },
  {
   "cell_type": "code",
   "execution_count": 9,
   "id": "c679c13b",
   "metadata": {
    "scrolled": false
   },
   "outputs": [
    {
     "name": "stdout",
     "output_type": "stream",
     "text": [
      "year value counts = 2\n",
      "month value counts = 12\n",
      "day value counts = 19\n",
      "hour value counts = 24\n",
      "minute value counts = 1\n",
      "second value counts = 1\n"
     ]
    }
   ],
   "source": [
    "print('year value counts =', len(df['year'].value_counts()))\n",
    "print('month value counts =',len(df['month'].value_counts()))\n",
    "print('day value counts =',len(df['day'].value_counts()))\n",
    "print('hour value counts =',len(df['hour'].value_counts()))\n",
    "print('minute value counts =',len(df['minute'].value_counts()))\n",
    "print('second value counts =',len(df['second'].value_counts()))"
   ]
  },
  {
   "cell_type": "markdown",
   "id": "4153d299",
   "metadata": {},
   "source": [
    "\n",
    "- 데이터 개수 시각화하기"
   ]
  },
  {
   "cell_type": "code",
   "execution_count": 10,
   "id": "a243a7ff",
   "metadata": {},
   "outputs": [
    {
     "data": {
      "text/plain": [
       "<AxesSubplot:xlabel='second', ylabel='count'>"
      ]
     },
     "execution_count": 10,
     "metadata": {},
     "output_type": "execute_result"
    },
    {
     "data": {
      "image/png": "[encoded data removed]",
      "text/plain": [
       "<Figure size 1080x720 with 6 Axes>"
      ]
     },
     "metadata": {
      "needs_background": "light"
     },
     "output_type": "display_data"
    }
   ],
   "source": [
    "fig = plt.figure(figsize=(15,10))\n",
    "\n",
    "# 차트 배경 설정\n",
    "sns.set_style('whitegrid')\n",
    "\n",
    "ax1 = fig.add_subplot(3,2,1)\n",
    "sns.countplot(x='year', data = df)\n",
    "\n",
    "ax2 = fig.add_subplot(3,2,2)\n",
    "sns.countplot(x='month', data = df)\n",
    "\n",
    "ax3 = fig.add_subplot(3,2,3)\n",
    "sns.countplot(x='day', data = df)\n",
    "\n",
    "ax4 = fig.add_subplot(3,2,4)\n",
    "sns.countplot(x='hour', data = df)\n",
    "\n",
    "ax5 = fig.add_subplot(3,2,5)\n",
    "sns.countplot(x='minute', data = df)\n",
    "\n",
    "ax6 = fig.add_subplot(3,2,6)\n",
    "sns.countplot(x='second', data = df)\n",
    "\n",
    "\n",
    "# # 차트 세로로 그리기\n",
    "# sns.countplot"
   ]
  },
  {
   "cell_type": "markdown",
   "id": "be2cc3a2",
   "metadata": {},
   "source": [
    "<br>\n",
    "\n",
    "### (4) `X`, `y` 컬럼 선택 및 train/test 데이터 분리\n",
    "---\n",
    "- data들의 정보를 `describe()` 매서드를 사용하여 살펴보자"
   ]
  },
  {
   "cell_type": "code",
   "execution_count": 11,
   "id": "b6a7033d",
   "metadata": {
    "scrolled": false
   },
   "outputs": [
    {
     "name": "stdout",
     "output_type": "stream",
     "text": [
      "(10886, 18)\n"
     ]
    },
    {
     "data": {
      "text/html": [
       "<div>\n",
       "<style scoped>\n",
       "    .dataframe tbody tr th:only-of-type {\n",
       "        vertical-align: middle;\n",
       "    }\n",
       "\n",
       "    .dataframe tbody tr th {\n",
       "        vertical-align: top;\n",
       "    }\n",
       "\n",
       "    .dataframe thead th {\n",
       "        text-align: right;\n",
       "    }\n",
       "</style>\n",
       "<table border=\"1\" class=\"dataframe\">\n",
       "  <thead>\n",
       "    <tr style=\"text-align: right;\">\n",
       "      <th></th>\n",
       "      <th>season</th>\n",
       "      <th>holiday</th>\n",
       "      <th>workingday</th>\n",
       "      <th>weather</th>\n",
       "      <th>temp</th>\n",
       "      <th>atemp</th>\n",
       "      <th>humidity</th>\n",
       "      <th>windspeed</th>\n",
       "      <th>casual</th>\n",
       "      <th>registered</th>\n",
       "      <th>count</th>\n",
       "      <th>year</th>\n",
       "      <th>month</th>\n",
       "      <th>day</th>\n",
       "      <th>hour</th>\n",
       "      <th>minute</th>\n",
       "      <th>second</th>\n",
       "    </tr>\n",
       "  </thead>\n",
       "  <tbody>\n",
       "    <tr>\n",
       "      <th>count</th>\n",
       "      <td>10886.000000</td>\n",
       "      <td>10886.000000</td>\n",
       "      <td>10886.000000</td>\n",
       "      <td>10886.000000</td>\n",
       "      <td>10886.00000</td>\n",
       "      <td>10886.000000</td>\n",
       "      <td>10886.000000</td>\n",
       "      <td>10886.000000</td>\n",
       "      <td>10886.000000</td>\n",
       "      <td>10886.000000</td>\n",
       "      <td>10886.000000</td>\n",
       "      <td>10886.000000</td>\n",
       "      <td>10886.000000</td>\n",
       "      <td>10886.000000</td>\n",
       "      <td>10886.000000</td>\n",
       "      <td>10886.0</td>\n",
       "      <td>10886.0</td>\n",
       "    </tr>\n",
       "    <tr>\n",
       "      <th>mean</th>\n",
       "      <td>2.506614</td>\n",
       "      <td>0.028569</td>\n",
       "      <td>0.680875</td>\n",
       "      <td>1.418427</td>\n",
       "      <td>20.23086</td>\n",
       "      <td>23.655084</td>\n",
       "      <td>61.886460</td>\n",
       "      <td>12.799395</td>\n",
       "      <td>36.021955</td>\n",
       "      <td>155.552177</td>\n",
       "      <td>191.574132</td>\n",
       "      <td>2011.501929</td>\n",
       "      <td>6.521495</td>\n",
       "      <td>9.992559</td>\n",
       "      <td>11.541613</td>\n",
       "      <td>0.0</td>\n",
       "      <td>0.0</td>\n",
       "    </tr>\n",
       "    <tr>\n",
       "      <th>std</th>\n",
       "      <td>1.116174</td>\n",
       "      <td>0.166599</td>\n",
       "      <td>0.466159</td>\n",
       "      <td>0.633839</td>\n",
       "      <td>7.79159</td>\n",
       "      <td>8.474601</td>\n",
       "      <td>19.245033</td>\n",
       "      <td>8.164537</td>\n",
       "      <td>49.960477</td>\n",
       "      <td>151.039033</td>\n",
       "      <td>181.144454</td>\n",
       "      <td>0.500019</td>\n",
       "      <td>3.444373</td>\n",
       "      <td>5.476608</td>\n",
       "      <td>6.915838</td>\n",
       "      <td>0.0</td>\n",
       "      <td>0.0</td>\n",
       "    </tr>\n",
       "    <tr>\n",
       "      <th>min</th>\n",
       "      <td>1.000000</td>\n",
       "      <td>0.000000</td>\n",
       "      <td>0.000000</td>\n",
       "      <td>1.000000</td>\n",
       "      <td>0.82000</td>\n",
       "      <td>0.760000</td>\n",
       "      <td>0.000000</td>\n",
       "      <td>0.000000</td>\n",
       "      <td>0.000000</td>\n",
       "      <td>0.000000</td>\n",
       "      <td>1.000000</td>\n",
       "      <td>2011.000000</td>\n",
       "      <td>1.000000</td>\n",
       "      <td>1.000000</td>\n",
       "      <td>0.000000</td>\n",
       "      <td>0.0</td>\n",
       "      <td>0.0</td>\n",
       "    </tr>\n",
       "    <tr>\n",
       "      <th>25%</th>\n",
       "      <td>2.000000</td>\n",
       "      <td>0.000000</td>\n",
       "      <td>0.000000</td>\n",
       "      <td>1.000000</td>\n",
       "      <td>13.94000</td>\n",
       "      <td>16.665000</td>\n",
       "      <td>47.000000</td>\n",
       "      <td>7.001500</td>\n",
       "      <td>4.000000</td>\n",
       "      <td>36.000000</td>\n",
       "      <td>42.000000</td>\n",
       "      <td>2011.000000</td>\n",
       "      <td>4.000000</td>\n",
       "      <td>5.000000</td>\n",
       "      <td>6.000000</td>\n",
       "      <td>0.0</td>\n",
       "      <td>0.0</td>\n",
       "    </tr>\n",
       "    <tr>\n",
       "      <th>50%</th>\n",
       "      <td>3.000000</td>\n",
       "      <td>0.000000</td>\n",
       "      <td>1.000000</td>\n",
       "      <td>1.000000</td>\n",
       "      <td>20.50000</td>\n",
       "      <td>24.240000</td>\n",
       "      <td>62.000000</td>\n",
       "      <td>12.998000</td>\n",
       "      <td>17.000000</td>\n",
       "      <td>118.000000</td>\n",
       "      <td>145.000000</td>\n",
       "      <td>2012.000000</td>\n",
       "      <td>7.000000</td>\n",
       "      <td>10.000000</td>\n",
       "      <td>12.000000</td>\n",
       "      <td>0.0</td>\n",
       "      <td>0.0</td>\n",
       "    </tr>\n",
       "    <tr>\n",
       "      <th>75%</th>\n",
       "      <td>4.000000</td>\n",
       "      <td>0.000000</td>\n",
       "      <td>1.000000</td>\n",
       "      <td>2.000000</td>\n",
       "      <td>26.24000</td>\n",
       "      <td>31.060000</td>\n",
       "      <td>77.000000</td>\n",
       "      <td>16.997900</td>\n",
       "      <td>49.000000</td>\n",
       "      <td>222.000000</td>\n",
       "      <td>284.000000</td>\n",
       "      <td>2012.000000</td>\n",
       "      <td>10.000000</td>\n",
       "      <td>15.000000</td>\n",
       "      <td>18.000000</td>\n",
       "      <td>0.0</td>\n",
       "      <td>0.0</td>\n",
       "    </tr>\n",
       "    <tr>\n",
       "      <th>max</th>\n",
       "      <td>4.000000</td>\n",
       "      <td>1.000000</td>\n",
       "      <td>1.000000</td>\n",
       "      <td>4.000000</td>\n",
       "      <td>41.00000</td>\n",
       "      <td>45.455000</td>\n",
       "      <td>100.000000</td>\n",
       "      <td>56.996900</td>\n",
       "      <td>367.000000</td>\n",
       "      <td>886.000000</td>\n",
       "      <td>977.000000</td>\n",
       "      <td>2012.000000</td>\n",
       "      <td>12.000000</td>\n",
       "      <td>19.000000</td>\n",
       "      <td>23.000000</td>\n",
       "      <td>0.0</td>\n",
       "      <td>0.0</td>\n",
       "    </tr>\n",
       "  </tbody>\n",
       "</table>\n",
       "</div>"
      ],
      "text/plain": [
       "             season       holiday    workingday       weather         temp  \\\n",
       "count  10886.000000  10886.000000  10886.000000  10886.000000  10886.00000   \n",
       "mean       2.506614      0.028569      0.680875      1.418427     20.23086   \n",
       "std        1.116174      0.166599      0.466159      0.633839      7.79159   \n",
       "min        1.000000      0.000000      0.000000      1.000000      0.82000   \n",
       "25%        2.000000      0.000000      0.000000      1.000000     13.94000   \n",
       "50%        3.000000      0.000000      1.000000      1.000000     20.50000   \n",
       "75%        4.000000      0.000000      1.000000      2.000000     26.24000   \n",
       "max        4.000000      1.000000      1.000000      4.000000     41.00000   \n",
       "\n",
       "              atemp      humidity     windspeed        casual    registered  \\\n",
       "count  10886.000000  10886.000000  10886.000000  10886.000000  10886.000000   \n",
       "mean      23.655084     61.886460     12.799395     36.021955    155.552177   \n",
       "std        8.474601     19.245033      8.164537     49.960477    151.039033   \n",
       "min        0.760000      0.000000      0.000000      0.000000      0.000000   \n",
       "25%       16.665000     47.000000      7.001500      4.000000     36.000000   \n",
       "50%       24.240000     62.000000     12.998000     17.000000    118.000000   \n",
       "75%       31.060000     77.000000     16.997900     49.000000    222.000000   \n",
       "max       45.455000    100.000000     56.996900    367.000000    886.000000   \n",
       "\n",
       "              count          year         month           day          hour  \\\n",
       "count  10886.000000  10886.000000  10886.000000  10886.000000  10886.000000   \n",
       "mean     191.574132   2011.501929      6.521495      9.992559     11.541613   \n",
       "std      181.144454      0.500019      3.444373      5.476608      6.915838   \n",
       "min        1.000000   2011.000000      1.000000      1.000000      0.000000   \n",
       "25%       42.000000   2011.000000      4.000000      5.000000      6.000000   \n",
       "50%      145.000000   2012.000000      7.000000     10.000000     12.000000   \n",
       "75%      284.000000   2012.000000     10.000000     15.000000     18.000000   \n",
       "max      977.000000   2012.000000     12.000000     19.000000     23.000000   \n",
       "\n",
       "        minute   second  \n",
       "count  10886.0  10886.0  \n",
       "mean       0.0      0.0  \n",
       "std        0.0      0.0  \n",
       "min        0.0      0.0  \n",
       "25%        0.0      0.0  \n",
       "50%        0.0      0.0  \n",
       "75%        0.0      0.0  \n",
       "max        0.0      0.0  "
      ]
     },
     "execution_count": 11,
     "metadata": {},
     "output_type": "execute_result"
    }
   ],
   "source": [
    "print(df.shape)\n",
    "df.describe()"
   ]
  },
  {
   "cell_type": "markdown",
   "id": "588ced87",
   "metadata": {},
   "source": [
    "<br>\n",
    "\n",
    "- 사용가능한 data를 선별하여 X 변수에 저장해보자<br>\n",
    "    - `minute`과 `second` 데이터는 값이 한개만 존재하므로(value_count 개수가 한개씩) 빼도록 한다. <br>\n",
    "    - `casual`과 `registered` 데이터도 누락한다.\n",
    "    - target 값에 들어갈 `count` 열도 누락한다.\n",
    "    "
   ]
  },
  {
   "cell_type": "code",
   "execution_count": 12,
   "id": "27a64195",
   "metadata": {},
   "outputs": [
    {
     "name": "stdout",
     "output_type": "stream",
     "text": [
      "['datetime', 'minute', 'second', 'casual', 'registered', 'count']\n",
      "['season', 'holiday', 'workingday', 'weather', 'temp', 'atemp', 'humidity', 'windspeed', 'year', 'month', 'day', 'hour']\n"
     ]
    }
   ],
   "source": [
    "drop_columns = ['datetime', 'minute', 'second', 'casual', 'registered', 'count']\n",
    "selected_columns = list(df.drop(drop_columns, axis=1, inplace=False).columns)\n",
    "print(drop_columns); print(selected_columns)"
   ]
  },
  {
   "cell_type": "code",
   "execution_count": 13,
   "id": "a7e27878",
   "metadata": {},
   "outputs": [],
   "source": [
    "# 사용가능한 특성값을 X 변수에 저장\n",
    "# y에는 target값인 count를 대입\n",
    "\n",
    "X = df.drop(drop_columns, axis=1, inplace=False).values\n",
    "y = df[['count']].values"
   ]
  },
  {
   "cell_type": "code",
   "execution_count": 14,
   "id": "baf28331",
   "metadata": {
    "scrolled": false
   },
   "outputs": [
    {
     "name": "stdout",
     "output_type": "stream",
     "text": [
      "(10886, 12)\n",
      "(10886, 1)\n"
     ]
    }
   ],
   "source": [
    "print(X.shape); print(y.shape)"
   ]
  },
  {
   "cell_type": "code",
   "execution_count": 15,
   "id": "428cef1f",
   "metadata": {},
   "outputs": [
    {
     "data": {
      "text/plain": [
       "5      169\n",
       "4      149\n",
       "3      144\n",
       "6      135\n",
       "2      132\n",
       "      ... \n",
       "801      1\n",
       "629      1\n",
       "825      1\n",
       "589      1\n",
       "636      1\n",
       "Name: count, Length: 822, dtype: int64"
      ]
     },
     "execution_count": 15,
     "metadata": {},
     "output_type": "execute_result"
    }
   ],
   "source": [
    "df['count'].value_counts()"
   ]
  },
  {
   "cell_type": "markdown",
   "id": "25afbeee",
   "metadata": {},
   "source": [
    "<br>\n",
    "\n",
    "### (5) LinearRegression 모델 학습\n",
    "---\n",
    "\n",
    "#### 1) 학습 및 테스트 데이터 분리를 위해 `sklearn.model_selection` 모듈을 불러온다.\n",
    "- train_test_split() 함수 사용"
   ]
  },
  {
   "cell_type": "code",
   "execution_count": 16,
   "id": "45849a39",
   "metadata": {},
   "outputs": [
    {
     "name": "stdout",
     "output_type": "stream",
     "text": [
      "(8708, 12) (8708, 1)\n",
      "(2178, 12) (2178, 1)\n"
     ]
    }
   ],
   "source": [
    "from sklearn.model_selection import train_test_split\n",
    "\n",
    "X_train, X_test, y_train, y_test = train_test_split(X, y, test_size=0.2, random_state=42)\n",
    "\n",
    "print(X_train.shape, y_train.shape)\n",
    "print(X_test.shape, y_test.shape)"
   ]
  },
  {
   "cell_type": "markdown",
   "id": "7875d292",
   "metadata": {},
   "source": [
    "#### 2) sklearn의 LinearRegression 모델 불러오기 및 학습하기"
   ]
  },
  {
   "cell_type": "code",
   "execution_count": 17,
   "id": "0a926731",
   "metadata": {},
   "outputs": [],
   "source": [
    "from sklearn.linear_model import LinearRegression\n",
    "\n",
    "model = LinearRegression()"
   ]
  },
  {
   "cell_type": "code",
   "execution_count": 18,
   "id": "e3cdf70d",
   "metadata": {},
   "outputs": [
    {
     "data": {
      "text/plain": [
       "LinearRegression()"
      ]
     },
     "execution_count": 18,
     "metadata": {},
     "output_type": "execute_result"
    }
   ],
   "source": [
    "model.fit(X_train, y_train)"
   ]
  },
  {
   "cell_type": "markdown",
   "id": "f097560f",
   "metadata": {},
   "source": [
    "<br>\n",
    "\n",
    "### (6) 학습된 모델로 `X_test`에 대한 예측값 출력 및 손실함수 값 계산\n",
    "---"
   ]
  },
  {
   "cell_type": "markdown",
   "id": "95a56326",
   "metadata": {},
   "source": [
    "#### 1)  학습된 모델에 `X_test`를 입력해서 예측값 출력하기"
   ]
  },
  {
   "cell_type": "code",
   "execution_count": 19,
   "id": "ab40cab6",
   "metadata": {},
   "outputs": [
    {
     "data": {
      "text/plain": [
       "array([[248.10627003],\n",
       "       [ 48.79765547],\n",
       "       [200.90676727],\n",
       "       ...,\n",
       "       [309.7528022 ],\n",
       "       [ 38.17030198],\n",
       "       [243.62697388]])"
      ]
     },
     "execution_count": 19,
     "metadata": {},
     "output_type": "execute_result"
    }
   ],
   "source": [
    "predictions = model.predict(X_test)\n",
    "predictions"
   ]
  },
  {
   "cell_type": "markdown",
   "id": "5c02fed6",
   "metadata": {},
   "source": [
    "#### 2) 모델이 예측한 값과 정답 target 간의 손실함수 값 계산하기\n",
    "- mse / rmse \n",
    "    \n",
    "    \n",
    "**sklearn.metrics 모듈에 RMSE는 따로 없기 때문에 MSE에서 제곱근을 취해서 값을 출력한다.**"
   ]
  },
  {
   "cell_type": "code",
   "execution_count": 20,
   "id": "e76a7366",
   "metadata": {},
   "outputs": [
    {
     "name": "stdout",
     "output_type": "stream",
     "text": [
      "Mean Squared Error =  19945.37005375412\n",
      "Root Mean Squared Error =  141.22807813517156\n"
     ]
    }
   ],
   "source": [
    "from sklearn.metrics import mean_squared_error\n",
    "\n",
    "mse = mean_squared_error(y_test, predictions)\n",
    "rmse = mean_squared_error(y_test, predictions, squared=False)\n",
    "#rmse = mse**0.5\n",
    "\n",
    "print('Mean Squared Error = ', mse); print('Root Mean Squared Error = ', rmse)"
   ]
  },
  {
   "cell_type": "markdown",
   "id": "f286dac4",
   "metadata": {},
   "source": [
    "<br>\n",
    "\n",
    "### (7) x축 `temp` 또는 `humidity`,  y축 `count`로 예측 결과 시각화 하기\n",
    "---"
   ]
  },
  {
   "cell_type": "markdown",
   "id": "2077e30a",
   "metadata": {},
   "source": [
    "#### 1) ndarray 타입의 X_test를 pandas DataFrame을 사용하여 X_test_df에 새로 설정"
   ]
  },
  {
   "cell_type": "code",
   "execution_count": 21,
   "id": "9c7735b8",
   "metadata": {},
   "outputs": [
    {
     "data": {
      "text/html": [
       "<div>\n",
       "<style scoped>\n",
       "    .dataframe tbody tr th:only-of-type {\n",
       "        vertical-align: middle;\n",
       "    }\n",
       "\n",
       "    .dataframe tbody tr th {\n",
       "        vertical-align: top;\n",
       "    }\n",
       "\n",
       "    .dataframe thead th {\n",
       "        text-align: right;\n",
       "    }\n",
       "</style>\n",
       "<table border=\"1\" class=\"dataframe\">\n",
       "  <thead>\n",
       "    <tr style=\"text-align: right;\">\n",
       "      <th></th>\n",
       "      <th>season</th>\n",
       "      <th>holiday</th>\n",
       "      <th>workingday</th>\n",
       "      <th>weather</th>\n",
       "      <th>temp</th>\n",
       "      <th>atemp</th>\n",
       "      <th>humidity</th>\n",
       "      <th>windspeed</th>\n",
       "      <th>year</th>\n",
       "      <th>month</th>\n",
       "      <th>day</th>\n",
       "      <th>hour</th>\n",
       "      <th>predictions</th>\n",
       "      <th>y_test</th>\n",
       "    </tr>\n",
       "  </thead>\n",
       "  <tbody>\n",
       "    <tr>\n",
       "      <th>0</th>\n",
       "      <td>3.0</td>\n",
       "      <td>0.0</td>\n",
       "      <td>1.0</td>\n",
       "      <td>1.0</td>\n",
       "      <td>33.62</td>\n",
       "      <td>40.150</td>\n",
       "      <td>59.0</td>\n",
       "      <td>0.0000</td>\n",
       "      <td>2011.0</td>\n",
       "      <td>7.0</td>\n",
       "      <td>19.0</td>\n",
       "      <td>11.0</td>\n",
       "      <td>248.106270</td>\n",
       "      <td>127</td>\n",
       "    </tr>\n",
       "    <tr>\n",
       "      <th>1</th>\n",
       "      <td>1.0</td>\n",
       "      <td>1.0</td>\n",
       "      <td>0.0</td>\n",
       "      <td>1.0</td>\n",
       "      <td>4.10</td>\n",
       "      <td>6.820</td>\n",
       "      <td>54.0</td>\n",
       "      <td>6.0032</td>\n",
       "      <td>2012.0</td>\n",
       "      <td>1.0</td>\n",
       "      <td>16.0</td>\n",
       "      <td>6.0</td>\n",
       "      <td>48.797655</td>\n",
       "      <td>13</td>\n",
       "    </tr>\n",
       "    <tr>\n",
       "      <th>2</th>\n",
       "      <td>4.0</td>\n",
       "      <td>0.0</td>\n",
       "      <td>0.0</td>\n",
       "      <td>1.0</td>\n",
       "      <td>9.84</td>\n",
       "      <td>11.365</td>\n",
       "      <td>48.0</td>\n",
       "      <td>12.9980</td>\n",
       "      <td>2011.0</td>\n",
       "      <td>12.0</td>\n",
       "      <td>11.0</td>\n",
       "      <td>18.0</td>\n",
       "      <td>200.906767</td>\n",
       "      <td>163</td>\n",
       "    </tr>\n",
       "    <tr>\n",
       "      <th>3</th>\n",
       "      <td>3.0</td>\n",
       "      <td>0.0</td>\n",
       "      <td>1.0</td>\n",
       "      <td>2.0</td>\n",
       "      <td>29.52</td>\n",
       "      <td>34.090</td>\n",
       "      <td>62.0</td>\n",
       "      <td>12.9980</td>\n",
       "      <td>2012.0</td>\n",
       "      <td>8.0</td>\n",
       "      <td>15.0</td>\n",
       "      <td>10.0</td>\n",
       "      <td>292.785832</td>\n",
       "      <td>233</td>\n",
       "    </tr>\n",
       "    <tr>\n",
       "      <th>4</th>\n",
       "      <td>2.0</td>\n",
       "      <td>0.0</td>\n",
       "      <td>1.0</td>\n",
       "      <td>1.0</td>\n",
       "      <td>25.42</td>\n",
       "      <td>31.060</td>\n",
       "      <td>53.0</td>\n",
       "      <td>16.9979</td>\n",
       "      <td>2012.0</td>\n",
       "      <td>6.0</td>\n",
       "      <td>15.0</td>\n",
       "      <td>23.0</td>\n",
       "      <td>388.486548</td>\n",
       "      <td>222</td>\n",
       "    </tr>\n",
       "    <tr>\n",
       "      <th>...</th>\n",
       "      <td>...</td>\n",
       "      <td>...</td>\n",
       "      <td>...</td>\n",
       "      <td>...</td>\n",
       "      <td>...</td>\n",
       "      <td>...</td>\n",
       "      <td>...</td>\n",
       "      <td>...</td>\n",
       "      <td>...</td>\n",
       "      <td>...</td>\n",
       "      <td>...</td>\n",
       "      <td>...</td>\n",
       "      <td>...</td>\n",
       "      <td>...</td>\n",
       "    </tr>\n",
       "    <tr>\n",
       "      <th>2173</th>\n",
       "      <td>2.0</td>\n",
       "      <td>0.0</td>\n",
       "      <td>0.0</td>\n",
       "      <td>3.0</td>\n",
       "      <td>23.78</td>\n",
       "      <td>27.275</td>\n",
       "      <td>49.0</td>\n",
       "      <td>19.0012</td>\n",
       "      <td>2011.0</td>\n",
       "      <td>5.0</td>\n",
       "      <td>8.0</td>\n",
       "      <td>17.0</td>\n",
       "      <td>224.130198</td>\n",
       "      <td>351</td>\n",
       "    </tr>\n",
       "    <tr>\n",
       "      <th>2174</th>\n",
       "      <td>1.0</td>\n",
       "      <td>0.0</td>\n",
       "      <td>1.0</td>\n",
       "      <td>3.0</td>\n",
       "      <td>13.12</td>\n",
       "      <td>15.150</td>\n",
       "      <td>66.0</td>\n",
       "      <td>22.0028</td>\n",
       "      <td>2012.0</td>\n",
       "      <td>1.0</td>\n",
       "      <td>17.0</td>\n",
       "      <td>4.0</td>\n",
       "      <td>68.593142</td>\n",
       "      <td>2</td>\n",
       "    </tr>\n",
       "    <tr>\n",
       "      <th>2175</th>\n",
       "      <td>4.0</td>\n",
       "      <td>0.0</td>\n",
       "      <td>0.0</td>\n",
       "      <td>1.0</td>\n",
       "      <td>16.40</td>\n",
       "      <td>20.455</td>\n",
       "      <td>40.0</td>\n",
       "      <td>12.9980</td>\n",
       "      <td>2012.0</td>\n",
       "      <td>11.0</td>\n",
       "      <td>4.0</td>\n",
       "      <td>14.0</td>\n",
       "      <td>309.752802</td>\n",
       "      <td>509</td>\n",
       "    </tr>\n",
       "    <tr>\n",
       "      <th>2176</th>\n",
       "      <td>1.0</td>\n",
       "      <td>0.0</td>\n",
       "      <td>0.0</td>\n",
       "      <td>1.0</td>\n",
       "      <td>11.48</td>\n",
       "      <td>14.395</td>\n",
       "      <td>81.0</td>\n",
       "      <td>7.0015</td>\n",
       "      <td>2012.0</td>\n",
       "      <td>1.0</td>\n",
       "      <td>1.0</td>\n",
       "      <td>5.0</td>\n",
       "      <td>38.170302</td>\n",
       "      <td>5</td>\n",
       "    </tr>\n",
       "    <tr>\n",
       "      <th>2177</th>\n",
       "      <td>2.0</td>\n",
       "      <td>0.0</td>\n",
       "      <td>1.0</td>\n",
       "      <td>3.0</td>\n",
       "      <td>26.24</td>\n",
       "      <td>30.305</td>\n",
       "      <td>73.0</td>\n",
       "      <td>12.9980</td>\n",
       "      <td>2012.0</td>\n",
       "      <td>5.0</td>\n",
       "      <td>15.0</td>\n",
       "      <td>13.0</td>\n",
       "      <td>243.626974</td>\n",
       "      <td>239</td>\n",
       "    </tr>\n",
       "  </tbody>\n",
       "</table>\n",
       "<p>2178 rows × 14 columns</p>\n",
       "</div>"
      ],
      "text/plain": [
       "      season  holiday  workingday  weather   temp   atemp  humidity  \\\n",
       "0        3.0      0.0         1.0      1.0  33.62  40.150      59.0   \n",
       "1        1.0      1.0         0.0      1.0   4.10   6.820      54.0   \n",
       "2        4.0      0.0         0.0      1.0   9.84  11.365      48.0   \n",
       "3        3.0      0.0         1.0      2.0  29.52  34.090      62.0   \n",
       "4        2.0      0.0         1.0      1.0  25.42  31.060      53.0   \n",
       "...      ...      ...         ...      ...    ...     ...       ...   \n",
       "2173     2.0      0.0         0.0      3.0  23.78  27.275      49.0   \n",
       "2174     1.0      0.0         1.0      3.0  13.12  15.150      66.0   \n",
       "2175     4.0      0.0         0.0      1.0  16.40  20.455      40.0   \n",
       "2176     1.0      0.0         0.0      1.0  11.48  14.395      81.0   \n",
       "2177     2.0      0.0         1.0      3.0  26.24  30.305      73.0   \n",
       "\n",
       "      windspeed    year  month   day  hour  predictions  y_test  \n",
       "0        0.0000  2011.0    7.0  19.0  11.0   248.106270     127  \n",
       "1        6.0032  2012.0    1.0  16.0   6.0    48.797655      13  \n",
       "2       12.9980  2011.0   12.0  11.0  18.0   200.906767     163  \n",
       "3       12.9980  2012.0    8.0  15.0  10.0   292.785832     233  \n",
       "4       16.9979  2012.0    6.0  15.0  23.0   388.486548     222  \n",
       "...         ...     ...    ...   ...   ...          ...     ...  \n",
       "2173    19.0012  2011.0    5.0   8.0  17.0   224.130198     351  \n",
       "2174    22.0028  2012.0    1.0  17.0   4.0    68.593142       2  \n",
       "2175    12.9980  2012.0   11.0   4.0  14.0   309.752802     509  \n",
       "2176     7.0015  2012.0    1.0   1.0   5.0    38.170302       5  \n",
       "2177    12.9980  2012.0    5.0  15.0  13.0   243.626974     239  \n",
       "\n",
       "[2178 rows x 14 columns]"
      ]
     },
     "execution_count": 21,
     "metadata": {},
     "output_type": "execute_result"
    }
   ],
   "source": [
    "X_test_df = pd.DataFrame(X_test, columns = selected_columns)\n",
    "X_test_df['predictions'] = predictions\n",
    "X_test_df['y_test'] = y_test\n",
    "X_test_df"
   ]
  },
  {
   "cell_type": "markdown",
   "id": "1abfc0f9",
   "metadata": {},
   "source": [
    "<br>\n",
    "\n",
    "#### 2) x축에  `temp` 또는 `humidity` 데이터를, y축에는 count 데이터를 넣어서 시각화하기\n",
    "<br>"
   ]
  },
  {
   "cell_type": "code",
   "execution_count": 22,
   "id": "ad5f6cd5",
   "metadata": {},
   "outputs": [
    {
     "data": {
      "image/png": "[encoded data removed]",
      "text/plain": [
       "<Figure size 1080x720 with 2 Axes>"
      ]
     },
     "metadata": {},
     "output_type": "display_data"
    }
   ],
   "source": [
    "plt.figure(figsize=(15,10))\n",
    "\n",
    "plt.subplot(211)\n",
    "sns.lineplot(x=X_test_df['temp'], y=X_test_df['predictions'], label='predictions')\n",
    "sns.lineplot(x=X_test_df['temp'], y=X_test_df['y_test'], label='y_test')\n",
    "plt.title('Temp - Count Plot')\n",
    "plt.ylabel('count')\n",
    "\n",
    "plt.subplot(212)\n",
    "sns.lineplot(x=X_test_df['humidity'], y=X_test_df['predictions'], label='predictions')\n",
    "sns.lineplot(x=X_test_df['humidity'], y=X_test_df['y_test'], label='y_test')\n",
    "plt.title('Humidity - Count Plot')\n",
    "plt.ylabel('count')\n",
    "\n",
    "plt.show()\n"
   ]
  },
  {
   "cell_type": "markdown",
   "id": "7fa284d5",
   "metadata": {},
   "source": [
    "### (8) 결론\n",
    "---"
   ]
  },
  {
   "cell_type": "markdown",
   "id": "d6161bd5",
   "metadata": {},
   "source": [
    "- `프로젝트(2) : 날씨 좋은 월요일 오후 세 시, 자전거 타는 사람은 몇명?`에서는 kaggle 경진대회에서 제공하는 데이터 셋을 활용하여 시간, 온도, 습도, 계절 등의 정보가 담긴 12가지의 특성값을 가지고 자전거의 대여량을 예측하는 문제다.<br><br>특성값들 중에는 시간, 요일, 계절, 습도 등 자전거 대여량을 졀정하는 데 중요한 데이터가 있는가 반면에 불필요한 데이터(`casual`, `registered`) 또한 존재한다.<br><br>Kaggle 페이지에서 각 feature들의 정보를 확인하고 정형화된 데이터를 분석하기 위해 pandas DataFrame 모듈을 활용하였다. datetime 칼럼의 자료형이 object 자료형으로 되어있었고 회귀 문제를 풀기위해 수치형 데이터로 변환이 필요했다. `to_datetime` 매서드를 사용하여 자료형을 datetime으로 변환하고 이른 `년`, `월`, `일`, `시`, `분`, `초` 단위로 쪼개서 저장하였다.<br><br>불필요한 데이터(열)를 삭제하고 X 및 y 변수에 data와 target을 재설정하였다.<br><br>모델을 학습하기 위해 `sklearn`의 `LinearRegression` 모델을 불러왔고 학습하였다. 또한 학습모델에 대한 평가를 진행하기 위해 `skearn`의 `Mean Squared Error` 매서드를 사용하여 모델을 검증하였고 시각화를 통해 회귀 모델의 성능을 확인할 수 있었다.\n",
    "\n",
    "<br><img src=\"https://user-images.githubusercontent.com/103712369/166401810-a3cd8b64-33c2-4844-a958-6a707b8a1e2c.png\" width='500'/><br><br>루브릭 평가항목인 RMSE값은 141.2로 기준을 만족하였다.\n"
   ]
  },
  {
   "cell_type": "code",
   "execution_count": null,
   "id": "2d9d7595",
   "metadata": {},
   "outputs": [],
   "source": []
  }
 ],
 "metadata": {
  "kernelspec": {
   "display_name": "Python 3 (ipykernel)",
   "language": "python",
   "name": "python3"
  },
  "language_info": {
   "codemirror_mode": {
    "name": "ipython",
    "version": 3
   },
   "file_extension": ".py",
   "mimetype": "text/x-python",
   "name": "python",
   "nbconvert_exporter": "python",
   "pygments_lexer": "ipython3",
   "version": "3.9.7"
  }
 },
 "nbformat": 4,
 "nbformat_minor": 5
}
