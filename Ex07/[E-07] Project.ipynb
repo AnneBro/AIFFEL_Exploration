{
 "cells": [
  {
   "cell_type": "markdown",
   "id": "00ebd63d",
   "metadata": {},
   "source": [
    "# [E-07] 프로젝트: 뉴스기사 요약해보기\n",
    "\n",
    "<br>\n",
    "\n",
    "---"
   ]
  },
  {
   "cell_type": "markdown",
   "id": "89500d61",
   "metadata": {},
   "source": [
    "**뉴스기사 데이터셋에 대해 추상적 / 추출적 요약을 모두 진행해보자**\n",
    "\n",
    "<br>\n",
    "- 주요 라이브러리 버전 확인\n",
    "\n",
    "---"
   ]
  },
  {
   "cell_type": "code",
   "execution_count": 1,
   "id": "a8f71ce0",
   "metadata": {
    "scrolled": true
   },
   "outputs": [
    {
     "name": "stdout",
     "output_type": "stream",
     "text": [
      "3.6.5\n",
      "2.6.0\n",
      "1.2.0\n"
     ]
    }
   ],
   "source": [
    "from importlib.metadata import version\n",
    "import nltk\n",
    "import tensorflow\n",
    "import summa\n",
    "\n",
    "print(nltk.__version__)\n",
    "print(tensorflow.__version__)\n",
    "print(version('summa'))"
   ]
  },
  {
   "cell_type": "markdown",
   "id": "9870d853",
   "metadata": {},
   "source": [
    "### ✔️ 필요한 라이브러리 import하기\n",
    "\n",
    "---"
   ]
  },
  {
   "cell_type": "code",
   "execution_count": 2,
   "id": "30f2f2d9",
   "metadata": {},
   "outputs": [
    {
     "name": "stderr",
     "output_type": "stream",
     "text": [
      "[nltk_data] Downloading package stopwords to /aiffel/nltk_data...\n",
      "[nltk_data]   Unzipping corpora/stopwords.zip.\n"
     ]
    }
   ],
   "source": [
    "import nltk\n",
    "nltk.download('stopwords')\n",
    "\n",
    "import numpy as np\n",
    "import pandas as pd\n",
    "import os\n",
    "import re\n",
    "import matplotlib.pyplot as plt\n",
    "from nltk.corpus import stopwords\n",
    "from bs4 import BeautifulSoup \n",
    "from tensorflow.keras.preprocessing.text import Tokenizer \n",
    "from tensorflow.keras.preprocessing.sequence import pad_sequences\n",
    "import urllib.request\n",
    "import warnings\n",
    "warnings.filterwarnings(\"ignore\", category=UserWarning, module='bs4')"
   ]
  },
  {
   "cell_type": "markdown",
   "id": "cd14becb",
   "metadata": {},
   "source": [
    "### ✔️ 데이터 수집하기\n",
    "\n",
    "---"
   ]
  },
  {
   "cell_type": "code",
   "execution_count": 3,
   "id": "e4b67124",
   "metadata": {},
   "outputs": [
    {
     "name": "stdout",
     "output_type": "stream",
     "text": [
      "(98401, 2)\n",
      "Index(['headlines', 'text'], dtype='object')\n"
     ]
    }
   ],
   "source": [
    "import urllib.request\n",
    "urllib.request.urlretrieve(\"https://raw.githubusercontent.com/sunnysai12345/News_Summary/master/news_summary_more.csv\", filename=\"news_summary_more.csv\")\n",
    "data = pd.read_csv('news_summary_more.csv', encoding='iso-8859-1')\n",
    "print(data.shape)\n",
    "print(data.columns)\n",
    "\n",
    "data=data[['text', 'headlines']]"
   ]
  },
  {
   "cell_type": "code",
   "execution_count": 4,
   "id": "5cb2effc",
   "metadata": {},
   "outputs": [
    {
     "data": {
      "text/html": [
       "<div>\n",
       "<style scoped>\n",
       "    .dataframe tbody tr th:only-of-type {\n",
       "        vertical-align: middle;\n",
       "    }\n",
       "\n",
       "    .dataframe tbody tr th {\n",
       "        vertical-align: top;\n",
       "    }\n",
       "\n",
       "    .dataframe thead th {\n",
       "        text-align: right;\n",
       "    }\n",
       "</style>\n",
       "<table border=\"1\" class=\"dataframe\">\n",
       "  <thead>\n",
       "    <tr style=\"text-align: right;\">\n",
       "      <th></th>\n",
       "      <th>text</th>\n",
       "      <th>headlines</th>\n",
       "    </tr>\n",
       "  </thead>\n",
       "  <tbody>\n",
       "    <tr>\n",
       "      <th>79798</th>\n",
       "      <td>Sachin Tendulkar, while wishing former Austral...</td>\n",
       "      <td>Sachin recollects how Lillee made him give up ...</td>\n",
       "    </tr>\n",
       "    <tr>\n",
       "      <th>33159</th>\n",
       "      <td>Former Finance Minister P Chidambaram on Monda...</td>\n",
       "      <td>Unemployment to be main issue in 2019 LS polls...</td>\n",
       "    </tr>\n",
       "    <tr>\n",
       "      <th>16387</th>\n",
       "      <td>Isha Ambani, daughter of Reliance Industries C...</td>\n",
       "      <td>What is the net worth of Isha Ambani and Anand...</td>\n",
       "    </tr>\n",
       "    <tr>\n",
       "      <th>62193</th>\n",
       "      <td>A former British jihadi bride who married the ...</td>\n",
       "      <td>Racism in Britain forced me to join ISIS: Ex-j...</td>\n",
       "    </tr>\n",
       "    <tr>\n",
       "      <th>24641</th>\n",
       "      <td>The Centre on Monday confirmed that, according...</td>\n",
       "      <td>Groundwater where Sterlite plant located conta...</td>\n",
       "    </tr>\n",
       "    <tr>\n",
       "      <th>6374</th>\n",
       "      <td>The Central Bureau of Investigation (CBI) that...</td>\n",
       "      <td>CCTV footage was not tampered: CBI on Jiah Kha...</td>\n",
       "    </tr>\n",
       "    <tr>\n",
       "      <th>72233</th>\n",
       "      <td>Switzerland President Doris Leuthard during he...</td>\n",
       "      <td>Will support India's fight against black money...</td>\n",
       "    </tr>\n",
       "    <tr>\n",
       "      <th>95409</th>\n",
       "      <td>The UK passport could turn dark blue again aft...</td>\n",
       "      <td>UK passports could turn dark blue again after ...</td>\n",
       "    </tr>\n",
       "    <tr>\n",
       "      <th>84458</th>\n",
       "      <td>A Spanish bullfighter died on Saturday after h...</td>\n",
       "      <td>Spanish bullfighter killed after tripping on cape</td>\n",
       "    </tr>\n",
       "    <tr>\n",
       "      <th>41205</th>\n",
       "      <td>The Supreme Court will hear pleas relating to ...</td>\n",
       "      <td>SC to hear pleas relating to CBSE Board re-exa...</td>\n",
       "    </tr>\n",
       "  </tbody>\n",
       "</table>\n",
       "</div>"
      ],
      "text/plain": [
       "                                                    text  \\\n",
       "79798  Sachin Tendulkar, while wishing former Austral...   \n",
       "33159  Former Finance Minister P Chidambaram on Monda...   \n",
       "16387  Isha Ambani, daughter of Reliance Industries C...   \n",
       "62193  A former British jihadi bride who married the ...   \n",
       "24641  The Centre on Monday confirmed that, according...   \n",
       "6374   The Central Bureau of Investigation (CBI) that...   \n",
       "72233  Switzerland President Doris Leuthard during he...   \n",
       "95409  The UK passport could turn dark blue again aft...   \n",
       "84458  A Spanish bullfighter died on Saturday after h...   \n",
       "41205  The Supreme Court will hear pleas relating to ...   \n",
       "\n",
       "                                               headlines  \n",
       "79798  Sachin recollects how Lillee made him give up ...  \n",
       "33159  Unemployment to be main issue in 2019 LS polls...  \n",
       "16387  What is the net worth of Isha Ambani and Anand...  \n",
       "62193  Racism in Britain forced me to join ISIS: Ex-j...  \n",
       "24641  Groundwater where Sterlite plant located conta...  \n",
       "6374   CCTV footage was not tampered: CBI on Jiah Kha...  \n",
       "72233  Will support India's fight against black money...  \n",
       "95409  UK passports could turn dark blue again after ...  \n",
       "84458  Spanish bullfighter killed after tripping on cape  \n",
       "41205  SC to hear pleas relating to CBSE Board re-exa...  "
      ]
     },
     "execution_count": 4,
     "metadata": {},
     "output_type": "execute_result"
    }
   ],
   "source": [
    "# 98401개의 뉴스 기사 중 10개의 랜덤한 기사를 출력해보고 데이터를 제대로 불러왔는지 확인해보자\n",
    "\n",
    "data.sample(10)"
   ]
  },
  {
   "cell_type": "markdown",
   "id": "43c00b7d",
   "metadata": {},
   "source": [
    "<br>\n",
    "- 추상적 요약을 하는 경우 text를 본문, headlines를 이미 요약된 데이터로 삼아서 모델을 학습한다.\n",
    "<br><br>\n",
    "- 추출적 야약을 하는 경우에는 오직 text 열만을 사용한다."
   ]
  },
  {
   "cell_type": "markdown",
   "id": "0bb43e66",
   "metadata": {},
   "source": [
    "<br>\n",
    "\n",
    "---\n",
    "\n",
    "\n",
    "# Ⅰ. 추상적 요약\n",
    "\n",
    "---\n",
    "\n",
    "<br><br>"
   ]
  },
  {
   "cell_type": "markdown",
   "id": "c7f7f277",
   "metadata": {},
   "source": [
    "<br>\n",
    "\n",
    "### ✔️ Step 1. 데이터 전처리하기\n",
    "#### (1) 데이터 정리하기\n",
    "---"
   ]
  },
  {
   "cell_type": "markdown",
   "id": "4a54cc43",
   "metadata": {},
   "source": [
    "**⭐ 1) 중복 샘플과 NULL 값이 존재하는 샘플 제거<br>**"
   ]
  },
  {
   "cell_type": "code",
   "execution_count": 5,
   "id": "3fb9fc57",
   "metadata": {
    "scrolled": true
   },
   "outputs": [
    {
     "name": "stdout",
     "output_type": "stream",
     "text": [
      "수집된 뉴스기사 샘플의 수 : 98401\n",
      "text 열에서 중복을 배제한 유일한 샘플의 수 : 98360\n",
      "headlines 열에서 중복을 배제한 유일한 샘플의 수 : 98280\n"
     ]
    }
   ],
   "source": [
    "print('수집된 뉴스기사 샘플의 수 :', len(data))\n",
    "print('text 열에서 중복을 배제한 유일한 샘플의 수 :', data['text'].nunique())\n",
    "print('headlines 열에서 중복을 배제한 유일한 샘플의 수 :', data['headlines'].nunique())"
   ]
  },
  {
   "cell_type": "code",
   "execution_count": 6,
   "id": "ee16d8a7",
   "metadata": {
    "scrolled": true
   },
   "outputs": [
    {
     "data": {
      "text/plain": [
       "Warne produced 'ball of century' with his 1st Ashes delivery         3\n",
       "Indian spinner once bowled record 21 maiden overs in a row           3\n",
       "Don Bradman once scored 100 runs in 3 overs                          3\n",
       "CARS24 enables car owners to sell their cars in less than 2 hours    3\n",
       "A solar eclipse once proved Einstein right, Newton wrong             3\n",
       "                                                                    ..\n",
       "Xiaomi files for world's biggest IPO since Alibaba in 2014           1\n",
       "Wife of automobile inventor made the world's first road trip         1\n",
       "Punished for serving the country: Ex-Pak PM Nawaz Sharif             1\n",
       "NASA prepares a new set of twin satellites to track ice melt         1\n",
       "Madhesi Morcha withdraws support to Nepalese government              1\n",
       "Name: headlines, Length: 98280, dtype: int64"
      ]
     },
     "execution_count": 6,
     "metadata": {},
     "output_type": "execute_result"
    }
   ],
   "source": [
    "data['headlines'].value_counts()"
   ]
  },
  {
   "cell_type": "markdown",
   "id": "6835e269",
   "metadata": {},
   "source": [
    "<br>\n",
    "\n",
    "- 기사의 원문인 `text`열에서는 41개의 중복된 기사기 존재하고, 요약본인 `headlines`열에서는 121개의 중복된 요약이 존재한다.<br><br>\n",
    "- `drop_duplicates()` 매서드를 사용해서 `text`열의 중복된 기사원본을 제거하도록 한다.<br><br>\n",
    "- `headlines`의 경우는 기사가 유사한 내용을 다루고 있는 경우, 중복된 요약을 할 수 있을 것으로 간주하여 중복된 요약은 그대로 두기로 한다.<br><br>"
   ]
  },
  {
   "cell_type": "code",
   "execution_count": 7,
   "id": "42babcae",
   "metadata": {},
   "outputs": [
    {
     "name": "stdout",
     "output_type": "stream",
     "text": [
      "전체 샘플수 : 98360\n"
     ]
    }
   ],
   "source": [
    "# inplace=True 를 설정하면 DataFrame 타입 값을 return 하지 않고 data 내부를 직접적으로 바꾼다.\n",
    "\n",
    "data.drop_duplicates(subset=['text'], inplace=True)\n",
    "print('전체 샘플수 :', len(data))"
   ]
  },
  {
   "cell_type": "markdown",
   "id": "a743de6a",
   "metadata": {},
   "source": [
    "<br>\n",
    "- 중복된 샘픙을 제거하였음에도 결측 샘플데이터에 대한 전처리또한 진행해주어야 한다.<br><br>"
   ]
  },
  {
   "cell_type": "code",
   "execution_count": 8,
   "id": "cb27016a",
   "metadata": {},
   "outputs": [
    {
     "name": "stdout",
     "output_type": "stream",
     "text": [
      "text         0\n",
      "headlines    0\n",
      "dtype: int64\n"
     ]
    }
   ],
   "source": [
    "print(data.isnull().sum())"
   ]
  },
  {
   "cell_type": "markdown",
   "id": "05044935",
   "metadata": {},
   "source": [
    "<br>\n",
    "- 결측 샘플데이터는 없으므로 중복된 기사 및 결측 데이터 전치리를 마무리한다.<br><br>"
   ]
  },
  {
   "cell_type": "markdown",
   "id": "c0d41463",
   "metadata": {},
   "source": [
    "<br><br>\n",
    "**⭐ 2) 텍스트 정규화와 불용어 제거**\n",
    "\n",
    "---"
   ]
  },
  {
   "cell_type": "markdown",
   "id": "fe79a905",
   "metadata": {},
   "source": [
    "**※ 텍스트 정규화란 ?**\n",
    "- 같은 의미인데 다른 표현으로 사용된 단어들을 정리해주는 것.\n",
    "- ex) `it'll == it will`"
   ]
  },
  {
   "cell_type": "code",
   "execution_count": 9,
   "id": "a3282f0f",
   "metadata": {},
   "outputs": [
    {
     "name": "stdout",
     "output_type": "stream",
     "text": [
      "정규화 사전의 수:  120\n"
     ]
    }
   ],
   "source": [
    "contractions = {\"ain't\": \"is not\", \"aren't\": \"are not\",\"can't\": \"cannot\", \"'cause\": \"because\", \"could've\": \"could have\", \"couldn't\": \"could not\",\n",
    "                           \"didn't\": \"did not\",  \"doesn't\": \"does not\", \"don't\": \"do not\", \"hadn't\": \"had not\", \"hasn't\": \"has not\", \"haven't\": \"have not\",\n",
    "                           \"he'd\": \"he would\",\"he'll\": \"he will\", \"he's\": \"he is\", \"how'd\": \"how did\", \"how'd'y\": \"how do you\", \"how'll\": \"how will\", \"how's\": \"how is\",\n",
    "                           \"I'd\": \"I would\", \"I'd've\": \"I would have\", \"I'll\": \"I will\", \"I'll've\": \"I will have\",\"I'm\": \"I am\", \"I've\": \"I have\", \"i'd\": \"i would\",\n",
    "                           \"i'd've\": \"i would have\", \"i'll\": \"i will\",  \"i'll've\": \"i will have\",\"i'm\": \"i am\", \"i've\": \"i have\", \"isn't\": \"is not\", \"it'd\": \"it would\",\n",
    "                           \"it'd've\": \"it would have\", \"it'll\": \"it will\", \"it'll've\": \"it will have\",\"it's\": \"it is\", \"let's\": \"let us\", \"ma'am\": \"madam\",\n",
    "                           \"mayn't\": \"may not\", \"might've\": \"might have\",\"mightn't\": \"might not\",\"mightn't've\": \"might not have\", \"must've\": \"must have\",\n",
    "                           \"mustn't\": \"must not\", \"mustn't've\": \"must not have\", \"needn't\": \"need not\", \"needn't've\": \"need not have\",\"o'clock\": \"of the clock\",\n",
    "                           \"oughtn't\": \"ought not\", \"oughtn't've\": \"ought not have\", \"shan't\": \"shall not\", \"sha'n't\": \"shall not\", \"shan't've\": \"shall not have\",\n",
    "                           \"she'd\": \"she would\", \"she'd've\": \"she would have\", \"she'll\": \"she will\", \"she'll've\": \"she will have\", \"she's\": \"she is\",\n",
    "                           \"should've\": \"should have\", \"shouldn't\": \"should not\", \"shouldn't've\": \"should not have\", \"so've\": \"so have\",\"so's\": \"so as\",\n",
    "                           \"this's\": \"this is\",\"that'd\": \"that would\", \"that'd've\": \"that would have\", \"that's\": \"that is\", \"there'd\": \"there would\",\n",
    "                           \"there'd've\": \"there would have\", \"there's\": \"there is\", \"here's\": \"here is\",\"they'd\": \"they would\", \"they'd've\": \"they would have\",\n",
    "                           \"they'll\": \"they will\", \"they'll've\": \"they will have\", \"they're\": \"they are\", \"they've\": \"they have\", \"to've\": \"to have\",\n",
    "                           \"wasn't\": \"was not\", \"we'd\": \"we would\", \"we'd've\": \"we would have\", \"we'll\": \"we will\", \"we'll've\": \"we will have\", \"we're\": \"we are\",\n",
    "                           \"we've\": \"we have\", \"weren't\": \"were not\", \"what'll\": \"what will\", \"what'll've\": \"what will have\", \"what're\": \"what are\",\n",
    "                           \"what's\": \"what is\", \"what've\": \"what have\", \"when's\": \"when is\", \"when've\": \"when have\", \"where'd\": \"where did\", \"where's\": \"where is\",\n",
    "                           \"where've\": \"where have\", \"who'll\": \"who will\", \"who'll've\": \"who will have\", \"who's\": \"who is\", \"who've\": \"who have\",\n",
    "                           \"why's\": \"why is\", \"why've\": \"why have\", \"will've\": \"will have\", \"won't\": \"will not\", \"won't've\": \"will not have\",\n",
    "                           \"would've\": \"would have\", \"wouldn't\": \"would not\", \"wouldn't've\": \"would not have\", \"y'all\": \"you all\",\n",
    "                           \"y'all'd\": \"you all would\",\"y'all'd've\": \"you all would have\",\"y'all're\": \"you all are\",\"y'all've\": \"you all have\",\n",
    "                           \"you'd\": \"you would\", \"you'd've\": \"you would have\", \"you'll\": \"you will\", \"you'll've\": \"you will have\",\n",
    "                           \"you're\": \"you are\", \"you've\": \"you have\"}\n",
    "\n",
    "print(\"정규화 사전의 수: \", len(contractions))"
   ]
  },
  {
   "cell_type": "markdown",
   "id": "b74c9d74",
   "metadata": {},
   "source": [
    "<br>\n",
    "\n",
    "- 앞서 노드에서 정의해 두었던 정규화 사전을 사용하도록 한다.<br><br>\n",
    "- **불용어(stopwords)**라고 불리는 일반적으로 텍스트에 자주 등장하지만 자연어 처리할 때 실질적으로 도움이 되지 않는 단어들을 제거해야함.<br><br>\n",
    "    - `NLTK`에서 제공하는 불용어 리스트를 참조해, 샘플에서 불용어를 제거한다.<br><br>\n",
    "    - 추가적으로 모든 영어 문자는 소문자로, 섞여있는 html 태그를 제거하고, 정규 표현식을 통해 각종 특수문자를 제거해서 정말 필요한 내용만 잘 학습할 수 있도록 처리해야 함.<br><br>"
   ]
  },
  {
   "cell_type": "code",
   "execution_count": 10,
   "id": "85a734d3",
   "metadata": {},
   "outputs": [
    {
     "name": "stdout",
     "output_type": "stream",
     "text": [
      "불용어 갯수 : 179\n",
      "['i', 'me', 'my', 'myself', 'we', 'our', 'ours', 'ourselves', 'you', \"you're\", \"you've\", \"you'll\", \"you'd\", 'your', 'yours', 'yourself', 'yourselves', 'he', 'him', 'his', 'himself', 'she', \"she's\", 'her', 'hers', 'herself', 'it', \"it's\", 'its', 'itself', 'they', 'them', 'their', 'theirs', 'themselves', 'what', 'which', 'who', 'whom', 'this', 'that', \"that'll\", 'these', 'those', 'am', 'is', 'are', 'was', 'were', 'be', 'been', 'being', 'have', 'has', 'had', 'having', 'do', 'does', 'did', 'doing', 'a', 'an', 'the', 'and', 'but', 'if', 'or', 'because', 'as', 'until', 'while', 'of', 'at', 'by', 'for', 'with', 'about', 'against', 'between', 'into', 'through', 'during', 'before', 'after', 'above', 'below', 'to', 'from', 'up', 'down', 'in', 'out', 'on', 'off', 'over', 'under', 'again', 'further', 'then', 'once', 'here', 'there', 'when', 'where', 'why', 'how', 'all', 'any', 'both', 'each', 'few', 'more', 'most', 'other', 'some', 'such', 'no', 'nor', 'not', 'only', 'own', 'same', 'so', 'than', 'too', 'very', 's', 't', 'can', 'will', 'just', 'don', \"don't\", 'should', \"should've\", 'now', 'd', 'll', 'm', 'o', 're', 've', 'y', 'ain', 'aren', \"aren't\", 'couldn', \"couldn't\", 'didn', \"didn't\", 'doesn', \"doesn't\", 'hadn', \"hadn't\", 'hasn', \"hasn't\", 'haven', \"haven't\", 'isn', \"isn't\", 'ma', 'mightn', \"mightn't\", 'mustn', \"mustn't\", 'needn', \"needn't\", 'shan', \"shan't\", 'shouldn', \"shouldn't\", 'wasn', \"wasn't\", 'weren', \"weren't\", 'won', \"won't\", 'wouldn', \"wouldn't\"]\n"
     ]
    }
   ],
   "source": [
    "print('불용어 갯수 :', len(stopwords.words('english')))\n",
    "print(stopwords.words('english'))"
   ]
  },
  {
   "cell_type": "code",
   "execution_count": 11,
   "id": "24d8fb3e",
   "metadata": {},
   "outputs": [],
   "source": [
    "# 데이터 전처리 정제 함수\n",
    "\n",
    "def preprocess_sentence(sentence, remove_stopwords=True):\n",
    "    sentence = sentence.lower() # 텍스트 소문자화\n",
    "    sentence = BeautifulSoup(sentence, 'lxml').text # <br />, <a href = ...>등의 html 태그 제거\n",
    "    sentence = re.sub(r'\\([^)]*\\)', '', sentence) # 괄호로 닫힌 문자열 (...) 제거 Ex) my husband (and myself!) for => my husband for\n",
    "    sentence = re.sub('\"','', sentence) # 쌍따옴표 \" 제거\n",
    "    sentence = ' '.join([contractions[t] if t in contractions else t for t in sentence.split(\" \")]) # 약어 정규화\n",
    "    sentence = re.sub(r\"'s\\b\",\"\", sentence) # 소유격 제거. Ex) roland's -> roland\n",
    "    sentence = re.sub(\"[^a-zA-Z]\", \" \", sentence) # 영어 외 문자(숫자, 특수문자 등) 공백으로 변환\n",
    "    sentence = re.sub('[m]{2,}', 'mm', sentence) # m이 3개 이상이면 2개로 변경. Ex) ummmmmmm yeah -> umm yeah\n",
    "    \n",
    "    # 불용어 제거 (Text)\n",
    "    if remove_stopwords:\n",
    "        tokens = ' '.join(word for word in sentence.split() if not word in stopwords.words('english') if len(word) > 1)\n",
    "    # 불용어 미제거 (Summary)\n",
    "    else:\n",
    "        tokens = ' '.join(word for word in sentence.split() if len(word) > 1)\n",
    "    return tokens\n",
    "    "
   ]
  },
  {
   "cell_type": "code",
   "execution_count": 12,
   "id": "8c6a1242",
   "metadata": {},
   "outputs": [
    {
     "name": "stdout",
     "output_type": "stream",
     "text": [
      "0.0 % complete.\n",
      "9.15 % complete.\n",
      "18.3 % complete.\n",
      "27.45 % complete.\n",
      "36.6 % complete.\n",
      "45.75 % complete.\n",
      "54.9 % complete.\n",
      "64.05 % complete.\n",
      "73.2 % complete.\n",
      "82.35 % complete.\n",
      "91.5 % complete.\n",
      "\n",
      "text 전처리 후 결과 : ['saurav kant alumnus upgrad iiit pg program machine learning artificial intelligence sr systems engineer infosys almost years work experience program upgrad degree career support helped transition data scientist tech mahindra salary hike upgrad online power learning powered lakh careers', 'kunal shah credit card bill payment platform cred gave users chance win free food swiggy one year pranav kaushik delhi techie bagged reward spending cred coins users get one cred coin per rupee bill paid used avail rewards brands like ixigo bookmyshow ubereats cult fit', 'new zealand defeated india wickets fourth odi hamilton thursday win first match five match odi series india lost international match rohit sharma captaincy consecutive victories dating back march match witnessed india getting seventh lowest total odi cricket history', 'aegon life iterm insurance plan customers enjoy tax benefits premiums paid save taxes plan provides life cover age years also customers options insure critical illnesses disability accidental death benefit rider life cover age years', 'speaking sexual harassment allegations rajkumar hirani sonam kapoor said known hirani many years true metoo movement get derailed metoo movement always believe woman case need reserve judgment added hirani accused assistant worked sanju']\n"
     ]
    }
   ],
   "source": [
    "clean_text = []\n",
    "# 전체 text 데이터에 대한 전처리\n",
    "for i, s in enumerate(data['text']):\n",
    "    clean_text.append(preprocess_sentence(s))\n",
    "    if i % 9000 == 0:\n",
    "        print(f\"{round(100*i/len(data['text']),2)} % complete.\")\n",
    "    \n",
    "# 전처리 후 출력\n",
    "print('\\ntext 전처리 후 결과 :', clean_text[:5])"
   ]
  },
  {
   "cell_type": "code",
   "execution_count": 13,
   "id": "652a1bca",
   "metadata": {},
   "outputs": [
    {
     "name": "stdout",
     "output_type": "stream",
     "text": [
      "0.0 % complete.\n",
      "9.15 % complete.\n",
      "18.3 % complete.\n",
      "27.45 % complete.\n",
      "36.6 % complete.\n",
      "45.75 % complete.\n",
      "54.9 % complete.\n",
      "64.05 % complete.\n",
      "73.2 % complete.\n",
      "82.35 % complete.\n",
      "91.5 % complete.\n",
      "\n",
      "headlines 전처리 후 결과 : ['upgrad learner switches career ml al salary hike', 'delhi techie wins free food swiggy one year cred', 'new zealand end rohit sharma led india match winning streak', 'aegon life iterm insurance plan helps customers save tax', 'known hirani yrs metoo claims true sonam']\n"
     ]
    }
   ],
   "source": [
    "clean_headlines = []\n",
    "# 전체 text 데이터에 대한 전처리\n",
    "for i, s in enumerate(data['headlines']):\n",
    "    clean_headlines.append(preprocess_sentence(s))\n",
    "    if i % 9000 == 0:\n",
    "        print(f\"{round(100*i/len(data['headlines']),2)} % complete.\")\n",
    "    \n",
    "# 전처리 후 출력\n",
    "print('\\nheadlines 전처리 후 결과 :', clean_headlines[:5])"
   ]
  },
  {
   "cell_type": "markdown",
   "id": "31b71803",
   "metadata": {},
   "source": [
    "<br>\n",
    "\n",
    "- 텍스트 정제의 과정을 거친 후 다시 한번 빈(empty) 샘플이 생겼는지 확인해보자.<br>왜냐하면, 정제 전에는 데이터가 존재했지만, 정제 과정에서 문장의 모든 단어가 사라지는 경우가 있을 수 있다.<br><br>"
   ]
  },
  {
   "cell_type": "code",
   "execution_count": 14,
   "id": "65bae145",
   "metadata": {},
   "outputs": [],
   "source": [
    "# 정제된 리스트 객체들을 다시 data 데이터프레임으로 재 저장한다.\n",
    "\n",
    "data['text'] = clean_text\n",
    "data['headlines'] = clean_headlines\n",
    "\n",
    "# 빈 값을 null 값으로 변환\n",
    "data.replace('', np.nan, inplace=True)"
   ]
  },
  {
   "cell_type": "code",
   "execution_count": 15,
   "id": "f3351226",
   "metadata": {},
   "outputs": [
    {
     "data": {
      "text/plain": [
       "text         0\n",
       "headlines    0\n",
       "dtype: int64"
      ]
     },
     "execution_count": 15,
     "metadata": {},
     "output_type": "execute_result"
    }
   ],
   "source": [
    "# data 내에 null 값이 있는지 확인한다.\n",
    "data.isnull().sum()"
   ]
  },
  {
   "cell_type": "code",
   "execution_count": 16,
   "id": "1d84089d",
   "metadata": {},
   "outputs": [
    {
     "name": "stdout",
     "output_type": "stream",
     "text": [
      "전체 샘플 수 : 98360\n"
     ]
    }
   ],
   "source": [
    "data.dropna(axis=0, inplace=True)\n",
    "print('전체 샘플 수 :', len(data))"
   ]
  },
  {
   "cell_type": "markdown",
   "id": "d58439aa",
   "metadata": {},
   "source": [
    "<br><br>\n",
    "**⭐ 3) 샘플의 최대 길이 정하기**\n",
    "\n",
    "---"
   ]
  },
  {
   "cell_type": "markdown",
   "id": "cc860b27",
   "metadata": {},
   "source": [
    "- 필요없는 단어를 모두 솎아낸 데이터를 가지게 되었다. 이제는 훈련에 사용할 샘플의 최대 길이를 지정해보자"
   ]
  },
  {
   "cell_type": "code",
   "execution_count": 17,
   "id": "33a4b55c",
   "metadata": {},
   "outputs": [
    {
     "name": "stdout",
     "output_type": "stream",
     "text": [
      "텍스트의 최소 길이 : 1\n",
      "텍스트의 최대 길이 : 60\n",
      "텍스트의 평균 길이 : 35.09968483123221\n",
      "헤드라인의 최소 길이 : 1\n",
      "헤드라인의 최대 길이 : 13\n",
      "헤드라인의 평균 길이 : 7.136183407889386\n"
     ]
    },
    {
     "data": {
      "image/png": "[encoded data removed]",
      "text/plain": [
       "<Figure size 432x288 with 2 Axes>"
      ]
     },
     "metadata": {
      "needs_background": "light"
     },
     "output_type": "display_data"
    },
    {
     "data": {
      "image/png": "[encoded data removed]",
      "text/plain": [
       "<Figure size 432x288 with 1 Axes>"
      ]
     },
     "metadata": {
      "needs_background": "light"
     },
     "output_type": "display_data"
    },
    {
     "data": {
      "image/png": "[encoded data removed]",
      "text/plain": [
       "<Figure size 432x288 with 1 Axes>"
      ]
     },
     "metadata": {
      "needs_background": "light"
     },
     "output_type": "display_data"
    }
   ],
   "source": [
    "# 길이 분포 출력\n",
    "text_len = [len(s.split()) for s in data['text']]\n",
    "headlines_len = [len(s.split()) for s in data['headlines']]\n",
    "\n",
    "print('텍스트의 최소 길이 : {}'.format(np.min(text_len)))\n",
    "print('텍스트의 최대 길이 : {}'.format(np.max(text_len)))\n",
    "print('텍스트의 평균 길이 : {}'.format(np.mean(text_len)))\n",
    "print('헤드라인의 최소 길이 : {}'.format(np.min(headlines_len)))\n",
    "print('헤드라인의 최대 길이 : {}'.format(np.max(headlines_len)))\n",
    "print('헤드라인의 평균 길이 : {}'.format(np.mean(headlines_len)))\n",
    "\n",
    "plt.subplot(121)\n",
    "plt.boxplot(text_len)\n",
    "plt.title('text')\n",
    "plt.subplot(122)\n",
    "plt.boxplot(headlines_len)\n",
    "plt.title('headlines')\n",
    "plt.tight_layout()\n",
    "plt.show()\n",
    "\n",
    "plt.title('text')\n",
    "plt.hist(text_len, bins=40)\n",
    "plt.xlabel('length of samples')\n",
    "plt.ylabel('number of samples')\n",
    "plt.show()\n",
    "\n",
    "plt.title('headlines')\n",
    "plt.hist(headlines_len, bins=40)\n",
    "plt.xlabel('length of samples')\n",
    "plt.ylabel('number of samples')\n",
    "plt.show()"
   ]
  },
  {
   "cell_type": "code",
   "execution_count": 18,
   "id": "fc309c11",
   "metadata": {},
   "outputs": [],
   "source": [
    "# 위 통계적인 데이터 값을 통해 text와 headlines의 최대 길이를 임의로 정해본다.\n",
    "\n",
    "text_max_len = 40\n",
    "headlines_max_len = 8"
   ]
  },
  {
   "cell_type": "code",
   "execution_count": 19,
   "id": "0312fdbf",
   "metadata": {},
   "outputs": [],
   "source": [
    "def below_threshold_len(max_len, nested_list):\n",
    "  cnt = 0\n",
    "  for s in nested_list:\n",
    "    if(len(s.split()) <= max_len):\n",
    "        cnt = cnt + 1\n",
    "  print('전체 샘플 중 길이가 %s 이하인 샘플의 비율: %s'%(max_len, (cnt / len(nested_list))))"
   ]
  },
  {
   "cell_type": "code",
   "execution_count": 20,
   "id": "13c5d7fc",
   "metadata": {},
   "outputs": [
    {
     "name": "stdout",
     "output_type": "stream",
     "text": [
      "전체 샘플 중 길이가 40 이하인 샘플의 비율: 0.9238714924766165\n",
      "전체 샘플 중 길이가 8 이하인 샘플의 비율: 0.8925782838552258\n"
     ]
    }
   ],
   "source": [
    "below_threshold_len(text_max_len, data['text'])\n",
    "below_threshold_len(headlines_max_len,  data['headlines'])"
   ]
  },
  {
   "cell_type": "markdown",
   "id": "9e86fb15",
   "metadata": {},
   "source": [
    "- 40과 8로 text와 headlines를 각각 패딩하게 되면 해당 길이보다 긴 샘플들은 잘리게 된다.<br>text의 경우 약 8%, headlines의 경우 약 10% 샘플의 내용이 망가지게 된다.<br><br>"
   ]
  },
  {
   "cell_type": "code",
   "execution_count": 21,
   "id": "9989315c",
   "metadata": {},
   "outputs": [
    {
     "name": "stdout",
     "output_type": "stream",
     "text": [
      "전체 샘플수 : 81914\n"
     ]
    }
   ],
   "source": [
    "data = data[data['text'].apply(lambda x: len(x.split()) <= text_max_len)]\n",
    "data = data[data['headlines'].apply(lambda x: len(x.split()) <= headlines_max_len)]\n",
    "print('전체 샘플수 :', (len(data)))"
   ]
  },
  {
   "cell_type": "markdown",
   "id": "a3c61ea8",
   "metadata": {},
   "source": [
    "△ `text`와 `headlines`의 최대길이를 설정하여 최대길이를 넘어서는 샘플은 제외시켰더니, 전체 샘플수는 98360 >>> 81914로 줄었다.<br><br>"
   ]
  },
  {
   "cell_type": "markdown",
   "id": "642a0793",
   "metadata": {},
   "source": [
    "<br><br>\n",
    "**⭐ 4) 시작토큰과 종료토큰 추가하기**\n",
    "\n",
    "---"
   ]
  },
  {
   "cell_type": "markdown",
   "id": "b24e59ac",
   "metadata": {},
   "source": [
    "- `seq2seq` 모델 훈련을 위해 디코더의 입력과 레이블에 시작 토큰과 종료 토큰을 추가해야한다.<br>디코더의 입력에 해당하면서 시작 토큰이 맨 앞에 있는 문장의 이름을 `decoder_input`, <br>디코더의 출력 또는 레이블에 해당하면서 종료 토큰이 맨 뒤에 붙는 문장의 이름은 `decoder_target`이라고 이름을 정했다.<br><br>\n",
    "- 우리의 목표인 텍스트 문장을 읽고 요약을 하기위한 것으로 두 문장 모두 `headlines` 열로부터 만들기로 한다."
   ]
  },
  {
   "cell_type": "code",
   "execution_count": 22,
   "id": "48f2d9f8",
   "metadata": {},
   "outputs": [
    {
     "data": {
      "text/html": [
       "<div>\n",
       "<style scoped>\n",
       "    .dataframe tbody tr th:only-of-type {\n",
       "        vertical-align: middle;\n",
       "    }\n",
       "\n",
       "    .dataframe tbody tr th {\n",
       "        vertical-align: top;\n",
       "    }\n",
       "\n",
       "    .dataframe thead th {\n",
       "        text-align: right;\n",
       "    }\n",
       "</style>\n",
       "<table border=\"1\" class=\"dataframe\">\n",
       "  <thead>\n",
       "    <tr style=\"text-align: right;\">\n",
       "      <th></th>\n",
       "      <th>text</th>\n",
       "      <th>headlines</th>\n",
       "      <th>decoder_input</th>\n",
       "      <th>decoder_target</th>\n",
       "    </tr>\n",
       "  </thead>\n",
       "  <tbody>\n",
       "    <tr>\n",
       "      <th>0</th>\n",
       "      <td>saurav kant alumnus upgrad iiit pg program mac...</td>\n",
       "      <td>upgrad learner switches career ml al salary hike</td>\n",
       "      <td>sostoken upgrad learner switches career ml al ...</td>\n",
       "      <td>upgrad learner switches career ml al salary hi...</td>\n",
       "    </tr>\n",
       "    <tr>\n",
       "      <th>4</th>\n",
       "      <td>speaking sexual harassment allegations rajkuma...</td>\n",
       "      <td>known hirani yrs metoo claims true sonam</td>\n",
       "      <td>sostoken known hirani yrs metoo claims true sonam</td>\n",
       "      <td>known hirani yrs metoo claims true sonam eostoken</td>\n",
       "    </tr>\n",
       "    <tr>\n",
       "      <th>6</th>\n",
       "      <td>india recorded lowest odi total new zealand ge...</td>\n",
       "      <td>india get lowest odi total new zealand</td>\n",
       "      <td>sostoken india get lowest odi total new zealand</td>\n",
       "      <td>india get lowest odi total new zealand eostoken</td>\n",
       "    </tr>\n",
       "    <tr>\n",
       "      <th>7</th>\n",
       "      <td>weeks ex cbi director alok verma told departme...</td>\n",
       "      <td>govt directs alok verma join work day retirement</td>\n",
       "      <td>sostoken govt directs alok verma join work day...</td>\n",
       "      <td>govt directs alok verma join work day retireme...</td>\n",
       "    </tr>\n",
       "    <tr>\n",
       "      <th>9</th>\n",
       "      <td>congress candidate shafia zubair ramgarh assem...</td>\n",
       "      <td>cong wins ramgarh bypoll rajasthan takes total...</td>\n",
       "      <td>sostoken cong wins ramgarh bypoll rajasthan ta...</td>\n",
       "      <td>cong wins ramgarh bypoll rajasthan takes total...</td>\n",
       "    </tr>\n",
       "  </tbody>\n",
       "</table>\n",
       "</div>"
      ],
      "text/plain": [
       "                                                text  \\\n",
       "0  saurav kant alumnus upgrad iiit pg program mac...   \n",
       "4  speaking sexual harassment allegations rajkuma...   \n",
       "6  india recorded lowest odi total new zealand ge...   \n",
       "7  weeks ex cbi director alok verma told departme...   \n",
       "9  congress candidate shafia zubair ramgarh assem...   \n",
       "\n",
       "                                           headlines  \\\n",
       "0   upgrad learner switches career ml al salary hike   \n",
       "4           known hirani yrs metoo claims true sonam   \n",
       "6             india get lowest odi total new zealand   \n",
       "7   govt directs alok verma join work day retirement   \n",
       "9  cong wins ramgarh bypoll rajasthan takes total...   \n",
       "\n",
       "                                       decoder_input  \\\n",
       "0  sostoken upgrad learner switches career ml al ...   \n",
       "4  sostoken known hirani yrs metoo claims true sonam   \n",
       "6    sostoken india get lowest odi total new zealand   \n",
       "7  sostoken govt directs alok verma join work day...   \n",
       "9  sostoken cong wins ramgarh bypoll rajasthan ta...   \n",
       "\n",
       "                                      decoder_target  \n",
       "0  upgrad learner switches career ml al salary hi...  \n",
       "4  known hirani yrs metoo claims true sonam eostoken  \n",
       "6    india get lowest odi total new zealand eostoken  \n",
       "7  govt directs alok verma join work day retireme...  \n",
       "9  cong wins ramgarh bypoll rajasthan takes total...  "
      ]
     },
     "execution_count": 22,
     "metadata": {},
     "output_type": "execute_result"
    }
   ],
   "source": [
    "# 요약 데이터에는 시작 토큰과 종료 토큰을 추가한다.\n",
    "data['decoder_input'] = data['headlines'].apply(lambda x:'sostoken ' + x)\n",
    "data['decoder_target'] = data['headlines'].apply(lambda x : x + ' eostoken')\n",
    "data.head()"
   ]
  },
  {
   "cell_type": "code",
   "execution_count": 23,
   "id": "84b05dcc",
   "metadata": {},
   "outputs": [],
   "source": [
    "# 인코더의 입력, 디코더의 입력과 디코더의 레이블을 각각 다시 Numpy 타입으로 저장한다.\n",
    "\n",
    "encoder_input = np.array(data['text'])  # 인코더의 입력\n",
    "decoder_input = np.array(data['decoder_input'])  # 디코더의 입력\n",
    "decoder_target = np.array(data['decoder_target'])  # 디코더의 레이블"
   ]
  },
  {
   "cell_type": "markdown",
   "id": "b7c0c4e2",
   "metadata": {},
   "source": [
    "<br>\n",
    "\n",
    "- 이제 훈련데이터와 테스트데이터를 분리하는데 직접 코딩을 통해 분리하는 방법을 사용한다.<br>\n",
    "- `encoder_input`과 크기와 형태가 같은 순서가 섞인 정수 시퀀스를 만든다.<br><br>"
   ]
  },
  {
   "cell_type": "code",
   "execution_count": 24,
   "id": "486adef8",
   "metadata": {},
   "outputs": [
    {
     "name": "stdout",
     "output_type": "stream",
     "text": [
      "[ 9785  1118 17741 ... 73589 42301 28453]\n"
     ]
    }
   ],
   "source": [
    "indices = np.arange(encoder_input.shape[0])\n",
    "np.random.shuffle(indices)\n",
    "print(indices)"
   ]
  },
  {
   "cell_type": "markdown",
   "id": "23883fed",
   "metadata": {},
   "source": [
    "- 정수 시퀀스를 통해 다시 데이터의 샘플 순서를 정의해주면 잘 섞인 샘플이 된다."
   ]
  },
  {
   "cell_type": "code",
   "execution_count": 25,
   "id": "136dc04e",
   "metadata": {},
   "outputs": [],
   "source": [
    "encoder_input = encoder_input[indices]\n",
    "decoder_input = decoder_input[indices]\n",
    "decoder_target = decoder_target[indices]"
   ]
  },
  {
   "cell_type": "markdown",
   "id": "dd800faa",
   "metadata": {},
   "source": [
    "- 이제 섞인 데이터를 8:2 비율로 훈련 데이터와 검증데이터로 분리한다."
   ]
  },
  {
   "cell_type": "code",
   "execution_count": 26,
   "id": "cd27aa0f",
   "metadata": {},
   "outputs": [
    {
     "name": "stdout",
     "output_type": "stream",
     "text": [
      "검증 데이터의 수 : 16382\n"
     ]
    }
   ],
   "source": [
    "n_of_val = int(len(encoder_input)*0.2)\n",
    "print('검증 데이터의 수 :', n_of_val)"
   ]
  },
  {
   "cell_type": "code",
   "execution_count": 27,
   "id": "d10656fe",
   "metadata": {},
   "outputs": [
    {
     "name": "stdout",
     "output_type": "stream",
     "text": [
      "훈련 데이터의 갯수 : 65532\n",
      "훈련 레이블의 갯수 : 65532\n",
      "검증 데이터의 갯수 : 16382\n",
      "검증 레이블의 갯수 : 16382\n"
     ]
    }
   ],
   "source": [
    "encoder_input_train = encoder_input[:-n_of_val]\n",
    "decoder_input_train = decoder_input[:-n_of_val]\n",
    "decoder_target_train = decoder_target[:-n_of_val]\n",
    "\n",
    "encoder_input_test = encoder_input[-n_of_val:]\n",
    "decoder_input_test = decoder_input[-n_of_val:]\n",
    "decoder_target_test = decoder_target[-n_of_val:]\n",
    "\n",
    "print('훈련 데이터의 갯수 :', len(encoder_input_train))\n",
    "print('훈련 레이블의 갯수 :', len(decoder_input_train))\n",
    "print('검증 데이터의 갯수 :', len(encoder_input_test))\n",
    "print('검증 레이블의 갯수 :', len(decoder_input_test))"
   ]
  },
  {
   "cell_type": "markdown",
   "id": "f37fbb08",
   "metadata": {},
   "source": [
    "<br><br>\n",
    "**⭐ 5) 단어집합(vocabulary) 만들기 및 정수 인코딩**\n",
    "\n",
    "---"
   ]
  },
  {
   "cell_type": "markdown",
   "id": "a6e44431",
   "metadata": {},
   "source": [
    "- 이제 기계가 텍스트를 숫자로 처리할 수 있도록 훈련데이터와 검증데이터의 단어들을 모두 정수로 바꾸어 주어야 한다.<br>이를 위해서 각 단어에 고유한 정수를 맵핑하는 작업이 필요한데 이 과정을 **단어집합(vocabulary)**를 만든다고 표현한다."
   ]
  },
  {
   "cell_type": "markdown",
   "id": "c661508f",
   "metadata": {},
   "source": [
    "#### 5-1) `text` 데이터 정수 인코딩<br><br>"
   ]
  },
  {
   "cell_type": "code",
   "execution_count": 28,
   "id": "c44546af",
   "metadata": {},
   "outputs": [],
   "source": [
    "src_tokenizer = Tokenizer()  # 토크나이저 정의\n",
    "src_tokenizer.fit_on_texts(encoder_input_train)  # 입력된 데이터로부터 단어 집합 생성"
   ]
  },
  {
   "cell_type": "code",
   "execution_count": 29,
   "id": "7b60fe78",
   "metadata": {},
   "outputs": [
    {
     "name": "stdout",
     "output_type": "stream",
     "text": [
      "단어 집합(vocabulary)의 크기 : 62895\n",
      "등장 빈도가 6번 이하인 희귀 단어의 수: 42879\n",
      "단어 집합에서 희귀 단어를 제외시킬 경우의 단어 집합의 크기 20016\n",
      "단어 집합에서 희귀 단어의 비율: 68.17553064631528\n",
      "전체 등장 빈도에서 희귀 단어 등장 빈도 비율: 3.8742576177813994\n"
     ]
    }
   ],
   "source": [
    "threshold = 7\n",
    "total_cnt = len(src_tokenizer.word_index) # 단어의 수\n",
    "rare_cnt = 0 # 등장 빈도수가 threshold보다 작은 단어의 개수를 카운트\n",
    "total_freq = 0 # 훈련 데이터의 전체 단어 빈도수 총 합\n",
    "rare_freq = 0 # 등장 빈도수가 threshold보다 작은 단어의 등장 빈도수의 총 합\n",
    "\n",
    "# 단어와 빈도수의 쌍(pair)을 key와 value로 받는다.\n",
    "for key, value in src_tokenizer.word_counts.items():\n",
    "    total_freq = total_freq + value\n",
    "\n",
    "    # 단어의 등장 빈도수가 threshold보다 작으면\n",
    "    if(value < threshold):\n",
    "        rare_cnt = rare_cnt + 1\n",
    "        rare_freq = rare_freq + value\n",
    "\n",
    "print('단어 집합(vocabulary)의 크기 :', total_cnt)\n",
    "print('등장 빈도가 %s번 이하인 희귀 단어의 수: %s'%(threshold - 1, rare_cnt))\n",
    "print('단어 집합에서 희귀 단어를 제외시킬 경우의 단어 집합의 크기 %s'%(total_cnt - rare_cnt))\n",
    "print(\"단어 집합에서 희귀 단어의 비율:\", (rare_cnt / total_cnt)*100)\n",
    "print(\"전체 등장 빈도에서 희귀 단어 등장 빈도 비율:\", (rare_freq / total_freq)*100)"
   ]
  },
  {
   "cell_type": "markdown",
   "id": "b30963d8",
   "metadata": {},
   "source": [
    "- `encoder_input_train`에는 6만여개의 단어가 있다.<br>\n",
    "- 등장빈도가 threshold 값이 7회 미만, 즉 6회 이하인 단어들은 단어 집합에서 약 70%를 차지한다. 하지만 실제로 훈련 데이터에서 등장 빈도로 차지하는 비중은 상대적으로 적은 수치인 3.8 밖에 되지 않는다.<br><br>\n",
    "- 따라서, 등장 빈도가 6회 이하인 단어들은 정수 인코딩 과정에서 빼고, 훈련 데이터에서 제거하고자 한다.<br>위에서 이를 제외한 단어 집합의 크기를 어림잡아 20,000으로 제한한다. \n",
    "    - 토크나이저를 정의할 때, `num_words`의 값을 정해주면, 단어 집합의 크기를 제한할 수 있다.<br><br>"
   ]
  },
  {
   "cell_type": "code",
   "execution_count": 30,
   "id": "4a2351f2",
   "metadata": {},
   "outputs": [],
   "source": [
    "src_vocab = 20000\n",
    "src_tokenizer = Tokenizer(num_words=src_vocab)  # 단어 집합의 크기를 20,000으로 제한\n",
    "src_tokenizer.fit_on_texts(encoder_input_train)  # 단어 집합 재생성"
   ]
  },
  {
   "cell_type": "markdown",
   "id": "15a1c5f6",
   "metadata": {},
   "source": [
    "- `text_to_sequences()`는 생성된 단어 집합에 기반하여 입력으로 주어진 텍스트 데이터의 단어들을 모두 정수로 변환하는 정수 인코딩을 수행함."
   ]
  },
  {
   "cell_type": "code",
   "execution_count": 31,
   "id": "930df316",
   "metadata": {
    "scrolled": true
   },
   "outputs": [
    {
     "name": "stdout",
     "output_type": "stream",
     "text": [
      "encoder_input_train ::\n",
      "[[1161, 222, 180, 14, 134, 45, 59, 17, 614, 1564, 3542, 1161, 105, 1264, 193, 180, 14, 2217, 73, 1254, 1406, 2580, 74, 1, 7, 650, 1674, 614, 3708, 385, 813, 11861, 1118, 602, 14968], [1491, 19, 1242, 1325, 9749, 15698, 656, 730, 1294, 686, 137, 1068, 611, 3594, 15698, 946, 611, 656, 40, 3438, 228, 584, 2449, 404, 357, 10240, 32, 107, 611, 357, 404, 14303, 15698], [469, 7190, 2030, 288, 2680, 140, 37, 1096, 15699, 18618, 658, 405, 171, 28, 1, 469, 3733, 171, 628, 5282, 6185, 288, 657, 37, 16, 224, 140, 37, 493, 22, 7066, 469, 2493, 2208, 1153, 109, 11142, 12739, 5339, 2313]]\n",
      "\n",
      "encoder_input_val ::\n",
      "[[144, 7, 98, 58, 458, 5361, 6640, 444, 2925, 2182, 227, 1694, 74, 1, 98, 458, 186, 4001, 120, 488, 2182, 400, 661, 1, 99, 628, 40, 1331, 186], [4863, 31, 326, 219, 230, 263, 44, 3744, 1722, 9500, 4397, 186, 1322, 317, 2526, 6037, 1322, 1301, 2531, 307, 5482, 1175, 613, 326, 12, 83, 372, 1088, 635, 80, 1288, 280, 306, 543, 5535, 4528], [99, 1443, 3973, 780, 7576, 1095, 1188, 16062, 69, 29, 123, 2866, 52, 1443, 47, 28, 1294, 1127, 16062, 695, 12125, 2633, 10600, 534, 1188, 1188, 4699, 12125, 14039, 2633, 92, 14360]]\n"
     ]
    }
   ],
   "source": [
    "# 텍스트 시퀀스를 정수 시퀀스로 변환\n",
    "encoder_input_train = src_tokenizer.texts_to_sequences(encoder_input_train)\n",
    "encoder_input_test = src_tokenizer.texts_to_sequences(encoder_input_test)\n",
    "\n",
    "# 잘 진행되었는지 샘플 출력\n",
    "print('encoder_input_train ::')\n",
    "print(encoder_input_train[:3])\n",
    "print('\\nencoder_input_val ::')\n",
    "print(encoder_input_test[:3])"
   ]
  },
  {
   "cell_type": "markdown",
   "id": "74d0f8bb",
   "metadata": {},
   "source": [
    "#### 5-2) `headlines` 데이터 정수 인코딩<br><br>"
   ]
  },
  {
   "cell_type": "code",
   "execution_count": 32,
   "id": "19b073d9",
   "metadata": {},
   "outputs": [],
   "source": [
    "tar_tokenizer = Tokenizer()\n",
    "tar_tokenizer.fit_on_texts(decoder_input_train)"
   ]
  },
  {
   "cell_type": "code",
   "execution_count": 33,
   "id": "38b0a91b",
   "metadata": {},
   "outputs": [
    {
     "name": "stdout",
     "output_type": "stream",
     "text": [
      "단어 집합(vocabulary)의 크기 : 27555\n",
      "등장 빈도가 5번 이하인 희귀 단어의 수: 18256\n",
      "단어 집합에서 희귀 단어를 제외시킬 경우의 단어 집합의 크기 9299\n",
      "단어 집합에서 희귀 단어의 비율: 66.25294864815822\n",
      "전체 등장 빈도에서 희귀 단어 등장 빈도 비율: 6.784627587263478\n"
     ]
    }
   ],
   "source": [
    "threshold = 6\n",
    "total_cnt = len(tar_tokenizer.word_index) # 단어의 수\n",
    "rare_cnt = 0 # 등장 빈도수가 threshold보다 작은 단어의 개수를 카운트\n",
    "total_freq = 0 # 훈련 데이터의 전체 단어 빈도수 총 합\n",
    "rare_freq = 0 # 등장 빈도수가 threshold보다 작은 단어의 등장 빈도수의 총 합\n",
    "\n",
    "# 단어와 빈도수의 쌍(pair)을 key와 value로 받는다.\n",
    "for key, value in tar_tokenizer.word_counts.items():\n",
    "    total_freq = total_freq + value\n",
    "\n",
    "    # 단어의 등장 빈도수가 threshold보다 작으면\n",
    "    if(value < threshold):\n",
    "        rare_cnt = rare_cnt + 1\n",
    "        rare_freq = rare_freq + value\n",
    "\n",
    "print('단어 집합(vocabulary)의 크기 :', total_cnt)\n",
    "print('등장 빈도가 %s번 이하인 희귀 단어의 수: %s'%(threshold - 1, rare_cnt))\n",
    "print('단어 집합에서 희귀 단어를 제외시킬 경우의 단어 집합의 크기 %s'%(total_cnt - rare_cnt))\n",
    "print(\"단어 집합에서 희귀 단어의 비율:\", (rare_cnt / total_cnt)*100)\n",
    "print(\"전체 등장 빈도에서 희귀 단어 등장 빈도 비율:\", (rare_freq / total_freq)*100)"
   ]
  },
  {
   "cell_type": "markdown",
   "id": "cc1b9048",
   "metadata": {},
   "source": [
    "- 등장빈도가 5회 이하인 단어들은 단어 집합에서 약 70%를 차지하고 있다. 실제 훈련 데이터에서 등장 빈도로 차지하는 비중은 5.87% 밖에 되지 않는다."
   ]
  },
  {
   "cell_type": "code",
   "execution_count": 34,
   "id": "65053725",
   "metadata": {},
   "outputs": [
    {
     "name": "stdout",
     "output_type": "stream",
     "text": [
      "input\n",
      "input  [[1, 924, 504, 49, 9, 127, 838], [1, 318, 1780, 61, 1323, 221], [1, 122, 311, 736, 1277, 5608, 14], [1, 10, 64, 997, 5, 163, 114, 556, 7805], [1, 4, 1109, 84, 3242, 1900, 62, 1045]]\n",
      "target\n",
      "decoder  [[924, 504, 49, 9, 127, 838, 2], [318, 1780, 61, 1323, 221, 2], [122, 311, 736, 1277, 5608, 14, 2], [10, 64, 997, 5, 163, 114, 556, 7805, 2], [4, 1109, 84, 3242, 1900, 62, 1045, 2]]\n"
     ]
    }
   ],
   "source": [
    "tar_vocab = 9000\n",
    "tar_tokenizer = Tokenizer(num_words=tar_vocab) \n",
    "tar_tokenizer.fit_on_texts(decoder_input_train)\n",
    "tar_tokenizer.fit_on_texts(decoder_target_train)\n",
    "\n",
    "# 텍스트 시퀀스를 정수 시퀀스로 변환\n",
    "decoder_input_train = tar_tokenizer.texts_to_sequences(decoder_input_train) \n",
    "decoder_target_train = tar_tokenizer.texts_to_sequences(decoder_target_train)\n",
    "decoder_input_test = tar_tokenizer.texts_to_sequences(decoder_input_test)\n",
    "decoder_target_test = tar_tokenizer.texts_to_sequences(decoder_target_test)\n",
    "\n",
    "# 잘 변환되었는지 확인\n",
    "print('input')\n",
    "print('input ',decoder_input_train[:5])\n",
    "print('target')\n",
    "print('decoder ',decoder_target_train[:5])"
   ]
  },
  {
   "cell_type": "markdown",
   "id": "5cb5e09c",
   "metadata": {},
   "source": [
    "- `decoder_input_train`과 `decoder_target_train`에는 더 이상 숫자 9000이 넘는 숫자들은 존재하지 않는다. <br><br>\n",
    "- 전체 데이터에서 빈도수가 낮은 단어가 삭제되었다 따라서, 빈도수가 낮은 단어만으로 구성되었던 샘플들은 이제 빈(empty)샘플이 되었다.<br>\n",
    "- 헤드라인에서 실제 길이가 1로 나오는 인덱스를 `drop_train`과 `drop_test` 변수에 저장 후 샘플들을 모두 삭제한다.<br>"
   ]
  },
  {
   "cell_type": "code",
   "execution_count": 35,
   "id": "4db473f0",
   "metadata": {
    "scrolled": true
   },
   "outputs": [
    {
     "name": "stdout",
     "output_type": "stream",
     "text": [
      "삭제할 훈련 데이터의 개수 : 2\n",
      "삭제할 테스트 데이터의 개수 : 1\n",
      "훈련 데이터의 개수 : 65530\n",
      "훈련 레이블의 개수 : 65530\n",
      "테스트 데이터의 개수 : 16381\n",
      "테스트 레이블의 개수 : 16381\n"
     ]
    }
   ],
   "source": [
    "drop_train = [index for index, sentence in enumerate(decoder_input_train) if len(sentence) == 1]\n",
    "drop_test = [index for index, sentence in enumerate(decoder_input_test) if len(sentence) == 1]\n",
    "\n",
    "print('삭제할 훈련 데이터의 개수 :', len(drop_train))\n",
    "print('삭제할 테스트 데이터의 개수 :', len(drop_test))\n",
    "\n",
    "encoder_input_train = [sentence for index, sentence in enumerate(encoder_input_train) if index not in drop_train]\n",
    "decoder_input_train = [sentence for index, sentence in enumerate(decoder_input_train) if index not in drop_train]\n",
    "decoder_target_train = [sentence for index, sentence in enumerate(decoder_target_train) if index not in drop_train]\n",
    "\n",
    "encoder_input_test = [sentence for index, sentence in enumerate(encoder_input_test) if index not in drop_test]\n",
    "decoder_input_test = [sentence for index, sentence in enumerate(decoder_input_test) if index not in drop_test]\n",
    "decoder_target_test = [sentence for index, sentence in enumerate(decoder_target_test) if index not in drop_test]\n",
    "\n",
    "print('훈련 데이터의 개수 :', len(encoder_input_train))\n",
    "print('훈련 레이블의 개수 :', len(decoder_input_train))\n",
    "print('테스트 데이터의 개수 :', len(encoder_input_test))\n",
    "print('테스트 레이블의 개수 :', len(decoder_input_test))"
   ]
  },
  {
   "cell_type": "markdown",
   "id": "9fbc0053",
   "metadata": {},
   "source": [
    "<br><br>\n",
    "**⭐ 6) 패딩하기**\n",
    "\n",
    "---"
   ]
  },
  {
   "cell_type": "markdown",
   "id": "ff866e9b",
   "metadata": {},
   "source": [
    "- 텍스트 시퀀스를 정수 시퀀스로 변환했다면, 이제 서로 다른 길이의 샘플들을 병렬 처리하기 위해 같은 길이로 맞춰주는 `패딩`작업을 해주어야 한다.\n",
    "- 미리 정해두었던 최대길이로 패딩한다."
   ]
  },
  {
   "cell_type": "code",
   "execution_count": 36,
   "id": "4c71b493",
   "metadata": {},
   "outputs": [],
   "source": [
    "encoder_input_train = pad_sequences(encoder_input_train, maxlen=text_max_len, padding='post')\n",
    "encoder_input_test = pad_sequences(encoder_input_test, maxlen=text_max_len, padding='post')\n",
    "decoder_input_train = pad_sequences(decoder_input_train, maxlen=headlines_max_len, padding='post')\n",
    "decoder_target_train = pad_sequences(decoder_target_train, maxlen=headlines_max_len, padding='post')\n",
    "decoder_input_test = pad_sequences(decoder_input_test, maxlen=headlines_max_len, padding='post')\n",
    "decoder_target_test = pad_sequences(decoder_target_test, maxlen=headlines_max_len, padding='post')"
   ]
  },
  {
   "cell_type": "markdown",
   "id": "4904114e",
   "metadata": {},
   "source": [
    "<br>\n",
    "\n",
    "### ✔️ Step 2. 모델 설계하기\n",
    "---"
   ]
  },
  {
   "cell_type": "markdown",
   "id": "c83fde51",
   "metadata": {},
   "source": [
    "**⭐ 1) 인코더 설계**\n",
    "<br>\n",
    "\n",
    "- 함수형 API를 이용해서 인코더를 설계한다."
   ]
  },
  {
   "cell_type": "code",
   "execution_count": 37,
   "id": "335ddbd6",
   "metadata": {},
   "outputs": [],
   "source": [
    "from tensorflow.keras.layers import Input, LSTM, Embedding, Dense, Concatenate, TimeDistributed\n",
    "from tensorflow.keras.models import Model\n",
    "from tensorflow.keras.callbacks import EarlyStopping, ModelCheckpoint\n",
    "\n",
    "\n",
    "# 인코더 설계 시작\n",
    "embedding_dim = 128\n",
    "hidden_size = 256\n",
    "\n",
    "# 인코더 설계\n",
    "encoder_inputs = Input(shape=(text_max_len,))  # text_max_len = 50\n",
    "\n",
    "# 인코더의 임베딩 층\n",
    "enc_emb = Embedding(src_vocab, embedding_dim)(encoder_inputs) # src_vocab = 2000\n",
    "\n",
    "# 인코더의 LSTM 1\n",
    "# encoder_lstm1 = LSTM(hidden_size, return_sequences=True, return_state=True ,dropout = 0.4, recurrent_dropout = 0.4)\n",
    "encoder_lstm1 = LSTM(hidden_size, return_sequences=True, return_state=True ,dropout = 0.4)\n",
    "encoder_output1, state_h1, state_c1 = encoder_lstm1(enc_emb)\n",
    "\n",
    "# 인코더의 LSTM 2\n",
    "# encoder_lstm2 = LSTM(hidden_size, return_sequences=True, return_state=True, dropout=0.4, recurrent_dropout=0.4)\n",
    "encoder_lstm2 = LSTM(hidden_size, return_sequences=True, return_state=True, dropout=0.4)\n",
    "encoder_output2, state_h2, state_c2 = encoder_lstm2(encoder_output1)\n",
    "\n",
    "# 인코더의 LSTM 3\n",
    "# encoder_lstm3 = LSTM(hidden_size, return_state=True, return_sequences=True, dropout=0.4, recurrent_dropout=0.4)\n",
    "encoder_lstm3 = LSTM(hidden_size, return_state=True, return_sequences=True, dropout=0.4)\n",
    "encoder_outputs, state_h, state_c= encoder_lstm3(encoder_output2)"
   ]
  },
  {
   "cell_type": "markdown",
   "id": "829b7a9e",
   "metadata": {},
   "source": [
    "- 임베딩 벡터의 차원은 128로 정의하고, hidden state의 크기는 256으로 정의했다. <br>(hidden state는 LSTM에서 얼만큼의 수용력(capacity)을 가질지 정하는 파라미터이다. 이 파라미터는 LSTM의 용량의 크기나, LSTM에서의 뉴런의 갯수라고 이해할 수 있다.)<br><br>\n",
    "- 인코더의 LSTM은 총 3개의 층으로 구성해서 모델의 복잡도를 높였다. <br>\n",
    "- hidden state의 크기를 늘리는 것이 LSTM 층 1개의 용량을 늘린다면, 3개의 층을 사용하는 것은 모델의 용량을 늘린다고 볼 수 있다."
   ]
  },
  {
   "cell_type": "markdown",
   "id": "2c3f04d6",
   "metadata": {},
   "source": [
    "**⭐ 2) 디코더 설계**\n",
    "<br>\n"
   ]
  },
  {
   "cell_type": "code",
   "execution_count": 38,
   "id": "dd604eb1",
   "metadata": {},
   "outputs": [],
   "source": [
    "# 디코더 설계\n",
    "decoder_inputs = Input(shape=(None,))\n",
    "\n",
    "# 디코더의 임베딩 층\n",
    "dec_emb_layer = Embedding(tar_vocab, embedding_dim)  # tar_vocab = 9000\n",
    "dec_emb = dec_emb_layer(decoder_inputs)\n",
    "\n",
    "# 디코더의 LSTM\n",
    "decoder_lstm = LSTM(hidden_size, return_sequences=True, return_state=True, dropout=0.4)\n",
    "decoder_outputs, _, _ = decoder_lstm(dec_emb, initial_state=[state_h, state_c])\n",
    "# 디코더의 LSTM을 정의할 때, initial_state의 인자값으로 인코더의 hidden state와 cell state의 값을 넣어준다.\n",
    "\n",
    "# 디코더 출력층\n",
    "decoder_softmax_layer = Dense(tar_vocab, activation='softmax')  \n",
    "decoder_softmax_outputs = decoder_softmax_layer(decoder_outputs)"
   ]
  },
  {
   "cell_type": "markdown",
   "id": "6becfa32",
   "metadata": {},
   "source": [
    "<br>\n",
    "\n",
    "**⭐ 3) 모델 정의**\n",
    "<br>\n"
   ]
  },
  {
   "cell_type": "code",
   "execution_count": 39,
   "id": "46818be9",
   "metadata": {},
   "outputs": [
    {
     "name": "stdout",
     "output_type": "stream",
     "text": [
      "Model: \"model\"\n",
      "__________________________________________________________________________________________________\n",
      "Layer (type)                    Output Shape         Param #     Connected to                     \n",
      "==================================================================================================\n",
      "input_1 (InputLayer)            [(None, 40)]         0                                            \n",
      "__________________________________________________________________________________________________\n",
      "embedding (Embedding)           (None, 40, 128)      2560000     input_1[0][0]                    \n",
      "__________________________________________________________________________________________________\n",
      "lstm (LSTM)                     [(None, 40, 256), (N 394240      embedding[0][0]                  \n",
      "__________________________________________________________________________________________________\n",
      "input_2 (InputLayer)            [(None, None)]       0                                            \n",
      "__________________________________________________________________________________________________\n",
      "lstm_1 (LSTM)                   [(None, 40, 256), (N 525312      lstm[0][0]                       \n",
      "__________________________________________________________________________________________________\n",
      "embedding_1 (Embedding)         (None, None, 128)    1152000     input_2[0][0]                    \n",
      "__________________________________________________________________________________________________\n",
      "lstm_2 (LSTM)                   [(None, 40, 256), (N 525312      lstm_1[0][0]                     \n",
      "__________________________________________________________________________________________________\n",
      "lstm_3 (LSTM)                   [(None, None, 256),  394240      embedding_1[0][0]                \n",
      "                                                                 lstm_2[0][1]                     \n",
      "                                                                 lstm_2[0][2]                     \n",
      "__________________________________________________________________________________________________\n",
      "dense (Dense)                   (None, None, 9000)   2313000     lstm_3[0][0]                     \n",
      "==================================================================================================\n",
      "Total params: 7,864,104\n",
      "Trainable params: 7,864,104\n",
      "Non-trainable params: 0\n",
      "__________________________________________________________________________________________________\n"
     ]
    }
   ],
   "source": [
    "# 모델 정의\n",
    "model = Model([encoder_inputs, decoder_inputs], decoder_softmax_outputs)\n",
    "model.summary()"
   ]
  },
  {
   "cell_type": "markdown",
   "id": "1ad8bbc9",
   "metadata": {},
   "source": [
    "- 디코더의 출력층에서는 `tar_vocab`의 수많은 선택지 중 하나의 단어를 선택하는 다중 클래스 분류 문제를 풀어야 하므로, Dense 인자로 `tar_vocab`을 주고, 활성화 함수로 소프트맥스를 사용한다.<br><br>\n",
    "- 여태껏 설계한 모델은 인코더의 hidden state와 cell state를 디코더의 초기 state로 사용하는 가장 기본적인 `seq2seq` 이다.<br><br>\n",
    "- `attention mechanism`을 적용하여 디코더 출력층의 설계를 바꾸고 성능을 높여보자."
   ]
  },
  {
   "cell_type": "markdown",
   "id": "12daf804",
   "metadata": {},
   "source": [
    "<br>\n",
    "\n",
    "**⭐ 4) 어텐션 메커니즘**\n",
    "<br>\n"
   ]
  },
  {
   "cell_type": "markdown",
   "id": "4e31207e",
   "metadata": {},
   "source": [
    "- 어텐션 메커니즘을 수행하는 어텐션 함수를 설계하는 것은 또 다른 새로운 신경망을 설계해야 한다는 것이지만 여기서는 TensorFlow에 이미 구현된 어텐션 함수를 가져와서 디코더의 출력층에 어떤 방식으로 결합하는지 배워본다.<br><br>\n",
    "- `Bahdanau` 스타일의 어텐션 메커니즘을 사용한다."
   ]
  },
  {
   "cell_type": "code",
   "execution_count": 40,
   "id": "3b6fe60f",
   "metadata": {
    "scrolled": false
   },
   "outputs": [
    {
     "name": "stdout",
     "output_type": "stream",
     "text": [
      "Model: \"model_1\"\n",
      "__________________________________________________________________________________________________\n",
      "Layer (type)                    Output Shape         Param #     Connected to                     \n",
      "==================================================================================================\n",
      "input_1 (InputLayer)            [(None, 40)]         0                                            \n",
      "__________________________________________________________________________________________________\n",
      "embedding (Embedding)           (None, 40, 128)      2560000     input_1[0][0]                    \n",
      "__________________________________________________________________________________________________\n",
      "lstm (LSTM)                     [(None, 40, 256), (N 394240      embedding[0][0]                  \n",
      "__________________________________________________________________________________________________\n",
      "input_2 (InputLayer)            [(None, None)]       0                                            \n",
      "__________________________________________________________________________________________________\n",
      "lstm_1 (LSTM)                   [(None, 40, 256), (N 525312      lstm[0][0]                       \n",
      "__________________________________________________________________________________________________\n",
      "embedding_1 (Embedding)         (None, None, 128)    1152000     input_2[0][0]                    \n",
      "__________________________________________________________________________________________________\n",
      "lstm_2 (LSTM)                   [(None, 40, 256), (N 525312      lstm_1[0][0]                     \n",
      "__________________________________________________________________________________________________\n",
      "lstm_3 (LSTM)                   [(None, None, 256),  394240      embedding_1[0][0]                \n",
      "                                                                 lstm_2[0][1]                     \n",
      "                                                                 lstm_2[0][2]                     \n",
      "__________________________________________________________________________________________________\n",
      "attention_layer (AdditiveAttent (None, None, 256)    256         lstm_3[0][0]                     \n",
      "                                                                 lstm_2[0][0]                     \n",
      "__________________________________________________________________________________________________\n",
      "concat_layer (Concatenate)      (None, None, 512)    0           lstm_3[0][0]                     \n",
      "                                                                 attention_layer[0][0]            \n",
      "__________________________________________________________________________________________________\n",
      "dense_1 (Dense)                 (None, None, 9000)   4617000     concat_layer[0][0]               \n",
      "==================================================================================================\n",
      "Total params: 10,168,360\n",
      "Trainable params: 10,168,360\n",
      "Non-trainable params: 0\n",
      "__________________________________________________________________________________________________\n"
     ]
    }
   ],
   "source": [
    "from tensorflow.keras.layers import AdditiveAttention\n",
    "\n",
    "# 어텐션 층(어텐션 함수)\n",
    "attn_layer = AdditiveAttention(name='attention_layer')\n",
    "\n",
    "# 인코더와 디코더의 모든 time step의 hidden state를 어텐션 층에 전달하고 결과를 리턴\n",
    "attn_out = attn_layer([decoder_outputs, encoder_outputs])\n",
    "\n",
    "\n",
    "# 어텐션의 결과와 디코더의 hidden state들을 연결\n",
    "decoder_concat_input = Concatenate(axis=-1, name='concat_layer')([decoder_outputs, attn_out])\n",
    "\n",
    "# 디코더의 출력층\n",
    "decoder_softmax_layer = Dense(tar_vocab, activation='softmax')\n",
    "decoder_softmax_outputs = decoder_softmax_layer(decoder_concat_input)\n",
    "\n",
    "# 모델 정의\n",
    "model = Model([encoder_inputs, decoder_inputs], decoder_softmax_outputs)\n",
    "model.summary()"
   ]
  },
  {
   "cell_type": "markdown",
   "id": "1fce69f9",
   "metadata": {},
   "source": [
    "<br>\n",
    "\n",
    "### ✔️ Step 3. 모델 훈련하기\n",
    "---"
   ]
  },
  {
   "cell_type": "code",
   "execution_count": 41,
   "id": "7bc13e94",
   "metadata": {},
   "outputs": [
    {
     "name": "stdout",
     "output_type": "stream",
     "text": [
      "Epoch 1/50\n",
      "256/256 [==============================] - 44s 75ms/step - loss: 6.5184 - val_loss: 6.1310\n",
      "Epoch 2/50\n",
      "256/256 [==============================] - 18s 69ms/step - loss: 5.9892 - val_loss: 5.7416\n",
      "Epoch 3/50\n",
      "256/256 [==============================] - 18s 70ms/step - loss: 5.6358 - val_loss: 5.4808\n",
      "Epoch 4/50\n",
      "256/256 [==============================] - 18s 70ms/step - loss: 5.3594 - val_loss: 5.2685\n",
      "Epoch 5/50\n",
      "256/256 [==============================] - 18s 71ms/step - loss: 5.1039 - val_loss: 5.0807\n",
      "Epoch 6/50\n",
      "256/256 [==============================] - 19s 72ms/step - loss: 4.8830 - val_loss: 4.9486\n",
      "Epoch 7/50\n",
      "256/256 [==============================] - 19s 73ms/step - loss: 4.6931 - val_loss: 4.8451\n",
      "Epoch 8/50\n",
      "256/256 [==============================] - 19s 73ms/step - loss: 4.5270 - val_loss: 4.7660\n",
      "Epoch 9/50\n",
      "256/256 [==============================] - 19s 73ms/step - loss: 4.3784 - val_loss: 4.6992\n",
      "Epoch 10/50\n",
      "256/256 [==============================] - 19s 74ms/step - loss: 4.2464 - val_loss: 4.6441\n",
      "Epoch 11/50\n",
      "256/256 [==============================] - 19s 74ms/step - loss: 4.1265 - val_loss: 4.6176\n",
      "Epoch 12/50\n",
      "256/256 [==============================] - 19s 75ms/step - loss: 4.0155 - val_loss: 4.5856\n",
      "Epoch 13/50\n",
      "256/256 [==============================] - 19s 74ms/step - loss: 3.9100 - val_loss: 4.5636\n",
      "Epoch 14/50\n",
      "256/256 [==============================] - 19s 75ms/step - loss: 3.8133 - val_loss: 4.5409\n",
      "Epoch 15/50\n",
      "256/256 [==============================] - 19s 75ms/step - loss: 3.7225 - val_loss: 4.5306\n",
      "Epoch 16/50\n",
      "256/256 [==============================] - 19s 75ms/step - loss: 3.6369 - val_loss: 4.5217\n",
      "Epoch 17/50\n",
      "256/256 [==============================] - 19s 75ms/step - loss: 3.5583 - val_loss: 4.5073\n",
      "Epoch 18/50\n",
      "256/256 [==============================] - 19s 75ms/step - loss: 3.4800 - val_loss: 4.5013\n",
      "Epoch 19/50\n",
      "256/256 [==============================] - 19s 75ms/step - loss: 3.4028 - val_loss: 4.5039\n",
      "Epoch 20/50\n",
      "256/256 [==============================] - 19s 75ms/step - loss: 3.3369 - val_loss: 4.5041\n",
      "Epoch 00020: early stopping\n"
     ]
    }
   ],
   "source": [
    "model.compile(optimizer='rmsprop', loss='sparse_categorical_crossentropy')\n",
    "\n",
    "es = EarlyStopping(monitor='val_loss', patience=2, verbose=1)\n",
    "\n",
    "history = model.fit(x=[encoder_input_train, decoder_input_train], y=decoder_target_train,\n",
    "          validation_data=([encoder_input_test, decoder_input_test], decoder_target_test),\n",
    "          batch_size=256, callbacks=[es], epochs=50)"
   ]
  },
  {
   "cell_type": "markdown",
   "id": "65afede1",
   "metadata": {},
   "source": [
    "- 조기 종료를 뜻하는 `EarlyStopping`은 특정 조건이 충족되면 훈련을 멈추는 역할을 한다.<br><br>\n",
    "    - 위 코드에서는 `val_loss`(검증데이터의 손실)을 관찰하다가, 검증 데이터의 손실이 줄어들지 않고 증가하는 현상이 2회(patient=2) 관측되면 학습이 멈추도록 설정되었다."
   ]
  },
  {
   "cell_type": "code",
   "execution_count": 42,
   "id": "cd3694ee",
   "metadata": {},
   "outputs": [
    {
     "data": {
      "image/png": "[encoded data removed]",
      "text/plain": [
       "<Figure size 432x288 with 1 Axes>"
      ]
     },
     "metadata": {
      "needs_background": "light"
     },
     "output_type": "display_data"
    }
   ],
   "source": [
    "plt.plot(history.history['loss'], label='train')\n",
    "plt.plot(history.history['val_loss'], label='test')\n",
    "plt.legend()\n",
    "plt.show()"
   ]
  },
  {
   "cell_type": "markdown",
   "id": "881acd7d",
   "metadata": {},
   "source": [
    "<br>\n",
    "\n",
    "### ✔️ Step 4. 인퍼런스 모델 구현하기\n",
    "---"
   ]
  },
  {
   "cell_type": "markdown",
   "id": "e873d891",
   "metadata": {},
   "source": [
    "- 테스트 단계에서는 정수 인덱스 행렬로 존재하던 텍스트 데이터를 실제 데이터로 복원해야 하므로, 필요한 3개의 사전을 미리 준비해둔다."
   ]
  },
  {
   "cell_type": "code",
   "execution_count": 43,
   "id": "16af165e",
   "metadata": {},
   "outputs": [],
   "source": [
    "src_index_to_word = src_tokenizer.index_word # 원문 단어 집합에서 정수 -> 단어를 얻음\n",
    "tar_word_to_index = tar_tokenizer.word_index # 헤드라인 단어 집합에서 단어 -> 정수를 얻음\n",
    "tar_index_to_word = tar_tokenizer.index_word # 헤드라인 단어 집합에서 정수 -> 단어를 얻음"
   ]
  },
  {
   "cell_type": "markdown",
   "id": "239a1058",
   "metadata": {},
   "source": [
    "- `seq2seq` 모델은 훈련할 때와 인퍼런스(실제 동작)할 때의 방식이 다르다.<br><br>\n",
    "    - 훈련 단계에서는 디코더의 입력부에 정답이 되는 문장 전체를 한꺼번에 넣고 디코더의 출력과 한 번에 비교할 수 있으므로, 인코더와 디코더를 엮은 통짜 모델 하나만 준비하면 된다.<br><br>\n",
    "    - 인퍼런스 단계(정답 문장이 없는)에서는 만들어야 할 문장의 길이만큼 디코더가 반복 구조로 동작해야 하기 때문에 부득이하게 인퍼런스를 위한 모델 설계를 별도로 해주어야 한다.<br><br>        \n",
    "        - 이때는 인코더 모델과 디코더 모델을 분리해서 설계한다."
   ]
  },
  {
   "cell_type": "code",
   "execution_count": 44,
   "id": "f3711fb7",
   "metadata": {},
   "outputs": [],
   "source": [
    "# 인코더 설계\n",
    "encoder_model = Model(inputs=encoder_inputs, outputs=[encoder_outputs, state_h, state_c])\n",
    "\n",
    "# 이전 시점의 상태들을 저장하는 텐서\n",
    "decoder_state_input_h = Input(shape=(hidden_size,))\n",
    "decoder_state_input_c = Input(shape=(hidden_size,))\n",
    "\n",
    "# 디코더 임베딩 층\n",
    "dec_emb2 = dec_emb_layer(decoder_inputs)\n",
    "\n",
    "# 문장의 다음 단어를 예측하기 위해서 초기 상태(initial_state)를 이전 시점의 상태로 사용. 이는 뒤의 함수 decode_sequence()에 구현\n",
    "# 훈련 과정에서와 달리 LSTM의 리턴하는 은닉 상태와 셀 상태인 state_h와 state_c를 버리지 않음.\n",
    "decoder_outputs2, state_h2, state_c2 = decoder_lstm(dec_emb2, initial_state=[decoder_state_input_h, decoder_state_input_c])\n"
   ]
  },
  {
   "cell_type": "markdown",
   "id": "1ae5438a",
   "metadata": {},
   "source": [
    "- 어텐션 메커니즘을 사용하는 출력층을 설계한다."
   ]
  },
  {
   "cell_type": "code",
   "execution_count": 45,
   "id": "f1d42a0d",
   "metadata": {},
   "outputs": [],
   "source": [
    "# 어텐션 함수\n",
    "decoder_hidden_state_input = Input(shape=(text_max_len, hidden_size))\n",
    "attn_out_inf = attn_layer([decoder_outputs2, decoder_hidden_state_input])\n",
    "decoder_inf_concat = Concatenate(axis=-1, name='concat')([decoder_outputs2, attn_out_inf])\n",
    "\n",
    "# 디코더의 출력층\n",
    "decoder_outputs2 = decoder_softmax_layer(decoder_inf_concat) \n",
    "\n",
    "# 최종 디코더 모델\n",
    "decoder_model = Model(\n",
    "    [decoder_inputs] + [decoder_hidden_state_input,decoder_state_input_h, decoder_state_input_c],\n",
    "    [decoder_outputs2] + [state_h2, state_c2])"
   ]
  },
  {
   "cell_type": "markdown",
   "id": "44b407ae",
   "metadata": {},
   "source": [
    "- 인퍼런스 단계에서 단어 시퀀스를 완성하는 함수"
   ]
  },
  {
   "cell_type": "code",
   "execution_count": 46,
   "id": "889984ea",
   "metadata": {},
   "outputs": [],
   "source": [
    "def decode_sequence(input_seq):\n",
    "    # 입력으로부터 인코더의 상태를 얻음\n",
    "    e_out, e_h, e_c = encoder_model.predict(input_seq)\n",
    "    \n",
    "    # <sos>에 해당하는 토큰 생성\n",
    "    target_seq = np.zeros((1,1))\n",
    "    target_seq[0, 0] = tar_word_to_index['sostoken']\n",
    "    \n",
    "    stop_condition = False\n",
    "    decoded_sentence = ''\n",
    "    while not stop_condition:  # stop_condition이 True가 될 때까지 루프 반복\n",
    "        \n",
    "        output_tokens, h, c = decoder_model.predict([target_seq] + [e_out, e_h, e_c])\n",
    "        sampled_token_index = np.argmax(output_tokens[0, -1, :])\n",
    "        sampled_token = tar_index_to_word[sampled_token_index]\n",
    "        \n",
    "        if sampled_token != 'eostoken':\n",
    "            decoded_sentence += ' '+sampled_token\n",
    "        \n",
    "        # <eos>에 도달하거나 최대 길이를 넘으면 중단.\n",
    "        if (sampled_token == 'eostoken'  or len(decoded_sentence.split()) >= (headlines_max_len-1)):\n",
    "            stop_condition = True\n",
    "            \n",
    "        # 길이가 1인 타겟 시퀀스를 업데이트\n",
    "        target_seq = np.zeros((1,1))\n",
    "        target_seq[0,0] = sampled_token_index\n",
    "        \n",
    "        # 상태를 업데이트\n",
    "        e_h, e_c = h, c\n",
    "        \n",
    "    return decoded_sentence"
   ]
  },
  {
   "cell_type": "markdown",
   "id": "9b900356",
   "metadata": {},
   "source": [
    "<br>\n",
    "\n",
    "### ✔️ Step 5. 모델 테스트하기\n",
    "---"
   ]
  },
  {
   "cell_type": "markdown",
   "id": "dd7c9588",
   "metadata": {},
   "source": [
    "- 테스트 단계에서는 정수 시퀀스를 텍스트 시퀀스로 변환하여 결과를 확인하는것이 편하다. 따라서, 주어진 정수 시퀀스를 텍스트 시퀀스로 변환하는 함수를 만든다.<br><br>\n",
    "    - text의 정수 시퀀스에서는 패딩을 위해 사용되는 숫자 0을 제외하고, headlines의 정수 시퀀스에서는 숫자 0, 시작 토큰의 인덱스, 종료 토큰의 인덱스를 출력에서 제외하도록 만든다."
   ]
  },
  {
   "cell_type": "code",
   "execution_count": 47,
   "id": "ecf7868b",
   "metadata": {},
   "outputs": [],
   "source": [
    "# text의 정수 시퀀스를 텍스트 시퀀스로 변환\n",
    "def seq2text(input_seq):\n",
    "    temp=''\n",
    "    for i in input_seq:\n",
    "        if i!=0:\n",
    "            temp = temp + src_index_to_word[i]+' '\n",
    "    return temp\n",
    "    \n",
    "# headlines의 정수 시퀀스를 텍스트 시퀀스로 변환\n",
    "def seq2headlines(input_seq):\n",
    "    temp=''\n",
    "    for i in input_seq:\n",
    "        if ((i!=0 and i!=tar_word_to_index['sostoken']) and i!=tar_word_to_index['eostoken']):\n",
    "            temp = temp + tar_index_to_word[i]+' '\n",
    "    return temp"
   ]
  },
  {
   "cell_type": "code",
   "execution_count": 48,
   "id": "4d0014b2",
   "metadata": {
    "scrolled": false
   },
   "outputs": [
    {
     "name": "stdout",
     "output_type": "stream",
     "text": [
      "text                  : group cryptocurrency traders plan sue japanese exchange coincheck thursday last month theft million cryptocurrency according reports lawsuit demand coincheck allow withdrawals cryptocurrencies wallets outside exchange exchange frozen withdrawals yen cryptocurrencies following heist \n",
      "\n",
      "실제 headlines        : crypto traders sue japan exchange million hack \n",
      "\n",
      "추상적 요약 headlines :  crypto exchange exchange cryptocurrency exchange mn\n",
      "\n",
      "===============================================================================================\n",
      "\n",
      "text                  : senior aap leader delhi minister gopal rai monday refuted possibility party entering pre poll alliance congress lok sabha elections added post poll alliance depend totally situation aim clear want modi government go rai said \n",
      "\n",
      "실제 headlines        : pre poll alliance congress aap minister \n",
      "\n",
      "추상적 요약 headlines :  aap contest polls delhi assembly elections\n",
      "\n",
      "===============================================================================================\n",
      "\n",
      "text                  : condoling demise former prime minister atal bihari vajpayee tata group chairman emeritus ratan tata described great leader great sense compassion tata sons chairman chandrasekaran said nation lost statesman independent india vajpayee ji led india great wisdom love country \n",
      "\n",
      "실제 headlines        : great leader great sense tata vajpayee \n",
      "\n",
      "추상적 요약 headlines :  vajpayee vajpayee\n",
      "\n",
      "===============================================================================================\n",
      "\n",
      "text                  : union minister smriti irani wednesday posted picture skeleton bench wrote waited wedding instagram actors deepika padukone ranveer singh got married konkani ceremony italy wednesday however share pictures wedding \n",
      "\n",
      "실제 headlines        : waited long deepika ranveer wedding pics smriti irani \n",
      "\n",
      "추상적 요약 headlines :  deepika padukone shares picture deepika wedding\n",
      "\n",
      "===============================================================================================\n",
      "\n",
      "text                  : malayalam actor dileep said ready lie detector test prove innocence abduction assault south indian actress facebook post dileep wrote one thing say public media trying role cases \n",
      "\n",
      "실제 headlines        : ready lie detector test actress abduction case dileep \n",
      "\n",
      "추상적 요약 headlines :  irrfan khan slams indian actor khanna\n",
      "\n",
      "===============================================================================================\n",
      "\n",
      "text                  : directors seven firms booked running get rich quick racket across country cheating people nearly crore gurugram police said accused allegedly duped people promising double returns investments short period time sanjay main accused arrested gurugram police bhopal \n",
      "\n",
      "실제 headlines        : firms directors booked get rich fraud cr \n",
      "\n",
      "추상적 요약 headlines :  fake fake bank firm busted lakh crore\n",
      "\n",
      "===============================================================================================\n",
      "\n",
      "text                  : lady gaga bradley cooper earned nominations golden globe awards performances film star born gaga nominated alongside nicole kidman best actress drama category cooper nominated best actor drama category along star among others \n",
      "\n",
      "실제 headlines        : lady gaga nominated golden globe awards \n",
      "\n",
      "추상적 요약 headlines :  wins best award awards\n",
      "\n",
      "===============================================================================================\n",
      "\n",
      "text                  : family members year old iit delhi graduate gupta committed suicide jumping institute building friday said idea went commit suicide relative said gupta quit job around months ago unhappy professional growth graduation gupta worked two years us \n",
      "\n",
      "실제 headlines        : idea went iit commit suicide gupta family \n",
      "\n",
      "추상적 요약 headlines :  delhi aspirant commits suicide commits suicide\n",
      "\n",
      "===============================================================================================\n",
      "\n"
     ]
    }
   ],
   "source": [
    "for i in range(2,10):\n",
    "    print('text                  :', seq2text(encoder_input_test[i]))\n",
    "    print('\\n실제 headlines        :', seq2headlines(decoder_input_test[i]))\n",
    "    print('\\n추상적 요약 headlines :', decode_sequence(encoder_input_test[i].reshape(1, text_max_len)))\n",
    "    print('\\n===============================================================================================\\n')"
   ]
  },
  {
   "cell_type": "markdown",
   "id": "337c1ab5",
   "metadata": {},
   "source": [
    "<br>\n",
    "\n",
    "---\n",
    "\n",
    "\n",
    "# Ⅱ. 추출적 요약\n",
    "\n",
    "---\n",
    "\n",
    "<br><br>"
   ]
  },
  {
   "cell_type": "markdown",
   "id": "ba2ffe21",
   "metadata": {},
   "source": [
    "**⭐ 1) 중복 샘플과 NULL 값이 존재하는 샘플 제거<br>**"
   ]
  },
  {
   "cell_type": "code",
   "execution_count": 49,
   "id": "78aae8c4",
   "metadata": {},
   "outputs": [
    {
     "name": "stdout",
     "output_type": "stream",
     "text": [
      "(98401, 2)\n",
      "Index(['headlines', 'text'], dtype='object')\n"
     ]
    }
   ],
   "source": [
    "import urllib.request\n",
    "urllib.request.urlretrieve(\"https://raw.githubusercontent.com/sunnysai12345/News_Summary/master/news_summary_more.csv\", filename=\"news_summary_more.csv\")\n",
    "data = pd.read_csv('news_summary_more.csv', encoding='iso-8859-1')\n",
    "print(data.shape)\n",
    "print(data.columns)\n",
    "\n",
    "data=data[['text', 'headlines']]"
   ]
  },
  {
   "cell_type": "code",
   "execution_count": 50,
   "id": "e3ecbad1",
   "metadata": {
    "scrolled": false
   },
   "outputs": [
    {
     "name": "stdout",
     "output_type": "stream",
     "text": [
      "수집된 뉴스기사 샘플의 수 : 98401\n",
      "text 열에서 중복을 배제한 유일한 샘플의 수 : 98360\n"
     ]
    }
   ],
   "source": [
    "print('수집된 뉴스기사 샘플의 수 :', len(data))\n",
    "print('text 열에서 중복을 배제한 유일한 샘플의 수 :', data['text'].nunique())"
   ]
  },
  {
   "cell_type": "code",
   "execution_count": 51,
   "id": "ce400bf1",
   "metadata": {},
   "outputs": [
    {
     "name": "stdout",
     "output_type": "stream",
     "text": [
      "전체 샘플수 : 98360\n"
     ]
    }
   ],
   "source": [
    "# inplace=True 를 설정하면 DataFrame 타입 값을 return 하지 않고 data 내부를 직접적으로 바꾼다.\n",
    "\n",
    "data.drop_duplicates(subset=['text'], inplace=True)\n",
    "print('전체 샘플수 :', len(data))"
   ]
  },
  {
   "cell_type": "code",
   "execution_count": 52,
   "id": "8f4f9076",
   "metadata": {},
   "outputs": [
    {
     "name": "stdout",
     "output_type": "stream",
     "text": [
      "text         0\n",
      "headlines    0\n",
      "dtype: int64\n"
     ]
    }
   ],
   "source": [
    "print(data.isnull().sum())"
   ]
  },
  {
   "cell_type": "markdown",
   "id": "6a4a149d",
   "metadata": {},
   "source": [
    "<br>\n",
    "\n",
    "### ✔️ Step 1. Summarize 사용하기\n",
    "---"
   ]
  },
  {
   "cell_type": "code",
   "execution_count": 53,
   "id": "6b744638",
   "metadata": {},
   "outputs": [],
   "source": [
    "import requests\n",
    "from summa.summarizer import summarize"
   ]
  },
  {
   "cell_type": "markdown",
   "id": "2e581b67",
   "metadata": {},
   "source": [
    "<br>\n",
    "\n",
    "**Summa의 summarize()의 인자로 사용되는 값들에 대해서 알아보자.**\n",
    "<br>\n",
    "\n",
    "> text(str) : 요약할 텍스트,<br>\n",
    "> ratio(float, optional) - 요약문에서 원본에서 선택되는 문장 비율. 0~1 사이값<br>\n",
    "> words(int or None, optional) - 출력에 포함할 단어 수.<br>\n",
    "> 만약, ratio와 함께 두 파라미터가 모두 제공되는 경우 ratio는 무시한다.<br>\n",
    "> split(bool, optional) - True면 문장 list , False는 조인(join)된 문자열을 반환<br>"
   ]
  },
  {
   "cell_type": "markdown",
   "id": "bd12defd",
   "metadata": {},
   "source": [
    "<br>\n",
    "\n",
    "### ✔️ Step 2. 모델 테스트하기\n",
    "---"
   ]
  },
  {
   "cell_type": "code",
   "execution_count": 54,
   "id": "ed7a151d",
   "metadata": {
    "scrolled": false
   },
   "outputs": [
    {
     "name": "stdout",
     "output_type": "stream",
     "text": [
      "text                  : New Zealand defeated India by 8 wickets in the fourth ODI at Hamilton on Thursday to win their first match of the five-match ODI series. India lost an international match under Rohit Sharma's captaincy after 12 consecutive victories dating back to March 2018. The match witnessed India getting all out for 92, their seventh lowest total in ODI cricket history.\n",
      "\n",
      "실제 headlines        : New Zealand end Rohit Sharma-led India's 12-match winning streak\n"
     ]
    },
    {
     "ename": "NameError",
     "evalue": "name 'text' is not defined",
     "output_type": "error",
     "traceback": [
      "\u001b[0;31m---------------------------------------------------------------------------\u001b[0m",
      "\u001b[0;31mNameError\u001b[0m                                 Traceback (most recent call last)",
      "\u001b[0;32m/tmp/ipykernel_47/1408859814.py\u001b[0m in \u001b[0;36m<module>\u001b[0;34m\u001b[0m\n\u001b[1;32m      2\u001b[0m     \u001b[0mprint\u001b[0m\u001b[0;34m(\u001b[0m\u001b[0;34m'text                  :'\u001b[0m\u001b[0;34m,\u001b[0m \u001b[0mdata\u001b[0m\u001b[0;34m[\u001b[0m\u001b[0;34m'text'\u001b[0m\u001b[0;34m]\u001b[0m\u001b[0;34m[\u001b[0m\u001b[0mi\u001b[0m\u001b[0;34m]\u001b[0m\u001b[0;34m)\u001b[0m\u001b[0;34m\u001b[0m\u001b[0;34m\u001b[0m\u001b[0m\n\u001b[1;32m      3\u001b[0m     \u001b[0mprint\u001b[0m\u001b[0;34m(\u001b[0m\u001b[0;34m'\\n실제 headlines        :'\u001b[0m\u001b[0;34m,\u001b[0m \u001b[0mdata\u001b[0m\u001b[0;34m[\u001b[0m\u001b[0;34m'headlines'\u001b[0m\u001b[0;34m]\u001b[0m\u001b[0;34m[\u001b[0m\u001b[0mi\u001b[0m\u001b[0;34m]\u001b[0m\u001b[0;34m)\u001b[0m\u001b[0;34m\u001b[0m\u001b[0;34m\u001b[0m\u001b[0m\n\u001b[0;32m----> 4\u001b[0;31m     \u001b[0mprint\u001b[0m\u001b[0;34m(\u001b[0m\u001b[0;34m'\\n추출적 요약 headlines :'\u001b[0m\u001b[0;34m,\u001b[0m \u001b[0msummarize\u001b[0m\u001b[0;34m(\u001b[0m\u001b[0mtext\u001b[0m\u001b[0;34m[\u001b[0m\u001b[0mi\u001b[0m\u001b[0;34m]\u001b[0m\u001b[0;34m,\u001b[0m \u001b[0mratio\u001b[0m\u001b[0;34m=\u001b[0m\u001b[0;36m1\u001b[0m\u001b[0;34m/\u001b[0m\u001b[0mlen\u001b[0m\u001b[0;34m(\u001b[0m\u001b[0mtext\u001b[0m\u001b[0;34m[\u001b[0m\u001b[0mi\u001b[0m\u001b[0;34m]\u001b[0m\u001b[0;34m.\u001b[0m\u001b[0msplit\u001b[0m\u001b[0;34m(\u001b[0m\u001b[0;34m'. '\u001b[0m\u001b[0;34m)\u001b[0m\u001b[0;34m)\u001b[0m\u001b[0;34m)\u001b[0m\u001b[0;34m)\u001b[0m\u001b[0;34m\u001b[0m\u001b[0;34m\u001b[0m\u001b[0m\n\u001b[0m\u001b[1;32m      5\u001b[0m     \u001b[0mprint\u001b[0m\u001b[0;34m(\u001b[0m\u001b[0;34m'\\n===============================================================================================\\n'\u001b[0m\u001b[0;34m)\u001b[0m\u001b[0;34m\u001b[0m\u001b[0;34m\u001b[0m\u001b[0m\n",
      "\u001b[0;31mNameError\u001b[0m: name 'text' is not defined"
     ]
    }
   ],
   "source": [
    "for i in range(2,10):\n",
    "    print('text                  :', data['text'][i])\n",
    "    print('\\n실제 headlines        :', data['headlines'][i])\n",
    "    print('\\n추출적 요약 headlines :', summarize(text[i], ratio=1/len(text[i].split('. '))))\n",
    "    print('\\n===============================================================================================\\n')"
   ]
  },
  {
   "cell_type": "markdown",
   "id": "42b05ac3",
   "metadata": {},
   "source": [
    "<br>\n",
    "\n",
    "---\n",
    "\n",
    "\n",
    "# . Ⅲ 정리\n",
    "\n",
    "---\n",
    "\n",
    "<br><br>\n",
    "\n",
    "- 확실히 자연어 처리(Natural Language Processing)는 전처리 작업 서부터 모델학습 그리고 인퍼런스 모델까지 정말 다양한 과정을 수행해야만 테스트를 진행할 수 있었다. <br><br>\n",
    "\n",
    "--- \n",
    "- **1. 전처리를 하기위해...** <br><br>\n",
    "    - 첫번째로, 데이터를 정리하였는데 1) 중복된 문장이 있는지 살펴보았고 2) 빈 문장을 제거하였다. 3) 텍스트 정규화를 진행하였으며 4) NLTK(Natural Language Toolkit)를 사용하여 불용어 처리를 진행하였다.\n",
    "    - 두번째로, 훈련데이터와 테스트 데이터로 나누었다.\n",
    "    - 세번째로, 정수 인코딩을 진행하였다.<br><br>\n",
    "- **2, 모델 설계하기**<br>\n",
    "- **3, 모델 훈련하기**<br>\n",
    "- **4, 인퍼런스 모델 구현하기**<br>\n",
    "- **5, 모델 테스트하기**<br>\n",
    "- **6, 추출적 요약 해보기**<br><br>\n",
    "\n",
    "- 모델학습은 안정적으로 수렴됨을 그래프를 통해 확인하였다.\n",
    "![image](https://user-images.githubusercontent.com/103712369/169865722-1e837470-d302-4b49-85ed-4d945d1f46dc.png)<br>\n",
    "- Early Stopping 기능을 사용해서 val loss가 두번 이상 줄어들지 않으면 멈추는 기능을 사용하였다.<br>\n",
    "- 50번의 epoch중 23번까지 학습이 진행된 것을 확인할 수 있었다.<br><br>\n",
    "---\n",
    "\n",
    "- **Extractive / Abstractive 요약을 시도해보았다.** <br><br>\n",
    "![image](https://user-images.githubusercontent.com/103712369/169866233-7f0393eb-db72-46fd-9bf2-5e6da461ba9a.png)<br>\n",
    "    - 추상적 요약의 경우 정답 headlines와 높은 확률로 유사한 키워드를 포함하여 요약을 해내는 것을 위 그림을 통해 확인할 수 있다.<br><br>\n",
    "    \n",
    "![image](https://user-images.githubusercontent.com/103712369/169866708-74715b2e-b834-4560-b38b-add3150fb0fd.png)\n",
    "    - 추출적 요약의 경우 비교적 짧은 뉴스 문단에서 핵심 1개의 문장을 추출하도록 정의하였고, 실제로 하나의 중요한 문장이 출력되는 것을 확인할 수 있었다."
   ]
  },
  {
   "cell_type": "code",
   "execution_count": null,
   "id": "2049976f",
   "metadata": {},
   "outputs": [],
   "source": []
  },
  {
   "cell_type": "code",
   "execution_count": null,
   "id": "6504cc24",
   "metadata": {},
   "outputs": [],
   "source": []
  },
  {
   "cell_type": "code",
   "execution_count": null,
   "id": "106eb9c2",
   "metadata": {},
   "outputs": [],
   "source": []
  },
  {
   "cell_type": "code",
   "execution_count": null,
   "id": "8d1aee1b",
   "metadata": {},
   "outputs": [],
   "source": []
  },
  {
   "cell_type": "code",
   "execution_count": null,
   "id": "a2340e5f",
   "metadata": {},
   "outputs": [],
   "source": []
  },
  {
   "cell_type": "code",
   "execution_count": null,
   "id": "27abcd2c",
   "metadata": {},
   "outputs": [],
   "source": []
  },
  {
   "cell_type": "code",
   "execution_count": null,
   "id": "75ad40b8",
   "metadata": {},
   "outputs": [],
   "source": []
  },
  {
   "cell_type": "markdown",
   "id": "49e4961e",
   "metadata": {},
   "source": [
    "======================================================="
   ]
  },
  {
   "cell_type": "code",
   "execution_count": null,
   "id": "6bf08b16",
   "metadata": {},
   "outputs": [],
   "source": []
  }
 ],
 "metadata": {
  "kernelspec": {
   "display_name": "Python 3 (ipykernel)",
   "language": "python",
   "name": "python3"
  },
  "language_info": {
   "codemirror_mode": {
    "name": "ipython",
    "version": 3
   },
   "file_extension": ".py",
   "mimetype": "text/x-python",
   "name": "python",
   "nbconvert_exporter": "python",
   "pygments_lexer": "ipython3",
   "version": "3.9.7"
  }
 },
 "nbformat": 4,
 "nbformat_minor": 5
}
