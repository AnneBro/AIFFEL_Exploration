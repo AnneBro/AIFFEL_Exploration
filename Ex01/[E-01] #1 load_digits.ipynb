{
 "cells": [
  {
   "cell_type": "markdown",
   "id": "7b8dda6e",
   "metadata": {},
   "source": [
    "# 프로젝트 (1) load_digits : 손글씨를 분류해봅시다"
   ]
  },
  {
   "cell_type": "markdown",
   "id": "9eb9d445",
   "metadata": {},
   "source": [
    "- 첫번째 실습 : 손글씨 이미지를 제대로 0~9까지 열 가지 카테고리로 분류해 보는 실습을 진행해보자\n",
    "\n",
    "\n",
    "- Scikit-Learn 라이브러리의 datasets를 모듈 안의 load_digits 매서드을 사용해서 프로젝트를 진행\n",
    "\n",
    "\n",
    "- Scikit-Learn 라이브러리의 버전을 먼저 확인해보자."
   ]
  },
  {
   "cell_type": "code",
   "execution_count": 1,
   "id": "6defa518",
   "metadata": {},
   "outputs": [
    {
     "name": "stdout",
     "output_type": "stream",
     "text": [
      "1.0\n"
     ]
    }
   ],
   "source": [
    "import sklearn\n",
    "print(sklearn.__version__)"
   ]
  },
  {
   "cell_type": "markdown",
   "id": "8ab25994",
   "metadata": {},
   "source": [
    "---\n",
    "### (1) 필요한 모듈 import 하기\n",
    "---"
   ]
  },
  {
   "cell_type": "code",
   "execution_count": 1,
   "id": "2ee5fdf1",
   "metadata": {},
   "outputs": [],
   "source": [
    "from sklearn.datasets import load_digits  # 실습파일 불러오기\n",
    "from sklearn.model_selection import train_test_split  # model_selection 모듈 안의 Train / Test Set을 나누기 위한 함수 불러오기\n",
    "from sklearn.metrics import classification_report  # metrics 모듈 안의 학습 모델을 평가하기 위한 함수 불러오기\n",
    "from sklearn.metrics import accuracy_score\n",
    "from sklearn.metrics import confusion_matrix\n",
    "\n",
    "import pandas as pd  # pandas 모듈 불러오기\n",
    "import numpy as np   # numpy 모듈 불러오기\n",
    "import matplotlib.pyplot as plt"
   ]
  },
  {
   "cell_type": "markdown",
   "id": "488e45bd",
   "metadata": {},
   "source": [
    "---\n",
    "### (2) 데이터 준비\n",
    "---"
   ]
  },
  {
   "cell_type": "code",
   "execution_count": 2,
   "id": "5e888832",
   "metadata": {
    "scrolled": false
   },
   "outputs": [
    {
     "data": {
      "text/plain": [
       "sklearn.utils.Bunch"
      ]
     },
     "execution_count": 2,
     "metadata": {},
     "output_type": "execute_result"
    }
   ],
   "source": [
    "digits = load_digits()  # load_digits 매서드를 사용해서 digits 데이터 불러옴\n",
    "type(digits)  # digits의 타입을 구하면 파이썬 딕셔너리, 번치(bunch) 객체로 표현됨"
   ]
  },
  {
   "cell_type": "markdown",
   "id": "a6e2e784",
   "metadata": {},
   "source": [
    "- `digits.keys()` 매서드를 사용해서 `digit` 객체 안의 정보 확인해보자\n",
    "\n",
    "\n",
    "- `digits` 안에는 7가지 정보들이 담겨있는것을 확인할 수 있다."
   ]
  },
  {
   "cell_type": "code",
   "execution_count": 5,
   "id": "da38e810",
   "metadata": {
    "scrolled": false
   },
   "outputs": [
    {
     "data": {
      "text/plain": [
       "dict_keys(['data', 'target', 'frame', 'feature_names', 'target_names', 'images', 'DESCR'])"
      ]
     },
     "execution_count": 5,
     "metadata": {},
     "output_type": "execute_result"
    }
   ],
   "source": [
    "digits.keys()  # digits의 속성 확인하기"
   ]
  },
  {
   "cell_type": "markdown",
   "id": "1c6624f1",
   "metadata": {},
   "source": [
    "* `digit`의 데이터를 파악하기 위해 pandas 모듈의 DataFrame을 활용해보자"
   ]
  },
  {
   "cell_type": "code",
   "execution_count": 84,
   "id": "9b50048c",
   "metadata": {
    "scrolled": false
   },
   "outputs": [
    {
     "data": {
      "text/html": [
       "<div>\n",
       "<style scoped>\n",
       "    .dataframe tbody tr th:only-of-type {\n",
       "        vertical-align: middle;\n",
       "    }\n",
       "\n",
       "    .dataframe tbody tr th {\n",
       "        vertical-align: top;\n",
       "    }\n",
       "\n",
       "    .dataframe thead th {\n",
       "        text-align: right;\n",
       "    }\n",
       "</style>\n",
       "<table border=\"1\" class=\"dataframe\">\n",
       "  <thead>\n",
       "    <tr style=\"text-align: right;\">\n",
       "      <th></th>\n",
       "      <th>pixel_0_0</th>\n",
       "      <th>pixel_0_1</th>\n",
       "      <th>pixel_0_2</th>\n",
       "      <th>pixel_0_3</th>\n",
       "      <th>pixel_0_4</th>\n",
       "      <th>pixel_0_5</th>\n",
       "      <th>pixel_0_6</th>\n",
       "      <th>pixel_0_7</th>\n",
       "      <th>pixel_1_0</th>\n",
       "      <th>pixel_1_1</th>\n",
       "      <th>...</th>\n",
       "      <th>pixel_6_7</th>\n",
       "      <th>pixel_7_0</th>\n",
       "      <th>pixel_7_1</th>\n",
       "      <th>pixel_7_2</th>\n",
       "      <th>pixel_7_3</th>\n",
       "      <th>pixel_7_4</th>\n",
       "      <th>pixel_7_5</th>\n",
       "      <th>pixel_7_6</th>\n",
       "      <th>pixel_7_7</th>\n",
       "      <th>label</th>\n",
       "    </tr>\n",
       "  </thead>\n",
       "  <tbody>\n",
       "    <tr>\n",
       "      <th>0</th>\n",
       "      <td>0.0</td>\n",
       "      <td>0.0</td>\n",
       "      <td>5.0</td>\n",
       "      <td>13.0</td>\n",
       "      <td>9.0</td>\n",
       "      <td>1.0</td>\n",
       "      <td>0.0</td>\n",
       "      <td>0.0</td>\n",
       "      <td>0.0</td>\n",
       "      <td>0.0</td>\n",
       "      <td>...</td>\n",
       "      <td>0.0</td>\n",
       "      <td>0.0</td>\n",
       "      <td>0.0</td>\n",
       "      <td>6.0</td>\n",
       "      <td>13.0</td>\n",
       "      <td>10.0</td>\n",
       "      <td>0.0</td>\n",
       "      <td>0.0</td>\n",
       "      <td>0.0</td>\n",
       "      <td>0</td>\n",
       "    </tr>\n",
       "    <tr>\n",
       "      <th>1</th>\n",
       "      <td>0.0</td>\n",
       "      <td>0.0</td>\n",
       "      <td>0.0</td>\n",
       "      <td>12.0</td>\n",
       "      <td>13.0</td>\n",
       "      <td>5.0</td>\n",
       "      <td>0.0</td>\n",
       "      <td>0.0</td>\n",
       "      <td>0.0</td>\n",
       "      <td>0.0</td>\n",
       "      <td>...</td>\n",
       "      <td>0.0</td>\n",
       "      <td>0.0</td>\n",
       "      <td>0.0</td>\n",
       "      <td>0.0</td>\n",
       "      <td>11.0</td>\n",
       "      <td>16.0</td>\n",
       "      <td>10.0</td>\n",
       "      <td>0.0</td>\n",
       "      <td>0.0</td>\n",
       "      <td>1</td>\n",
       "    </tr>\n",
       "    <tr>\n",
       "      <th>2</th>\n",
       "      <td>0.0</td>\n",
       "      <td>0.0</td>\n",
       "      <td>0.0</td>\n",
       "      <td>4.0</td>\n",
       "      <td>15.0</td>\n",
       "      <td>12.0</td>\n",
       "      <td>0.0</td>\n",
       "      <td>0.0</td>\n",
       "      <td>0.0</td>\n",
       "      <td>0.0</td>\n",
       "      <td>...</td>\n",
       "      <td>0.0</td>\n",
       "      <td>0.0</td>\n",
       "      <td>0.0</td>\n",
       "      <td>0.0</td>\n",
       "      <td>3.0</td>\n",
       "      <td>11.0</td>\n",
       "      <td>16.0</td>\n",
       "      <td>9.0</td>\n",
       "      <td>0.0</td>\n",
       "      <td>2</td>\n",
       "    </tr>\n",
       "    <tr>\n",
       "      <th>3</th>\n",
       "      <td>0.0</td>\n",
       "      <td>0.0</td>\n",
       "      <td>7.0</td>\n",
       "      <td>15.0</td>\n",
       "      <td>13.0</td>\n",
       "      <td>1.0</td>\n",
       "      <td>0.0</td>\n",
       "      <td>0.0</td>\n",
       "      <td>0.0</td>\n",
       "      <td>8.0</td>\n",
       "      <td>...</td>\n",
       "      <td>0.0</td>\n",
       "      <td>0.0</td>\n",
       "      <td>0.0</td>\n",
       "      <td>7.0</td>\n",
       "      <td>13.0</td>\n",
       "      <td>13.0</td>\n",
       "      <td>9.0</td>\n",
       "      <td>0.0</td>\n",
       "      <td>0.0</td>\n",
       "      <td>3</td>\n",
       "    </tr>\n",
       "    <tr>\n",
       "      <th>4</th>\n",
       "      <td>0.0</td>\n",
       "      <td>0.0</td>\n",
       "      <td>0.0</td>\n",
       "      <td>1.0</td>\n",
       "      <td>11.0</td>\n",
       "      <td>0.0</td>\n",
       "      <td>0.0</td>\n",
       "      <td>0.0</td>\n",
       "      <td>0.0</td>\n",
       "      <td>0.0</td>\n",
       "      <td>...</td>\n",
       "      <td>0.0</td>\n",
       "      <td>0.0</td>\n",
       "      <td>0.0</td>\n",
       "      <td>0.0</td>\n",
       "      <td>2.0</td>\n",
       "      <td>16.0</td>\n",
       "      <td>4.0</td>\n",
       "      <td>0.0</td>\n",
       "      <td>0.0</td>\n",
       "      <td>4</td>\n",
       "    </tr>\n",
       "    <tr>\n",
       "      <th>...</th>\n",
       "      <td>...</td>\n",
       "      <td>...</td>\n",
       "      <td>...</td>\n",
       "      <td>...</td>\n",
       "      <td>...</td>\n",
       "      <td>...</td>\n",
       "      <td>...</td>\n",
       "      <td>...</td>\n",
       "      <td>...</td>\n",
       "      <td>...</td>\n",
       "      <td>...</td>\n",
       "      <td>...</td>\n",
       "      <td>...</td>\n",
       "      <td>...</td>\n",
       "      <td>...</td>\n",
       "      <td>...</td>\n",
       "      <td>...</td>\n",
       "      <td>...</td>\n",
       "      <td>...</td>\n",
       "      <td>...</td>\n",
       "      <td>...</td>\n",
       "    </tr>\n",
       "    <tr>\n",
       "      <th>1792</th>\n",
       "      <td>0.0</td>\n",
       "      <td>0.0</td>\n",
       "      <td>4.0</td>\n",
       "      <td>10.0</td>\n",
       "      <td>13.0</td>\n",
       "      <td>6.0</td>\n",
       "      <td>0.0</td>\n",
       "      <td>0.0</td>\n",
       "      <td>0.0</td>\n",
       "      <td>1.0</td>\n",
       "      <td>...</td>\n",
       "      <td>0.0</td>\n",
       "      <td>0.0</td>\n",
       "      <td>0.0</td>\n",
       "      <td>2.0</td>\n",
       "      <td>14.0</td>\n",
       "      <td>15.0</td>\n",
       "      <td>9.0</td>\n",
       "      <td>0.0</td>\n",
       "      <td>0.0</td>\n",
       "      <td>9</td>\n",
       "    </tr>\n",
       "    <tr>\n",
       "      <th>1793</th>\n",
       "      <td>0.0</td>\n",
       "      <td>0.0</td>\n",
       "      <td>6.0</td>\n",
       "      <td>16.0</td>\n",
       "      <td>13.0</td>\n",
       "      <td>11.0</td>\n",
       "      <td>1.0</td>\n",
       "      <td>0.0</td>\n",
       "      <td>0.0</td>\n",
       "      <td>0.0</td>\n",
       "      <td>...</td>\n",
       "      <td>0.0</td>\n",
       "      <td>0.0</td>\n",
       "      <td>0.0</td>\n",
       "      <td>6.0</td>\n",
       "      <td>16.0</td>\n",
       "      <td>14.0</td>\n",
       "      <td>6.0</td>\n",
       "      <td>0.0</td>\n",
       "      <td>0.0</td>\n",
       "      <td>0</td>\n",
       "    </tr>\n",
       "    <tr>\n",
       "      <th>1794</th>\n",
       "      <td>0.0</td>\n",
       "      <td>0.0</td>\n",
       "      <td>1.0</td>\n",
       "      <td>11.0</td>\n",
       "      <td>15.0</td>\n",
       "      <td>1.0</td>\n",
       "      <td>0.0</td>\n",
       "      <td>0.0</td>\n",
       "      <td>0.0</td>\n",
       "      <td>0.0</td>\n",
       "      <td>...</td>\n",
       "      <td>0.0</td>\n",
       "      <td>0.0</td>\n",
       "      <td>0.0</td>\n",
       "      <td>2.0</td>\n",
       "      <td>9.0</td>\n",
       "      <td>13.0</td>\n",
       "      <td>6.0</td>\n",
       "      <td>0.0</td>\n",
       "      <td>0.0</td>\n",
       "      <td>8</td>\n",
       "    </tr>\n",
       "    <tr>\n",
       "      <th>1795</th>\n",
       "      <td>0.0</td>\n",
       "      <td>0.0</td>\n",
       "      <td>2.0</td>\n",
       "      <td>10.0</td>\n",
       "      <td>7.0</td>\n",
       "      <td>0.0</td>\n",
       "      <td>0.0</td>\n",
       "      <td>0.0</td>\n",
       "      <td>0.0</td>\n",
       "      <td>0.0</td>\n",
       "      <td>...</td>\n",
       "      <td>0.0</td>\n",
       "      <td>0.0</td>\n",
       "      <td>0.0</td>\n",
       "      <td>5.0</td>\n",
       "      <td>12.0</td>\n",
       "      <td>16.0</td>\n",
       "      <td>12.0</td>\n",
       "      <td>0.0</td>\n",
       "      <td>0.0</td>\n",
       "      <td>9</td>\n",
       "    </tr>\n",
       "    <tr>\n",
       "      <th>1796</th>\n",
       "      <td>0.0</td>\n",
       "      <td>0.0</td>\n",
       "      <td>10.0</td>\n",
       "      <td>14.0</td>\n",
       "      <td>8.0</td>\n",
       "      <td>1.0</td>\n",
       "      <td>0.0</td>\n",
       "      <td>0.0</td>\n",
       "      <td>0.0</td>\n",
       "      <td>2.0</td>\n",
       "      <td>...</td>\n",
       "      <td>0.0</td>\n",
       "      <td>0.0</td>\n",
       "      <td>1.0</td>\n",
       "      <td>8.0</td>\n",
       "      <td>12.0</td>\n",
       "      <td>14.0</td>\n",
       "      <td>12.0</td>\n",
       "      <td>1.0</td>\n",
       "      <td>0.0</td>\n",
       "      <td>8</td>\n",
       "    </tr>\n",
       "  </tbody>\n",
       "</table>\n",
       "<p>1797 rows × 65 columns</p>\n",
       "</div>"
      ],
      "text/plain": [
       "      pixel_0_0  pixel_0_1  pixel_0_2  pixel_0_3  pixel_0_4  pixel_0_5  \\\n",
       "0           0.0        0.0        5.0       13.0        9.0        1.0   \n",
       "1           0.0        0.0        0.0       12.0       13.0        5.0   \n",
       "2           0.0        0.0        0.0        4.0       15.0       12.0   \n",
       "3           0.0        0.0        7.0       15.0       13.0        1.0   \n",
       "4           0.0        0.0        0.0        1.0       11.0        0.0   \n",
       "...         ...        ...        ...        ...        ...        ...   \n",
       "1792        0.0        0.0        4.0       10.0       13.0        6.0   \n",
       "1793        0.0        0.0        6.0       16.0       13.0       11.0   \n",
       "1794        0.0        0.0        1.0       11.0       15.0        1.0   \n",
       "1795        0.0        0.0        2.0       10.0        7.0        0.0   \n",
       "1796        0.0        0.0       10.0       14.0        8.0        1.0   \n",
       "\n",
       "      pixel_0_6  pixel_0_7  pixel_1_0  pixel_1_1  ...  pixel_6_7  pixel_7_0  \\\n",
       "0           0.0        0.0        0.0        0.0  ...        0.0        0.0   \n",
       "1           0.0        0.0        0.0        0.0  ...        0.0        0.0   \n",
       "2           0.0        0.0        0.0        0.0  ...        0.0        0.0   \n",
       "3           0.0        0.0        0.0        8.0  ...        0.0        0.0   \n",
       "4           0.0        0.0        0.0        0.0  ...        0.0        0.0   \n",
       "...         ...        ...        ...        ...  ...        ...        ...   \n",
       "1792        0.0        0.0        0.0        1.0  ...        0.0        0.0   \n",
       "1793        1.0        0.0        0.0        0.0  ...        0.0        0.0   \n",
       "1794        0.0        0.0        0.0        0.0  ...        0.0        0.0   \n",
       "1795        0.0        0.0        0.0        0.0  ...        0.0        0.0   \n",
       "1796        0.0        0.0        0.0        2.0  ...        0.0        0.0   \n",
       "\n",
       "      pixel_7_1  pixel_7_2  pixel_7_3  pixel_7_4  pixel_7_5  pixel_7_6  \\\n",
       "0           0.0        6.0       13.0       10.0        0.0        0.0   \n",
       "1           0.0        0.0       11.0       16.0       10.0        0.0   \n",
       "2           0.0        0.0        3.0       11.0       16.0        9.0   \n",
       "3           0.0        7.0       13.0       13.0        9.0        0.0   \n",
       "4           0.0        0.0        2.0       16.0        4.0        0.0   \n",
       "...         ...        ...        ...        ...        ...        ...   \n",
       "1792        0.0        2.0       14.0       15.0        9.0        0.0   \n",
       "1793        0.0        6.0       16.0       14.0        6.0        0.0   \n",
       "1794        0.0        2.0        9.0       13.0        6.0        0.0   \n",
       "1795        0.0        5.0       12.0       16.0       12.0        0.0   \n",
       "1796        1.0        8.0       12.0       14.0       12.0        1.0   \n",
       "\n",
       "      pixel_7_7  label  \n",
       "0           0.0      0  \n",
       "1           0.0      1  \n",
       "2           0.0      2  \n",
       "3           0.0      3  \n",
       "4           0.0      4  \n",
       "...         ...    ...  \n",
       "1792        0.0      9  \n",
       "1793        0.0      0  \n",
       "1794        0.0      8  \n",
       "1795        0.0      9  \n",
       "1796        0.0      8  \n",
       "\n",
       "[1797 rows x 65 columns]"
      ]
     },
     "execution_count": 84,
     "metadata": {},
     "output_type": "execute_result"
    }
   ],
   "source": [
    "digits_df = pd.DataFrame(data=digits.data, columns=digits.feature_names)\n",
    "digits_df['label'] = digits.target\n",
    "digits_df"
   ]
  },
  {
   "cell_type": "code",
   "execution_count": 97,
   "id": "2eb1e18e",
   "metadata": {
    "scrolled": false
   },
   "outputs": [
    {
     "data": {
      "text/plain": [
       "3    183\n",
       "1    182\n",
       "5    182\n",
       "4    181\n",
       "6    181\n",
       "9    180\n",
       "7    179\n",
       "0    178\n",
       "2    177\n",
       "8    174\n",
       "Name: label, dtype: int64"
      ]
     },
     "execution_count": 97,
     "metadata": {},
     "output_type": "execute_result"
    }
   ],
   "source": [
    "digits_df['label'].value_counts()  # digits의 target 값 중 unique한 값들의 중복되는 갯수는 다음과 같다."
   ]
  },
  {
   "cell_type": "markdown",
   "id": "4cc575c5",
   "metadata": {},
   "source": [
    "* `digits`의 feature data의 크기는 1797x64이며 총 1797개의 샘플 데이터가 있으며 64개의 특성을 갖는다는 말임.\n",
    "\n",
    "\n",
    "* 여기서, 64개의 특성이란? 각 행이 하나의 이미지를 나타내고 있으며 8x8 크기의 이미지를 나타냄"
   ]
  },
  {
   "cell_type": "code",
   "execution_count": 39,
   "id": "74897796",
   "metadata": {},
   "outputs": [
    {
     "data": {
      "image/png": "[encoded data removed]",
      "text/plain": [
       "<Figure size 432x288 with 10 Axes>"
      ]
     },
     "metadata": {
      "needs_background": "light"
     },
     "output_type": "display_data"
    }
   ],
   "source": [
    "for i in range(10):\n",
    "    plt.subplot(2, 5, i+1)\n",
    "    plt.imshow(digits.data[i].reshape(8, 8), cmap='gray')\n",
    "    plt.axis('off')\n",
    "plt.show()"
   ]
  },
  {
   "cell_type": "markdown",
   "id": "e605ca7d",
   "metadata": {},
   "source": [
    "---\n",
    "### (3) 데이터 이해하기\n",
    "---\n",
    "\n",
    "**1) Feature Data 지정하기**\n"
   ]
  },
  {
   "cell_type": "code",
   "execution_count": 16,
   "id": "bc0b0fe5",
   "metadata": {},
   "outputs": [
    {
     "name": "stdout",
     "output_type": "stream",
     "text": [
      "(1797, 64)\n",
      "<class 'numpy.ndarray'>\n"
     ]
    }
   ],
   "source": [
    "digits_data = digits.data  # Feature Data 지정\n",
    "print(digits_data.shape)   # Feature Data의 모양 출력\n",
    "print(type(digits_data))   # Feature Data의 객체 타입 출력"
   ]
  },
  {
   "cell_type": "markdown",
   "id": "3bc51d31",
   "metadata": {},
   "source": [
    "**2) Label Data 지정하기**"
   ]
  },
  {
   "cell_type": "code",
   "execution_count": 20,
   "id": "490656ba",
   "metadata": {},
   "outputs": [
    {
     "name": "stdout",
     "output_type": "stream",
     "text": [
      "(1797,)\n",
      "<class 'numpy.ndarray'>\n"
     ]
    }
   ],
   "source": [
    "digits_label = digits.target  # Label Data 지정\n",
    "print(digits_label.shape)     # Label Data의 모양 출력\n",
    "print(type(digits_label))     # Label Data의 객체 타입 출력"
   ]
  },
  {
   "cell_type": "markdown",
   "id": "5ca9321e",
   "metadata": {},
   "source": [
    "**3) Target Names 출력해보기**"
   ]
  },
  {
   "cell_type": "code",
   "execution_count": 22,
   "id": "13d2162f",
   "metadata": {},
   "outputs": [
    {
     "name": "stdout",
     "output_type": "stream",
     "text": [
      "[0 1 2 3 4 5 6 7 8 9]\n"
     ]
    }
   ],
   "source": [
    "digits_target_names = digits.target_names\n",
    "print(digits_target_names)"
   ]
  },
  {
   "cell_type": "markdown",
   "id": "0291a154",
   "metadata": {},
   "source": [
    "**4) 데이터 Describe 해보기**"
   ]
  },
  {
   "cell_type": "code",
   "execution_count": 24,
   "id": "3e2d223b",
   "metadata": {
    "scrolled": true
   },
   "outputs": [
    {
     "name": "stdout",
     "output_type": "stream",
     "text": [
      ".. _digits_dataset:\n",
      "\n",
      "Optical recognition of handwritten digits dataset\n",
      "--------------------------------------------------\n",
      "\n",
      "**Data Set Characteristics:**\n",
      "\n",
      "    :Number of Instances: 1797\n",
      "    :Number of Attributes: 64\n",
      "    :Attribute Information: 8x8 image of integer pixels in the range 0..16.\n",
      "    :Missing Attribute Values: None\n",
      "    :Creator: E. Alpaydin (alpaydin '@' boun.edu.tr)\n",
      "    :Date: July; 1998\n",
      "\n",
      "This is a copy of the test set of the UCI ML hand-written digits datasets\n",
      "https://archive.ics.uci.edu/ml/datasets/Optical+Recognition+of+Handwritten+Digits\n",
      "\n",
      "The data set contains images of hand-written digits: 10 classes where\n",
      "each class refers to a digit.\n",
      "\n",
      "Preprocessing programs made available by NIST were used to extract\n",
      "normalized bitmaps of handwritten digits from a preprinted form. From a\n",
      "total of 43 people, 30 contributed to the training set and different 13\n",
      "to the test set. 32x32 bitmaps are divided into nonoverlapping blocks of\n",
      "4x4 and the number of on pixels are counted in each block. This generates\n",
      "an input matrix of 8x8 where each element is an integer in the range\n",
      "0..16. This reduces dimensionality and gives invariance to small\n",
      "distortions.\n",
      "\n",
      "For info on NIST preprocessing routines, see M. D. Garris, J. L. Blue, G.\n",
      "T. Candela, D. L. Dimmick, J. Geist, P. J. Grother, S. A. Janet, and C.\n",
      "L. Wilson, NIST Form-Based Handprint Recognition System, NISTIR 5469,\n",
      "1994.\n",
      "\n",
      ".. topic:: References\n",
      "\n",
      "  - C. Kaynak (1995) Methods of Combining Multiple Classifiers and Their\n",
      "    Applications to Handwritten Digit Recognition, MSc Thesis, Institute of\n",
      "    Graduate Studies in Science and Engineering, Bogazici University.\n",
      "  - E. Alpaydin, C. Kaynak (1998) Cascading Classifiers, Kybernetika.\n",
      "  - Ken Tang and Ponnuthurai N. Suganthan and Xi Yao and A. Kai Qin.\n",
      "    Linear dimensionalityreduction using relevance weighted LDA. School of\n",
      "    Electrical and Electronic Engineering Nanyang Technological University.\n",
      "    2005.\n",
      "  - Claudio Gentile. A New Approximate Maximal Margin Classification\n",
      "    Algorithm. NIPS. 2000.\n",
      "\n"
     ]
    }
   ],
   "source": [
    "print(digits.DESCR)"
   ]
  },
  {
   "cell_type": "markdown",
   "id": "cbaae0e0",
   "metadata": {},
   "source": [
    "---\n",
    "### (4) train, test 데이터 분리\n",
    "---\n",
    "\n",
    "- 모델 학습과 테스트용 문제지와 정답지를 준비해보자.\n",
    "    - `train_test_split` 함수를 사용하여 Data를 학습 : 테스트의 비율을 8:2로 골고루 섞이도록 나눠보자\n"
   ]
  },
  {
   "cell_type": "code",
   "execution_count": 107,
   "id": "e52f61ec",
   "metadata": {},
   "outputs": [
    {
     "name": "stdout",
     "output_type": "stream",
     "text": [
      "(1437, 64) (1437,)\n",
      "(360, 64) (360,)\n"
     ]
    }
   ],
   "source": [
    "X_train, X_test, y_train, y_test = train_test_split(digits_data, \n",
    "                                                    digits_label, \n",
    "                                                    test_size=0.2, \n",
    "                                                    random_state=1111)\n",
    "print(X_train.shape, y_train.shape)\n",
    "print(X_test.shape, y_test.shape)"
   ]
  },
  {
   "cell_type": "markdown",
   "id": "a8ab05ef",
   "metadata": {},
   "source": [
    "- 아래 셀의 결과를 확인하면 나누어진 Test Data가 전체 Data에서 골고루 섞여져 있는 것으로 확인된다."
   ]
  },
  {
   "cell_type": "code",
   "execution_count": 108,
   "id": "4ee4abdf",
   "metadata": {},
   "outputs": [
    {
     "data": {
      "text/plain": [
       "[(0, 34),\n",
       " (1, 43),\n",
       " (2, 36),\n",
       " (3, 37),\n",
       " (4, 42),\n",
       " (5, 29),\n",
       " (6, 41),\n",
       " (7, 36),\n",
       " (8, 36),\n",
       " (9, 26)]"
      ]
     },
     "execution_count": 108,
     "metadata": {},
     "output_type": "execute_result"
    }
   ],
   "source": [
    "unique, counts = np.unique(y_test, return_counts=True)\n",
    "list(zip(unique, counts))\n"
   ]
  },
  {
   "cell_type": "markdown",
   "id": "dd60c634",
   "metadata": {},
   "source": [
    "---\n",
    "### (5) 다양한 모델로 학습시켜보기\n",
    "---\n",
    "\n",
    "- 1) **Decision Tree** 사용해 보기<br>\n",
    "- 2) **Random Forest** 사용해 보기<br>\n",
    "- 3) **SVM** 사용해 보기<br>\n",
    "- 4) **SGD Classifier** 사용해 보기<br>\n",
    "- 5) **Logistic Regression** 사용해 보기<br>"
   ]
  },
  {
   "cell_type": "code",
   "execution_count": 109,
   "id": "1caa3978",
   "metadata": {},
   "outputs": [],
   "source": [
    "# 학습모델 불러오기 \n",
    "\n",
    "from sklearn.tree import DecisionTreeClassifier\n",
    "from sklearn.ensemble import RandomForestClassifier\n",
    "from sklearn import svm\n",
    "from sklearn.linear_model import SGDClassifier\n",
    "from sklearn.linear_model import LogisticRegression"
   ]
  },
  {
   "cell_type": "code",
   "execution_count": 110,
   "id": "12969abe",
   "metadata": {},
   "outputs": [],
   "source": [
    "# 학습모델을 각각의 변수에 저장\n",
    "\n",
    "decision_tree = DecisionTreeClassifier(random_state=1111)\n",
    "random_forest = RandomForestClassifier(random_state=1111)\n",
    "svm_model = svm.SVC()\n",
    "sgd_model = SGDClassifier()\n",
    "logistic_model = LogisticRegression()"
   ]
  },
  {
   "cell_type": "code",
   "execution_count": 111,
   "id": "9bf4e6d1",
   "metadata": {},
   "outputs": [
    {
     "name": "stderr",
     "output_type": "stream",
     "text": [
      "/opt/conda/lib/python3.9/site-packages/sklearn/linear_model/_logistic.py:814: ConvergenceWarning: lbfgs failed to converge (status=1):\n",
      "STOP: TOTAL NO. of ITERATIONS REACHED LIMIT.\n",
      "\n",
      "Increase the number of iterations (max_iter) or scale the data as shown in:\n",
      "    https://scikit-learn.org/stable/modules/preprocessing.html\n",
      "Please also refer to the documentation for alternative solver options:\n",
      "    https://scikit-learn.org/stable/modules/linear_model.html#logistic-regression\n",
      "  n_iter_i = _check_optimize_result(\n"
     ]
    },
    {
     "data": {
      "text/plain": [
       "LogisticRegression()"
      ]
     },
     "execution_count": 111,
     "metadata": {},
     "output_type": "execute_result"
    }
   ],
   "source": [
    "# 각각의 모델을 Train Data set로 학습\n",
    "\n",
    "decision_tree.fit(X_train, y_train)\n",
    "random_forest.fit(X_train, y_train)\n",
    "svm_model.fit(X_train, y_train)\n",
    "sgd_model.fit(X_train, y_train)\n",
    "logistic_model.fit(X_train, y_train)"
   ]
  },
  {
   "cell_type": "code",
   "execution_count": 112,
   "id": "8fcc4ad3",
   "metadata": {},
   "outputs": [],
   "source": [
    "# Test Data를 통해 학습모델의 결과값 예측\n",
    "\n",
    "prediction_decision_tree = decision_tree.predict(X_test)\n",
    "prediction_random_forest = random_forest.predict(X_test)\n",
    "prediction_svm_model = svm_model.predict(X_test)\n",
    "prediction_sgd_model = sgd_model.predict(X_test)\n",
    "prediction_logistic_model = logistic_model.predict(X_test)"
   ]
  },
  {
   "cell_type": "markdown",
   "id": "db54c3ff",
   "metadata": {},
   "source": [
    "---\n",
    "### (6) 모델을 평가해 보기\n",
    "---"
   ]
  },
  {
   "cell_type": "markdown",
   "id": "3e6ab5ec",
   "metadata": {},
   "source": [
    "- **1) sklearn.metrics accuracy 지표를 사용한 경우**"
   ]
  },
  {
   "cell_type": "code",
   "execution_count": 113,
   "id": "f0276b72",
   "metadata": {},
   "outputs": [
    {
     "name": "stdout",
     "output_type": "stream",
     "text": [
      "0.8055555555555556\n",
      "0.9666666666666667\n",
      "0.9833333333333333\n",
      "0.9388888888888889\n",
      "0.9666666666666667\n"
     ]
    }
   ],
   "source": [
    "print(accuracy_score(y_test, prediction_decision_tree))\n",
    "print(accuracy_score(y_test, prediction_random_forest))\n",
    "print(accuracy_score(y_test, prediction_svm_model))\n",
    "print(accuracy_score(y_test, prediction_sgd_model))\n",
    "print(accuracy_score(y_test, prediction_logistic_model))"
   ]
  },
  {
   "cell_type": "markdown",
   "id": "12edbfc2",
   "metadata": {},
   "source": [
    "- **2) sklearn.metrics classification_report 지표를 사용한 경우**"
   ]
  },
  {
   "cell_type": "code",
   "execution_count": 114,
   "id": "adb09b07",
   "metadata": {},
   "outputs": [
    {
     "name": "stdout",
     "output_type": "stream",
     "text": [
      "              precision    recall  f1-score   support\n",
      "\n",
      "           0       0.86      0.94      0.90        34\n",
      "           1       0.78      0.81      0.80        43\n",
      "           2       0.74      0.72      0.73        36\n",
      "           3       0.86      0.86      0.86        37\n",
      "           4       0.90      0.86      0.88        42\n",
      "           5       0.84      0.90      0.87        29\n",
      "           6       0.85      0.85      0.85        41\n",
      "           7       0.84      0.89      0.86        36\n",
      "           8       0.61      0.53      0.57        36\n",
      "           9       0.68      0.65      0.67        26\n",
      "\n",
      "    accuracy                           0.81       360\n",
      "   macro avg       0.80      0.80      0.80       360\n",
      "weighted avg       0.80      0.81      0.80       360\n",
      "------------------------------------------------------------\n",
      "\n",
      "              precision    recall  f1-score   support\n",
      "\n",
      "           0       0.97      0.94      0.96        34\n",
      "           1       0.91      1.00      0.96        43\n",
      "           2       0.97      0.97      0.97        36\n",
      "           3       1.00      0.97      0.99        37\n",
      "           4       0.95      0.98      0.96        42\n",
      "           5       0.94      1.00      0.97        29\n",
      "           6       1.00      0.95      0.97        41\n",
      "           7       1.00      1.00      1.00        36\n",
      "           8       0.94      0.86      0.90        36\n",
      "           9       1.00      1.00      1.00        26\n",
      "\n",
      "    accuracy                           0.97       360\n",
      "   macro avg       0.97      0.97      0.97       360\n",
      "weighted avg       0.97      0.97      0.97       360\n",
      "------------------------------------------------------------\n",
      "\n",
      "              precision    recall  f1-score   support\n",
      "\n",
      "           0       1.00      0.97      0.99        34\n",
      "           1       0.91      1.00      0.96        43\n",
      "           2       1.00      1.00      1.00        36\n",
      "           3       1.00      1.00      1.00        37\n",
      "           4       0.98      0.98      0.98        42\n",
      "           5       1.00      1.00      1.00        29\n",
      "           6       1.00      1.00      1.00        41\n",
      "           7       1.00      1.00      1.00        36\n",
      "           8       1.00      0.89      0.94        36\n",
      "           9       0.96      1.00      0.98        26\n",
      "\n",
      "    accuracy                           0.98       360\n",
      "   macro avg       0.99      0.98      0.98       360\n",
      "weighted avg       0.98      0.98      0.98       360\n",
      "------------------------------------------------------------\n",
      "\n",
      "              precision    recall  f1-score   support\n",
      "\n",
      "           0       1.00      1.00      1.00        34\n",
      "           1       0.88      0.88      0.88        43\n",
      "           2       1.00      0.97      0.99        36\n",
      "           3       0.97      1.00      0.99        37\n",
      "           4       1.00      0.98      0.99        42\n",
      "           5       0.97      0.97      0.97        29\n",
      "           6       1.00      0.95      0.97        41\n",
      "           7       0.97      1.00      0.99        36\n",
      "           8       0.69      0.86      0.77        36\n",
      "           9       1.00      0.73      0.84        26\n",
      "\n",
      "    accuracy                           0.94       360\n",
      "   macro avg       0.95      0.93      0.94       360\n",
      "weighted avg       0.95      0.94      0.94       360\n",
      "------------------------------------------------------------\n",
      "\n",
      "              precision    recall  f1-score   support\n",
      "\n",
      "           0       0.97      0.97      0.97        34\n",
      "           1       0.91      1.00      0.96        43\n",
      "           2       1.00      1.00      1.00        36\n",
      "           3       1.00      0.97      0.99        37\n",
      "           4       0.95      0.95      0.95        42\n",
      "           5       0.93      0.97      0.95        29\n",
      "           6       1.00      0.95      0.97        41\n",
      "           7       1.00      1.00      1.00        36\n",
      "           8       0.94      0.86      0.90        36\n",
      "           9       0.96      1.00      0.98        26\n",
      "\n",
      "    accuracy                           0.97       360\n",
      "   macro avg       0.97      0.97      0.97       360\n",
      "weighted avg       0.97      0.97      0.97       360\n",
      "------------------------------------------------------------\n",
      "\n"
     ]
    }
   ],
   "source": [
    "print(classification_report(y_test, prediction_decision_tree), end='------------------------------------------------------------\\n\\n')\n",
    "print(classification_report(y_test, prediction_random_forest), end='------------------------------------------------------------\\n\\n')\n",
    "print(classification_report(y_test, prediction_svm_model), end='------------------------------------------------------------\\n\\n')\n",
    "print(classification_report(y_test, prediction_sgd_model), end='------------------------------------------------------------\\n\\n')\n",
    "print(classification_report(y_test, prediction_logistic_model), end='------------------------------------------------------------\\n\\n')"
   ]
  },
  {
   "cell_type": "markdown",
   "id": "6edaf652",
   "metadata": {},
   "source": [
    "- **3) sklearn.metrics confusion_matrix 지표를 사용한 경우**"
   ]
  },
  {
   "cell_type": "code",
   "execution_count": 83,
   "id": "20c9575b",
   "metadata": {
    "collapsed": true
   },
   "outputs": [
    {
     "name": "stdout",
     "output_type": "stream",
     "text": [
      "[[42  0  0  1  0  0  0  0  0  0]\n",
      " [ 0 34  3  1  0  1  1  0  0  2]\n",
      " [ 0  0 33  2  0  0  1  1  2  1]\n",
      " [ 0  1  0 31  0  0  0  0  1  1]\n",
      " [ 0  0  1  0 35  0  0  0  1  0]\n",
      " [ 0  1  0  0  0 27  0  0  0  0]\n",
      " [ 0  0  0  0  2  0 26  0  0  0]\n",
      " [ 0  0  0  1  2  1  0 27  0  2]\n",
      " [ 0  5  4  1  1  0  3  0 28  1]\n",
      " [ 0  1  1  2  2  1  0  0  0 25]]\n",
      "\n",
      "[[42  0  0  0  1  0  0  0  0  0]\n",
      " [ 0 42  0  0  0  0  0  0  0  0]\n",
      " [ 0  0 40  0  0  0  0  0  0  0]\n",
      " [ 0  0  0 34  0  0  0  0  0  0]\n",
      " [ 0  0  0  0 37  0  0  0  0  0]\n",
      " [ 0  0  0  0  0 27  0  0  0  1]\n",
      " [ 0  0  0  0  1  0 27  0  0  0]\n",
      " [ 0  0  0  0  0  0  0 32  0  1]\n",
      " [ 0  3  0  0  1  1  0  2 36  0]\n",
      " [ 0  0  0  0  0  2  0  0  0 30]]\n",
      "\n",
      "[[43  0  0  0  0  0  0  0  0  0]\n",
      " [ 0 42  0  0  0  0  0  0  0  0]\n",
      " [ 0  0 40  0  0  0  0  0  0  0]\n",
      " [ 0  0  0 34  0  0  0  0  0  0]\n",
      " [ 0  0  0  0 37  0  0  0  0  0]\n",
      " [ 0  0  0  0  0 28  0  0  0  0]\n",
      " [ 0  0  0  0  0  0 28  0  0  0]\n",
      " [ 0  0  0  0  0  0  0 33  0  0]\n",
      " [ 0  2  0  0  0  1  0  0 40  0]\n",
      " [ 0  0  0  0  0  1  0  0  0 31]]\n",
      "\n",
      "[[42  0  0  0  1  0  0  0  0  0]\n",
      " [ 0 39  0  1  0  0  0  0  1  1]\n",
      " [ 0  0 39  1  0  0  0  0  0  0]\n",
      " [ 0  0  0 32  0  0  0  0  2  0]\n",
      " [ 0  0  0  0 37  0  0  0  0  0]\n",
      " [ 0  0  0  0  0 28  0  0  0  0]\n",
      " [ 0  1  0  0  0  0 26  0  1  0]\n",
      " [ 0  0  0  1  0  0  0 32  0  0]\n",
      " [ 0  4  0  1  0  0  0  0 38  0]\n",
      " [ 0  2  0  1  0  1  0  0  2 26]]\n",
      "\n",
      "[[43  0  0  0  0  0  0  0  0  0]\n",
      " [ 0 40  0  0  0  0  0  0  1  1]\n",
      " [ 0  0 40  0  0  0  0  0  0  0]\n",
      " [ 0  0  0 33  0  0  0  1  0  0]\n",
      " [ 0  0  0  0 37  0  0  0  0  0]\n",
      " [ 0  0  0  0  0 27  0  0  1  0]\n",
      " [ 0  0  0  0  0  0 27  0  1  0]\n",
      " [ 0  0  0  1  0  0  0 32  0  0]\n",
      " [ 0  2  1  0  1  4  0  0 35  0]\n",
      " [ 0  0  0  1  0  2  0  0  0 29]]\n"
     ]
    }
   ],
   "source": [
    "print(confusion_matrix(y_test, prediction_decision_tree), end='\\n\\n')\n",
    "print(confusion_matrix(y_test, prediction_random_forest), end='\\n\\n')\n",
    "print(confusion_matrix(y_test, prediction_svm_model), end='\\n\\n')\n",
    "print(confusion_matrix(y_test, prediction_sgd_model), end='\\n\\n')\n",
    "print(confusion_matrix(y_test, prediction_logistic_model))"
   ]
  },
  {
   "cell_type": "markdown",
   "id": "8f02fcd6",
   "metadata": {},
   "source": [
    "---\n",
    "### (7) 결론\n",
    "---"
   ]
  },
  {
   "cell_type": "markdown",
   "id": "d7b9e666",
   "metadata": {},
   "source": [
    "- `프로젝트(1) load_digits : 손글씨를 분류해봅시다`에서는 0부터 9까지의 손글씨 데이터 샘플을 가지고 (8x8) 크기의 이미지를 벡터화한 데이터를 가지고 학습 및 평가를 하기위한 **지도학습 - 분류 문제**라 할 수 있다. \n",
    "\n",
    "\n",
    "- 총 1797개의 Data Sample 중 필자는 train_test_split 함수를 이용하여 Data Sample을 8:2 비율로 균등하게 나누었다. 아래 그림과 같이 Data Sample의 데이터들의 치우침 정도를 확인하기 위해 pandas DataFrame의 매소드 value_counts()를 사용하였다.<br> **※ 데이터가 불균형(imbalance) 하지 않음을 확인하였다**\n",
    "\n",
    "\n",
    "![image](https://user-images.githubusercontent.com/103712369/165583188-ec5f0690-2017-493a-b41b-0fd11681add2.png)\n",
    "\n",
    "\n",
    "- 본 노드를 통해 배운 Scikit-Learn에서 제공하는 평가지표 함수는 accuracy / classification_report / confusion_matrix가 있었는데 confusion_matrix의 성능지표 중 가장 많이 사용되는 Precision / Recall을 사용하기에는 데이터가 고루 분포되어 있기 때문에 **Accuracy 성능지표를 사용하여 학습모델을 평가하는것이 바람직하다고 생각된다.**\n",
    "\n",
    "\n",
    "- 모델은 **SVM(Support Vector Machine)**을 사용했을 때 약 98%로 가장 좋은 성능을 보였다. \n",
    "\n",
    "\n",
    "- sklearn.metrics 모듈 중 classification_report를 사용하면 아래 그림과 같이 label 별로 Precision, Recall, f1 스코어를 확인할 수 있으며 accuracy 정보 또한 확인이 가능하여 매우 유용하다.\n",
    "![image](https://user-images.githubusercontent.com/103712369/165576153-96ef5d77-4563-4bfa-81ea-1715d71cb2c8.png)"
   ]
  },
  {
   "cell_type": "markdown",
   "id": "ae68fa4a",
   "metadata": {},
   "source": []
  },
  {
   "cell_type": "code",
   "execution_count": null,
   "id": "7edadc5e",
   "metadata": {},
   "outputs": [],
   "source": []
  }
 ],
 "metadata": {
  "kernelspec": {
   "display_name": "Python 3 (ipykernel)",
   "language": "python",
   "name": "python3"
  },
  "language_info": {
   "codemirror_mode": {
    "name": "ipython",
    "version": 3
   },
   "file_extension": ".py",
   "mimetype": "text/x-python",
   "name": "python",
   "nbconvert_exporter": "python",
   "pygments_lexer": "ipython3",
   "version": "3.9.7"
  }
 },
 "nbformat": 4,
 "nbformat_minor": 5
}
