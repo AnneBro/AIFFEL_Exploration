{
 "cells": [
  {
   "cell_type": "markdown",
   "id": "44b0cab6",
   "metadata": {},
   "source": [
    "# 프로젝트 (2) load_wine : 와인을 분류해 봅시다"
   ]
  },
  {
   "cell_type": "markdown",
   "id": "fdb08ba9",
   "metadata": {},
   "source": [
    "- 두번째 실습 : 제공된 데이터를 활용하여 와인의 특징을 잡고 종류를 분류해 보자.\n",
    "\n",
    "\n",
    "- Scikit-Learn 라이브러리의 datasets를 모듈 안의 load_wine 매서드 사용해서 프로젝트를 진행"
   ]
  },
  {
   "cell_type": "markdown",
   "id": "214d40a2",
   "metadata": {},
   "source": [
    "---\n",
    "### (1) 필요한 모듈 import 하기\n",
    "---"
   ]
  },
  {
   "cell_type": "code",
   "execution_count": 2,
   "id": "473f75f0",
   "metadata": {},
   "outputs": [],
   "source": [
    "from sklearn.datasets import load_wine  # 실습파일 불러오기\n",
    "from sklearn.model_selection import train_test_split  # model_selection 모듈 안의 Train / Test Set을 나누기 위한 함수 불러오기\n",
    "from sklearn.metrics import classification_report  # metrics 모듈 안의 학습 모델을 평가하기 위한 함수 불러오기\n",
    "from sklearn.metrics import accuracy_score\n",
    "from sklearn.metrics import confusion_matrix\n",
    "\n",
    "import pandas as pd  # pandas 모듈 불러오기\n",
    "import numpy as np   # numpy 모듈 불러오기\n",
    "import matplotlib.pyplot as plt"
   ]
  },
  {
   "cell_type": "markdown",
   "id": "a8dab8cf",
   "metadata": {},
   "source": [
    "---\n",
    "### (2) 데이터 준비\n",
    "---"
   ]
  },
  {
   "cell_type": "code",
   "execution_count": 3,
   "id": "ad5b2ecf",
   "metadata": {
    "scrolled": false
   },
   "outputs": [
    {
     "data": {
      "text/plain": [
       "sklearn.utils.Bunch"
      ]
     },
     "execution_count": 3,
     "metadata": {},
     "output_type": "execute_result"
    }
   ],
   "source": [
    "wine = load_wine()  # load_wine 매서드를 사용해서 wine 데이터 불러옴\n",
    "type(wine)  # wine의 타입을 구하면 파이썬 딕셔너리, 번치(bunch) 객체로 표현됨"
   ]
  },
  {
   "cell_type": "markdown",
   "id": "8fa1cbd6",
   "metadata": {},
   "source": [
    "- `wine.keys()` 매서드를 사용해서 `wine` 객체 안의 정보 확인해보자"
   ]
  },
  {
   "cell_type": "code",
   "execution_count": 5,
   "id": "d510f045",
   "metadata": {
    "scrolled": false
   },
   "outputs": [
    {
     "data": {
      "text/plain": [
       "dict_keys(['data', 'target', 'frame', 'target_names', 'DESCR', 'feature_names'])"
      ]
     },
     "execution_count": 5,
     "metadata": {},
     "output_type": "execute_result"
    }
   ],
   "source": [
    "wine.keys()  # digits의 속성 확인하기"
   ]
  },
  {
   "cell_type": "markdown",
   "id": "1927c066",
   "metadata": {},
   "source": [
    "* `wine`의 데이터 정보를 파악하기 위해 pandas 모듈의 DataFrame을 활용해보자"
   ]
  },
  {
   "cell_type": "code",
   "execution_count": 9,
   "id": "1e07d760",
   "metadata": {
    "scrolled": false
   },
   "outputs": [
    {
     "data": {
      "text/html": [
       "<div>\n",
       "<style scoped>\n",
       "    .dataframe tbody tr th:only-of-type {\n",
       "        vertical-align: middle;\n",
       "    }\n",
       "\n",
       "    .dataframe tbody tr th {\n",
       "        vertical-align: top;\n",
       "    }\n",
       "\n",
       "    .dataframe thead th {\n",
       "        text-align: right;\n",
       "    }\n",
       "</style>\n",
       "<table border=\"1\" class=\"dataframe\">\n",
       "  <thead>\n",
       "    <tr style=\"text-align: right;\">\n",
       "      <th></th>\n",
       "      <th>alcohol</th>\n",
       "      <th>malic_acid</th>\n",
       "      <th>ash</th>\n",
       "      <th>alcalinity_of_ash</th>\n",
       "      <th>magnesium</th>\n",
       "      <th>total_phenols</th>\n",
       "      <th>flavanoids</th>\n",
       "      <th>nonflavanoid_phenols</th>\n",
       "      <th>proanthocyanins</th>\n",
       "      <th>color_intensity</th>\n",
       "      <th>hue</th>\n",
       "      <th>od280/od315_of_diluted_wines</th>\n",
       "      <th>proline</th>\n",
       "      <th>label</th>\n",
       "    </tr>\n",
       "  </thead>\n",
       "  <tbody>\n",
       "    <tr>\n",
       "      <th>0</th>\n",
       "      <td>14.23</td>\n",
       "      <td>1.71</td>\n",
       "      <td>2.43</td>\n",
       "      <td>15.6</td>\n",
       "      <td>127.0</td>\n",
       "      <td>2.80</td>\n",
       "      <td>3.06</td>\n",
       "      <td>0.28</td>\n",
       "      <td>2.29</td>\n",
       "      <td>5.64</td>\n",
       "      <td>1.04</td>\n",
       "      <td>3.92</td>\n",
       "      <td>1065.0</td>\n",
       "      <td>0</td>\n",
       "    </tr>\n",
       "    <tr>\n",
       "      <th>1</th>\n",
       "      <td>13.20</td>\n",
       "      <td>1.78</td>\n",
       "      <td>2.14</td>\n",
       "      <td>11.2</td>\n",
       "      <td>100.0</td>\n",
       "      <td>2.65</td>\n",
       "      <td>2.76</td>\n",
       "      <td>0.26</td>\n",
       "      <td>1.28</td>\n",
       "      <td>4.38</td>\n",
       "      <td>1.05</td>\n",
       "      <td>3.40</td>\n",
       "      <td>1050.0</td>\n",
       "      <td>0</td>\n",
       "    </tr>\n",
       "    <tr>\n",
       "      <th>2</th>\n",
       "      <td>13.16</td>\n",
       "      <td>2.36</td>\n",
       "      <td>2.67</td>\n",
       "      <td>18.6</td>\n",
       "      <td>101.0</td>\n",
       "      <td>2.80</td>\n",
       "      <td>3.24</td>\n",
       "      <td>0.30</td>\n",
       "      <td>2.81</td>\n",
       "      <td>5.68</td>\n",
       "      <td>1.03</td>\n",
       "      <td>3.17</td>\n",
       "      <td>1185.0</td>\n",
       "      <td>0</td>\n",
       "    </tr>\n",
       "    <tr>\n",
       "      <th>3</th>\n",
       "      <td>14.37</td>\n",
       "      <td>1.95</td>\n",
       "      <td>2.50</td>\n",
       "      <td>16.8</td>\n",
       "      <td>113.0</td>\n",
       "      <td>3.85</td>\n",
       "      <td>3.49</td>\n",
       "      <td>0.24</td>\n",
       "      <td>2.18</td>\n",
       "      <td>7.80</td>\n",
       "      <td>0.86</td>\n",
       "      <td>3.45</td>\n",
       "      <td>1480.0</td>\n",
       "      <td>0</td>\n",
       "    </tr>\n",
       "    <tr>\n",
       "      <th>4</th>\n",
       "      <td>13.24</td>\n",
       "      <td>2.59</td>\n",
       "      <td>2.87</td>\n",
       "      <td>21.0</td>\n",
       "      <td>118.0</td>\n",
       "      <td>2.80</td>\n",
       "      <td>2.69</td>\n",
       "      <td>0.39</td>\n",
       "      <td>1.82</td>\n",
       "      <td>4.32</td>\n",
       "      <td>1.04</td>\n",
       "      <td>2.93</td>\n",
       "      <td>735.0</td>\n",
       "      <td>0</td>\n",
       "    </tr>\n",
       "    <tr>\n",
       "      <th>...</th>\n",
       "      <td>...</td>\n",
       "      <td>...</td>\n",
       "      <td>...</td>\n",
       "      <td>...</td>\n",
       "      <td>...</td>\n",
       "      <td>...</td>\n",
       "      <td>...</td>\n",
       "      <td>...</td>\n",
       "      <td>...</td>\n",
       "      <td>...</td>\n",
       "      <td>...</td>\n",
       "      <td>...</td>\n",
       "      <td>...</td>\n",
       "      <td>...</td>\n",
       "    </tr>\n",
       "    <tr>\n",
       "      <th>173</th>\n",
       "      <td>13.71</td>\n",
       "      <td>5.65</td>\n",
       "      <td>2.45</td>\n",
       "      <td>20.5</td>\n",
       "      <td>95.0</td>\n",
       "      <td>1.68</td>\n",
       "      <td>0.61</td>\n",
       "      <td>0.52</td>\n",
       "      <td>1.06</td>\n",
       "      <td>7.70</td>\n",
       "      <td>0.64</td>\n",
       "      <td>1.74</td>\n",
       "      <td>740.0</td>\n",
       "      <td>2</td>\n",
       "    </tr>\n",
       "    <tr>\n",
       "      <th>174</th>\n",
       "      <td>13.40</td>\n",
       "      <td>3.91</td>\n",
       "      <td>2.48</td>\n",
       "      <td>23.0</td>\n",
       "      <td>102.0</td>\n",
       "      <td>1.80</td>\n",
       "      <td>0.75</td>\n",
       "      <td>0.43</td>\n",
       "      <td>1.41</td>\n",
       "      <td>7.30</td>\n",
       "      <td>0.70</td>\n",
       "      <td>1.56</td>\n",
       "      <td>750.0</td>\n",
       "      <td>2</td>\n",
       "    </tr>\n",
       "    <tr>\n",
       "      <th>175</th>\n",
       "      <td>13.27</td>\n",
       "      <td>4.28</td>\n",
       "      <td>2.26</td>\n",
       "      <td>20.0</td>\n",
       "      <td>120.0</td>\n",
       "      <td>1.59</td>\n",
       "      <td>0.69</td>\n",
       "      <td>0.43</td>\n",
       "      <td>1.35</td>\n",
       "      <td>10.20</td>\n",
       "      <td>0.59</td>\n",
       "      <td>1.56</td>\n",
       "      <td>835.0</td>\n",
       "      <td>2</td>\n",
       "    </tr>\n",
       "    <tr>\n",
       "      <th>176</th>\n",
       "      <td>13.17</td>\n",
       "      <td>2.59</td>\n",
       "      <td>2.37</td>\n",
       "      <td>20.0</td>\n",
       "      <td>120.0</td>\n",
       "      <td>1.65</td>\n",
       "      <td>0.68</td>\n",
       "      <td>0.53</td>\n",
       "      <td>1.46</td>\n",
       "      <td>9.30</td>\n",
       "      <td>0.60</td>\n",
       "      <td>1.62</td>\n",
       "      <td>840.0</td>\n",
       "      <td>2</td>\n",
       "    </tr>\n",
       "    <tr>\n",
       "      <th>177</th>\n",
       "      <td>14.13</td>\n",
       "      <td>4.10</td>\n",
       "      <td>2.74</td>\n",
       "      <td>24.5</td>\n",
       "      <td>96.0</td>\n",
       "      <td>2.05</td>\n",
       "      <td>0.76</td>\n",
       "      <td>0.56</td>\n",
       "      <td>1.35</td>\n",
       "      <td>9.20</td>\n",
       "      <td>0.61</td>\n",
       "      <td>1.60</td>\n",
       "      <td>560.0</td>\n",
       "      <td>2</td>\n",
       "    </tr>\n",
       "  </tbody>\n",
       "</table>\n",
       "<p>178 rows × 14 columns</p>\n",
       "</div>"
      ],
      "text/plain": [
       "     alcohol  malic_acid   ash  alcalinity_of_ash  magnesium  total_phenols  \\\n",
       "0      14.23        1.71  2.43               15.6      127.0           2.80   \n",
       "1      13.20        1.78  2.14               11.2      100.0           2.65   \n",
       "2      13.16        2.36  2.67               18.6      101.0           2.80   \n",
       "3      14.37        1.95  2.50               16.8      113.0           3.85   \n",
       "4      13.24        2.59  2.87               21.0      118.0           2.80   \n",
       "..       ...         ...   ...                ...        ...            ...   \n",
       "173    13.71        5.65  2.45               20.5       95.0           1.68   \n",
       "174    13.40        3.91  2.48               23.0      102.0           1.80   \n",
       "175    13.27        4.28  2.26               20.0      120.0           1.59   \n",
       "176    13.17        2.59  2.37               20.0      120.0           1.65   \n",
       "177    14.13        4.10  2.74               24.5       96.0           2.05   \n",
       "\n",
       "     flavanoids  nonflavanoid_phenols  proanthocyanins  color_intensity   hue  \\\n",
       "0          3.06                  0.28             2.29             5.64  1.04   \n",
       "1          2.76                  0.26             1.28             4.38  1.05   \n",
       "2          3.24                  0.30             2.81             5.68  1.03   \n",
       "3          3.49                  0.24             2.18             7.80  0.86   \n",
       "4          2.69                  0.39             1.82             4.32  1.04   \n",
       "..          ...                   ...              ...              ...   ...   \n",
       "173        0.61                  0.52             1.06             7.70  0.64   \n",
       "174        0.75                  0.43             1.41             7.30  0.70   \n",
       "175        0.69                  0.43             1.35            10.20  0.59   \n",
       "176        0.68                  0.53             1.46             9.30  0.60   \n",
       "177        0.76                  0.56             1.35             9.20  0.61   \n",
       "\n",
       "     od280/od315_of_diluted_wines  proline  label  \n",
       "0                            3.92   1065.0      0  \n",
       "1                            3.40   1050.0      0  \n",
       "2                            3.17   1185.0      0  \n",
       "3                            3.45   1480.0      0  \n",
       "4                            2.93    735.0      0  \n",
       "..                            ...      ...    ...  \n",
       "173                          1.74    740.0      2  \n",
       "174                          1.56    750.0      2  \n",
       "175                          1.56    835.0      2  \n",
       "176                          1.62    840.0      2  \n",
       "177                          1.60    560.0      2  \n",
       "\n",
       "[178 rows x 14 columns]"
      ]
     },
     "execution_count": 9,
     "metadata": {},
     "output_type": "execute_result"
    }
   ],
   "source": [
    "wine_df = pd.DataFrame(data=wine.data, columns=wine.feature_names)\n",
    "wine_df['label'] = wine.target\n",
    "wine_df"
   ]
  },
  {
   "cell_type": "code",
   "execution_count": 11,
   "id": "fd1000de",
   "metadata": {
    "scrolled": false
   },
   "outputs": [
    {
     "data": {
      "text/plain": [
       "1    71\n",
       "0    59\n",
       "2    48\n",
       "Name: label, dtype: int64"
      ]
     },
     "execution_count": 11,
     "metadata": {},
     "output_type": "execute_result"
    }
   ],
   "source": [
    "wine_df['label'].value_counts()  # wine의 target 값 중 unique한 값들의 중복되는 갯수는 다음과 같다."
   ]
  },
  {
   "cell_type": "markdown",
   "id": "5bed3b0b",
   "metadata": {},
   "source": [
    "* `wine`의 feature data의 크기는 178x13 이며 총 178개의 샘플 데이터가 있으며 13개의 특성을 갖는다.\n",
    "\n",
    "\n",
    "* label은 ['class_0' 'class_1' 'class_2']로 나누어진다.\n",
    "\n",
    "\n",
    "* feature는 <br>['alcohol', 'malic_acid', 'ash', 'alcalinity_of_ash', 'magnesium', 'total_phenols', 'flavanoids', 'nonflavanoid_phenols', 'proanthocyanins', 'color_intensity', 'hue', 'od280/od315_of_diluted_wines', 'proline']<br>로 나누어진다."
   ]
  },
  {
   "cell_type": "markdown",
   "id": "d1f0044a",
   "metadata": {},
   "source": [
    "---\n",
    "### (3) 데이터 이해하기\n",
    "---\n",
    "\n",
    "**1) Feature Data 지정하기**\n"
   ]
  },
  {
   "cell_type": "code",
   "execution_count": 12,
   "id": "bf896131",
   "metadata": {},
   "outputs": [
    {
     "name": "stdout",
     "output_type": "stream",
     "text": [
      "(178, 13)\n",
      "<class 'numpy.ndarray'>\n"
     ]
    }
   ],
   "source": [
    "wine_data = wine.data  # Feature Data 지정\n",
    "print(wine_data.shape)   # Feature Data의 모양 출력\n",
    "print(type(wine_data))   # Feature Data의 객체 타입 출력"
   ]
  },
  {
   "cell_type": "markdown",
   "id": "5fe0b52a",
   "metadata": {},
   "source": [
    "**2) Label Data 지정하기**"
   ]
  },
  {
   "cell_type": "code",
   "execution_count": 13,
   "id": "95e7a5e8",
   "metadata": {},
   "outputs": [
    {
     "name": "stdout",
     "output_type": "stream",
     "text": [
      "(178,)\n",
      "<class 'numpy.ndarray'>\n"
     ]
    }
   ],
   "source": [
    "wine_label = wine.target  # Label Data 지정\n",
    "print(wine_label.shape)     # Label Data의 모양 출력\n",
    "print(type(wine_label))     # Label Data의 객체 타입 출력"
   ]
  },
  {
   "cell_type": "markdown",
   "id": "967a40f4",
   "metadata": {},
   "source": [
    "**3) Target Names 출력해보기**"
   ]
  },
  {
   "cell_type": "code",
   "execution_count": 14,
   "id": "cf9260d6",
   "metadata": {},
   "outputs": [
    {
     "name": "stdout",
     "output_type": "stream",
     "text": [
      "['class_0' 'class_1' 'class_2']\n"
     ]
    }
   ],
   "source": [
    "wine_target_names = wine.target_names\n",
    "print(wine_target_names)"
   ]
  },
  {
   "cell_type": "markdown",
   "id": "6770e201",
   "metadata": {},
   "source": [
    "**4) 데이터 Describe 해보기**"
   ]
  },
  {
   "cell_type": "code",
   "execution_count": 15,
   "id": "8b571df8",
   "metadata": {
    "collapsed": true
   },
   "outputs": [
    {
     "name": "stdout",
     "output_type": "stream",
     "text": [
      ".. _wine_dataset:\n",
      "\n",
      "Wine recognition dataset\n",
      "------------------------\n",
      "\n",
      "**Data Set Characteristics:**\n",
      "\n",
      "    :Number of Instances: 178 (50 in each of three classes)\n",
      "    :Number of Attributes: 13 numeric, predictive attributes and the class\n",
      "    :Attribute Information:\n",
      " \t\t- Alcohol\n",
      " \t\t- Malic acid\n",
      " \t\t- Ash\n",
      "\t\t- Alcalinity of ash  \n",
      " \t\t- Magnesium\n",
      "\t\t- Total phenols\n",
      " \t\t- Flavanoids\n",
      " \t\t- Nonflavanoid phenols\n",
      " \t\t- Proanthocyanins\n",
      "\t\t- Color intensity\n",
      " \t\t- Hue\n",
      " \t\t- OD280/OD315 of diluted wines\n",
      " \t\t- Proline\n",
      "\n",
      "    - class:\n",
      "            - class_0\n",
      "            - class_1\n",
      "            - class_2\n",
      "\t\t\n",
      "    :Summary Statistics:\n",
      "    \n",
      "    ============================= ==== ===== ======= =====\n",
      "                                   Min   Max   Mean     SD\n",
      "    ============================= ==== ===== ======= =====\n",
      "    Alcohol:                      11.0  14.8    13.0   0.8\n",
      "    Malic Acid:                   0.74  5.80    2.34  1.12\n",
      "    Ash:                          1.36  3.23    2.36  0.27\n",
      "    Alcalinity of Ash:            10.6  30.0    19.5   3.3\n",
      "    Magnesium:                    70.0 162.0    99.7  14.3\n",
      "    Total Phenols:                0.98  3.88    2.29  0.63\n",
      "    Flavanoids:                   0.34  5.08    2.03  1.00\n",
      "    Nonflavanoid Phenols:         0.13  0.66    0.36  0.12\n",
      "    Proanthocyanins:              0.41  3.58    1.59  0.57\n",
      "    Colour Intensity:              1.3  13.0     5.1   2.3\n",
      "    Hue:                          0.48  1.71    0.96  0.23\n",
      "    OD280/OD315 of diluted wines: 1.27  4.00    2.61  0.71\n",
      "    Proline:                       278  1680     746   315\n",
      "    ============================= ==== ===== ======= =====\n",
      "\n",
      "    :Missing Attribute Values: None\n",
      "    :Class Distribution: class_0 (59), class_1 (71), class_2 (48)\n",
      "    :Creator: R.A. Fisher\n",
      "    :Donor: Michael Marshall (MARSHALL%PLU@io.arc.nasa.gov)\n",
      "    :Date: July, 1988\n",
      "\n",
      "This is a copy of UCI ML Wine recognition datasets.\n",
      "https://archive.ics.uci.edu/ml/machine-learning-databases/wine/wine.data\n",
      "\n",
      "The data is the results of a chemical analysis of wines grown in the same\n",
      "region in Italy by three different cultivators. There are thirteen different\n",
      "measurements taken for different constituents found in the three types of\n",
      "wine.\n",
      "\n",
      "Original Owners: \n",
      "\n",
      "Forina, M. et al, PARVUS - \n",
      "An Extendible Package for Data Exploration, Classification and Correlation. \n",
      "Institute of Pharmaceutical and Food Analysis and Technologies,\n",
      "Via Brigata Salerno, 16147 Genoa, Italy.\n",
      "\n",
      "Citation:\n",
      "\n",
      "Lichman, M. (2013). UCI Machine Learning Repository\n",
      "[https://archive.ics.uci.edu/ml]. Irvine, CA: University of California,\n",
      "School of Information and Computer Science. \n",
      "\n",
      ".. topic:: References\n",
      "\n",
      "  (1) S. Aeberhard, D. Coomans and O. de Vel, \n",
      "  Comparison of Classifiers in High Dimensional Settings, \n",
      "  Tech. Rep. no. 92-02, (1992), Dept. of Computer Science and Dept. of  \n",
      "  Mathematics and Statistics, James Cook University of North Queensland. \n",
      "  (Also submitted to Technometrics). \n",
      "\n",
      "  The data was used with many others for comparing various \n",
      "  classifiers. The classes are separable, though only RDA \n",
      "  has achieved 100% correct classification. \n",
      "  (RDA : 100%, QDA 99.4%, LDA 98.9%, 1NN 96.1% (z-transformed data)) \n",
      "  (All results using the leave-one-out technique) \n",
      "\n",
      "  (2) S. Aeberhard, D. Coomans and O. de Vel, \n",
      "  \"THE CLASSIFICATION PERFORMANCE OF RDA\" \n",
      "  Tech. Rep. no. 92-01, (1992), Dept. of Computer Science and Dept. of \n",
      "  Mathematics and Statistics, James Cook University of North Queensland. \n",
      "  (Also submitted to Journal of Chemometrics).\n",
      "\n"
     ]
    }
   ],
   "source": [
    "print(wine.DESCR)"
   ]
  },
  {
   "cell_type": "markdown",
   "id": "c18f2faf",
   "metadata": {},
   "source": [
    "---\n",
    "### (4) train, test 데이터 분리\n",
    "---\n",
    "\n",
    "- 모델 학습과 테스트용 문제지와 정답지를 준비해보자.\n",
    "    - `train_test_split` 함수를 사용하여 Data를 학습 : 테스트의 비율을 8:2로 골고루 섞이도록 나눠보자\n"
   ]
  },
  {
   "cell_type": "code",
   "execution_count": 33,
   "id": "8cfe88a6",
   "metadata": {},
   "outputs": [
    {
     "name": "stdout",
     "output_type": "stream",
     "text": [
      "(142, 13) (142,)\n",
      "(36, 13) (36,)\n"
     ]
    }
   ],
   "source": [
    "X_train, X_test, y_train, y_test = train_test_split(wine_data, \n",
    "                                                    wine_label, \n",
    "                                                    test_size=0.2, \n",
    "                                                    random_state=1234)\n",
    "print(X_train.shape, y_train.shape)\n",
    "print(X_test.shape, y_test.shape)"
   ]
  },
  {
   "cell_type": "markdown",
   "id": "1c87ba4b",
   "metadata": {},
   "source": [
    "- 아래 셀의 결과를 확인하면 나누어진 Test Data가 전체 Data에서 골고루 섞여져 있는 것으로 확인된다."
   ]
  },
  {
   "cell_type": "code",
   "execution_count": 34,
   "id": "fcb62381",
   "metadata": {},
   "outputs": [
    {
     "data": {
      "text/plain": [
       "{0: 10, 1: 17, 2: 9}"
      ]
     },
     "execution_count": 34,
     "metadata": {},
     "output_type": "execute_result"
    }
   ],
   "source": [
    "unique, counts = np.unique(y_test, return_counts=True)\n",
    "dict(zip(unique, counts))\n"
   ]
  },
  {
   "cell_type": "markdown",
   "id": "1f19ede2",
   "metadata": {},
   "source": [
    "---\n",
    "### (5) 다양한 모델로 학습시켜보기\n",
    "---\n",
    "\n",
    "- 1) **Decision Tree** 사용해 보기<br>\n",
    "- 2) **Random Forest** 사용해 보기<br>\n",
    "- 3) **SVM** 사용해 보기<br>\n",
    "- 4) **SGD Classifier** 사용해 보기<br>\n",
    "- 5) **Logistic Regression** 사용해 보기<br>"
   ]
  },
  {
   "cell_type": "code",
   "execution_count": 44,
   "id": "a72bbaa3",
   "metadata": {},
   "outputs": [],
   "source": [
    "# 학습모델 불러오기 \n",
    "\n",
    "from sklearn.tree import DecisionTreeClassifier\n",
    "from sklearn.ensemble import RandomForestClassifier\n",
    "from sklearn import svm\n",
    "from sklearn.linear_model import SGDClassifier\n",
    "from sklearn.linear_model import LogisticRegression"
   ]
  },
  {
   "cell_type": "code",
   "execution_count": 58,
   "id": "47e49a10",
   "metadata": {},
   "outputs": [],
   "source": [
    "# 학습모델을 각각의 변수에 저장\n",
    "\n",
    "decision_tree = DecisionTreeClassifier(random_state=1234)\n",
    "random_forest = RandomForestClassifier(random_state=1234)\n",
    "svm_model = svm.SVC()\n",
    "sgd_model = SGDClassifier()\n",
    "logistic_model = LogisticRegression()"
   ]
  },
  {
   "cell_type": "code",
   "execution_count": 46,
   "id": "96d192ca",
   "metadata": {},
   "outputs": [
    {
     "name": "stderr",
     "output_type": "stream",
     "text": [
      "/opt/conda/lib/python3.9/site-packages/sklearn/linear_model/_logistic.py:814: ConvergenceWarning: lbfgs failed to converge (status=1):\n",
      "STOP: TOTAL NO. of ITERATIONS REACHED LIMIT.\n",
      "\n",
      "Increase the number of iterations (max_iter) or scale the data as shown in:\n",
      "    https://scikit-learn.org/stable/modules/preprocessing.html\n",
      "Please also refer to the documentation for alternative solver options:\n",
      "    https://scikit-learn.org/stable/modules/linear_model.html#logistic-regression\n",
      "  n_iter_i = _check_optimize_result(\n"
     ]
    },
    {
     "data": {
      "text/plain": [
       "LogisticRegression()"
      ]
     },
     "execution_count": 46,
     "metadata": {},
     "output_type": "execute_result"
    }
   ],
   "source": [
    "# 각각의 모델을 Train Data set로 학습\n",
    "\n",
    "decision_tree.fit(X_train, y_train)\n",
    "random_forest.fit(X_train, y_train)\n",
    "svm_model.fit(X_train, y_train)\n",
    "sgd_model.fit(X_train, y_train)\n",
    "logistic_model.fit(X_train, y_train)"
   ]
  },
  {
   "cell_type": "code",
   "execution_count": 47,
   "id": "5b3ad13b",
   "metadata": {},
   "outputs": [],
   "source": [
    "# Test Data를 통해 학습모델의 결과값 예측\n",
    "\n",
    "prediction_decision_tree = decision_tree.predict(X_test)\n",
    "prediction_random_forest = random_forest.predict(X_test)\n",
    "prediction_svm_model = svm_model.predict(X_test)\n",
    "prediction_sgd_model = sgd_model.predict(X_test)\n",
    "prediction_logistic_model = logistic_model.predict(X_test)"
   ]
  },
  {
   "cell_type": "markdown",
   "id": "fec4b4e4",
   "metadata": {},
   "source": [
    "---\n",
    "### (6) 모델을 평가해 보기\n",
    "---"
   ]
  },
  {
   "cell_type": "markdown",
   "id": "71296070",
   "metadata": {},
   "source": [
    "- **1) sklearn.metrics accuracy 지표를 사용한 경우**"
   ]
  },
  {
   "cell_type": "code",
   "execution_count": 57,
   "id": "7ba52a2f",
   "metadata": {},
   "outputs": [
    {
     "name": "stdout",
     "output_type": "stream",
     "text": [
      "0.8888888888888888\n",
      "0.9444444444444444\n",
      "0.6944444444444444\n",
      "0.6388888888888888\n",
      "0.8888888888888888\n"
     ]
    }
   ],
   "source": [
    "print(accuracy_score(y_test, prediction_decision_tree))\n",
    "print(accuracy_score(y_test, prediction_random_forest))\n",
    "print(accuracy_score(y_test, prediction_svm_model))\n",
    "print(accuracy_score(y_test, prediction_sgd_model))\n",
    "print(accuracy_score(y_test, prediction_logistic_model))\n",
    "# print(accuracy_score(y_test, [1]*len(prediction_logistic_model)))"
   ]
  },
  {
   "cell_type": "markdown",
   "id": "b946ea00",
   "metadata": {},
   "source": [
    "- **2) sklearn.metrics classification_report 지표를 사용한 경우**"
   ]
  },
  {
   "cell_type": "code",
   "execution_count": 39,
   "id": "5c6f157a",
   "metadata": {},
   "outputs": [
    {
     "name": "stdout",
     "output_type": "stream",
     "text": [
      "              precision    recall  f1-score   support\n",
      "\n",
      "           0       1.00      0.80      0.89        10\n",
      "           1       0.88      0.88      0.88        17\n",
      "           2       0.82      1.00      0.90         9\n",
      "\n",
      "    accuracy                           0.89        36\n",
      "   macro avg       0.90      0.89      0.89        36\n",
      "weighted avg       0.90      0.89      0.89        36\n",
      "------------------------------------------------------------\n",
      "\n",
      "              precision    recall  f1-score   support\n",
      "\n",
      "           0       1.00      1.00      1.00        10\n",
      "           1       1.00      0.88      0.94        17\n",
      "           2       0.82      1.00      0.90         9\n",
      "\n",
      "    accuracy                           0.94        36\n",
      "   macro avg       0.94      0.96      0.95        36\n",
      "weighted avg       0.95      0.94      0.95        36\n",
      "------------------------------------------------------------\n",
      "\n",
      "              precision    recall  f1-score   support\n",
      "\n",
      "           0       1.00      0.70      0.82        10\n",
      "           1       0.63      1.00      0.77        17\n",
      "           2       0.50      0.11      0.18         9\n",
      "\n",
      "    accuracy                           0.69        36\n",
      "   macro avg       0.71      0.60      0.59        36\n",
      "weighted avg       0.70      0.69      0.64        36\n",
      "------------------------------------------------------------\n",
      "\n",
      "              precision    recall  f1-score   support\n",
      "\n",
      "           0       1.00      0.70      0.82        10\n",
      "           1       1.00      0.18      0.30        17\n",
      "           2       0.35      1.00      0.51         9\n",
      "\n",
      "    accuracy                           0.53        36\n",
      "   macro avg       0.78      0.63      0.55        36\n",
      "weighted avg       0.84      0.53      0.50        36\n",
      "------------------------------------------------------------\n",
      "\n",
      "              precision    recall  f1-score   support\n",
      "\n",
      "           0       0.90      0.90      0.90        10\n",
      "           1       0.93      0.82      0.87        17\n",
      "           2       0.82      1.00      0.90         9\n",
      "\n",
      "    accuracy                           0.89        36\n",
      "   macro avg       0.88      0.91      0.89        36\n",
      "weighted avg       0.90      0.89      0.89        36\n",
      "------------------------------------------------------------\n",
      "\n"
     ]
    }
   ],
   "source": [
    "print(classification_report(y_test, prediction_decision_tree), end='------------------------------------------------------------\\n\\n')\n",
    "print(classification_report(y_test, prediction_random_forest), end='------------------------------------------------------------\\n\\n')\n",
    "print(classification_report(y_test, prediction_svm_model), end='------------------------------------------------------------\\n\\n')\n",
    "print(classification_report(y_test, prediction_sgd_model), end='------------------------------------------------------------\\n\\n')\n",
    "print(classification_report(y_test, prediction_logistic_model), end='------------------------------------------------------------\\n\\n')"
   ]
  },
  {
   "cell_type": "markdown",
   "id": "7b1c75eb",
   "metadata": {},
   "source": [
    "- **3) sklearn.metrics confusion_matrix 지표를 사용한 경우**"
   ]
  },
  {
   "cell_type": "code",
   "execution_count": 43,
   "id": "b001afe9",
   "metadata": {
    "collapsed": true
   },
   "outputs": [
    {
     "name": "stdout",
     "output_type": "stream",
     "text": [
      "[[ 8  2  0]\n",
      " [ 0 15  2]\n",
      " [ 0  0  9]]\n",
      "\n",
      "[[10  0  0]\n",
      " [ 0 15  2]\n",
      " [ 0  0  9]]\n",
      "\n",
      "[[ 7  2  1]\n",
      " [ 0 17  0]\n",
      " [ 0  8  1]]\n",
      "\n",
      "[[ 7  0  3]\n",
      " [ 0  3 14]\n",
      " [ 0  0  9]]\n",
      "\n",
      "[[ 9  1  0]\n",
      " [ 1 14  2]\n",
      " [ 0  0  9]]\n"
     ]
    }
   ],
   "source": [
    "print(confusion_matrix(y_test, prediction_decision_tree), end='\\n\\n')\n",
    "print(confusion_matrix(y_test, prediction_random_forest), end='\\n\\n')\n",
    "print(confusion_matrix(y_test, prediction_svm_model), end='\\n\\n')\n",
    "print(confusion_matrix(y_test, prediction_sgd_model), end='\\n\\n')\n",
    "print(confusion_matrix(y_test, prediction_logistic_model))"
   ]
  },
  {
   "cell_type": "markdown",
   "id": "d8b5fc28",
   "metadata": {},
   "source": [
    "---\n",
    "### (7) 결론\n",
    "---"
   ]
  },
  {
   "cell_type": "markdown",
   "id": "e6648f18",
   "metadata": {},
   "source": [
    "- `프로젝트(2) load_wine : 와인을 분류해봅시다`에서는 178개의 데이터 샘플을 가지고 총 13개의 feature(특징값)를 사용하여 와인의 클래스 [0,1,2]를 맞추기위한 **지도학습 - 분류 문제**라 할 수 있다. \n",
    "\n",
    "\n",
    "- 총 178개의 Data Sample 중 필자는 train_test_split 함수를 이용하여 Data Sample을 8:2 비율로 균등하게 나누었다. 아래 그림과 같이 Data Sample의 데이터들의 치우침 정도를 확인하기 위해 pandas DataFrame의 매소드 value_counts()를 사용하였다.<br> **※ 데이터가 불균형(imbalance) 하지 않음을 확인하였다**\n",
    "\n",
    "\n",
    "![image](https://user-images.githubusercontent.com/103712369/165583296-a845e3b8-7386-4dda-9349-bde76a5a12ad.png)\n",
    "\n",
    "- 본 노드를 통해 배운 Scikit-Learn에서 제공하는 평가지표 함수는 accuracy / classification_report / confusion_matrix가 있었는데 confusion_matrix의 성능지표 중 가장 많이 사용되는 Precision / Recall을 사용하기에는 데이터가 고루 분포되어 있기 때문에 **Accuracy 성능지표를 사용하여 학습모델을 평가하는것이 바람직하다고 생각된다.**\n",
    "\n",
    "\n",
    "- 모델은 **Ensemble 기법 중 하나인 RandomForestClassifier**를 사용했을 때 약 94%로 가장 좋은 성능을 보였다. \n"
   ]
  },
  {
   "cell_type": "code",
   "execution_count": null,
   "id": "6869b65b",
   "metadata": {},
   "outputs": [],
   "source": []
  }
 ],
 "metadata": {
  "kernelspec": {
   "display_name": "Python 3 (ipykernel)",
   "language": "python",
   "name": "python3"
  },
  "language_info": {
   "codemirror_mode": {
    "name": "ipython",
    "version": 3
   },
   "file_extension": ".py",
   "mimetype": "text/x-python",
   "name": "python",
   "nbconvert_exporter": "python",
   "pygments_lexer": "ipython3",
   "version": "3.9.7"
  }
 },
 "nbformat": 4,
 "nbformat_minor": 5
}
